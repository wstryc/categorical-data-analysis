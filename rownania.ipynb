{
 "cells": [
  {
   "cell_type": "markdown",
   "id": "08147dfd",
   "metadata": {},
   "source": [
    "### a)\n",
    "[1 3]\n"
   ]
  },
  {
   "cell_type": "markdown",
   "id": "b1dd0331",
   "metadata": {},
   "source": [
    "$$\n",
    "\\ln{E\\left(Y_{i_1, i_2, i_3}\\right)} = \\lambda + \\lambda_{i_{1}}^1 + \\lambda_{i_{3}}^3\n",
    "$$"
   ]
  },
  {
   "cell_type": "markdown",
   "id": "dcf6315c",
   "metadata": {},
   "source": [
    "### b)\n",
    "[13]"
   ]
  },
  {
   "cell_type": "markdown",
   "id": "b7fbddcf",
   "metadata": {},
   "source": [
    "$$ \n",
    "\\ln{E\\left(Y_{i_1, i_2, i_3}\\right)} = \\lambda + \\lambda_{i_{1}}^{(1)} + \\lambda_{i_{3}}^{(3)} + \\lambda_{i_{1}i_{3}}^{(13)}\n",
    "$$"
   ]
  },
  {
   "cell_type": "markdown",
   "id": "cfe4e17b",
   "metadata": {},
   "source": [
    "### c)\n",
    "[1 2 3]"
   ]
  },
  {
   "cell_type": "markdown",
   "id": "24d9e565",
   "metadata": {},
   "source": [
    "$$\n",
    "\\ln{E\\left(Y_{i_1, i_2, i_3}\\right)} = \\lambda + \\lambda_{i_{1}}^{(1)} + \\lambda_{i_{2}}^{(2)}+  \\lambda_{i_{3}}^{(3)}\n",
    "$$"
   ]
  },
  {
   "cell_type": "markdown",
   "id": "fdbbe5d2",
   "metadata": {},
   "source": [
    "### d)\n",
    "[12 3]"
   ]
  },
  {
   "cell_type": "markdown",
   "id": "165aceac",
   "metadata": {},
   "source": [
    "$$\n",
    "\\ln{E\\left(Y_{i_1, i_2, i_3}\\right)} = \\lambda + \\lambda_{i_{1}}^{(1)} + \\lambda_{i_{2}}^{(2)}+  \\lambda_{i_{3}}^{(3)} \n",
    "+ \\lambda_{i_{1}i_{2}}^{(12)}\n",
    "$$"
   ]
  },
  {
   "cell_type": "markdown",
   "id": "ab6e993b",
   "metadata": {},
   "source": [
    "### e)\n",
    "[12 13]"
   ]
  },
  {
   "cell_type": "markdown",
   "id": "7fc6674c",
   "metadata": {},
   "source": [
    "$$\n",
    "\\ln{E\\left(Y_{i_1, i_2, i_3}\\right)} = \\lambda + \\lambda_{i_{1}}^{(1)} + \\lambda_{i_{2}}^{(2)}+  \\lambda_{i_{3}}^{(3)} \n",
    "+ \\lambda_{i_{1}i_{2}}^{(12)} + \\lambda_{i_{1}i_{3}}^{(13)}\n",
    "$$"
   ]
  },
  {
   "cell_type": "markdown",
   "id": "e0358d67",
   "metadata": {},
   "source": [
    "### f)\n",
    "[1 23]"
   ]
  },
  {
   "cell_type": "markdown",
   "id": "b4c7ce38",
   "metadata": {},
   "source": [
    "$$\n",
    "\\ln{E\\left(Y_{i_1, i_2, i_3}\\right)} = \\lambda + \\lambda_{i_{1}}^{(1)} + \\lambda_{i_{2}}^{(2)}+  \\lambda_{i_{3}}^{(3)}  + \\lambda_{i_{2}i_{3}}^{(23)}\n",
    "$$"
   ]
  },
  {
   "cell_type": "code",
   "execution_count": null,
   "id": "5a8722e4",
   "metadata": {},
   "outputs": [],
   "source": []
  },
  {
   "cell_type": "code",
   "execution_count": null,
   "id": "e08a4b36",
   "metadata": {},
   "outputs": [],
   "source": []
  }
 ],
 "metadata": {
  "kernelspec": {
   "display_name": "R",
   "language": "R",
   "name": "ir"
  },
  "language_info": {
   "codemirror_mode": "r",
   "file_extension": ".r",
   "mimetype": "text/x-r-source",
   "name": "R",
   "pygments_lexer": "r",
   "version": "4.2.0"
  }
 },
 "nbformat": 4,
 "nbformat_minor": 5
}
