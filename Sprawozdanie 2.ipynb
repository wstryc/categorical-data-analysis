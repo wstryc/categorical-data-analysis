{
 "cells": [
  {
   "cell_type": "markdown",
   "metadata": {},
   "source": [
    "# Lista 5, 6, 7\n",
    "Część pierwsza sprawozdania"
   ]
  },
  {
   "cell_type": "markdown",
   "metadata": {},
   "source": [
    "## Zadanie 2\n",
    "W każdym z podpunktów wykonamy trzy testy - `prop.test` w dwóch wersjach (z poprawką oraz bez poprawki &ndash; jest to poprawka ciągłości Yates'a) oraz `binom.test`. Dla testów zakładamy poziom ufności $0.95$."
   ]
  },
  {
   "cell_type": "code",
   "execution_count": 9,
   "metadata": {},
   "outputs": [],
   "source": [
    "# HIDE INPUT IN THE RAPORT\n",
    "# install.packages(c(\"knitr\", \"kableExtra\", \"IRdisplay\"))\n",
    "\n",
    "library(knitr)\n",
    "library(kableExtra)\n",
    "library(IRdisplay)\n",
    "\n",
    "\n",
    "data <- c(35, 0, 0, 22, 22, 0, 15, 15, 15, 0, 40, 10, 18, 3, 5)\n",
    "data <- matrix(data, nrow=5, byrow=T)\n",
    "#data"
   ]
  },
  {
   "cell_type": "markdown",
   "metadata": {},
   "source": [
    "### a.\n",
    "\n",
    "Niech $p$ oznacza prawdopodobieństwo, że losowo wybrana osoba z badanej populacji w przypadku bólu zażywa Apap.\n",
    "\n",
    "W podpunkcie a, hipotezą zerową jest $$H_0: p \\leq \\frac{1}{4}.$$ Zatem hipotezą alternatywną jest $$H_a: p > \\frac{1}{4}.$$"
   ]
  },
  {
   "cell_type": "code",
   "execution_count": 10,
   "metadata": {},
   "outputs": [
    {
     "data": {
      "text/plain": [
       "\n",
       "\t1-sample proportions test with continuity correction\n",
       "\n",
       "data:  44 out of 200, null probability 1/4\n",
       "X-squared = 0.80667, df = 1, p-value = 0.8154\n",
       "alternative hypothesis: true p is greater than 0.25\n",
       "95 percent confidence interval:\n",
       " 0.1734603 1.0000000\n",
       "sample estimates:\n",
       "   p \n",
       "0.22 \n"
      ]
     },
     "metadata": {},
     "output_type": "display_data"
    },
    {
     "data": {
      "text/plain": [
       "\n",
       "\t1-sample proportions test without continuity correction\n",
       "\n",
       "data:  44 out of 200, null probability 1/4\n",
       "X-squared = 0.96, df = 1, p-value = 0.8364\n",
       "alternative hypothesis: true p is greater than 0.25\n",
       "95 percent confidence interval:\n",
       " 0.1757337 1.0000000\n",
       "sample estimates:\n",
       "   p \n",
       "0.22 \n"
      ]
     },
     "metadata": {},
     "output_type": "display_data"
    },
    {
     "data": {
      "text/plain": [
       "\n",
       "\tExact binomial test\n",
       "\n",
       "data:  44 and 200\n",
       "number of successes = 44, number of trials = 200, p-value = 0.8562\n",
       "alternative hypothesis: true probability of success is greater than 0.25\n",
       "95 percent confidence interval:\n",
       " 0.172679 1.000000\n",
       "sample estimates:\n",
       "probability of success \n",
       "                  0.22 \n"
      ]
     },
     "metadata": {},
     "output_type": "display_data"
    }
   ],
   "source": [
    "prop.test(44, 200, p = 1/4, alternative = \"g\")\n",
    "prop.test(44, 200, p = 1/4, alternative = \"g\", correct = FALSE)\n",
    "binom.test(44, 200, p = 1/4, alternative = \"g\")"
   ]
  },
  {
   "cell_type": "markdown",
   "metadata": {},
   "source": [
    "W teście `prop.test` bez korekcji p-wartość kształtuje się na poziomie $0.8154 > 0.05$, natomiast z korekcją $0.8364 > 0.05$. W `binom.test` wynosi ona $0.8562 > 0.05$, więc nie ma przesłanek do odrzucenia $H_0$.\n",
    "\n",
    "### b.\n",
    "\n",
    "Ponownie, niech $p$ oznacza prawdopodobieństwo, że losowo wybrana osoba z badanej populacji w przypadku bólu zażywa Apap.\n",
    "\n",
    "W podpunkcie b, hipotezą zerową jest $$H_0: p = \\frac{1}{2}.$$ Zatem hipotezą alternatywną jest $$H_a: p \\neq \\frac{1}{2}.$$"
   ]
  },
  {
   "cell_type": "code",
   "execution_count": 6,
   "metadata": {},
   "outputs": [
    {
     "data": {
      "text/plain": [
       "\n",
       "\t1-sample proportions test with continuity correction\n",
       "\n",
       "data:  44 out of 200, null probability 1/2\n",
       "X-squared = 61.605, df = 1, p-value = 4.198e-15\n",
       "alternative hypothesis: true p is not equal to 0.5\n",
       "95 percent confidence interval:\n",
       " 0.1659406 0.2850661\n",
       "sample estimates:\n",
       "   p \n",
       "0.22 \n"
      ]
     },
     "metadata": {},
     "output_type": "display_data"
    },
    {
     "data": {
      "text/plain": [
       "\n",
       "\t1-sample proportions test without continuity correction\n",
       "\n",
       "data:  44 out of 200, null probability 1/2\n",
       "X-squared = 62.72, df = 1, p-value = 2.383e-15\n",
       "alternative hypothesis: true p is not equal to 0.5\n",
       "95 percent confidence interval:\n",
       " 0.1681654 0.2823880\n",
       "sample estimates:\n",
       "   p \n",
       "0.22 \n"
      ]
     },
     "metadata": {},
     "output_type": "display_data"
    },
    {
     "data": {
      "text/plain": [
       "\n",
       "\tExact binomial test\n",
       "\n",
       "data:  44 and 200\n",
       "number of successes = 44, number of trials = 200, p-value = 6.838e-16\n",
       "alternative hypothesis: true probability of success is not equal to 0.5\n",
       "95 percent confidence interval:\n",
       " 0.1646361 0.2838612\n",
       "sample estimates:\n",
       "probability of success \n",
       "                  0.22 \n"
      ]
     },
     "metadata": {},
     "output_type": "display_data"
    }
   ],
   "source": [
    "prop.test(44, 200, p = 1/2, alternative = \"t\")\n",
    "prop.test(44, 200, p = 1/2, alternative = \"t\", correct = FALSE)\n",
    "binom.test(44, 200, p = 1/2, alternative = \"t\")"
   ]
  },
  {
   "cell_type": "markdown",
   "metadata": {},
   "source": [
    "W tym przypadku wszystkie p-wartości są mniejsze od $0.05$. Odpowiednio dla `prop.test` bez korekcji, z korekcją oraz dla `binom.test` wynoszą one $4.198\\cdot 10^{-15},$ $2.383\\cdot 10^{-15}$ oraz $6.838\\cdot 10^{-16}.$ Odrzucamy więc hipotezę zerową.\n",
    "\n",
    "### c.\n",
    "W podpunkcie c rozpatrujemy lek Ibuprom, więc niech $p$ będzie prawdopodobieństwem, że losowo wybrana osoba z badanej populacji w przypadku bólu zażywa Ibuprom.\n",
    "\n",
    "Z zadania odczytujemy hipotezę zerową jako $$H_0: p \\geq \\frac{1}{5}$$ oraz hipotezę alternatywną jako $$H_a: p < \\frac{1}{5}.$$ "
   ]
  },
  {
   "cell_type": "code",
   "execution_count": 4,
   "metadata": {},
   "outputs": [
    {
     "data": {
      "text/plain": [
       "\n",
       "\t1-sample proportions test with continuity correction\n",
       "\n",
       "data:  35 out of 200, null probability 1/5\n",
       "X-squared = 0.63281, df = 1, p-value = 0.2132\n",
       "alternative hypothesis: true p is less than 0.2\n",
       "95 percent confidence interval:\n",
       " 0.0000000 0.2261568\n",
       "sample estimates:\n",
       "    p \n",
       "0.175 \n"
      ]
     },
     "metadata": {},
     "output_type": "display_data"
    },
    {
     "data": {
      "text/plain": [
       "\n",
       "\t1-sample proportions test without continuity correction\n",
       "\n",
       "data:  35 out of 200, null probability 1/5\n",
       "X-squared = 0.78125, df = 1, p-value = 0.1884\n",
       "alternative hypothesis: true p is less than 0.2\n",
       "95 percent confidence interval:\n",
       " 0.0000000 0.2234492\n",
       "sample estimates:\n",
       "    p \n",
       "0.175 \n"
      ]
     },
     "metadata": {},
     "output_type": "display_data"
    },
    {
     "data": {
      "text/plain": [
       "\n",
       "\tExact binomial test\n",
       "\n",
       "data:  35 and 200\n",
       "number of successes = 35, number of trials = 200, p-value = 0.2151\n",
       "alternative hypothesis: true probability of success is less than 0.2\n",
       "95 percent confidence interval:\n",
       " 0.0000000 0.2252414\n",
       "sample estimates:\n",
       "probability of success \n",
       "                 0.175 \n"
      ]
     },
     "metadata": {},
     "output_type": "display_data"
    }
   ],
   "source": [
    "prop.test(35, 200, p = 1/5, alternative = \"l\")\n",
    "prop.test(35, 200, p = 1/5, alternative = \"l\", correct = FALSE)\n",
    "binom.test(35, 200, p = 1/5, alternative = \"l\")"
   ]
  },
  {
   "cell_type": "markdown",
   "metadata": {},
   "source": [
    "W przypadku p-wartości są większe od $0.05$, (w kolejności: $0.2132$, $0.1884$, $0.2151$). Nie ma więc podstaw do odrzucania hipotezy zerowej.\n",
    "\n",
    "### d.\n",
    "W podpunkcie d powtarzamy testy z podpunktów a-c, jednak rozpatrujemy tylko badaną populację do lat 35."
   ]
  },
  {
   "cell_type": "code",
   "execution_count": 5,
   "metadata": {},
   "outputs": [
    {
     "data": {
      "text/html": [
       "<table>\n",
       " <thead>\n",
       "  <tr>\n",
       "   <th style=\"text-align:left;\">   </th>\n",
       "   <th style=\"text-align:right;\"> prop.test (z poprawką) </th>\n",
       "   <th style=\"text-align:right;\"> prop.test (bez poprawki) </th>\n",
       "   <th style=\"text-align:right;\"> binom.test </th>\n",
       "  </tr>\n",
       " </thead>\n",
       "<tbody>\n",
       "  <tr>\n",
       "   <td style=\"text-align:left;\"> a) </td>\n",
       "   <td style=\"text-align:right;\"> 0.5 </td>\n",
       "   <td style=\"text-align:right;\"> 0.55 </td>\n",
       "   <td style=\"text-align:right;\"> 0.59 </td>\n",
       "  </tr>\n",
       "  <tr>\n",
       "   <td style=\"text-align:left;\"> b) </td>\n",
       "   <td style=\"text-align:right;\"> 0.0 </td>\n",
       "   <td style=\"text-align:right;\"> 0.00 </td>\n",
       "   <td style=\"text-align:right;\"> 0.00 </td>\n",
       "  </tr>\n",
       "  <tr>\n",
       "   <td style=\"text-align:left;\"> c) </td>\n",
       "   <td style=\"text-align:right;\"> 1.0 </td>\n",
       "   <td style=\"text-align:right;\"> 1.00 </td>\n",
       "   <td style=\"text-align:right;\"> 1.00 </td>\n",
       "  </tr>\n",
       "</tbody>\n",
       "</table>"
      ]
     },
     "metadata": {},
     "output_type": "display_data"
    }
   ],
   "source": [
    "# HIDE INPUT IN THE RAPORT\n",
    "a1 <- prop.test(22, 90, p = 1/4, alternative = \"g\")\n",
    "a2 <- prop.test(22, 90, p = 1/4, alternative = \"g\", correct = FALSE)\n",
    "a3 <- binom.test(22, 90, p = 1/4, alternative = \"g\")\n",
    "\n",
    "b1 <- prop.test(22, 90, p = 1/2, alternative = \"t\")\n",
    "b2 <- prop.test(22, 90, p = 1/2, alternative = \"t\", correct = FALSE)\n",
    "b3 <- binom.test(22, 90, p = 1/2, alternative = \"t\")\n",
    "\n",
    "\n",
    "c1 <- prop.test(35, 90, p = 1/5, alternative = \"l\")\n",
    "c2 <- prop.test(35, 90, p = 1/5, alternative = \"l\", correct = FALSE)\n",
    "c3 <- binom.test(35, 90, p = 1/5, alternative = \"l\")\n",
    "\n",
    "tab <- matrix(c(a1$p.value, a2$p.value, a3$p.value, b1$p.value, b2$p.value, b3$p.value, c1$p.value, c2$p.value, c3$p.value), nrow=3, byrow=TRUE)\n",
    "colnames(tab) <- c('prop.test (z poprawką)','prop.test (bez poprawki)','binom.test')\n",
    "rownames(tab) <- c('a)','b)','c)')\n",
    "\n",
    "round(tab,2) %>% \n",
    "    kable(\"html\") %>%\n",
    "    as.character() %>%\n",
    "    display_html()"
   ]
  },
  {
   "cell_type": "markdown",
   "metadata": {},
   "source": [
    "Wyniki z podpunktu a) oraz c) mają p-wartość większą od $0.05$, więc nie mamy podstaw do odrzucenia hipotez zerowych. W podpunkcie b) wszystkie p-wartości są mniejsze od $0.05$, więc odrzucamy hipotezę zerową.\n",
    "\n",
    "## Zadanie 3\n",
    "\n",
    "W zadaniu trzecim, musimy przede wszystkim ograniczyć tabelę z poprzedniego zadania. Rozpatrujemy tylko lek Panadol oraz grupę zbiorczą \"inny lek\" oraz grupy wiekowe $0-35$ i $36-55.$\n",
    "\n",
    "Następnie przeprowadzimy test Fishera (`fisher.test`) na poziomie istotności $0.05$ dla tabeli dwudzielczej przedstawionej poniżej.\n",
    "\n",
    "Zanim jednak przeprowadzimy test, wprowadźmy hipotezę zerową i alternatywną: \n",
    "* $H_0:$ zmienne są niezależne, czyli nie ma żadnego związku pomiędzy dwiema zmiennymi kategorycznymi. Innymi słowy, znając wartość jednej zmiennej, nie możemy przewidzieć wartości drugiej zmiennej,\n",
    "* $H_a:$ zmienne są zależne, czyli istnieje związek pomiędzy dwiema zmiennymi kategorycznymi. Innymi słowy, znając wartość jednej zmiennej, możemy przewidzieć wartości drugiej zmiennej."
   ]
  },
  {
   "cell_type": "code",
   "execution_count": 756,
   "metadata": {},
   "outputs": [
    {
     "data": {
      "text/html": [
       "<table>\n",
       " <thead>\n",
       "  <tr>\n",
       "   <th style=\"text-align:left;\">   </th>\n",
       "   <th style=\"text-align:right;\"> 0-35 </th>\n",
       "   <th style=\"text-align:right;\"> 36-55 </th>\n",
       "  </tr>\n",
       " </thead>\n",
       "<tbody>\n",
       "  <tr>\n",
       "   <td style=\"text-align:left;\"> inny lek </td>\n",
       "   <td style=\"text-align:right;\"> 72 </td>\n",
       "   <td style=\"text-align:right;\"> 77 </td>\n",
       "  </tr>\n",
       "  <tr>\n",
       "   <td style=\"text-align:left;\"> Panadol </td>\n",
       "   <td style=\"text-align:right;\"> 18 </td>\n",
       "   <td style=\"text-align:right;\"> 3 </td>\n",
       "  </tr>\n",
       "</tbody>\n",
       "</table>"
      ]
     },
     "metadata": {},
     "output_type": "display_data"
    }
   ],
   "source": [
    "# HIDE INPUT IN THE RAPORT\n",
    "data <- matrix(c(90-18, 80-3,\n",
    "                 18,3),\n",
    "               byrow=T, \n",
    "               nrow=2)\n",
    "\n",
    "colnames(data) <- c('0-35', '36-55')\n",
    "rownames(data) <- c('inny lek', 'Panadol')\n",
    "\n",
    "data %>%\n",
    "    kable(\"html\") %>%\n",
    "    as.character() %>%\n",
    "    display_html()"
   ]
  },
  {
   "cell_type": "markdown",
   "metadata": {},
   "source": [
    "Zależność między tymi zmiennymi łatwo zobrazować za pomocą wykresu mozaikowego."
   ]
  },
  {
   "cell_type": "code",
   "execution_count": 7,
   "metadata": {},
   "outputs": [
    {
     "data": {
      "image/png": "[encoded data removed]",
      "text/plain": [
       "Plot with title \"Wykres mozaikowy danych\""
      ]
     },
     "metadata": {
      "image/png": {
       "height": 420,
       "width": 420
      }
     },
     "output_type": "display_data"
    }
   ],
   "source": [
    "# HIDE INPUT IN THE RAPORT\n",
    "mosaicplot(data,\n",
    "  main = \"Wykres mozaikowy danych\",\n",
    "  color = TRUE\n",
    ")"
   ]
  },
  {
   "cell_type": "markdown",
   "metadata": {},
   "source": [
    "Widzimy, że możwmy spodziewać się zależności. Przeprowadźmy zatem test Fishera, który rozwieje nasze wątpliwości."
   ]
  },
  {
   "cell_type": "code",
   "execution_count": 8,
   "metadata": {},
   "outputs": [
    {
     "data": {
      "text/plain": [
       "\n",
       "\tFisher's Exact Test for Count Data\n",
       "\n",
       "data:  data\n",
       "p-value = 0.001789\n",
       "alternative hypothesis: true odds ratio is not equal to 1\n",
       "95 percent confidence interval:\n",
       " 0.0285040 0.5718021\n",
       "sample estimates:\n",
       "odds ratio \n",
       " 0.1573343 \n"
      ]
     },
     "metadata": {},
     "output_type": "display_data"
    }
   ],
   "source": [
    "fisher.test(data)"
   ]
  },
  {
   "cell_type": "markdown",
   "metadata": {},
   "source": [
    "Zgodnie z oczekiwaniami, uzyskaliśmy p-wartość na poziomie $0.002 < 0.05$, więc odrzucamy hipotezę zerową. Zmienne zatem są **zależne**.\n",
    "\n",
    "# Zobacz czy to jest dobrze...\n",
    "``` Fragment notatek z zajęć: powolac sie na roznowaznosc hipotez => na podst wynikow tamtego testu mozna wycignac analogiczny wniosek```\n",
    "# Według mnie zajebiście, chyba w taki sam sposób zrobiłem w liście 8,9 XD\n",
    "\n",
    "Zarówno w tym teście, jak i w testach z zadania poprzedniego, hipotezy są takie same. Na podstawie wyników tamtego testu można więc wyciągnąć analogiczny wniosek jak w teście Fishera."
   ]
  },
  {
   "cell_type": "markdown",
   "metadata": {},
   "source": [
    "# Zadanie 4\n",
    "\n",
    "W zadaniu czwartym weryfikujemy hipotezę o niezależności stopnia zadowolenia z pracy i wynagrodzenia na podstawie danych w tablicy zamieszczonej poniżej.\n",
    "\n",
    "Hipotezą zerową $H_0$ jest, że w.w. zmienne są niezależne, a hipoteza alternatywna $H_a$ stanowi, że są zależne. Wywołamy test chi-kwadrat (`chisq.test`) na poziomie ufności $0.95$, aby zobaczyć, czy odrzucamy $H_0$."
   ]
  },
  {
   "cell_type": "code",
   "execution_count": 9,
   "metadata": {},
   "outputs": [
    {
     "data": {
      "text/html": [
       "<table>\n",
       " <thead>\n",
       "  <tr>\n",
       "   <th style=\"text-align:left;\">   </th>\n",
       "   <th style=\"text-align:right;\"> b. niezadow. </th>\n",
       "   <th style=\"text-align:right;\"> niezadow. </th>\n",
       "   <th style=\"text-align:right;\"> zadow. </th>\n",
       "   <th style=\"text-align:right;\"> b. zadow. </th>\n",
       "  </tr>\n",
       " </thead>\n",
       "<tbody>\n",
       "  <tr>\n",
       "   <td style=\"text-align:left;\"> do 6000 </td>\n",
       "   <td style=\"text-align:right;\"> 20 </td>\n",
       "   <td style=\"text-align:right;\"> 24 </td>\n",
       "   <td style=\"text-align:right;\"> 80 </td>\n",
       "   <td style=\"text-align:right;\"> 82 </td>\n",
       "  </tr>\n",
       "  <tr>\n",
       "   <td style=\"text-align:left;\"> 6000-15000 </td>\n",
       "   <td style=\"text-align:right;\"> 22 </td>\n",
       "   <td style=\"text-align:right;\"> 38 </td>\n",
       "   <td style=\"text-align:right;\"> 104 </td>\n",
       "   <td style=\"text-align:right;\"> 125 </td>\n",
       "  </tr>\n",
       "  <tr>\n",
       "   <td style=\"text-align:left;\"> 15000-20000 </td>\n",
       "   <td style=\"text-align:right;\"> 13 </td>\n",
       "   <td style=\"text-align:right;\"> 28 </td>\n",
       "   <td style=\"text-align:right;\"> 81 </td>\n",
       "   <td style=\"text-align:right;\"> 113 </td>\n",
       "  </tr>\n",
       "  <tr>\n",
       "   <td style=\"text-align:left;\"> powyżej 25000 </td>\n",
       "   <td style=\"text-align:right;\"> 7 </td>\n",
       "   <td style=\"text-align:right;\"> 18 </td>\n",
       "   <td style=\"text-align:right;\"> 54 </td>\n",
       "   <td style=\"text-align:right;\"> 92 </td>\n",
       "  </tr>\n",
       "</tbody>\n",
       "</table>"
      ]
     },
     "metadata": {},
     "output_type": "display_data"
    }
   ],
   "source": [
    "data <- matrix(c(20, 24, 80, 82,\n",
    "                 22, 38, 104, 125, \n",
    "                 13, 28, 81, 113, \n",
    "                 7, 18, 54, 92),\n",
    "               byrow=TRUE, \n",
    "               nrow=4)\n",
    "\n",
    "colnames(data) <- c('b. niezadow.', 'niezadow.', 'zadow.', 'b. zadow.')\n",
    "rownames(data) <- c('do 6000', '6000-15000', '15000-20000', 'powyżej 25000')\n",
    "\n",
    "data %>%\n",
    "    kable(\"html\") %>%\n",
    "    as.character() %>%\n",
    "    display_html()"
   ]
  },
  {
   "cell_type": "code",
   "execution_count": 10,
   "metadata": {},
   "outputs": [
    {
     "data": {
      "text/plain": [
       "\n",
       "\tPearson's Chi-squared test\n",
       "\n",
       "data:  data\n",
       "X-squared = 11.989, df = 9, p-value = 0.214\n"
      ]
     },
     "metadata": {},
     "output_type": "display_data"
    }
   ],
   "source": [
    "chisq.test(data)"
   ]
  },
  {
   "cell_type": "markdown",
   "metadata": {},
   "source": [
    "P-wartość wynosi $0.214 > 0.05$, więc nie mamy podstaw, żeby odrzucić hipotezę zerową. Zatem możemy powiedzieć, że zmienne są niezależne.\n",
    "\n",
    "# Zadanie 5\n",
    "\n",
    "Hipoteza zerowa mówi nam, że zmienne są niezależne, czyli $$H_0: p \\in \\mathcal{P}_0,$$ a hipoteza alternatywna stanowi o ich zależności, więc $$H_a: p \\in \\mathcal{P}_1 = \\mathcal{P} \\backslash \\mathcal{P}_0,$$ gdzie $P_o \\subset \\mathcal{P} = \\{ p: p_i \\geq 0, i = 1, \\dots, k, \\sum_{i=1}^kp_i=1\\}.$\n",
    "\n",
    "Poniżej prezentujemy funckję, która dla danyh w tablicy dwudzielczej oblicza wartość poziomu krytycznego (p-value) w asymptotycznym teście niezależności opartym na ilorazie wiarogodności. "
   ]
  },
  {
   "cell_type": "code",
   "execution_count": 11,
   "metadata": {},
   "outputs": [],
   "source": [
    "p_val <- function(table) {\n",
    "    n <- sum(table)\n",
    "    \n",
    "    R <- dim(table)[1]\n",
    "    C <- dim(table)[2]\n",
    "    \n",
    "    Gsq <- 1\n",
    "    \n",
    "    for (i in 1:R) {\n",
    "        for (j in 1:C) { #ni+ * n+j\n",
    "            Gsq <- Gsq * ((sum(table[i, ]) * sum(table[, j])) / (n*table[i, j]))^table[i, j]\n",
    "        }\n",
    "    }\n",
    "    \n",
    "\n",
    "    Gsq <- -2*log(Gsq)\n",
    "    \n",
    "    p_val <- 1 - pchisq(Gsq, (R-1)*(C-1))\n",
    "    p_val\n",
    "}"
   ]
  },
  {
   "cell_type": "markdown",
   "metadata": {},
   "source": [
    "Wywołując tę funkcję na danych z poprzedniego zadania, sprawdźmy jej działanie."
   ]
  },
  {
   "cell_type": "code",
   "execution_count": 12,
   "metadata": {},
   "outputs": [
    {
     "data": {
      "text/html": [
       "0.211"
      ],
      "text/latex": [
       "0.211"
      ],
      "text/markdown": [
       "0.211"
      ],
      "text/plain": [
       "[1] 0.211"
      ]
     },
     "metadata": {},
     "output_type": "display_data"
    }
   ],
   "source": [
    "p_val(data) %>% round(3)"
   ]
  },
  {
   "cell_type": "markdown",
   "metadata": {},
   "source": [
    "P-wartość wynosi $0.21,$ więc tyle samo co w zadaniu czwartym. Nasza funkcja działa więc poprawnie.\n",
    "\n",
    "---"
   ]
  },
  {
   "cell_type": "markdown",
   "metadata": {},
   "source": [
    "# Lista 8, 9\n",
    "\n",
    "## Zadanie 1\n",
    "\n",
    "W zadaniu pierwszym zaimplementujemy poznane na wykładzie miary współzmienności. \n",
    "\n",
    "Zacznijmy jednak od wprowadzenia danych z wykładu.<br>\n",
    "Tak wyglądają odpowiednio dane dotyczące *Segregacja* i *Wiek* oraz *Segregacja* i *Miejsce zamieszkania*.\n"
   ]
  },
  {
   "cell_type": "code",
   "execution_count": 580,
   "metadata": {
    "scrolled": false
   },
   "outputs": [
    {
     "data": {
      "text/html": [
       "<table class=\"dataframe\">\n",
       "<caption>A matrix: 5 × 4 of type dbl</caption>\n",
       "<thead>\n",
       "\t<tr><th></th><th scope=col>A</th><th scope=col>B</th><th scope=col>C</th><th scope=col>D</th></tr>\n",
       "</thead>\n",
       "<tbody>\n",
       "\t<tr><th scope=row>18-25</th><td>888</td><td>369</td><td>50</td><td>457</td></tr>\n",
       "\t<tr><th scope=row>26-35</th><td>263</td><td> 95</td><td>10</td><td> 99</td></tr>\n",
       "\t<tr><th scope=row>36-45</th><td>208</td><td> 29</td><td> 2</td><td> 44</td></tr>\n",
       "\t<tr><th scope=row>46-59</th><td> 78</td><td>  9</td><td> 0</td><td> 19</td></tr>\n",
       "\t<tr><th scope=row>60+</th><td>  1</td><td>  0</td><td> 0</td><td>  4</td></tr>\n",
       "</tbody>\n",
       "</table>\n"
      ],
      "text/latex": [
       "A matrix: 5 × 4 of type dbl\n",
       "\\begin{tabular}{r|llll}\n",
       "  & A & B & C & D\\\\\n",
       "\\hline\n",
       "\t18-25 & 888 & 369 & 50 & 457\\\\\n",
       "\t26-35 & 263 &  95 & 10 &  99\\\\\n",
       "\t36-45 & 208 &  29 &  2 &  44\\\\\n",
       "\t46-59 &  78 &   9 &  0 &  19\\\\\n",
       "\t60+ &   1 &   0 &  0 &   4\\\\\n",
       "\\end{tabular}\n"
      ],
      "text/markdown": [
       "\n",
       "A matrix: 5 × 4 of type dbl\n",
       "\n",
       "| <!--/--> | A | B | C | D |\n",
       "|---|---|---|---|---|\n",
       "| 18-25 | 888 | 369 | 50 | 457 |\n",
       "| 26-35 | 263 |  95 | 10 |  99 |\n",
       "| 36-45 | 208 |  29 |  2 |  44 |\n",
       "| 46-59 |  78 |   9 |  0 |  19 |\n",
       "| 60+ |   1 |   0 |  0 |   4 |\n",
       "\n"
      ],
      "text/plain": [
       "      A   B   C  D  \n",
       "18-25 888 369 50 457\n",
       "26-35 263  95 10  99\n",
       "36-45 208  29  2  44\n",
       "46-59  78   9  0  19\n",
       "60+     1   0  0   4"
      ]
     },
     "metadata": {},
     "output_type": "display_data"
    },
    {
     "data": {
      "text/html": [
       "<table class=\"dataframe\">\n",
       "<caption>A matrix: 4 × 4 of type dbl</caption>\n",
       "<tbody>\n",
       "\t<tr><td>505</td><td>202</td><td>19</td><td>136</td></tr>\n",
       "\t<tr><td>240</td><td> 77</td><td>14</td><td> 88</td></tr>\n",
       "\t<tr><td>181</td><td> 63</td><td> 8</td><td>105</td></tr>\n",
       "\t<tr><td>512</td><td>159</td><td>21</td><td>294</td></tr>\n",
       "</tbody>\n",
       "</table>\n"
      ],
      "text/latex": [
       "A matrix: 4 × 4 of type dbl\n",
       "\\begin{tabular}{llll}\n",
       "\t 505 & 202 & 19 & 136\\\\\n",
       "\t 240 &  77 & 14 &  88\\\\\n",
       "\t 181 &  63 &  8 & 105\\\\\n",
       "\t 512 & 159 & 21 & 294\\\\\n",
       "\\end{tabular}\n"
      ],
      "text/markdown": [
       "\n",
       "A matrix: 4 × 4 of type dbl\n",
       "\n",
       "| 505 | 202 | 19 | 136 |\n",
       "| 240 |  77 | 14 |  88 |\n",
       "| 181 |  63 |  8 | 105 |\n",
       "| 512 | 159 | 21 | 294 |\n",
       "\n"
      ],
      "text/plain": [
       "     [,1] [,2] [,3] [,4]\n",
       "[1,] 505  202  19   136 \n",
       "[2,] 240   77  14    88 \n",
       "[3,] 181   63   8   105 \n",
       "[4,] 512  159  21   294 "
      ]
     },
     "metadata": {},
     "output_type": "display_data"
    }
   ],
   "source": [
    "# install.packages(\"DescTools\")\n",
    "# install.packages(\"psych\")\n",
    "# install.packages(\"ca\")\n",
    "library(\"DescTools\")\n",
    "library(\"psych\")\n",
    "library(\"ca\")\n",
    "data_wiek <- matrix(c(888,369,50,457,263,95,10,99,208,29,2,44,78,9,0,19,1,0,0,4), nrow=5, byrow = T)\n",
    "dimnames(data_wiek) <- list(c(\"18-25\",\"26-35\",\"36-45\",\"46-59\",\"60+\"),c(\"A\",\"B\",\"C\",\"D\"))\n",
    "data_miejsce <- matrix(c(505,202,19,136,240,77,14,88,181,63,8,105,512,159,21,294), nrow=4, byrow=T)\n",
    "data_wiek\n",
    "data_miejsce"
   ]
  },
  {
   "cell_type": "markdown",
   "metadata": {},
   "source": [
    "W pierwszej kolejności zajmiemy się analizą zależności wieku respondentów z udzielonymi odpowiedziami. Zweryfikujmy hipotezę o niezależności zmiennych. Nasza hipoteza ma postać \n",
    "$$H_0: p_{ij} = p_{i+}p_{+j} \\space \\space \\forall i \\in \\{1, \\dots, R\\}, \\forall j \\in \\{1, \\dots, C\\}$$\n",
    "\n",
    "Przeciwko hipotezie alternatywnej:\n",
    "$$H_1: p_{ij} \\neq p_{i+}p_{+j}$$\n",
    "Dla conajmniej jednej pary i, j, gdzie $i \\in \\{1, \\dots, R\\}$ oraz $j \\in \\{1, \\dots, C\\}$\n",
    "\n",
    "Weryfikacja hipotezy o niezależności jest równoważna weryfikacji hipotezy\n",
    "o jednorodności rozkładów warunkowych, tzn. równości rozkładów.\n",
    "Przeprowadzimy test na poziomie istotności $\\alpha = 0.05$."
   ]
  },
  {
   "cell_type": "code",
   "execution_count": 581,
   "metadata": {
    "scrolled": true
   },
   "outputs": [
    {
     "data": {
      "text/html": [
       "0.000499750124937531"
      ],
      "text/latex": [
       "0.000499750124937531"
      ],
      "text/markdown": [
       "0.000499750124937531"
      ],
      "text/plain": [
       "[1] 0.0004997501"
      ]
     },
     "metadata": {},
     "output_type": "display_data"
    }
   ],
   "source": [
    "fisher.test(data_wiek, simulate.p.value = T)$p.value"
   ]
  },
  {
   "cell_type": "code",
   "execution_count": 582,
   "metadata": {},
   "outputs": [
    {
     "name": "stderr",
     "output_type": "stream",
     "text": [
      "Warning message in chisq.test(data_wiek):\n",
      "“Aproksymacja chi-kwadrat może być niepoprawna”\n"
     ]
    },
    {
     "data": {
      "text/html": [
       "9.14122959499407e-13"
      ],
      "text/latex": [
       "9.14122959499407e-13"
      ],
      "text/markdown": [
       "9.14122959499407e-13"
      ],
      "text/plain": [
       "[1] 9.14123e-13"
      ]
     },
     "metadata": {},
     "output_type": "display_data"
    }
   ],
   "source": [
    "chisq.test(data_wiek)$p.value"
   ]
  },
  {
   "cell_type": "markdown",
   "metadata": {},
   "source": [
    "Jak widać wartość krytyczna w obu testach jest znacznie mniejsza od przyjętego poziomu $\\alpha = 0.05$, zatem odrzucamy hipotezę o niezależności zmiennych."
   ]
  },
  {
   "cell_type": "markdown",
   "metadata": {},
   "source": [
    "Teraz możemy zaimplementować miary. Dla każdej z nich, napisaliśmy oddzielną funkcję, która jest wywoływana przez funcję `coefficient`."
   ]
  },
  {
   "cell_type": "code",
   "execution_count": 583,
   "metadata": {},
   "outputs": [],
   "source": [
    "#1\n",
    "goodman <- function(data) {\n",
    "  n <- sum(data)\n",
    "  \n",
    "  R <- dim(data)[1]\n",
    "  C <- dim(data)[2]\n",
    "  \n",
    "  sum1 <- 0\n",
    "  \n",
    "  for (i in 1:R) {\n",
    "    for (j in 1:C) {\n",
    "      sum1 <- sum1 + data[i, j]^2 / (n * sum(data[i, ]))\n",
    "    }\n",
    "  }\n",
    "  \n",
    "  sum2 <- 0\n",
    "  for (j in 1:C) {\n",
    "    sum2 <- sum2 + (sum(data[ , j])/n)^2\n",
    "  }\n",
    "  \n",
    "  (sum1 - sum2) / (1 - sum2)\n",
    "}\n",
    "\n",
    "#2\n",
    "crammer <- function(data) {\n",
    "  chi2 <- as.numeric(chisq.test(data, simulate.p.value = TRUE)$statistic)\n",
    "  C <- dim(data)[2]\n",
    "  R <- dim(data)[1]\n",
    "  sqrt(chi2/(sum(data)*min(R-1, C-1)))\n",
    "  \n",
    "}\n",
    "\n",
    "#3\n",
    "t.czuprow <- function(data) {\n",
    "  chi2 <- as.numeric(chisq.test(data, simulate.p.value = TRUE)$statistic)\n",
    "  C <- dim(data)[2]\n",
    "  R <- dim(data)[1]\n",
    "  sqrt(chi2/(sum(data)*sqrt((R-1)*(C-1))))\n",
    "}\n",
    "\n",
    "#4\n",
    "phi <- function(data) {\n",
    "  chi2 <- as.numeric(chisq.test(data, simulate.p.value = TRUE)$statistic)\n",
    "  sqrt(chi2/sum(data))\n",
    "}\n",
    "\n",
    "# 5\n",
    "pearson <- function(data) {\n",
    "  chi2 <- as.numeric(chisq.test(data, simulate.p.value = TRUE)$statistic)\n",
    "  sqrt(chi2/(chi2 + sum(data)))\n",
    "  \n",
    "}\n",
    "\n",
    "coefficient <- function(data, coef) {\n",
    "  if (coef == 1) {\n",
    "    goodman(data) \n",
    "  } else if (coef == 2) {\n",
    "    crammer(data)\n",
    "  } else if (coef == 3) {\n",
    "    t.czuprow(data)\n",
    "  } else if (coef == 4) {\n",
    "    phi(data)\n",
    "  } else if (coef == 5) {\n",
    "    pearson(data)\n",
    "  }\n",
    "}"
   ]
  },
  {
   "cell_type": "markdown",
   "metadata": {},
   "source": [
    "Sprawdźmy zatem, czy nasze funkcje dziają poprawnie. Porównamy ich wyniki z wynikami obliczonymi przez funkcje wbudowane w pakiecie R."
   ]
  },
  {
   "cell_type": "code",
   "execution_count": 584,
   "metadata": {},
   "outputs": [
    {
     "data": {
      "text/html": [
       "0.0171216260083961"
      ],
      "text/latex": [
       "0.0171216260083961"
      ],
      "text/markdown": [
       "0.0171216260083961"
      ],
      "text/plain": [
       "[1] 0.01712163"
      ]
     },
     "metadata": {},
     "output_type": "display_data"
    },
    {
     "data": {
      "text/html": [
       "0.0171216260083962"
      ],
      "text/latex": [
       "0.0171216260083962"
      ],
      "text/markdown": [
       "0.0171216260083962"
      ],
      "text/plain": [
       "[1] 0.01712163"
      ]
     },
     "metadata": {},
     "output_type": "display_data"
    }
   ],
   "source": [
    "coefficient(data_wiek, 1)\n",
    "GoodmanKruskalTau(data_wiek, direction = \"column\")"
   ]
  },
  {
   "cell_type": "code",
   "execution_count": 585,
   "metadata": {},
   "outputs": [
    {
     "data": {
      "text/html": [
       "0.10292408364219"
      ],
      "text/latex": [
       "0.10292408364219"
      ],
      "text/markdown": [
       "0.10292408364219"
      ],
      "text/plain": [
       "[1] 0.1029241"
      ]
     },
     "metadata": {},
     "output_type": "display_data"
    },
    {
     "data": {
      "text/html": [
       "0.10292408364219"
      ],
      "text/latex": [
       "0.10292408364219"
      ],
      "text/markdown": [
       "0.10292408364219"
      ],
      "text/plain": [
       "[1] 0.1029241"
      ]
     },
     "metadata": {},
     "output_type": "display_data"
    }
   ],
   "source": [
    "coefficient(data_wiek, 2)\n",
    "CramerV(data_wiek)"
   ]
  },
  {
   "cell_type": "code",
   "execution_count": 586,
   "metadata": {},
   "outputs": [
    {
     "data": {
      "text/html": [
       "0.0957816523560532"
      ],
      "text/latex": [
       "0.0957816523560532"
      ],
      "text/markdown": [
       "0.0957816523560532"
      ],
      "text/plain": [
       "[1] 0.09578165"
      ]
     },
     "metadata": {},
     "output_type": "display_data"
    },
    {
     "data": {
      "text/html": [
       "0.0957816523560532"
      ],
      "text/latex": [
       "0.0957816523560532"
      ],
      "text/markdown": [
       "0.0957816523560532"
      ],
      "text/plain": [
       "[1] 0.09578165"
      ]
     },
     "metadata": {},
     "output_type": "display_data"
    }
   ],
   "source": [
    "coefficient(data_wiek, 3)\n",
    "TschuprowT(data_wiek)"
   ]
  },
  {
   "cell_type": "code",
   "execution_count": 587,
   "metadata": {},
   "outputs": [
    {
     "data": {
      "text/html": [
       "0.178269742190742"
      ],
      "text/latex": [
       "0.178269742190742"
      ],
      "text/markdown": [
       "0.178269742190742"
      ],
      "text/plain": [
       "[1] 0.1782697"
      ]
     },
     "metadata": {},
     "output_type": "display_data"
    },
    {
     "data": {
      "text/html": [
       "0.178269742190742"
      ],
      "text/latex": [
       "0.178269742190742"
      ],
      "text/markdown": [
       "0.178269742190742"
      ],
      "text/plain": [
       "[1] 0.1782697"
      ]
     },
     "metadata": {},
     "output_type": "display_data"
    }
   ],
   "source": [
    "coefficient(data_wiek, 4)\n",
    "phi(data_wiek)"
   ]
  },
  {
   "cell_type": "code",
   "execution_count": 588,
   "metadata": {},
   "outputs": [
    {
     "data": {
      "text/html": [
       "0.175502805201971"
      ],
      "text/latex": [
       "0.175502805201971"
      ],
      "text/markdown": [
       "0.175502805201971"
      ],
      "text/plain": [
       "[1] 0.1755028"
      ]
     },
     "metadata": {},
     "output_type": "display_data"
    },
    {
     "data": {
      "text/html": [
       "0.175502805201971"
      ],
      "text/latex": [
       "0.175502805201971"
      ],
      "text/markdown": [
       "0.175502805201971"
      ],
      "text/plain": [
       "[1] 0.1755028"
      ]
     },
     "metadata": {},
     "output_type": "display_data"
    }
   ],
   "source": [
    "coefficient(data_wiek, 5)\n",
    "ContCoef(data_wiek)"
   ]
  },
  {
   "cell_type": "markdown",
   "metadata": {},
   "source": [
    "Jak widać, w każdym przypadku nasza funkcja zwraca dokładnie taką samą wartość.\n"
   ]
  },
  {
   "cell_type": "markdown",
   "metadata": {},
   "source": [
    "### Analiza korespondencji "
   ]
  },
  {
   "cell_type": "markdown",
   "metadata": {},
   "source": [
    "Zdefinujmy funkcje, które będą obliczać wektory: *przeciętny profil wierszowy*, *przeciętny profil kolumnowy* oraz macierze: *macierz profili wierszowych*, *macierz profili kolumnowych*."
   ]
  },
  {
   "cell_type": "code",
   "execution_count": 589,
   "metadata": {},
   "outputs": [],
   "source": [
    "count_average_row_profile <- function(data) {\n",
    "  rows <- numeric(nrow(data))\n",
    "  for (i in 1:nrow(data)) {\n",
    "    rows[i] <- sum(data[i, ])\n",
    "  }\n",
    "  rows\n",
    "}\n",
    "count_average_col_profile <- function(data) {\n",
    "  cols <- numeric(ncol(data))\n",
    "  for (i in 1:ncol(data)) {\n",
    "    cols[i] <- sum(data[, i])\n",
    "  }\n",
    "  cols\n",
    "}\n",
    "count_row_massess_matrix <- function(data) {\n",
    "    result <- matrix(0, nrow(data), ncol(data))\n",
    "  for (i in 1:nrow(data)) {\n",
    "      for (j in 1:ncol(data)) {\n",
    "            result[i, j] <-data[i,j]/sum(data[i, ])\n",
    "      }\n",
    "  }\n",
    "  result\n",
    "}\n",
    "count_col_massess_matrix <- function(data) {\n",
    "    result <- matrix(0, nrow(data), ncol(data))\n",
    "      for (i in 1:nrow(data)) {\n",
    "          for (j in 1:ncol(data)) {\n",
    "                result[i, j] <- data[i,j]/sum(data[, j])\n",
    "          }\n",
    "      }\n",
    "    result\n",
    "}"
   ]
  },
  {
   "cell_type": "markdown",
   "metadata": {},
   "source": [
    "Następnie wyznaczamy *macierz korespondencji* **P** (macierz częstości zaobserwawanych) oraz przeciętne profile."
   ]
  },
  {
   "cell_type": "code",
   "execution_count": 590,
   "metadata": {
    "scrolled": true
   },
   "outputs": [],
   "source": [
    "n <- sum(data_wiek)\n",
    "P <- data_wiek/n\n",
    "\n",
    "r <- count_average_row_profile(P)\n",
    "c <- count_average_col_profile(P)"
   ]
  },
  {
   "cell_type": "markdown",
   "metadata": {},
   "source": [
    "Macierz częstości wierszowych wygląda następująco:\n",
    "$$D_r = diag(r)$$"
   ]
  },
  {
   "cell_type": "code",
   "execution_count": 591,
   "metadata": {},
   "outputs": [
    {
     "data": {
      "text/html": [
       "<table class=\"dataframe\">\n",
       "<caption>A matrix: 5 × 5 of type dbl</caption>\n",
       "<tbody>\n",
       "\t<tr><td>0.672</td><td>0.0000000</td><td>0.0000000</td><td>0.00000000</td><td>0.000000000</td></tr>\n",
       "\t<tr><td>0.000</td><td>0.1779048</td><td>0.0000000</td><td>0.00000000</td><td>0.000000000</td></tr>\n",
       "\t<tr><td>0.000</td><td>0.0000000</td><td>0.1078095</td><td>0.00000000</td><td>0.000000000</td></tr>\n",
       "\t<tr><td>0.000</td><td>0.0000000</td><td>0.0000000</td><td>0.04038095</td><td>0.000000000</td></tr>\n",
       "\t<tr><td>0.000</td><td>0.0000000</td><td>0.0000000</td><td>0.00000000</td><td>0.001904762</td></tr>\n",
       "</tbody>\n",
       "</table>\n"
      ],
      "text/latex": [
       "A matrix: 5 × 5 of type dbl\n",
       "\\begin{tabular}{lllll}\n",
       "\t 0.672 & 0.0000000 & 0.0000000 & 0.00000000 & 0.000000000\\\\\n",
       "\t 0.000 & 0.1779048 & 0.0000000 & 0.00000000 & 0.000000000\\\\\n",
       "\t 0.000 & 0.0000000 & 0.1078095 & 0.00000000 & 0.000000000\\\\\n",
       "\t 0.000 & 0.0000000 & 0.0000000 & 0.04038095 & 0.000000000\\\\\n",
       "\t 0.000 & 0.0000000 & 0.0000000 & 0.00000000 & 0.001904762\\\\\n",
       "\\end{tabular}\n"
      ],
      "text/markdown": [
       "\n",
       "A matrix: 5 × 5 of type dbl\n",
       "\n",
       "| 0.672 | 0.0000000 | 0.0000000 | 0.00000000 | 0.000000000 |\n",
       "| 0.000 | 0.1779048 | 0.0000000 | 0.00000000 | 0.000000000 |\n",
       "| 0.000 | 0.0000000 | 0.1078095 | 0.00000000 | 0.000000000 |\n",
       "| 0.000 | 0.0000000 | 0.0000000 | 0.04038095 | 0.000000000 |\n",
       "| 0.000 | 0.0000000 | 0.0000000 | 0.00000000 | 0.001904762 |\n",
       "\n"
      ],
      "text/plain": [
       "     [,1]  [,2]      [,3]      [,4]       [,5]       \n",
       "[1,] 0.672 0.0000000 0.0000000 0.00000000 0.000000000\n",
       "[2,] 0.000 0.1779048 0.0000000 0.00000000 0.000000000\n",
       "[3,] 0.000 0.0000000 0.1078095 0.00000000 0.000000000\n",
       "[4,] 0.000 0.0000000 0.0000000 0.04038095 0.000000000\n",
       "[5,] 0.000 0.0000000 0.0000000 0.00000000 0.001904762"
      ]
     },
     "metadata": {},
     "output_type": "display_data"
    }
   ],
   "source": [
    "Dr <- diag(length(r)) * r\n",
    "Dr"
   ]
  },
  {
   "cell_type": "markdown",
   "metadata": {},
   "source": [
    "Natomiast macierz częstości kolumnowych:\n",
    "$$D_c = diag(c)$$"
   ]
  },
  {
   "cell_type": "code",
   "execution_count": 592,
   "metadata": {
    "scrolled": false
   },
   "outputs": [
    {
     "data": {
      "text/html": [
       "<table class=\"dataframe\">\n",
       "<caption>A matrix: 4 × 4 of type dbl</caption>\n",
       "<tbody>\n",
       "\t<tr><td>0.5478095</td><td>0.0000000</td><td>0.00000000</td><td>0.0000000</td></tr>\n",
       "\t<tr><td>0.0000000</td><td>0.1912381</td><td>0.00000000</td><td>0.0000000</td></tr>\n",
       "\t<tr><td>0.0000000</td><td>0.0000000</td><td>0.02361905</td><td>0.0000000</td></tr>\n",
       "\t<tr><td>0.0000000</td><td>0.0000000</td><td>0.00000000</td><td>0.2373333</td></tr>\n",
       "</tbody>\n",
       "</table>\n"
      ],
      "text/latex": [
       "A matrix: 4 × 4 of type dbl\n",
       "\\begin{tabular}{llll}\n",
       "\t 0.5478095 & 0.0000000 & 0.00000000 & 0.0000000\\\\\n",
       "\t 0.0000000 & 0.1912381 & 0.00000000 & 0.0000000\\\\\n",
       "\t 0.0000000 & 0.0000000 & 0.02361905 & 0.0000000\\\\\n",
       "\t 0.0000000 & 0.0000000 & 0.00000000 & 0.2373333\\\\\n",
       "\\end{tabular}\n"
      ],
      "text/markdown": [
       "\n",
       "A matrix: 4 × 4 of type dbl\n",
       "\n",
       "| 0.5478095 | 0.0000000 | 0.00000000 | 0.0000000 |\n",
       "| 0.0000000 | 0.1912381 | 0.00000000 | 0.0000000 |\n",
       "| 0.0000000 | 0.0000000 | 0.02361905 | 0.0000000 |\n",
       "| 0.0000000 | 0.0000000 | 0.00000000 | 0.2373333 |\n",
       "\n"
      ],
      "text/plain": [
       "     [,1]      [,2]      [,3]       [,4]     \n",
       "[1,] 0.5478095 0.0000000 0.00000000 0.0000000\n",
       "[2,] 0.0000000 0.1912381 0.00000000 0.0000000\n",
       "[3,] 0.0000000 0.0000000 0.02361905 0.0000000\n",
       "[4,] 0.0000000 0.0000000 0.00000000 0.2373333"
      ]
     },
     "metadata": {},
     "output_type": "display_data"
    }
   ],
   "source": [
    "Dc <- diag(length(c)) * c\n",
    "Dc"
   ]
  },
  {
   "cell_type": "markdown",
   "metadata": {},
   "source": [
    "Macierz profili wierszowych:"
   ]
  },
  {
   "cell_type": "code",
   "execution_count": 593,
   "metadata": {
    "scrolled": true
   },
   "outputs": [
    {
     "data": {
      "text/html": [
       "<table class=\"dataframe\">\n",
       "<caption>A matrix: 5 × 4 of type dbl</caption>\n",
       "<tbody>\n",
       "\t<tr><td>0.5034014</td><td>0.20918367</td><td>0.028344671</td><td>0.2590703</td></tr>\n",
       "\t<tr><td>0.5631692</td><td>0.20342612</td><td>0.021413276</td><td>0.2119914</td></tr>\n",
       "\t<tr><td>0.7349823</td><td>0.10247350</td><td>0.007067138</td><td>0.1554770</td></tr>\n",
       "\t<tr><td>0.7358491</td><td>0.08490566</td><td>0.000000000</td><td>0.1792453</td></tr>\n",
       "\t<tr><td>0.2000000</td><td>0.00000000</td><td>0.000000000</td><td>0.8000000</td></tr>\n",
       "</tbody>\n",
       "</table>\n"
      ],
      "text/latex": [
       "A matrix: 5 × 4 of type dbl\n",
       "\\begin{tabular}{llll}\n",
       "\t 0.5034014 & 0.20918367 & 0.028344671 & 0.2590703\\\\\n",
       "\t 0.5631692 & 0.20342612 & 0.021413276 & 0.2119914\\\\\n",
       "\t 0.7349823 & 0.10247350 & 0.007067138 & 0.1554770\\\\\n",
       "\t 0.7358491 & 0.08490566 & 0.000000000 & 0.1792453\\\\\n",
       "\t 0.2000000 & 0.00000000 & 0.000000000 & 0.8000000\\\\\n",
       "\\end{tabular}\n"
      ],
      "text/markdown": [
       "\n",
       "A matrix: 5 × 4 of type dbl\n",
       "\n",
       "| 0.5034014 | 0.20918367 | 0.028344671 | 0.2590703 |\n",
       "| 0.5631692 | 0.20342612 | 0.021413276 | 0.2119914 |\n",
       "| 0.7349823 | 0.10247350 | 0.007067138 | 0.1554770 |\n",
       "| 0.7358491 | 0.08490566 | 0.000000000 | 0.1792453 |\n",
       "| 0.2000000 | 0.00000000 | 0.000000000 | 0.8000000 |\n",
       "\n"
      ],
      "text/plain": [
       "     [,1]      [,2]       [,3]        [,4]     \n",
       "[1,] 0.5034014 0.20918367 0.028344671 0.2590703\n",
       "[2,] 0.5631692 0.20342612 0.021413276 0.2119914\n",
       "[3,] 0.7349823 0.10247350 0.007067138 0.1554770\n",
       "[4,] 0.7358491 0.08490566 0.000000000 0.1792453\n",
       "[5,] 0.2000000 0.00000000 0.000000000 0.8000000"
      ]
     },
     "metadata": {},
     "output_type": "display_data"
    }
   ],
   "source": [
    "R = count_row_massess_matrix(data_wiek)\n",
    "R"
   ]
  },
  {
   "cell_type": "markdown",
   "metadata": {},
   "source": [
    "Macierz profili kolumnowych:"
   ]
  },
  {
   "cell_type": "code",
   "execution_count": 594,
   "metadata": {
    "scrolled": true
   },
   "outputs": [
    {
     "data": {
      "text/html": [
       "<table class=\"dataframe\">\n",
       "<caption>A matrix: 5 × 4 of type dbl</caption>\n",
       "<tbody>\n",
       "\t<tr><td>0.6175243394</td><td>0.73505976</td><td>0.80645161</td><td>0.733547352</td></tr>\n",
       "\t<tr><td>0.1828929068</td><td>0.18924303</td><td>0.16129032</td><td>0.158908507</td></tr>\n",
       "\t<tr><td>0.1446453408</td><td>0.05776892</td><td>0.03225806</td><td>0.070626003</td></tr>\n",
       "\t<tr><td>0.0542420028</td><td>0.01792829</td><td>0.00000000</td><td>0.030497592</td></tr>\n",
       "\t<tr><td>0.0006954103</td><td>0.00000000</td><td>0.00000000</td><td>0.006420546</td></tr>\n",
       "</tbody>\n",
       "</table>\n"
      ],
      "text/latex": [
       "A matrix: 5 × 4 of type dbl\n",
       "\\begin{tabular}{llll}\n",
       "\t 0.6175243394 & 0.73505976 & 0.80645161 & 0.733547352\\\\\n",
       "\t 0.1828929068 & 0.18924303 & 0.16129032 & 0.158908507\\\\\n",
       "\t 0.1446453408 & 0.05776892 & 0.03225806 & 0.070626003\\\\\n",
       "\t 0.0542420028 & 0.01792829 & 0.00000000 & 0.030497592\\\\\n",
       "\t 0.0006954103 & 0.00000000 & 0.00000000 & 0.006420546\\\\\n",
       "\\end{tabular}\n"
      ],
      "text/markdown": [
       "\n",
       "A matrix: 5 × 4 of type dbl\n",
       "\n",
       "| 0.6175243394 | 0.73505976 | 0.80645161 | 0.733547352 |\n",
       "| 0.1828929068 | 0.18924303 | 0.16129032 | 0.158908507 |\n",
       "| 0.1446453408 | 0.05776892 | 0.03225806 | 0.070626003 |\n",
       "| 0.0542420028 | 0.01792829 | 0.00000000 | 0.030497592 |\n",
       "| 0.0006954103 | 0.00000000 | 0.00000000 | 0.006420546 |\n",
       "\n"
      ],
      "text/plain": [
       "     [,1]         [,2]       [,3]       [,4]       \n",
       "[1,] 0.6175243394 0.73505976 0.80645161 0.733547352\n",
       "[2,] 0.1828929068 0.18924303 0.16129032 0.158908507\n",
       "[3,] 0.1446453408 0.05776892 0.03225806 0.070626003\n",
       "[4,] 0.0542420028 0.01792829 0.00000000 0.030497592\n",
       "[5,] 0.0006954103 0.00000000 0.00000000 0.006420546"
      ]
     },
     "metadata": {},
     "output_type": "display_data"
    }
   ],
   "source": [
    "C <- count_col_massess_matrix(data_wiek)\n",
    "C"
   ]
  },
  {
   "cell_type": "markdown",
   "metadata": {},
   "source": [
    "Następnie obliczyliśmy macierz rezyduów standaryzowanych zgodnie ze wzorem:\n",
    "\n",
    "$$A = D_r^{- 1/2}(P-rc^T)D_c^{-1/2}$$"
   ]
  },
  {
   "cell_type": "code",
   "execution_count": 595,
   "metadata": {
    "scrolled": true
   },
   "outputs": [
    {
     "data": {
      "text/html": [
       "<table class=\"dataframe\">\n",
       "<caption>A matrix: 5 × 4 of type dbl</caption>\n",
       "<tbody>\n",
       "\t<tr><td>-0.049184998</td><td> 0.03363991</td><td> 0.025206501</td><td> 0.03657666</td></tr>\n",
       "\t<tr><td> 0.008753063</td><td> 0.01175547</td><td>-0.006053731</td><td>-0.02194086</td></tr>\n",
       "\t<tr><td> 0.083034109</td><td>-0.06664708</td><td>-0.035362705</td><td>-0.05516979</td></tr>\n",
       "\t<tr><td> 0.051053163</td><td>-0.04886150</td><td>-0.030882999</td><td>-0.02396049</td></tr>\n",
       "\t<tr><td>-0.020509120</td><td>-0.01908568</td><td>-0.006707359</td><td> 0.05040715</td></tr>\n",
       "</tbody>\n",
       "</table>\n"
      ],
      "text/latex": [
       "A matrix: 5 × 4 of type dbl\n",
       "\\begin{tabular}{llll}\n",
       "\t -0.049184998 &  0.03363991 &  0.025206501 &  0.03657666\\\\\n",
       "\t  0.008753063 &  0.01175547 & -0.006053731 & -0.02194086\\\\\n",
       "\t  0.083034109 & -0.06664708 & -0.035362705 & -0.05516979\\\\\n",
       "\t  0.051053163 & -0.04886150 & -0.030882999 & -0.02396049\\\\\n",
       "\t -0.020509120 & -0.01908568 & -0.006707359 &  0.05040715\\\\\n",
       "\\end{tabular}\n"
      ],
      "text/markdown": [
       "\n",
       "A matrix: 5 × 4 of type dbl\n",
       "\n",
       "| -0.049184998 |  0.03363991 |  0.025206501 |  0.03657666 |\n",
       "|  0.008753063 |  0.01175547 | -0.006053731 | -0.02194086 |\n",
       "|  0.083034109 | -0.06664708 | -0.035362705 | -0.05516979 |\n",
       "|  0.051053163 | -0.04886150 | -0.030882999 | -0.02396049 |\n",
       "| -0.020509120 | -0.01908568 | -0.006707359 |  0.05040715 |\n",
       "\n"
      ],
      "text/plain": [
       "     [,1]         [,2]        [,3]         [,4]       \n",
       "[1,] -0.049184998  0.03363991  0.025206501  0.03657666\n",
       "[2,]  0.008753063  0.01175547 -0.006053731 -0.02194086\n",
       "[3,]  0.083034109 -0.06664708 -0.035362705 -0.05516979\n",
       "[4,]  0.051053163 -0.04886150 -0.030882999 -0.02396049\n",
       "[5,] -0.020509120 -0.01908568 -0.006707359  0.05040715"
      ]
     },
     "metadata": {},
     "output_type": "display_data"
    }
   ],
   "source": [
    "A <- solve(Dr ^ (1/2)) %*% (P - r %*% t(c)) %*% solve(Dc ^ (1/2))\n",
    "A"
   ]
  },
  {
   "cell_type": "markdown",
   "metadata": {},
   "source": [
    "W analizie korespondencji zastosowaliśmy podejście Greenacre’a, które polega na dekompozycji według wartości osobliwych macierzy **A**. W tym celu wykorzystaliśmy wbudowaną funckję *svd*, aby otrzymać macierze $U$, $\\Gamma$, $V$, zgdonie ze wzorem:\n",
    "$$A = U\\Gamma V^T$$\n",
    "\n",
    "Po wyznaczeniu rozkładu macierzy **A** według wartości osobliwych, możemy wyznaczyć macierze **F** i **G**, nazywamy współrzędnymi kategorii cech odpowiednio dla wierszy i kolumn."
   ]
  },
  {
   "cell_type": "code",
   "execution_count": 596,
   "metadata": {
    "scrolled": false
   },
   "outputs": [
    {
     "data": {
      "text/html": [
       "<table class=\"dataframe\">\n",
       "<caption>A matrix: 5 × 4 of type dbl</caption>\n",
       "<tbody>\n",
       "\t<tr><td>-0.09048091</td><td> 0.003935358</td><td>-0.00424245</td><td>-6.327408e-17</td></tr>\n",
       "\t<tr><td> 0.02838125</td><td>-0.054172767</td><td> 0.01947277</td><td>-4.863980e-17</td></tr>\n",
       "\t<tr><td> 0.38035147</td><td> 0.012314854</td><td>-0.01287347</td><td>-3.971103e-17</td></tr>\n",
       "\t<tr><td> 0.39268765</td><td> 0.083974027</td><td> 0.01581285</td><td>-1.196198e-16</td></tr>\n",
       "\t<tr><td>-0.58201684</td><td> 1.194071935</td><td> 0.07138559</td><td> 6.898849e-17</td></tr>\n",
       "</tbody>\n",
       "</table>\n"
      ],
      "text/latex": [
       "A matrix: 5 × 4 of type dbl\n",
       "\\begin{tabular}{llll}\n",
       "\t -0.09048091 &  0.003935358 & -0.00424245 & -6.327408e-17\\\\\n",
       "\t  0.02838125 & -0.054172767 &  0.01947277 & -4.863980e-17\\\\\n",
       "\t  0.38035147 &  0.012314854 & -0.01287347 & -3.971103e-17\\\\\n",
       "\t  0.39268765 &  0.083974027 &  0.01581285 & -1.196198e-16\\\\\n",
       "\t -0.58201684 &  1.194071935 &  0.07138559 &  6.898849e-17\\\\\n",
       "\\end{tabular}\n"
      ],
      "text/markdown": [
       "\n",
       "A matrix: 5 × 4 of type dbl\n",
       "\n",
       "| -0.09048091 |  0.003935358 | -0.00424245 | -6.327408e-17 |\n",
       "|  0.02838125 | -0.054172767 |  0.01947277 | -4.863980e-17 |\n",
       "|  0.38035147 |  0.012314854 | -0.01287347 | -3.971103e-17 |\n",
       "|  0.39268765 |  0.083974027 |  0.01581285 | -1.196198e-16 |\n",
       "| -0.58201684 |  1.194071935 |  0.07138559 |  6.898849e-17 |\n",
       "\n"
      ],
      "text/plain": [
       "     [,1]        [,2]         [,3]        [,4]         \n",
       "[1,] -0.09048091  0.003935358 -0.00424245 -6.327408e-17\n",
       "[2,]  0.02838125 -0.054172767  0.01947277 -4.863980e-17\n",
       "[3,]  0.38035147  0.012314854 -0.01287347 -3.971103e-17\n",
       "[4,]  0.39268765  0.083974027  0.01581285 -1.196198e-16\n",
       "[5,] -0.58201684  1.194071935  0.07138559  6.898849e-17"
      ]
     },
     "metadata": {},
     "output_type": "display_data"
    },
    {
     "data": {
      "text/html": [
       "<table class=\"dataframe\">\n",
       "<caption>A matrix: 4 × 4 of type dbl</caption>\n",
       "<tbody>\n",
       "\t<tr><td> 0.1504620</td><td>-0.005221131</td><td>-0.001210770</td><td>6.219487e-17</td></tr>\n",
       "\t<tr><td>-0.1915971</td><td>-0.086311190</td><td> 0.009831168</td><td>6.219487e-17</td></tr>\n",
       "\t<tr><td>-0.3347124</td><td>-0.086721499</td><td>-0.064268200</td><td>6.219487e-17</td></tr>\n",
       "\t<tr><td>-0.1595994</td><td> 0.090229432</td><td> 0.001268811</td><td>6.219487e-17</td></tr>\n",
       "</tbody>\n",
       "</table>\n"
      ],
      "text/latex": [
       "A matrix: 4 × 4 of type dbl\n",
       "\\begin{tabular}{llll}\n",
       "\t  0.1504620 & -0.005221131 & -0.001210770 & 6.219487e-17\\\\\n",
       "\t -0.1915971 & -0.086311190 &  0.009831168 & 6.219487e-17\\\\\n",
       "\t -0.3347124 & -0.086721499 & -0.064268200 & 6.219487e-17\\\\\n",
       "\t -0.1595994 &  0.090229432 &  0.001268811 & 6.219487e-17\\\\\n",
       "\\end{tabular}\n"
      ],
      "text/markdown": [
       "\n",
       "A matrix: 4 × 4 of type dbl\n",
       "\n",
       "|  0.1504620 | -0.005221131 | -0.001210770 | 6.219487e-17 |\n",
       "| -0.1915971 | -0.086311190 |  0.009831168 | 6.219487e-17 |\n",
       "| -0.3347124 | -0.086721499 | -0.064268200 | 6.219487e-17 |\n",
       "| -0.1595994 |  0.090229432 |  0.001268811 | 6.219487e-17 |\n",
       "\n"
      ],
      "text/plain": [
       "     [,1]       [,2]         [,3]         [,4]        \n",
       "[1,]  0.1504620 -0.005221131 -0.001210770 6.219487e-17\n",
       "[2,] -0.1915971 -0.086311190  0.009831168 6.219487e-17\n",
       "[3,] -0.3347124 -0.086721499 -0.064268200 6.219487e-17\n",
       "[4,] -0.1595994  0.090229432  0.001268811 6.219487e-17"
      ]
     },
     "metadata": {},
     "output_type": "display_data"
    }
   ],
   "source": [
    "sv <- svd(A)\n",
    "gamm <- diag(length(sv$d)) * sv$d\n",
    "U <- sv$u\n",
    "V <- sv$v\n",
    "\n",
    "F <- solve(Dr ^ (1/2)) %*% U %*% gamm\n",
    "G <- solve(Dc ^ (1/2)) %*% V %*% gamm\n",
    "\n",
    "F\n",
    "G"
   ]
  },
  {
   "cell_type": "markdown",
   "metadata": {},
   "source": [
    "Aby sprawdzić poprawność naszej metody, porównamy wykres wygenerowany przez wbudowaną funkcję *ca* z wykresem stworzonym przez dane pochodzące z obliczonych macierzy *F* i *G*. Aby zachować przjrzystość na wykresie, punkty wygenerowane przez nas zwizulizujemy za pomocą wykresu liniowego. Wówczas punkty nie będą się pokrywać i będziemy mogli zweryfikować poprawność naszej metody. "
   ]
  },
  {
   "cell_type": "code",
   "execution_count": 597,
   "metadata": {
    "scrolled": true
   },
   "outputs": [
    {
     "data": {
      "image/png": "[encoded data removed]",
      "text/plain": [
       "plot without title"
      ]
     },
     "metadata": {
      "image/png": {
       "height": 420,
       "width": 420
      }
     },
     "output_type": "display_data"
    }
   ],
   "source": [
    "plot(ca(data_wiek))\n",
    "xs <- F[,1]\n",
    "ys <- F[,2]\n",
    "lines(xs, ys)\n",
    "xs <- G[,1]\n",
    "ys <- G[,2]\n",
    "lines(xs, ys)"
   ]
  },
  {
   "cell_type": "markdown",
   "metadata": {},
   "source": [
    "Jak widać na wykresie, punkty stworzone przez funkcję *ca* są połączone liniami, zatem nasza metoda została zaimplementowana poprawnie. Sam wykres, który otrzymujemy przez funkcję *ca*, wygląda następująco:"
   ]
  },
  {
   "cell_type": "code",
   "execution_count": 723,
   "metadata": {
    "scrolled": false
   },
   "outputs": [
    {
     "data": {
      "image/png": "[encoded data removed]",
      "text/plain": [
       "plot without title"
      ]
     },
     "metadata": {
      "image/png": {
       "height": 420,
       "width": 420
      }
     },
     "output_type": "display_data"
    }
   ],
   "source": [
    "plot(ca(data_wiek))"
   ]
  },
  {
   "cell_type": "markdown",
   "metadata": {},
   "source": [
    "### Wnioski\n",
    "Osoby w wieku 26-35 lat najczęściej segregują śmieci, ponieważ jest to korzystne dla środowiska (odpowiedź A). Na podstawie odpowiedzi osób w wieku 36-45 oraz 46-59 możemy wnioskować, że segregują śmieci również z tego samego powodu, jednak ta zależność jest mniejsza. Z wykresu możemy również odczytać, że osoby w wieku 18-25 lat w dużej części segregują śmieci ponieważ taki jest wymóg ustawowy (odpowiedź B) lub nie segregują śmieci (odpowiedź D). Udział osób powyżej 60 lat biorących udział w badaniu jest bardzo mały, stąd trudno tu znaleźć zależności."
   ]
  },
  {
   "cell_type": "markdown",
   "metadata": {},
   "source": [
    "W analizowanych danych inercja całkowita wynosi $\\lambda \\approx 0.032 $, zatem punkty profili są rozproszone w niewielkim stopniu i skupiają się na niewielkim obszarze.\n"
   ]
  },
  {
   "cell_type": "markdown",
   "metadata": {},
   "source": [
    "Następenie zajmiemy się danymi *Segregacja* i *Miejsce zamieszkania*, dla których obliczmy odpowiednie miary współzmienności, a także porównamy je z wynikami otrzymanymi z funkcji wbudowanych."
   ]
  },
  {
   "cell_type": "code",
   "execution_count": 724,
   "metadata": {},
   "outputs": [
    {
     "data": {
      "text/html": [
       "0.0101279237876796"
      ],
      "text/latex": [
       "0.0101279237876796"
      ],
      "text/markdown": [
       "0.0101279237876796"
      ],
      "text/plain": [
       "[1] 0.01012792"
      ]
     },
     "metadata": {},
     "output_type": "display_data"
    },
    {
     "data": {
      "text/html": [
       "0.0101279237876795"
      ],
      "text/latex": [
       "0.0101279237876795"
      ],
      "text/markdown": [
       "0.0101279237876795"
      ],
      "text/plain": [
       "[1] 0.01012792"
      ]
     },
     "metadata": {},
     "output_type": "display_data"
    }
   ],
   "source": [
    "coefficient(data_miejsce, 1)\n",
    "GoodmanKruskalTau(data_miejsce, direction = \"column\")"
   ]
  },
  {
   "cell_type": "code",
   "execution_count": 725,
   "metadata": {},
   "outputs": [
    {
     "data": {
      "text/html": [
       "0.0911602380776021"
      ],
      "text/latex": [
       "0.0911602380776021"
      ],
      "text/markdown": [
       "0.0911602380776021"
      ],
      "text/plain": [
       "[1] 0.09116024"
      ]
     },
     "metadata": {},
     "output_type": "display_data"
    },
    {
     "data": {
      "text/html": [
       "0.0911602380776021"
      ],
      "text/latex": [
       "0.0911602380776021"
      ],
      "text/markdown": [
       "0.0911602380776021"
      ],
      "text/plain": [
       "[1] 0.09116024"
      ]
     },
     "metadata": {},
     "output_type": "display_data"
    }
   ],
   "source": [
    "coefficient(data_miejsce, 2)\n",
    "CramerV(data_miejsce)"
   ]
  },
  {
   "cell_type": "code",
   "execution_count": 726,
   "metadata": {},
   "outputs": [
    {
     "data": {
      "text/html": [
       "0.0911602380776021"
      ],
      "text/latex": [
       "0.0911602380776021"
      ],
      "text/markdown": [
       "0.0911602380776021"
      ],
      "text/plain": [
       "[1] 0.09116024"
      ]
     },
     "metadata": {},
     "output_type": "display_data"
    },
    {
     "data": {
      "text/html": [
       "0.0911602380776021"
      ],
      "text/latex": [
       "0.0911602380776021"
      ],
      "text/markdown": [
       "0.0911602380776021"
      ],
      "text/plain": [
       "[1] 0.09116024"
      ]
     },
     "metadata": {},
     "output_type": "display_data"
    }
   ],
   "source": [
    "coefficient(data_miejsce, 3)\n",
    "TschuprowT(data_miejsce)"
   ]
  },
  {
   "cell_type": "code",
   "execution_count": 727,
   "metadata": {},
   "outputs": [
    {
     "data": {
      "text/html": [
       "0.157894163980482"
      ],
      "text/latex": [
       "0.157894163980482"
      ],
      "text/markdown": [
       "0.157894163980482"
      ],
      "text/plain": [
       "[1] 0.1578942"
      ]
     },
     "metadata": {},
     "output_type": "display_data"
    },
    {
     "data": {
      "text/html": [
       "0.157894163980482"
      ],
      "text/latex": [
       "0.157894163980482"
      ],
      "text/markdown": [
       "0.157894163980482"
      ],
      "text/plain": [
       "[1] 0.1578942"
      ]
     },
     "metadata": {},
     "output_type": "display_data"
    }
   ],
   "source": [
    "coefficient(data_miejsce, 4)\n",
    "phi(data_miejsce)"
   ]
  },
  {
   "cell_type": "code",
   "execution_count": 728,
   "metadata": {},
   "outputs": [
    {
     "data": {
      "text/html": [
       "0.155962021385397"
      ],
      "text/latex": [
       "0.155962021385397"
      ],
      "text/markdown": [
       "0.155962021385397"
      ],
      "text/plain": [
       "[1] 0.155962"
      ]
     },
     "metadata": {},
     "output_type": "display_data"
    },
    {
     "data": {
      "text/html": [
       "0.155962021385397"
      ],
      "text/latex": [
       "0.155962021385397"
      ],
      "text/markdown": [
       "0.155962021385397"
      ],
      "text/plain": [
       "[1] 0.155962"
      ]
     },
     "metadata": {},
     "output_type": "display_data"
    }
   ],
   "source": [
    "coefficient(data_miejsce, 5)\n",
    "ContCoef(data_miejsce)"
   ]
  },
  {
   "cell_type": "markdown",
   "metadata": {},
   "source": [
    "W tym przypadku wszystkie obliczone współczynniki również zgadzają się w wynikami obliczonymi za pomocą funkcji wbudowanych."
   ]
  },
  {
   "cell_type": "markdown",
   "metadata": {},
   "source": [
    "# Zadanie 2\n",
    "\n",
    "\n",
    "\n",
    "W zadaniu drugim oraz trzecim obliczmy odpowiednie miary współzmienności oraz przeprowadzimy analizę korespondencji.\n",
    "Zanim jednak do niej przejdziemy, wykonamy testy: Fishera oraz chi-kwadrat Pearsona, które zweryfikują hipotezę o niezależności."
   ]
  },
  {
   "cell_type": "markdown",
   "metadata": {},
   "source": [
    "Wprowadźmy dane i zobaczmy jak wyglądają dane wejściowe:"
   ]
  },
  {
   "cell_type": "code",
   "execution_count": 729,
   "metadata": {},
   "outputs": [
    {
     "data": {
      "text/html": [
       "<table class=\"dataframe\">\n",
       "<caption>A matrix: 5 × 3 of type dbl</caption>\n",
       "<thead>\n",
       "\t<tr><th></th><th scope=col>do lat 35</th><th scope=col>od 36 do 55</th><th scope=col>powyzej 55</th></tr>\n",
       "</thead>\n",
       "<tbody>\n",
       "\t<tr><th scope=row>Ibuprom</th><td>35</td><td> 0</td><td> 0</td></tr>\n",
       "\t<tr><th scope=row>Apap</th><td>22</td><td>22</td><td> 0</td></tr>\n",
       "\t<tr><th scope=row>Paracetamol</th><td>15</td><td>15</td><td>15</td></tr>\n",
       "\t<tr><th scope=row>Ibuprofen</th><td> 0</td><td>40</td><td>10</td></tr>\n",
       "\t<tr><th scope=row>Panadol</th><td>18</td><td> 3</td><td> 5</td></tr>\n",
       "</tbody>\n",
       "</table>\n"
      ],
      "text/latex": [
       "A matrix: 5 × 3 of type dbl\n",
       "\\begin{tabular}{r|lll}\n",
       "  & do lat 35 & od 36 do 55 & powyzej 55\\\\\n",
       "\\hline\n",
       "\tIbuprom & 35 &  0 &  0\\\\\n",
       "\tApap & 22 & 22 &  0\\\\\n",
       "\tParacetamol & 15 & 15 & 15\\\\\n",
       "\tIbuprofen &  0 & 40 & 10\\\\\n",
       "\tPanadol & 18 &  3 &  5\\\\\n",
       "\\end{tabular}\n"
      ],
      "text/markdown": [
       "\n",
       "A matrix: 5 × 3 of type dbl\n",
       "\n",
       "| <!--/--> | do lat 35 | od 36 do 55 | powyzej 55 |\n",
       "|---|---|---|---|\n",
       "| Ibuprom | 35 |  0 |  0 |\n",
       "| Apap | 22 | 22 |  0 |\n",
       "| Paracetamol | 15 | 15 | 15 |\n",
       "| Ibuprofen |  0 | 40 | 10 |\n",
       "| Panadol | 18 |  3 |  5 |\n",
       "\n"
      ],
      "text/plain": [
       "            do lat 35 od 36 do 55 powyzej 55\n",
       "Ibuprom     35         0           0        \n",
       "Apap        22        22           0        \n",
       "Paracetamol 15        15          15        \n",
       "Ibuprofen    0        40          10        \n",
       "Panadol     18         3           5        "
      ]
     },
     "metadata": {},
     "output_type": "display_data"
    }
   ],
   "source": [
    "data <- matrix(c(35, 22, 15, 0, 18, 0, 22, 15, 40, 3, 0, 0, 15, 10, 5), nrow = 5)\n",
    "dimnames(data) <- list(c(\"Ibuprom\",\"Apap\",\"Paracetamol\",\"Ibuprofen\",\"Panadol\"),c(\"do lat 35\",\"od 36 do 55\",\"powyzej 55\"))\n",
    "\n",
    "data"
   ]
  },
  {
   "cell_type": "markdown",
   "metadata": {},
   "source": [
    "Analogicznie jak w poprzednim zadaniu, mamy do czynienia z hipotezą:\n",
    "\n",
    "$$H_0: p_{ij} = p_{i+}p_{+j} \\space \\space \\forall i \\in \\{1, \\dots, R\\}, \\forall j \\in \\{1, \\dots, C\\}$$\n",
    "\n",
    "Przeciwko hipotezie alternatywnej:\n",
    "$$H_1: p_{ij} \\neq p_{i+}p_{+j}$$\n",
    "Dla conajmniej jednej pary i, j, gdzie $i \\in \\{1, \\dots, R\\}$ oraz $j \\in \\{1, \\dots, C\\}$\n",
    "\n",
    "Weryfikacja hipotezy o niezależności jest równoważna weryfikacji hipotezy\n",
    "o jednorodności rozkładów warunkowych, tzn. równości rozkładów.\n",
    "Przeprowadzimy test na poziomie istotności $\\alpha = 0.05$."
   ]
  },
  {
   "cell_type": "code",
   "execution_count": 730,
   "metadata": {
    "scrolled": true
   },
   "outputs": [
    {
     "name": "stderr",
     "output_type": "stream",
     "text": [
      "Warning message in chisq.test(data):\n",
      "“Aproksymacja chi-kwadrat może być niepoprawna”\n"
     ]
    },
    {
     "data": {
      "text/plain": [
       "\n",
       "\tPearson's Chi-squared test\n",
       "\n",
       "data:  data\n",
       "X-squared = 114.97, df = 8, p-value < 2.2e-16\n"
      ]
     },
     "metadata": {},
     "output_type": "display_data"
    }
   ],
   "source": [
    "chisq.test(data)"
   ]
  },
  {
   "cell_type": "code",
   "execution_count": 731,
   "metadata": {
    "scrolled": false
   },
   "outputs": [
    {
     "data": {
      "text/plain": [
       "\n",
       "\tFisher's Exact Test for Count Data with simulated p-value (based on\n",
       "\t2000 replicates)\n",
       "\n",
       "data:  data\n",
       "p-value = 0.0004998\n",
       "alternative hypothesis: two.sided\n"
      ]
     },
     "metadata": {},
     "output_type": "display_data"
    }
   ],
   "source": [
    "fisher.test(data, simulate.p.value = T)"
   ]
  },
  {
   "cell_type": "markdown",
   "metadata": {},
   "source": [
    "W tym przypadku również obie wartości krytyczne są znacznie mniejsze od przyjętego poziomu istotności $\\alpha = 0.05$, zatem odrzucamy hipotezę o niezależności zmiennych."
   ]
  },
  {
   "cell_type": "markdown",
   "metadata": {},
   "source": [
    "Następnie obliczmy miary współzmienności:"
   ]
  },
  {
   "cell_type": "code",
   "execution_count": 732,
   "metadata": {},
   "outputs": [
    {
     "data": {
      "text/html": [
       "0.347717323327079"
      ],
      "text/latex": [
       "0.347717323327079"
      ],
      "text/markdown": [
       "0.347717323327079"
      ],
      "text/plain": [
       "[1] 0.3477173"
      ]
     },
     "metadata": {},
     "output_type": "display_data"
    },
    {
     "data": {
      "text/html": [
       "0.347717323327079"
      ],
      "text/latex": [
       "0.347717323327079"
      ],
      "text/markdown": [
       "0.347717323327079"
      ],
      "text/plain": [
       "[1] 0.3477173"
      ]
     },
     "metadata": {},
     "output_type": "display_data"
    }
   ],
   "source": [
    "coefficient(data, 1)\n",
    "GoodmanKruskalTau(data, direction = \"column\")"
   ]
  },
  {
   "cell_type": "code",
   "execution_count": 733,
   "metadata": {},
   "outputs": [
    {
     "data": {
      "text/html": [
       "0.536115539594658"
      ],
      "text/latex": [
       "0.536115539594658"
      ],
      "text/markdown": [
       "0.536115539594658"
      ],
      "text/plain": [
       "[1] 0.5361155"
      ]
     },
     "metadata": {},
     "output_type": "display_data"
    },
    {
     "data": {
      "text/html": [
       "0.536115539594658"
      ],
      "text/latex": [
       "0.536115539594658"
      ],
      "text/markdown": [
       "0.536115539594658"
      ],
      "text/plain": [
       "[1] 0.5361155"
      ]
     },
     "metadata": {},
     "output_type": "display_data"
    }
   ],
   "source": [
    "coefficient(data, 2)\n",
    "CramerV(data)"
   ]
  },
  {
   "cell_type": "code",
   "execution_count": 734,
   "metadata": {},
   "outputs": [
    {
     "data": {
      "text/html": [
       "0.450817635406959"
      ],
      "text/latex": [
       "0.450817635406959"
      ],
      "text/markdown": [
       "0.450817635406959"
      ],
      "text/plain": [
       "[1] 0.4508176"
      ]
     },
     "metadata": {},
     "output_type": "display_data"
    },
    {
     "data": {
      "text/html": [
       "0.450817635406959"
      ],
      "text/latex": [
       "0.450817635406959"
      ],
      "text/markdown": [
       "0.450817635406959"
      ],
      "text/plain": [
       "[1] 0.4508176"
      ]
     },
     "metadata": {},
     "output_type": "display_data"
    }
   ],
   "source": [
    "coefficient(data, 3)\n",
    "TschuprowT(data)"
   ]
  },
  {
   "cell_type": "code",
   "execution_count": 735,
   "metadata": {},
   "outputs": [
    {
     "data": {
      "text/html": [
       "0.758181867093736"
      ],
      "text/latex": [
       "0.758181867093736"
      ],
      "text/markdown": [
       "0.758181867093736"
      ],
      "text/plain": [
       "[1] 0.7581819"
      ]
     },
     "metadata": {},
     "output_type": "display_data"
    },
    {
     "data": {
      "text/html": [
       "0.758181867093736"
      ],
      "text/latex": [
       "0.758181867093736"
      ],
      "text/markdown": [
       "0.758181867093736"
      ],
      "text/plain": [
       "[1] 0.7581819"
      ]
     },
     "metadata": {},
     "output_type": "display_data"
    }
   ],
   "source": [
    "coefficient(data, 4)\n",
    "phi(data)"
   ]
  },
  {
   "cell_type": "code",
   "execution_count": 736,
   "metadata": {
    "scrolled": true
   },
   "outputs": [
    {
     "data": {
      "text/html": [
       "0.604164510101432"
      ],
      "text/latex": [
       "0.604164510101432"
      ],
      "text/markdown": [
       "0.604164510101432"
      ],
      "text/plain": [
       "[1] 0.6041645"
      ]
     },
     "metadata": {},
     "output_type": "display_data"
    },
    {
     "data": {
      "text/html": [
       "0.604164510101432"
      ],
      "text/latex": [
       "0.604164510101432"
      ],
      "text/markdown": [
       "0.604164510101432"
      ],
      "text/plain": [
       "[1] 0.6041645"
      ]
     },
     "metadata": {},
     "output_type": "display_data"
    }
   ],
   "source": [
    "coefficient(data, 5)\n",
    "ContCoef(data)"
   ]
  },
  {
   "cell_type": "markdown",
   "metadata": {},
   "source": [
    "W tym przypadku nasza funkcja również zwraca dokładnie takie same wartości, co potwierdza poprawność implementacji poszczególnych współczynników.\n"
   ]
  },
  {
   "cell_type": "markdown",
   "metadata": {},
   "source": [
    "### Analiza korespondencji "
   ]
  },
  {
   "cell_type": "markdown",
   "metadata": {},
   "source": [
    "Wyznaczamy *macierz korespondencji* **P** (macierz częstości zaobserwawanych) oraz przeciętne profile."
   ]
  },
  {
   "cell_type": "code",
   "execution_count": 737,
   "metadata": {},
   "outputs": [],
   "source": [
    "n <- sum(data)\n",
    "P <- data/n\n",
    "\n",
    "r <- count_row_massess(P)\n",
    "c <- count_col_massess(P)"
   ]
  },
  {
   "cell_type": "markdown",
   "metadata": {},
   "source": [
    "Macierz częstości wierszowych wygląda następująco:\n",
    "$$D_r = diag(r)$$"
   ]
  },
  {
   "cell_type": "code",
   "execution_count": 626,
   "metadata": {},
   "outputs": [
    {
     "data": {
      "text/html": [
       "<table class=\"dataframe\">\n",
       "<caption>A matrix: 5 × 5 of type dbl</caption>\n",
       "<tbody>\n",
       "\t<tr><td>0.175</td><td>0.00</td><td>0.000</td><td>0.00</td><td>0.00</td></tr>\n",
       "\t<tr><td>0.000</td><td>0.22</td><td>0.000</td><td>0.00</td><td>0.00</td></tr>\n",
       "\t<tr><td>0.000</td><td>0.00</td><td>0.225</td><td>0.00</td><td>0.00</td></tr>\n",
       "\t<tr><td>0.000</td><td>0.00</td><td>0.000</td><td>0.25</td><td>0.00</td></tr>\n",
       "\t<tr><td>0.000</td><td>0.00</td><td>0.000</td><td>0.00</td><td>0.13</td></tr>\n",
       "</tbody>\n",
       "</table>\n"
      ],
      "text/latex": [
       "A matrix: 5 × 5 of type dbl\n",
       "\\begin{tabular}{lllll}\n",
       "\t 0.175 & 0.00 & 0.000 & 0.00 & 0.00\\\\\n",
       "\t 0.000 & 0.22 & 0.000 & 0.00 & 0.00\\\\\n",
       "\t 0.000 & 0.00 & 0.225 & 0.00 & 0.00\\\\\n",
       "\t 0.000 & 0.00 & 0.000 & 0.25 & 0.00\\\\\n",
       "\t 0.000 & 0.00 & 0.000 & 0.00 & 0.13\\\\\n",
       "\\end{tabular}\n"
      ],
      "text/markdown": [
       "\n",
       "A matrix: 5 × 5 of type dbl\n",
       "\n",
       "| 0.175 | 0.00 | 0.000 | 0.00 | 0.00 |\n",
       "| 0.000 | 0.22 | 0.000 | 0.00 | 0.00 |\n",
       "| 0.000 | 0.00 | 0.225 | 0.00 | 0.00 |\n",
       "| 0.000 | 0.00 | 0.000 | 0.25 | 0.00 |\n",
       "| 0.000 | 0.00 | 0.000 | 0.00 | 0.13 |\n",
       "\n"
      ],
      "text/plain": [
       "     [,1]  [,2] [,3]  [,4] [,5]\n",
       "[1,] 0.175 0.00 0.000 0.00 0.00\n",
       "[2,] 0.000 0.22 0.000 0.00 0.00\n",
       "[3,] 0.000 0.00 0.225 0.00 0.00\n",
       "[4,] 0.000 0.00 0.000 0.25 0.00\n",
       "[5,] 0.000 0.00 0.000 0.00 0.13"
      ]
     },
     "metadata": {},
     "output_type": "display_data"
    }
   ],
   "source": [
    "Dr <- diag(length(r)) * r\n",
    "Dr"
   ]
  },
  {
   "cell_type": "markdown",
   "metadata": {},
   "source": [
    "Natomiast macierz częstości kolumnowych:\n",
    "$$D_c = diag(c)$$"
   ]
  },
  {
   "cell_type": "code",
   "execution_count": 627,
   "metadata": {
    "scrolled": false
   },
   "outputs": [
    {
     "data": {
      "text/html": [
       "<table class=\"dataframe\">\n",
       "<caption>A matrix: 3 × 3 of type dbl</caption>\n",
       "<tbody>\n",
       "\t<tr><td>0.45</td><td>0.0</td><td>0.00</td></tr>\n",
       "\t<tr><td>0.00</td><td>0.4</td><td>0.00</td></tr>\n",
       "\t<tr><td>0.00</td><td>0.0</td><td>0.15</td></tr>\n",
       "</tbody>\n",
       "</table>\n"
      ],
      "text/latex": [
       "A matrix: 3 × 3 of type dbl\n",
       "\\begin{tabular}{lll}\n",
       "\t 0.45 & 0.0 & 0.00\\\\\n",
       "\t 0.00 & 0.4 & 0.00\\\\\n",
       "\t 0.00 & 0.0 & 0.15\\\\\n",
       "\\end{tabular}\n"
      ],
      "text/markdown": [
       "\n",
       "A matrix: 3 × 3 of type dbl\n",
       "\n",
       "| 0.45 | 0.0 | 0.00 |\n",
       "| 0.00 | 0.4 | 0.00 |\n",
       "| 0.00 | 0.0 | 0.15 |\n",
       "\n"
      ],
      "text/plain": [
       "     [,1] [,2] [,3]\n",
       "[1,] 0.45 0.0  0.00\n",
       "[2,] 0.00 0.4  0.00\n",
       "[3,] 0.00 0.0  0.15"
      ]
     },
     "metadata": {},
     "output_type": "display_data"
    }
   ],
   "source": [
    "Dc <- diag(length(c)) * c\n",
    "Dc"
   ]
  },
  {
   "cell_type": "markdown",
   "metadata": {},
   "source": [
    "Macierz profili wierszowych:"
   ]
  },
  {
   "cell_type": "code",
   "execution_count": 628,
   "metadata": {
    "scrolled": true
   },
   "outputs": [
    {
     "data": {
      "text/html": [
       "<table class=\"dataframe\">\n",
       "<caption>A matrix: 5 × 3 of type dbl</caption>\n",
       "<tbody>\n",
       "\t<tr><td>1.0000000</td><td>0.0000000</td><td>0.0000000</td></tr>\n",
       "\t<tr><td>0.5000000</td><td>0.5000000</td><td>0.0000000</td></tr>\n",
       "\t<tr><td>0.3333333</td><td>0.3333333</td><td>0.3333333</td></tr>\n",
       "\t<tr><td>0.0000000</td><td>0.8000000</td><td>0.2000000</td></tr>\n",
       "\t<tr><td>0.6923077</td><td>0.1153846</td><td>0.1923077</td></tr>\n",
       "</tbody>\n",
       "</table>\n"
      ],
      "text/latex": [
       "A matrix: 5 × 3 of type dbl\n",
       "\\begin{tabular}{lll}\n",
       "\t 1.0000000 & 0.0000000 & 0.0000000\\\\\n",
       "\t 0.5000000 & 0.5000000 & 0.0000000\\\\\n",
       "\t 0.3333333 & 0.3333333 & 0.3333333\\\\\n",
       "\t 0.0000000 & 0.8000000 & 0.2000000\\\\\n",
       "\t 0.6923077 & 0.1153846 & 0.1923077\\\\\n",
       "\\end{tabular}\n"
      ],
      "text/markdown": [
       "\n",
       "A matrix: 5 × 3 of type dbl\n",
       "\n",
       "| 1.0000000 | 0.0000000 | 0.0000000 |\n",
       "| 0.5000000 | 0.5000000 | 0.0000000 |\n",
       "| 0.3333333 | 0.3333333 | 0.3333333 |\n",
       "| 0.0000000 | 0.8000000 | 0.2000000 |\n",
       "| 0.6923077 | 0.1153846 | 0.1923077 |\n",
       "\n"
      ],
      "text/plain": [
       "     [,1]      [,2]      [,3]     \n",
       "[1,] 1.0000000 0.0000000 0.0000000\n",
       "[2,] 0.5000000 0.5000000 0.0000000\n",
       "[3,] 0.3333333 0.3333333 0.3333333\n",
       "[4,] 0.0000000 0.8000000 0.2000000\n",
       "[5,] 0.6923077 0.1153846 0.1923077"
      ]
     },
     "metadata": {},
     "output_type": "display_data"
    }
   ],
   "source": [
    "R = count_row_massess_matrix(data)\n",
    "R"
   ]
  },
  {
   "cell_type": "markdown",
   "metadata": {},
   "source": [
    "Macierz profili kolumnowych:"
   ]
  },
  {
   "cell_type": "code",
   "execution_count": 629,
   "metadata": {},
   "outputs": [
    {
     "data": {
      "text/html": [
       "<table class=\"dataframe\">\n",
       "<caption>A matrix: 5 × 3 of type dbl</caption>\n",
       "<tbody>\n",
       "\t<tr><td>0.3888889</td><td>0.0000</td><td>0.0000000</td></tr>\n",
       "\t<tr><td>0.2444444</td><td>0.2750</td><td>0.0000000</td></tr>\n",
       "\t<tr><td>0.1666667</td><td>0.1875</td><td>0.5000000</td></tr>\n",
       "\t<tr><td>0.0000000</td><td>0.5000</td><td>0.3333333</td></tr>\n",
       "\t<tr><td>0.2000000</td><td>0.0375</td><td>0.1666667</td></tr>\n",
       "</tbody>\n",
       "</table>\n"
      ],
      "text/latex": [
       "A matrix: 5 × 3 of type dbl\n",
       "\\begin{tabular}{lll}\n",
       "\t 0.3888889 & 0.0000 & 0.0000000\\\\\n",
       "\t 0.2444444 & 0.2750 & 0.0000000\\\\\n",
       "\t 0.1666667 & 0.1875 & 0.5000000\\\\\n",
       "\t 0.0000000 & 0.5000 & 0.3333333\\\\\n",
       "\t 0.2000000 & 0.0375 & 0.1666667\\\\\n",
       "\\end{tabular}\n"
      ],
      "text/markdown": [
       "\n",
       "A matrix: 5 × 3 of type dbl\n",
       "\n",
       "| 0.3888889 | 0.0000 | 0.0000000 |\n",
       "| 0.2444444 | 0.2750 | 0.0000000 |\n",
       "| 0.1666667 | 0.1875 | 0.5000000 |\n",
       "| 0.0000000 | 0.5000 | 0.3333333 |\n",
       "| 0.2000000 | 0.0375 | 0.1666667 |\n",
       "\n"
      ],
      "text/plain": [
       "     [,1]      [,2]   [,3]     \n",
       "[1,] 0.3888889 0.0000 0.0000000\n",
       "[2,] 0.2444444 0.2750 0.0000000\n",
       "[3,] 0.1666667 0.1875 0.5000000\n",
       "[4,] 0.0000000 0.5000 0.3333333\n",
       "[5,] 0.2000000 0.0375 0.1666667"
      ]
     },
     "metadata": {},
     "output_type": "display_data"
    }
   ],
   "source": [
    "C <- count_col_massess_matrix(data)\n",
    "C"
   ]
  },
  {
   "cell_type": "markdown",
   "metadata": {},
   "source": [
    "Następnie obliczyliśmy macierz rezyduów standaryzowanych zgodnie ze wzorem:\n",
    "\n",
    "$$A = D_r^{- 1/2}(P-rc^T)D_c^{-1/2}$$"
   ]
  },
  {
   "cell_type": "code",
   "execution_count": 630,
   "metadata": {
    "scrolled": true
   },
   "outputs": [
    {
     "data": {
      "text/html": [
       "<table class=\"dataframe\">\n",
       "<caption>A matrix: 5 × 3 of type dbl</caption>\n",
       "<tbody>\n",
       "\t<tr><td> 0.34298526</td><td>-0.26457513</td><td>-0.16201852</td></tr>\n",
       "\t<tr><td> 0.03496029</td><td> 0.07416198</td><td>-0.18165902</td></tr>\n",
       "\t<tr><td>-0.08249579</td><td>-0.05000000</td><td> 0.22453656</td></tr>\n",
       "\t<tr><td>-0.33541020</td><td> 0.31622777</td><td> 0.06454972</td></tr>\n",
       "\t<tr><td> 0.13023647</td><td>-0.16225573</td><td> 0.03938632</td></tr>\n",
       "</tbody>\n",
       "</table>\n"
      ],
      "text/latex": [
       "A matrix: 5 × 3 of type dbl\n",
       "\\begin{tabular}{lll}\n",
       "\t  0.34298526 & -0.26457513 & -0.16201852\\\\\n",
       "\t  0.03496029 &  0.07416198 & -0.18165902\\\\\n",
       "\t -0.08249579 & -0.05000000 &  0.22453656\\\\\n",
       "\t -0.33541020 &  0.31622777 &  0.06454972\\\\\n",
       "\t  0.13023647 & -0.16225573 &  0.03938632\\\\\n",
       "\\end{tabular}\n"
      ],
      "text/markdown": [
       "\n",
       "A matrix: 5 × 3 of type dbl\n",
       "\n",
       "|  0.34298526 | -0.26457513 | -0.16201852 |\n",
       "|  0.03496029 |  0.07416198 | -0.18165902 |\n",
       "| -0.08249579 | -0.05000000 |  0.22453656 |\n",
       "| -0.33541020 |  0.31622777 |  0.06454972 |\n",
       "|  0.13023647 | -0.16225573 |  0.03938632 |\n",
       "\n"
      ],
      "text/plain": [
       "     [,1]        [,2]        [,3]       \n",
       "[1,]  0.34298526 -0.26457513 -0.16201852\n",
       "[2,]  0.03496029  0.07416198 -0.18165902\n",
       "[3,] -0.08249579 -0.05000000  0.22453656\n",
       "[4,] -0.33541020  0.31622777  0.06454972\n",
       "[5,]  0.13023647 -0.16225573  0.03938632"
      ]
     },
     "metadata": {},
     "output_type": "display_data"
    }
   ],
   "source": [
    "A <- solve(Dr ^ (1/2)) %*% (P - r %*% t(c)) %*% solve(Dc ^ (1/2))\n",
    "A"
   ]
  },
  {
   "cell_type": "markdown",
   "metadata": {},
   "source": [
    "W analizie korespondencji zastosowaliśmy podejście Greenacre’a, które polega na dekompozycji według wartości osobliwych macierzy **A**. W tym celu wykorzystaliśmy wbudowaną funckję *svd*, aby otrzymać macierze $U$, $\\Gamma$, $V$, zgdonie ze wzorem:\n",
    "$$A = U\\Gamma V^T$$\n",
    "\n",
    "Po wyznaczeniu rozkładu macierzy **A** według wartości osobliwych, możemy wyznaczyć macierze **F** i **G**, nazywamy współrzędnymi kategorii cech odpowiednio dla wierszy i kolumn."
   ]
  },
  {
   "cell_type": "code",
   "execution_count": 631,
   "metadata": {
    "scrolled": true
   },
   "outputs": [
    {
     "data": {
      "text/html": [
       "<table class=\"dataframe\">\n",
       "<caption>A matrix: 5 × 3 of type dbl</caption>\n",
       "<tbody>\n",
       "\t<tr><td>-1.09956877</td><td> 0.1147638</td><td>-1.717137e-16</td></tr>\n",
       "\t<tr><td>-0.05710257</td><td> 0.4210640</td><td>-4.552222e-18</td></tr>\n",
       "\t<tr><td> 0.18562161</td><td>-0.4806004</td><td>-7.665865e-17</td></tr>\n",
       "\t<tr><td> 0.92250490</td><td> 0.1251055</td><td>-1.256476e-16</td></tr>\n",
       "\t<tr><td>-0.51849220</td><td>-0.2758386</td><td> 1.364674e-17</td></tr>\n",
       "</tbody>\n",
       "</table>\n"
      ],
      "text/latex": [
       "A matrix: 5 × 3 of type dbl\n",
       "\\begin{tabular}{lll}\n",
       "\t -1.09956877 &  0.1147638 & -1.717137e-16\\\\\n",
       "\t -0.05710257 &  0.4210640 & -4.552222e-18\\\\\n",
       "\t  0.18562161 & -0.4806004 & -7.665865e-17\\\\\n",
       "\t  0.92250490 &  0.1251055 & -1.256476e-16\\\\\n",
       "\t -0.51849220 & -0.2758386 &  1.364674e-17\\\\\n",
       "\\end{tabular}\n"
      ],
      "text/markdown": [
       "\n",
       "A matrix: 5 × 3 of type dbl\n",
       "\n",
       "| -1.09956877 |  0.1147638 | -1.717137e-16 |\n",
       "| -0.05710257 |  0.4210640 | -4.552222e-18 |\n",
       "|  0.18562161 | -0.4806004 | -7.665865e-17 |\n",
       "|  0.92250490 |  0.1251055 | -1.256476e-16 |\n",
       "| -0.51849220 | -0.2758386 |  1.364674e-17 |\n",
       "\n"
      ],
      "text/plain": [
       "     [,1]        [,2]       [,3]         \n",
       "[1,] -1.09956877  0.1147638 -1.717137e-16\n",
       "[2,] -0.05710257  0.4210640 -4.552222e-18\n",
       "[3,]  0.18562161 -0.4806004 -7.665865e-17\n",
       "[4,]  0.92250490  0.1251055 -1.256476e-16\n",
       "[5,] -0.51849220 -0.2758386  1.364674e-17"
      ]
     },
     "metadata": {},
     "output_type": "display_data"
    },
    {
     "data": {
      "text/html": [
       "<table class=\"dataframe\">\n",
       "<caption>A matrix: 3 × 3 of type dbl</caption>\n",
       "<tbody>\n",
       "\t<tr><td>-0.7520247</td><td> 0.03755489</td><td>-1.022634e-16</td></tr>\n",
       "\t<tr><td> 0.6739168</td><td> 0.23802000</td><td>-1.022634e-16</td></tr>\n",
       "\t<tr><td> 0.4589629</td><td>-0.74738468</td><td>-1.022634e-16</td></tr>\n",
       "</tbody>\n",
       "</table>\n"
      ],
      "text/latex": [
       "A matrix: 3 × 3 of type dbl\n",
       "\\begin{tabular}{lll}\n",
       "\t -0.7520247 &  0.03755489 & -1.022634e-16\\\\\n",
       "\t  0.6739168 &  0.23802000 & -1.022634e-16\\\\\n",
       "\t  0.4589629 & -0.74738468 & -1.022634e-16\\\\\n",
       "\\end{tabular}\n"
      ],
      "text/markdown": [
       "\n",
       "A matrix: 3 × 3 of type dbl\n",
       "\n",
       "| -0.7520247 |  0.03755489 | -1.022634e-16 |\n",
       "|  0.6739168 |  0.23802000 | -1.022634e-16 |\n",
       "|  0.4589629 | -0.74738468 | -1.022634e-16 |\n",
       "\n"
      ],
      "text/plain": [
       "     [,1]       [,2]        [,3]         \n",
       "[1,] -0.7520247  0.03755489 -1.022634e-16\n",
       "[2,]  0.6739168  0.23802000 -1.022634e-16\n",
       "[3,]  0.4589629 -0.74738468 -1.022634e-16"
      ]
     },
     "metadata": {},
     "output_type": "display_data"
    }
   ],
   "source": [
    "sv <- svd(A)\n",
    "gamm <- diag(length(sv$d)) * sv$d\n",
    "U <- sv$u\n",
    "V <- sv$v\n",
    "\n",
    "F <- solve(Dr ^ (1/2)) %*% U %*% gamm\n",
    "G <- solve(Dc ^ (1/2)) %*% V %*% gamm\n",
    "\n",
    "F\n",
    "G"
   ]
  },
  {
   "cell_type": "markdown",
   "metadata": {},
   "source": [
    "Aby sprawdzić poprawność naszej metody, porównamy wykres wygenerowany przez wbudowaną funkcję *ca* z wykresem stworzonym przez dane pochodzące z obliczonych macierzy *F* i *G*. Aby zachować przjrzystość na wykresie, punkty wygenerowane przez nas zwizulizujemy za pomocą wykresu liniowego. Wówczas punkty nie będą się pokrywać i będziemy mogli zweryfikować poprawność naszej metody. "
   ]
  },
  {
   "cell_type": "code",
   "execution_count": 632,
   "metadata": {},
   "outputs": [
    {
     "data": {
      "image/png": "[encoded data removed]",
      "text/plain": [
       "plot without title"
      ]
     },
     "metadata": {
      "image/png": {
       "height": 420,
       "width": 420
      }
     },
     "output_type": "display_data"
    }
   ],
   "source": [
    "plot(ca(data))\n",
    "xs <- F[,1]\n",
    "ys <- F[,2]\n",
    "lines(xs, ys)\n",
    "xs <- G[,1]\n",
    "ys <- G[,2]\n",
    "lines(xs, ys)"
   ]
  },
  {
   "cell_type": "code",
   "execution_count": 633,
   "metadata": {
    "scrolled": false
   },
   "outputs": [
    {
     "data": {
      "image/png": "[encoded data removed]",
      "text/plain": [
       "plot without title"
      ]
     },
     "metadata": {
      "image/png": {
       "height": 420,
       "width": 420
      }
     },
     "output_type": "display_data"
    }
   ],
   "source": [
    "plot(ca(data))"
   ]
  },
  {
   "cell_type": "markdown",
   "metadata": {},
   "source": [
    "### Wnioski \n",
    "Osoby w wieku od 36 do 55 lat najczęściej stosują lek Ibuprofen. Możemy również podejrzewać, że duża część osób powyżej 55 roku życia stosuje Paracetamol, jednak udział klientów w tym wieku uczestniczący w badaniu jest niewielki, zatem jak widać na wykresie poszczególne punkty nie są blisko siebie. Poza tym nie widać silnych zależności."
   ]
  },
  {
   "cell_type": "markdown",
   "metadata": {},
   "source": [
    "# Zadanie 3"
   ]
  },
  {
   "cell_type": "markdown",
   "metadata": {},
   "source": [
    "Dane wejściowe wyglądają nastpująco:"
   ]
  },
  {
   "cell_type": "code",
   "execution_count": 739,
   "metadata": {
    "scrolled": true
   },
   "outputs": [
    {
     "data": {
      "text/html": [
       "<table class=\"dataframe\">\n",
       "<caption>A matrix: 4 × 4 of type dbl</caption>\n",
       "<thead>\n",
       "\t<tr><th></th><th scope=col>b. niezadow.</th><th scope=col>niezadow.</th><th scope=col>zadow.</th><th scope=col>b. zadow.</th></tr>\n",
       "</thead>\n",
       "<tbody>\n",
       "\t<tr><th scope=row>&lt; 6000</th><td>32</td><td>44</td><td> 60</td><td> 70</td></tr>\n",
       "\t<tr><th scope=row>6000 - 15000</th><td>22</td><td>38</td><td>104</td><td>125</td></tr>\n",
       "\t<tr><th scope=row>15000 - 25000</th><td>13</td><td>48</td><td> 61</td><td>113</td></tr>\n",
       "\t<tr><th scope=row>&gt; 25000</th><td> 3</td><td>18</td><td> 54</td><td> 96</td></tr>\n",
       "</tbody>\n",
       "</table>\n"
      ],
      "text/latex": [
       "A matrix: 4 × 4 of type dbl\n",
       "\\begin{tabular}{r|llll}\n",
       "  & b. niezadow. & niezadow. & zadow. & b. zadow.\\\\\n",
       "\\hline\n",
       "\t< 6000 & 32 & 44 &  60 &  70\\\\\n",
       "\t6000 - 15000 & 22 & 38 & 104 & 125\\\\\n",
       "\t15000 - 25000 & 13 & 48 &  61 & 113\\\\\n",
       "\t> 25000 &  3 & 18 &  54 &  96\\\\\n",
       "\\end{tabular}\n"
      ],
      "text/markdown": [
       "\n",
       "A matrix: 4 × 4 of type dbl\n",
       "\n",
       "| <!--/--> | b. niezadow. | niezadow. | zadow. | b. zadow. |\n",
       "|---|---|---|---|---|\n",
       "| &lt; 6000 | 32 | 44 |  60 |  70 |\n",
       "| 6000 - 15000 | 22 | 38 | 104 | 125 |\n",
       "| 15000 - 25000 | 13 | 48 |  61 | 113 |\n",
       "| &gt; 25000 |  3 | 18 |  54 |  96 |\n",
       "\n"
      ],
      "text/plain": [
       "              b. niezadow. niezadow. zadow. b. zadow.\n",
       "< 6000        32           44         60     70      \n",
       "6000 - 15000  22           38        104    125      \n",
       "15000 - 25000 13           48         61    113      \n",
       "> 25000        3           18         54     96      "
      ]
     },
     "metadata": {},
     "output_type": "display_data"
    }
   ],
   "source": [
    "data <- matrix(c(32, 22, 13, 3, 44, 38, 48, 18, 60, 104, 61, 54, 70, 125, 113, 96), nrow = 4)\n",
    "dimnames(data) <- list(c(\"< 6000\",\"6000 - 15000\",\"15000 - 25000\",\"> 25000\"),c(\"b. niezadow.\",\"niezadow.\",\"zadow.\", \"b. zadow.\"))\n",
    "data"
   ]
  },
  {
   "cell_type": "markdown",
   "metadata": {},
   "source": [
    "W pierwszej kolejności zajmiemy się analizą zależności zmiennych *Wynagrodzenie* i *Stopień zadowolenia z pracy*. Zweryfikujmy hipotezę o niezależności zmiennych. Nasza hipoteza ma postać \n",
    "$$H_0: p_{ij} = p_{i+}p_{+j} \\space \\space \\forall i \\in \\{1, \\dots, R\\}, \\forall j \\in \\{1, \\dots, C\\}$$\n",
    "\n",
    "Przeciwko hipotezie alternatywnej:\n",
    "$$H_1: p_{ij} \\neq p_{i+}p_{+j}$$\n",
    "Dla conajmniej jednej pary i, j, gdzie $i \\in \\{1, \\dots, R\\}$ oraz $j \\in \\{1, \\dots, C\\}$\n",
    "\n",
    "Weryfikacja hipotezy o niezależności jest równoważna weryfikacji hipotezy\n",
    "o jednorodności rozkładów warunkowych, tzn. równości rozkładów.\n",
    "Przeprowadzimy test na poziomie istotności $\\alpha = 0.05$."
   ]
  },
  {
   "cell_type": "code",
   "execution_count": 740,
   "metadata": {},
   "outputs": [
    {
     "data": {
      "text/html": [
       "0.000499750124937531"
      ],
      "text/latex": [
       "0.000499750124937531"
      ],
      "text/markdown": [
       "0.000499750124937531"
      ],
      "text/plain": [
       "[1] 0.0004997501"
      ]
     },
     "metadata": {},
     "output_type": "display_data"
    }
   ],
   "source": [
    "fisher.test(data, simulate.p.value = T)$p.value"
   ]
  },
  {
   "cell_type": "code",
   "execution_count": 741,
   "metadata": {},
   "outputs": [
    {
     "data": {
      "text/html": [
       "4.86783132046709e-08"
      ],
      "text/latex": [
       "4.86783132046709e-08"
      ],
      "text/markdown": [
       "4.86783132046709e-08"
      ],
      "text/plain": [
       "[1] 4.867831e-08"
      ]
     },
     "metadata": {},
     "output_type": "display_data"
    }
   ],
   "source": [
    "chisq.test(data)$p.value"
   ]
  },
  {
   "cell_type": "markdown",
   "metadata": {},
   "source": [
    "Wartość krytyczna w obu testach jest znacznie mniejsza od przyjętego poziomu $\\alpha = 0.05$, zatem również odrzucamy hipotezę o niezależności zmiennych."
   ]
  },
  {
   "cell_type": "markdown",
   "metadata": {},
   "source": [
    "Następnie obliczmy miary współzmienności:"
   ]
  },
  {
   "cell_type": "code",
   "execution_count": 742,
   "metadata": {},
   "outputs": [
    {
     "data": {
      "text/html": [
       "0.0167118220312561"
      ],
      "text/latex": [
       "0.0167118220312561"
      ],
      "text/markdown": [
       "0.0167118220312561"
      ],
      "text/plain": [
       "[1] 0.01671182"
      ]
     },
     "metadata": {},
     "output_type": "display_data"
    },
    {
     "data": {
      "text/html": [
       "0.0167118220312562"
      ],
      "text/latex": [
       "0.0167118220312562"
      ],
      "text/markdown": [
       "0.0167118220312562"
      ],
      "text/plain": [
       "[1] 0.01671182"
      ]
     },
     "metadata": {},
     "output_type": "display_data"
    }
   ],
   "source": [
    "coefficient(data, 1)\n",
    "GoodmanKruskalTau(data, direction = \"column\")"
   ]
  },
  {
   "cell_type": "code",
   "execution_count": 743,
   "metadata": {},
   "outputs": [
    {
     "data": {
      "text/html": [
       "0.13847359915759"
      ],
      "text/latex": [
       "0.13847359915759"
      ],
      "text/markdown": [
       "0.13847359915759"
      ],
      "text/plain": [
       "[1] 0.1384736"
      ]
     },
     "metadata": {},
     "output_type": "display_data"
    },
    {
     "data": {
      "text/html": [
       "0.13847359915759"
      ],
      "text/latex": [
       "0.13847359915759"
      ],
      "text/markdown": [
       "0.13847359915759"
      ],
      "text/plain": [
       "[1] 0.1384736"
      ]
     },
     "metadata": {},
     "output_type": "display_data"
    }
   ],
   "source": [
    "coefficient(data, 2)\n",
    "CramerV(data)"
   ]
  },
  {
   "cell_type": "code",
   "execution_count": 744,
   "metadata": {},
   "outputs": [
    {
     "data": {
      "text/html": [
       "0.13847359915759"
      ],
      "text/latex": [
       "0.13847359915759"
      ],
      "text/markdown": [
       "0.13847359915759"
      ],
      "text/plain": [
       "[1] 0.1384736"
      ]
     },
     "metadata": {},
     "output_type": "display_data"
    },
    {
     "data": {
      "text/html": [
       "0.13847359915759"
      ],
      "text/latex": [
       "0.13847359915759"
      ],
      "text/markdown": [
       "0.13847359915759"
      ],
      "text/plain": [
       "[1] 0.1384736"
      ]
     },
     "metadata": {},
     "output_type": "display_data"
    }
   ],
   "source": [
    "coefficient(data, 3)\n",
    "TschuprowT(data)"
   ]
  },
  {
   "cell_type": "code",
   "execution_count": 745,
   "metadata": {},
   "outputs": [
    {
     "data": {
      "text/html": [
       "0.239843309247872"
      ],
      "text/latex": [
       "0.239843309247872"
      ],
      "text/markdown": [
       "0.239843309247872"
      ],
      "text/plain": [
       "[1] 0.2398433"
      ]
     },
     "metadata": {},
     "output_type": "display_data"
    },
    {
     "data": {
      "text/html": [
       "0.239843309247872"
      ],
      "text/latex": [
       "0.239843309247872"
      ],
      "text/markdown": [
       "0.239843309247872"
      ],
      "text/plain": [
       "[1] 0.2398433"
      ]
     },
     "metadata": {},
     "output_type": "display_data"
    }
   ],
   "source": [
    "coefficient(data, 4)\n",
    "phi(data)"
   ]
  },
  {
   "cell_type": "code",
   "execution_count": 746,
   "metadata": {},
   "outputs": [
    {
     "data": {
      "text/html": [
       "0.233228878890807"
      ],
      "text/latex": [
       "0.233228878890807"
      ],
      "text/markdown": [
       "0.233228878890807"
      ],
      "text/plain": [
       "[1] 0.2332289"
      ]
     },
     "metadata": {},
     "output_type": "display_data"
    },
    {
     "data": {
      "text/html": [
       "0.233228878890807"
      ],
      "text/latex": [
       "0.233228878890807"
      ],
      "text/markdown": [
       "0.233228878890807"
      ],
      "text/plain": [
       "[1] 0.2332289"
      ]
     },
     "metadata": {},
     "output_type": "display_data"
    }
   ],
   "source": [
    "coefficient(data, 5)\n",
    "ContCoef(data)"
   ]
  },
  {
   "cell_type": "markdown",
   "metadata": {},
   "source": [
    "W tym przypadku nasza funkcja również zwraca dokładnie takie same wartości, co potwierdza poprawność implementacji poszczególnych współczynników.\n"
   ]
  },
  {
   "cell_type": "markdown",
   "metadata": {},
   "source": [
    "### Analiza korespondencji "
   ]
  },
  {
   "cell_type": "markdown",
   "metadata": {},
   "source": [
    "Wyznaczamy *macierz korespondencji* **P** (macierz częstości zaobserwawanych) oraz przeciętne profile."
   ]
  },
  {
   "cell_type": "code",
   "execution_count": 747,
   "metadata": {},
   "outputs": [],
   "source": [
    "n <- sum(data)\n",
    "P <- data/n\n",
    "\n",
    "r <- count_row_massess(P)\n",
    "c <- count_col_massess(P)"
   ]
  },
  {
   "cell_type": "markdown",
   "metadata": {},
   "source": [
    "Macierz częstości wierszowych wygląda następująco:\n",
    "$$D_r = diag(r)$$"
   ]
  },
  {
   "cell_type": "code",
   "execution_count": 748,
   "metadata": {},
   "outputs": [
    {
     "data": {
      "text/html": [
       "<table class=\"dataframe\">\n",
       "<caption>A matrix: 4 × 4 of type dbl</caption>\n",
       "<tbody>\n",
       "\t<tr><td>0.2286349</td><td>0.0000000</td><td>0.0000000</td><td>0.0000000</td></tr>\n",
       "\t<tr><td>0.0000000</td><td>0.3207547</td><td>0.0000000</td><td>0.0000000</td></tr>\n",
       "\t<tr><td>0.0000000</td><td>0.0000000</td><td>0.2608213</td><td>0.0000000</td></tr>\n",
       "\t<tr><td>0.0000000</td><td>0.0000000</td><td>0.0000000</td><td>0.1897891</td></tr>\n",
       "</tbody>\n",
       "</table>\n"
      ],
      "text/latex": [
       "A matrix: 4 × 4 of type dbl\n",
       "\\begin{tabular}{llll}\n",
       "\t 0.2286349 & 0.0000000 & 0.0000000 & 0.0000000\\\\\n",
       "\t 0.0000000 & 0.3207547 & 0.0000000 & 0.0000000\\\\\n",
       "\t 0.0000000 & 0.0000000 & 0.2608213 & 0.0000000\\\\\n",
       "\t 0.0000000 & 0.0000000 & 0.0000000 & 0.1897891\\\\\n",
       "\\end{tabular}\n"
      ],
      "text/markdown": [
       "\n",
       "A matrix: 4 × 4 of type dbl\n",
       "\n",
       "| 0.2286349 | 0.0000000 | 0.0000000 | 0.0000000 |\n",
       "| 0.0000000 | 0.3207547 | 0.0000000 | 0.0000000 |\n",
       "| 0.0000000 | 0.0000000 | 0.2608213 | 0.0000000 |\n",
       "| 0.0000000 | 0.0000000 | 0.0000000 | 0.1897891 |\n",
       "\n"
      ],
      "text/plain": [
       "     [,1]      [,2]      [,3]      [,4]     \n",
       "[1,] 0.2286349 0.0000000 0.0000000 0.0000000\n",
       "[2,] 0.0000000 0.3207547 0.0000000 0.0000000\n",
       "[3,] 0.0000000 0.0000000 0.2608213 0.0000000\n",
       "[4,] 0.0000000 0.0000000 0.0000000 0.1897891"
      ]
     },
     "metadata": {},
     "output_type": "display_data"
    }
   ],
   "source": [
    "Dr <- diag(length(r)) * r\n",
    "Dr"
   ]
  },
  {
   "cell_type": "markdown",
   "metadata": {},
   "source": [
    "Natomiast macierz częstości kolumnowych:\n",
    "$$D_c = diag(c)$$"
   ]
  },
  {
   "cell_type": "code",
   "execution_count": 749,
   "metadata": {},
   "outputs": [
    {
     "data": {
      "text/html": [
       "<table class=\"dataframe\">\n",
       "<caption>A matrix: 4 × 4 of type dbl</caption>\n",
       "<tbody>\n",
       "\t<tr><td>0.07769145</td><td>0.0000000</td><td>0.0000000</td><td>0.0000000</td></tr>\n",
       "\t<tr><td>0.00000000</td><td>0.1642619</td><td>0.0000000</td><td>0.0000000</td></tr>\n",
       "\t<tr><td>0.00000000</td><td>0.0000000</td><td>0.3096559</td><td>0.0000000</td></tr>\n",
       "\t<tr><td>0.00000000</td><td>0.0000000</td><td>0.0000000</td><td>0.4483907</td></tr>\n",
       "</tbody>\n",
       "</table>\n"
      ],
      "text/latex": [
       "A matrix: 4 × 4 of type dbl\n",
       "\\begin{tabular}{llll}\n",
       "\t 0.07769145 & 0.0000000 & 0.0000000 & 0.0000000\\\\\n",
       "\t 0.00000000 & 0.1642619 & 0.0000000 & 0.0000000\\\\\n",
       "\t 0.00000000 & 0.0000000 & 0.3096559 & 0.0000000\\\\\n",
       "\t 0.00000000 & 0.0000000 & 0.0000000 & 0.4483907\\\\\n",
       "\\end{tabular}\n"
      ],
      "text/markdown": [
       "\n",
       "A matrix: 4 × 4 of type dbl\n",
       "\n",
       "| 0.07769145 | 0.0000000 | 0.0000000 | 0.0000000 |\n",
       "| 0.00000000 | 0.1642619 | 0.0000000 | 0.0000000 |\n",
       "| 0.00000000 | 0.0000000 | 0.3096559 | 0.0000000 |\n",
       "| 0.00000000 | 0.0000000 | 0.0000000 | 0.4483907 |\n",
       "\n"
      ],
      "text/plain": [
       "     [,1]       [,2]      [,3]      [,4]     \n",
       "[1,] 0.07769145 0.0000000 0.0000000 0.0000000\n",
       "[2,] 0.00000000 0.1642619 0.0000000 0.0000000\n",
       "[3,] 0.00000000 0.0000000 0.3096559 0.0000000\n",
       "[4,] 0.00000000 0.0000000 0.0000000 0.4483907"
      ]
     },
     "metadata": {},
     "output_type": "display_data"
    }
   ],
   "source": [
    "Dc <- diag(length(c)) * c\n",
    "Dc"
   ]
  },
  {
   "cell_type": "markdown",
   "metadata": {},
   "source": [
    "Macierz profili wierszowych:"
   ]
  },
  {
   "cell_type": "code",
   "execution_count": 750,
   "metadata": {},
   "outputs": [
    {
     "data": {
      "text/html": [
       "<table class=\"dataframe\">\n",
       "<caption>A matrix: 4 × 4 of type dbl</caption>\n",
       "<tbody>\n",
       "\t<tr><td>0.15533981</td><td>0.2135922</td><td>0.2912621</td><td>0.3398058</td></tr>\n",
       "\t<tr><td>0.07612457</td><td>0.1314879</td><td>0.3598616</td><td>0.4325260</td></tr>\n",
       "\t<tr><td>0.05531915</td><td>0.2042553</td><td>0.2595745</td><td>0.4808511</td></tr>\n",
       "\t<tr><td>0.01754386</td><td>0.1052632</td><td>0.3157895</td><td>0.5614035</td></tr>\n",
       "</tbody>\n",
       "</table>\n"
      ],
      "text/latex": [
       "A matrix: 4 × 4 of type dbl\n",
       "\\begin{tabular}{llll}\n",
       "\t 0.15533981 & 0.2135922 & 0.2912621 & 0.3398058\\\\\n",
       "\t 0.07612457 & 0.1314879 & 0.3598616 & 0.4325260\\\\\n",
       "\t 0.05531915 & 0.2042553 & 0.2595745 & 0.4808511\\\\\n",
       "\t 0.01754386 & 0.1052632 & 0.3157895 & 0.5614035\\\\\n",
       "\\end{tabular}\n"
      ],
      "text/markdown": [
       "\n",
       "A matrix: 4 × 4 of type dbl\n",
       "\n",
       "| 0.15533981 | 0.2135922 | 0.2912621 | 0.3398058 |\n",
       "| 0.07612457 | 0.1314879 | 0.3598616 | 0.4325260 |\n",
       "| 0.05531915 | 0.2042553 | 0.2595745 | 0.4808511 |\n",
       "| 0.01754386 | 0.1052632 | 0.3157895 | 0.5614035 |\n",
       "\n"
      ],
      "text/plain": [
       "     [,1]       [,2]      [,3]      [,4]     \n",
       "[1,] 0.15533981 0.2135922 0.2912621 0.3398058\n",
       "[2,] 0.07612457 0.1314879 0.3598616 0.4325260\n",
       "[3,] 0.05531915 0.2042553 0.2595745 0.4808511\n",
       "[4,] 0.01754386 0.1052632 0.3157895 0.5614035"
      ]
     },
     "metadata": {},
     "output_type": "display_data"
    }
   ],
   "source": [
    "R = count_row_massess_matrix(data)\n",
    "R"
   ]
  },
  {
   "cell_type": "markdown",
   "metadata": {},
   "source": [
    "Macierz profili kolumnowych:"
   ]
  },
  {
   "cell_type": "code",
   "execution_count": 751,
   "metadata": {},
   "outputs": [
    {
     "data": {
      "text/html": [
       "<table class=\"dataframe\">\n",
       "<caption>A matrix: 4 × 4 of type dbl</caption>\n",
       "<tbody>\n",
       "\t<tr><td>0.45714286</td><td>0.2972973</td><td>0.2150538</td><td>0.1732673</td></tr>\n",
       "\t<tr><td>0.31428571</td><td>0.2567568</td><td>0.3727599</td><td>0.3094059</td></tr>\n",
       "\t<tr><td>0.18571429</td><td>0.3243243</td><td>0.2186380</td><td>0.2797030</td></tr>\n",
       "\t<tr><td>0.04285714</td><td>0.1216216</td><td>0.1935484</td><td>0.2376238</td></tr>\n",
       "</tbody>\n",
       "</table>\n"
      ],
      "text/latex": [
       "A matrix: 4 × 4 of type dbl\n",
       "\\begin{tabular}{llll}\n",
       "\t 0.45714286 & 0.2972973 & 0.2150538 & 0.1732673\\\\\n",
       "\t 0.31428571 & 0.2567568 & 0.3727599 & 0.3094059\\\\\n",
       "\t 0.18571429 & 0.3243243 & 0.2186380 & 0.2797030\\\\\n",
       "\t 0.04285714 & 0.1216216 & 0.1935484 & 0.2376238\\\\\n",
       "\\end{tabular}\n"
      ],
      "text/markdown": [
       "\n",
       "A matrix: 4 × 4 of type dbl\n",
       "\n",
       "| 0.45714286 | 0.2972973 | 0.2150538 | 0.1732673 |\n",
       "| 0.31428571 | 0.2567568 | 0.3727599 | 0.3094059 |\n",
       "| 0.18571429 | 0.3243243 | 0.2186380 | 0.2797030 |\n",
       "| 0.04285714 | 0.1216216 | 0.1935484 | 0.2376238 |\n",
       "\n"
      ],
      "text/plain": [
       "     [,1]       [,2]      [,3]      [,4]     \n",
       "[1,] 0.45714286 0.2972973 0.2150538 0.1732673\n",
       "[2,] 0.31428571 0.2567568 0.3727599 0.3094059\n",
       "[3,] 0.18571429 0.3243243 0.2186380 0.2797030\n",
       "[4,] 0.04285714 0.1216216 0.1935484 0.2376238"
      ]
     },
     "metadata": {},
     "output_type": "display_data"
    }
   ],
   "source": [
    "C <- count_col_massess_matrix(data)\n",
    "C"
   ]
  },
  {
   "cell_type": "markdown",
   "metadata": {},
   "source": [
    "Następnie obliczyliśmy macierz rezyduów standaryzowanych zgodnie ze wzorem:\n",
    "\n",
    "$$A = D_r^{- 1/2}(P-rc^T)D_c^{-1/2}$$"
   ]
  },
  {
   "cell_type": "code",
   "execution_count": 752,
   "metadata": {},
   "outputs": [
    {
     "data": {
      "text/html": [
       "<table class=\"dataframe\">\n",
       "<caption>A matrix: 4 × 4 of type dbl</caption>\n",
       "<tbody>\n",
       "\t<tr><td> 0.133203867</td><td> 0.05819913</td><td>-0.015805310</td><td>-0.07753757</td></tr>\n",
       "\t<tr><td>-0.003183739</td><td>-0.04579816</td><td> 0.051097476</td><td>-0.01341809</td></tr>\n",
       "\t<tr><td>-0.040991673</td><td> 0.05039544</td><td>-0.045963056</td><td> 0.02475694</td></tr>\n",
       "\t<tr><td>-0.094008538</td><td>-0.06341766</td><td> 0.004801831</td><td> 0.07352502</td></tr>\n",
       "</tbody>\n",
       "</table>\n"
      ],
      "text/latex": [
       "A matrix: 4 × 4 of type dbl\n",
       "\\begin{tabular}{llll}\n",
       "\t  0.133203867 &  0.05819913 & -0.015805310 & -0.07753757\\\\\n",
       "\t -0.003183739 & -0.04579816 &  0.051097476 & -0.01341809\\\\\n",
       "\t -0.040991673 &  0.05039544 & -0.045963056 &  0.02475694\\\\\n",
       "\t -0.094008538 & -0.06341766 &  0.004801831 &  0.07352502\\\\\n",
       "\\end{tabular}\n"
      ],
      "text/markdown": [
       "\n",
       "A matrix: 4 × 4 of type dbl\n",
       "\n",
       "|  0.133203867 |  0.05819913 | -0.015805310 | -0.07753757 |\n",
       "| -0.003183739 | -0.04579816 |  0.051097476 | -0.01341809 |\n",
       "| -0.040991673 |  0.05039544 | -0.045963056 |  0.02475694 |\n",
       "| -0.094008538 | -0.06341766 |  0.004801831 |  0.07352502 |\n",
       "\n"
      ],
      "text/plain": [
       "     [,1]         [,2]        [,3]         [,4]       \n",
       "[1,]  0.133203867  0.05819913 -0.015805310 -0.07753757\n",
       "[2,] -0.003183739 -0.04579816  0.051097476 -0.01341809\n",
       "[3,] -0.040991673  0.05039544 -0.045963056  0.02475694\n",
       "[4,] -0.094008538 -0.06341766  0.004801831  0.07352502"
      ]
     },
     "metadata": {},
     "output_type": "display_data"
    }
   ],
   "source": [
    "A <- solve(Dr ^ (1/2)) %*% (P - r %*% t(c)) %*% solve(Dc ^ (1/2))\n",
    "A"
   ]
  },
  {
   "cell_type": "markdown",
   "metadata": {},
   "source": [
    "W analizie korespondencji zastosowaliśmy podejście Greenacre’a, które polega na dekompozycji według wartości osobliwych macierzy **A**. W tym celu wykorzystaliśmy wbudowaną funckję *svd*, aby otrzymać macierze $U$, $\\Gamma$, $V$, zgdonie ze wzorem:\n",
    "$$A = U\\Gamma V^T$$\n",
    "\n",
    "Po wyznaczeniu rozkładu macierzy **A** według wartości osobliwych, możemy wyznaczyć macierze **F** i **G**, nazywamy współrzędnymi kategorii cech odpowiednio dla wierszy i kolumn."
   ]
  },
  {
   "cell_type": "code",
   "execution_count": 753,
   "metadata": {},
   "outputs": [
    {
     "data": {
      "text/html": [
       "<table class=\"dataframe\">\n",
       "<caption>A matrix: 4 × 4 of type dbl</caption>\n",
       "<tbody>\n",
       "\t<tr><td>-0.34543922</td><td>-0.002507134</td><td> 0.02175994</td><td>1.346205e-17</td></tr>\n",
       "\t<tr><td> 0.02998446</td><td>-0.117785342</td><td>-0.02235324</td><td>1.346205e-17</td></tr>\n",
       "\t<tr><td> 0.04182549</td><td> 0.156690466</td><td>-0.01811548</td><td>1.346205e-17</td></tr>\n",
       "\t<tr><td> 0.30798818</td><td>-0.013250444</td><td> 0.03646010</td><td>1.346205e-17</td></tr>\n",
       "</tbody>\n",
       "</table>\n"
      ],
      "text/latex": [
       "A matrix: 4 × 4 of type dbl\n",
       "\\begin{tabular}{llll}\n",
       "\t -0.34543922 & -0.002507134 &  0.02175994 & 1.346205e-17\\\\\n",
       "\t  0.02998446 & -0.117785342 & -0.02235324 & 1.346205e-17\\\\\n",
       "\t  0.04182549 &  0.156690466 & -0.01811548 & 1.346205e-17\\\\\n",
       "\t  0.30798818 & -0.013250444 &  0.03646010 & 1.346205e-17\\\\\n",
       "\\end{tabular}\n"
      ],
      "text/markdown": [
       "\n",
       "A matrix: 4 × 4 of type dbl\n",
       "\n",
       "| -0.34543922 | -0.002507134 |  0.02175994 | 1.346205e-17 |\n",
       "|  0.02998446 | -0.117785342 | -0.02235324 | 1.346205e-17 |\n",
       "|  0.04182549 |  0.156690466 | -0.01811548 | 1.346205e-17 |\n",
       "|  0.30798818 | -0.013250444 |  0.03646010 | 1.346205e-17 |\n",
       "\n"
      ],
      "text/plain": [
       "     [,1]        [,2]         [,3]        [,4]        \n",
       "[1,] -0.34543922 -0.002507134  0.02175994 1.346205e-17\n",
       "[2,]  0.02998446 -0.117785342 -0.02235324 1.346205e-17\n",
       "[3,]  0.04182549  0.156690466 -0.01811548 1.346205e-17\n",
       "[4,]  0.30798818 -0.013250444  0.03646010 1.346205e-17"
      ]
     },
     "metadata": {},
     "output_type": "display_data"
    },
    {
     "data": {
      "text/html": [
       "<table class=\"dataframe\">\n",
       "<caption>A matrix: 4 × 4 of type dbl</caption>\n",
       "<tbody>\n",
       "\t<tr><td>-0.5943912</td><td>-0.0923127</td><td> 0.04549626</td><td>-1.346205e-17</td></tr>\n",
       "\t<tr><td>-0.2049741</td><td> 0.1746038</td><td>-0.02887773</td><td>-1.346205e-17</td></tr>\n",
       "\t<tr><td> 0.0263079</td><td>-0.1221969</td><td>-0.02260959</td><td>-1.346205e-17</td></tr>\n",
       "\t<tr><td> 0.1599100</td><td> 0.0364195</td><td> 0.01831000</td><td>-1.346205e-17</td></tr>\n",
       "</tbody>\n",
       "</table>\n"
      ],
      "text/latex": [
       "A matrix: 4 × 4 of type dbl\n",
       "\\begin{tabular}{llll}\n",
       "\t -0.5943912 & -0.0923127 &  0.04549626 & -1.346205e-17\\\\\n",
       "\t -0.2049741 &  0.1746038 & -0.02887773 & -1.346205e-17\\\\\n",
       "\t  0.0263079 & -0.1221969 & -0.02260959 & -1.346205e-17\\\\\n",
       "\t  0.1599100 &  0.0364195 &  0.01831000 & -1.346205e-17\\\\\n",
       "\\end{tabular}\n"
      ],
      "text/markdown": [
       "\n",
       "A matrix: 4 × 4 of type dbl\n",
       "\n",
       "| -0.5943912 | -0.0923127 |  0.04549626 | -1.346205e-17 |\n",
       "| -0.2049741 |  0.1746038 | -0.02887773 | -1.346205e-17 |\n",
       "|  0.0263079 | -0.1221969 | -0.02260959 | -1.346205e-17 |\n",
       "|  0.1599100 |  0.0364195 |  0.01831000 | -1.346205e-17 |\n",
       "\n"
      ],
      "text/plain": [
       "     [,1]       [,2]       [,3]        [,4]         \n",
       "[1,] -0.5943912 -0.0923127  0.04549626 -1.346205e-17\n",
       "[2,] -0.2049741  0.1746038 -0.02887773 -1.346205e-17\n",
       "[3,]  0.0263079 -0.1221969 -0.02260959 -1.346205e-17\n",
       "[4,]  0.1599100  0.0364195  0.01831000 -1.346205e-17"
      ]
     },
     "metadata": {},
     "output_type": "display_data"
    }
   ],
   "source": [
    "sv <- svd(A)\n",
    "gamm <- diag(length(sv$d)) * sv$d\n",
    "U <- sv$u\n",
    "V <- sv$v\n",
    "\n",
    "F <- solve(Dr ^ (1/2)) %*% U %*% gamm\n",
    "G <- solve(Dc ^ (1/2)) %*% V %*% gamm\n",
    "\n",
    "F\n",
    "G"
   ]
  },
  {
   "cell_type": "markdown",
   "metadata": {},
   "source": [
    "W ten sam sposób będziemy weryfikować poprawność naszej metody - porównując wykres wygenerowany przez wbudowaną funkcję *ca* z wykresem stworzonym przez dane pochodzące z obliczonych macierzy *F* i *G*. Punkty wygenerowane przez nas zwizulizujemy za pomocą wykresu liniowego. Wówczas punkty nie będą się pokrywać i będziemy mogli zweryfikować poprawność naszej metody. "
   ]
  },
  {
   "cell_type": "code",
   "execution_count": 754,
   "metadata": {
    "scrolled": true
   },
   "outputs": [
    {
     "data": {
      "image/png": "[encoded data removed]",
      "text/plain": [
       "plot without title"
      ]
     },
     "metadata": {
      "image/png": {
       "height": 420,
       "width": 420
      }
     },
     "output_type": "display_data"
    }
   ],
   "source": [
    "plot(ca(data))\n",
    "xs <- F[,1]\n",
    "ys <- F[,2]\n",
    "lines(xs, ys)\n",
    "xs <- G[,1]\n",
    "ys <- G[,2]\n",
    "lines(xs, ys)"
   ]
  },
  {
   "cell_type": "code",
   "execution_count": 755,
   "metadata": {
    "scrolled": true
   },
   "outputs": [
    {
     "data": {
      "image/png": "[encoded data removed]",
      "text/plain": [
       "plot without title"
      ]
     },
     "metadata": {
      "image/png": {
       "height": 420,
       "width": 420
      }
     },
     "output_type": "display_data"
    }
   ],
   "source": [
    "plot(ca(data))"
   ]
  },
  {
   "cell_type": "markdown",
   "metadata": {},
   "source": [
    "### Wnioski\n",
    "Osoby zarabiające od 6000 do 15000 zwykle określają swój stopień zadowolenia z pracy jako \"zadowolony\". W tym przypadku możemy dostrzec największą zależność. Najmniejszy stopień zadowolenia deklarowały najczęściej osoby zarabiające poniżej 6000. Największa część osób, które są bardzo zadowolone z pracy, stanowiły osoby zarabiające 15000-25000 oraz powyżej 25000."
   ]
  },
  {
   "cell_type": "code",
   "execution_count": null,
   "metadata": {},
   "outputs": [],
   "source": []
  }
 ],
 "metadata": {
  "kernelspec": {
   "display_name": "R",
   "language": "R",
   "name": "ir"
  },
  "language_info": {
   "codemirror_mode": "r",
   "file_extension": ".r",
   "mimetype": "text/x-r-source",
   "name": "R",
   "pygments_lexer": "r",
   "version": "4.2.0"
  }
 },
 "nbformat": 4,
 "nbformat_minor": 4
}
