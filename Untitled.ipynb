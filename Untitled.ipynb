{
 "cells": [
  {
   "cell_type": "code",
   "execution_count": 2,
   "id": "5ed6bf20",
   "metadata": {},
   "outputs": [
    {
     "name": "stderr",
     "output_type": "stream",
     "text": [
      "Installing package into 'C:/Users/stryc/OneDrive/Documents/R/win-library/4.0'\n",
      "(as 'lib' is unspecified)\n",
      "\n",
      "also installing the dependencies 'numDeriv', 'SparseM', 'MatrixModels', 'minqa', 'nloptr', 'RcppEigen', 'htmlwidgets', 'carData', 'abind', 'pbkrtest', 'quantreg', 'maptools', 'lme4', 'xtable', 'rgl', 'car'\n",
      "\n",
      "\n"
     ]
    },
    {
     "name": "stdout",
     "output_type": "stream",
     "text": [
      "\n",
      "  There are binary versions available but the source versions are later:\n",
      "         binary source needs_compilation\n",
      "nloptr    2.0.0  2.0.1              TRUE\n",
      "quantreg   5.88   5.93              TRUE\n",
      "car      3.0-12 3.0-13             FALSE\n",
      "\n",
      "  Binaries will be installed\n",
      "package 'numDeriv' successfully unpacked and MD5 sums checked\n",
      "package 'SparseM' successfully unpacked and MD5 sums checked\n",
      "package 'MatrixModels' successfully unpacked and MD5 sums checked\n",
      "package 'minqa' successfully unpacked and MD5 sums checked\n",
      "package 'nloptr' successfully unpacked and MD5 sums checked\n",
      "package 'RcppEigen' successfully unpacked and MD5 sums checked\n",
      "package 'htmlwidgets' successfully unpacked and MD5 sums checked\n",
      "package 'carData' successfully unpacked and MD5 sums checked\n",
      "package 'abind' successfully unpacked and MD5 sums checked\n",
      "package 'pbkrtest' successfully unpacked and MD5 sums checked\n",
      "package 'quantreg' successfully unpacked and MD5 sums checked\n",
      "package 'maptools' successfully unpacked and MD5 sums checked\n",
      "package 'lme4' successfully unpacked and MD5 sums checked\n",
      "package 'xtable' successfully unpacked and MD5 sums checked\n",
      "package 'rgl' successfully unpacked and MD5 sums checked\n",
      "package 'matlib' successfully unpacked and MD5 sums checked\n",
      "\n",
      "The downloaded binary packages are in\n",
      "\tC:\\Users\\stryc\\AppData\\Local\\Temp\\RtmpO6usK2\\downloaded_packages\n"
     ]
    },
    {
     "name": "stderr",
     "output_type": "stream",
     "text": [
      "installing the source package 'car'\n",
      "\n",
      "\n",
      "Installing package into 'C:/Users/stryc/OneDrive/Documents/R/win-library/4.0'\n",
      "(as 'lib' is unspecified)\n",
      "\n"
     ]
    },
    {
     "name": "stdout",
     "output_type": "stream",
     "text": [
      "package 'expm' successfully unpacked and MD5 sums checked\n",
      "\n",
      "The downloaded binary packages are in\n",
      "\tC:\\Users\\stryc\\AppData\\Local\\Temp\\RtmpO6usK2\\downloaded_packages\n"
     ]
    },
    {
     "name": "stderr",
     "output_type": "stream",
     "text": [
      "Installing package into 'C:/Users/stryc/OneDrive/Documents/R/win-library/4.0'\n",
      "(as 'lib' is unspecified)\n",
      "\n"
     ]
    },
    {
     "name": "stdout",
     "output_type": "stream",
     "text": [
      "package 'ca' successfully unpacked and MD5 sums checked\n",
      "\n",
      "The downloaded binary packages are in\n",
      "\tC:\\Users\\stryc\\AppData\\Local\\Temp\\RtmpO6usK2\\downloaded_packages\n"
     ]
    }
   ],
   "source": [
    "install.packages(\"matlib\")\n",
    "install.packages(\"expm\")\n",
    "install.packages(\"ca\")"
   ]
  },
  {
   "cell_type": "code",
   "execution_count": 3,
   "id": "de3bc465",
   "metadata": {},
   "outputs": [
    {
     "name": "stderr",
     "output_type": "stream",
     "text": [
      "Removing package from 'C:/Users/stryc/OneDrive/Documents/R/win-library/4.0'\n",
      "(as 'lib' is unspecified)\n",
      "\n",
      "Installing package into 'C:/Users/stryc/OneDrive/Documents/R/win-library/4.0'\n",
      "(as 'lib' is unspecified)\n",
      "\n"
     ]
    },
    {
     "name": "stdout",
     "output_type": "stream",
     "text": [
      "package 'rlang' successfully unpacked and MD5 sums checked\n"
     ]
    },
    {
     "name": "stderr",
     "output_type": "stream",
     "text": [
      "Warning message:\n",
      "\"cannot remove prior installation of package 'rlang'\"\n",
      "Warning message in file.copy(savedcopy, lib, recursive = TRUE):\n",
      "\"problem z kopiowaniem C:\\Users\\stryc\\OneDrive\\Documents\\R\\win-library\\4.0\\00LOCK\\rlang\\libs\\x64\\rlang.dll do C:\\Users\\stryc\\OneDrive\\Documents\\R\\win-library\\4.0\\rlang\\libs\\x64\\rlang.dll: Permission denied\"\n",
      "Warning message:\n",
      "\"restored 'rlang'\"\n"
     ]
    },
    {
     "name": "stdout",
     "output_type": "stream",
     "text": [
      "\n",
      "The downloaded binary packages are in\n",
      "\tC:\\Users\\stryc\\AppData\\Local\\Temp\\Rtmp4KM7JF\\downloaded_packages\n"
     ]
    },
    {
     "name": "stderr",
     "output_type": "stream",
     "text": [
      "Installing package into 'C:/Users/stryc/OneDrive/Documents/R/win-library/4.0'\n",
      "(as 'lib' is unspecified)\n",
      "\n",
      "also installing the dependencies 'rlang', 'vctrs'\n",
      "\n",
      "\n"
     ]
    },
    {
     "name": "stdout",
     "output_type": "stream",
     "text": [
      "\n",
      "  There is a binary version available but the source version is later:\n",
      "      binary source needs_compilation\n",
      "dplyr  1.0.8  1.0.9              TRUE\n",
      "\n",
      "  Binaries will be installed\n",
      "package 'rlang' successfully unpacked and MD5 sums checked\n"
     ]
    },
    {
     "name": "stderr",
     "output_type": "stream",
     "text": [
      "Warning message:\n",
      "\"cannot remove prior installation of package 'rlang'\"\n",
      "Warning message in file.copy(savedcopy, lib, recursive = TRUE):\n",
      "\"problem z kopiowaniem C:\\Users\\stryc\\OneDrive\\Documents\\R\\win-library\\4.0\\00LOCK\\rlang\\libs\\x64\\rlang.dll do C:\\Users\\stryc\\OneDrive\\Documents\\R\\win-library\\4.0\\rlang\\libs\\x64\\rlang.dll: Permission denied\"\n",
      "Warning message:\n",
      "\"restored 'rlang'\"\n"
     ]
    },
    {
     "name": "stdout",
     "output_type": "stream",
     "text": [
      "package 'vctrs' successfully unpacked and MD5 sums checked\n"
     ]
    },
    {
     "name": "stderr",
     "output_type": "stream",
     "text": [
      "Warning message:\n",
      "\"cannot remove prior installation of package 'vctrs'\"\n",
      "Warning message in file.copy(savedcopy, lib, recursive = TRUE):\n",
      "\"problem z kopiowaniem C:\\Users\\stryc\\OneDrive\\Documents\\R\\win-library\\4.0\\00LOCK\\vctrs\\libs\\x64\\vctrs.dll do C:\\Users\\stryc\\OneDrive\\Documents\\R\\win-library\\4.0\\vctrs\\libs\\x64\\vctrs.dll: Permission denied\"\n",
      "Warning message:\n",
      "\"restored 'vctrs'\"\n"
     ]
    },
    {
     "name": "stdout",
     "output_type": "stream",
     "text": [
      "package 'dplyr' successfully unpacked and MD5 sums checked\n",
      "\n",
      "The downloaded binary packages are in\n",
      "\tC:\\Users\\stryc\\AppData\\Local\\Temp\\Rtmp4KM7JF\\downloaded_packages\n"
     ]
    },
    {
     "name": "stderr",
     "output_type": "stream",
     "text": [
      "Warning message:\n",
      "\"package 'dplyr' was built under R version 4.0.5\"\n"
     ]
    },
    {
     "ename": "ERROR",
     "evalue": "Error: package or namespace load failed for 'dplyr' in loadNamespace(i, c(lib.loc, .libPaths()), versionCheck = vI[[i]]):\n namespace 'rlang' 0.4.10 is already loaded, but >= 1.0.0 is required\n",
     "output_type": "error",
     "traceback": [
      "Error: package or namespace load failed for 'dplyr' in loadNamespace(i, c(lib.loc, .libPaths()), versionCheck = vI[[i]]):\n namespace 'rlang' 0.4.10 is already loaded, but >= 1.0.0 is required\nTraceback:\n",
      "1. library(dplyr)",
      "2. tryCatch({\n .     attr(package, \"LibPath\") <- which.lib.loc\n .     ns <- loadNamespace(package, lib.loc)\n .     env <- attachNamespace(ns, pos = pos, deps, exclude, include.only)\n . }, error = function(e) {\n .     P <- if (!is.null(cc <- conditionCall(e))) \n .         paste(\" in\", deparse(cc)[1L])\n .     else \"\"\n .     msg <- gettextf(\"package or namespace load failed for %s%s:\\n %s\", \n .         sQuote(package), P, conditionMessage(e))\n .     if (logical.return) \n .         message(paste(\"Error:\", msg), domain = NA)\n .     else stop(msg, call. = FALSE, domain = NA)\n . })",
      "3. tryCatchList(expr, classes, parentenv, handlers)",
      "4. tryCatchOne(expr, names, parentenv, handlers[[1L]])",
      "5. value[[3L]](cond)",
      "6. stop(msg, call. = FALSE, domain = NA)"
     ]
    }
   ],
   "source": [
    "#remove.packages(\"rlang\")\n",
    "remove.packages(\"dplyr\")\n",
    "\n",
    "install.packages(\"rlang\")\n",
    "install.packages(\"dplyr\")\n",
    "\n",
    "#library(rlang)\n",
    "library(dplyr)"
   ]
  },
  {
   "cell_type": "code",
   "execution_count": 26,
   "id": "6da07c6e",
   "metadata": {},
   "outputs": [
    {
     "data": {
      "text/html": [
       "<table class=\"dataframe\">\n",
       "<caption>A matrix: 4 × 4 of type dbl</caption>\n",
       "<tbody>\n",
       "\t<tr><td>32</td><td>44</td><td> 60</td><td> 70</td></tr>\n",
       "\t<tr><td>22</td><td>38</td><td>104</td><td>125</td></tr>\n",
       "\t<tr><td>13</td><td>48</td><td> 61</td><td>113</td></tr>\n",
       "\t<tr><td> 3</td><td>18</td><td> 54</td><td> 96</td></tr>\n",
       "</tbody>\n",
       "</table>\n"
      ],
      "text/latex": [
       "A matrix: 4 × 4 of type dbl\n",
       "\\begin{tabular}{llll}\n",
       "\t 32 & 44 &  60 &  70\\\\\n",
       "\t 22 & 38 & 104 & 125\\\\\n",
       "\t 13 & 48 &  61 & 113\\\\\n",
       "\t  3 & 18 &  54 &  96\\\\\n",
       "\\end{tabular}\n"
      ],
      "text/markdown": [
       "\n",
       "A matrix: 4 × 4 of type dbl\n",
       "\n",
       "| 32 | 44 |  60 |  70 |\n",
       "| 22 | 38 | 104 | 125 |\n",
       "| 13 | 48 |  61 | 113 |\n",
       "|  3 | 18 |  54 |  96 |\n",
       "\n"
      ],
      "text/plain": [
       "     [,1] [,2] [,3] [,4]\n",
       "[1,] 32   44    60   70 \n",
       "[2,] 22   38   104  125 \n",
       "[3,] 13   48    61  113 \n",
       "[4,]  3   18    54   96 "
      ]
     },
     "metadata": {},
     "output_type": "display_data"
    }
   ],
   "source": [
    "data"
   ]
  },
  {
   "cell_type": "code",
   "execution_count": 52,
   "id": "e03c5be9",
   "metadata": {},
   "outputs": [],
   "source": [
    "?ca"
   ]
  },
  {
   "cell_type": "code",
   "execution_count": 54,
   "id": "e3ec2a84",
   "metadata": {},
   "outputs": [
    {
     "data": {
      "text/html": [
       "<table class=\"dataframe\">\n",
       "<caption>A matrix: 4 × 4 of type dbl</caption>\n",
       "<tbody>\n",
       "\t<tr><td>0.035516093</td><td>0.04883463</td><td>0.06659267</td><td>0.07769145</td></tr>\n",
       "\t<tr><td>0.024417314</td><td>0.04217536</td><td>0.11542730</td><td>0.13873474</td></tr>\n",
       "\t<tr><td>0.014428413</td><td>0.05327414</td><td>0.06770255</td><td>0.12541620</td></tr>\n",
       "\t<tr><td>0.003329634</td><td>0.01997780</td><td>0.05993341</td><td>0.10654828</td></tr>\n",
       "</tbody>\n",
       "</table>\n"
      ],
      "text/latex": [
       "A matrix: 4 × 4 of type dbl\n",
       "\\begin{tabular}{llll}\n",
       "\t 0.035516093 & 0.04883463 & 0.06659267 & 0.07769145\\\\\n",
       "\t 0.024417314 & 0.04217536 & 0.11542730 & 0.13873474\\\\\n",
       "\t 0.014428413 & 0.05327414 & 0.06770255 & 0.12541620\\\\\n",
       "\t 0.003329634 & 0.01997780 & 0.05993341 & 0.10654828\\\\\n",
       "\\end{tabular}\n"
      ],
      "text/markdown": [
       "\n",
       "A matrix: 4 × 4 of type dbl\n",
       "\n",
       "| 0.035516093 | 0.04883463 | 0.06659267 | 0.07769145 |\n",
       "| 0.024417314 | 0.04217536 | 0.11542730 | 0.13873474 |\n",
       "| 0.014428413 | 0.05327414 | 0.06770255 | 0.12541620 |\n",
       "| 0.003329634 | 0.01997780 | 0.05993341 | 0.10654828 |\n",
       "\n"
      ],
      "text/plain": [
       "     [,1]        [,2]       [,3]       [,4]      \n",
       "[1,] 0.035516093 0.04883463 0.06659267 0.07769145\n",
       "[2,] 0.024417314 0.04217536 0.11542730 0.13873474\n",
       "[3,] 0.014428413 0.05327414 0.06770255 0.12541620\n",
       "[4,] 0.003329634 0.01997780 0.05993341 0.10654828"
      ]
     },
     "metadata": {},
     "output_type": "display_data"
    },
    {
     "data": {
      "text/html": [
       "<table class=\"dataframe\">\n",
       "<caption>A matrix: 4 × 4 of type dbl</caption>\n",
       "<tbody>\n",
       "\t<tr><td> 0.133203867</td><td> 0.05819913</td><td>-0.015805310</td><td>-0.07753757</td></tr>\n",
       "\t<tr><td>-0.003183739</td><td>-0.04579816</td><td> 0.051097476</td><td>-0.01341809</td></tr>\n",
       "\t<tr><td>-0.040991673</td><td> 0.05039544</td><td>-0.045963056</td><td> 0.02475694</td></tr>\n",
       "\t<tr><td>-0.094008538</td><td>-0.06341766</td><td> 0.004801831</td><td> 0.07352502</td></tr>\n",
       "</tbody>\n",
       "</table>\n"
      ],
      "text/latex": [
       "A matrix: 4 × 4 of type dbl\n",
       "\\begin{tabular}{llll}\n",
       "\t  0.133203867 &  0.05819913 & -0.015805310 & -0.07753757\\\\\n",
       "\t -0.003183739 & -0.04579816 &  0.051097476 & -0.01341809\\\\\n",
       "\t -0.040991673 &  0.05039544 & -0.045963056 &  0.02475694\\\\\n",
       "\t -0.094008538 & -0.06341766 &  0.004801831 &  0.07352502\\\\\n",
       "\\end{tabular}\n"
      ],
      "text/markdown": [
       "\n",
       "A matrix: 4 × 4 of type dbl\n",
       "\n",
       "|  0.133203867 |  0.05819913 | -0.015805310 | -0.07753757 |\n",
       "| -0.003183739 | -0.04579816 |  0.051097476 | -0.01341809 |\n",
       "| -0.040991673 |  0.05039544 | -0.045963056 |  0.02475694 |\n",
       "| -0.094008538 | -0.06341766 |  0.004801831 |  0.07352502 |\n",
       "\n"
      ],
      "text/plain": [
       "     [,1]         [,2]        [,3]         [,4]       \n",
       "[1,]  0.133203867  0.05819913 -0.015805310 -0.07753757\n",
       "[2,] -0.003183739 -0.04579816  0.051097476 -0.01341809\n",
       "[3,] -0.040991673  0.05039544 -0.045963056  0.02475694\n",
       "[4,] -0.094008538 -0.06341766  0.004801831  0.07352502"
      ]
     },
     "metadata": {},
     "output_type": "display_data"
    }
   ],
   "source": [
    "library(matlib)\n",
    "library(expm)\n",
    "library(ca)\n",
    "\n",
    "data <- matrix(c(32, 22, 13, 3, 44, 38, 48, 18, 60, 104, 61, 54, 70, 125, 113, 96), nrow = 4)\n",
    "\n",
    "n <- sum(data)\n",
    "\n",
    "freq <- data/n\n",
    "freq\n",
    "\n",
    "\n",
    "count_row_massess <- function(data) {\n",
    "  rows <- numeric(nrow(data))\n",
    "  for (i in 1:nrow(data)) {\n",
    "    rows[i] <- sum(data[i, ])\n",
    "  }\n",
    "  rows\n",
    "}\n",
    "\n",
    "count_col_massess <- function(data) {\n",
    "  cols <- numeric(ncol(data))\n",
    "  for (i in 1:ncol(data)) {\n",
    "    cols[i] <- sum(data[, i])\n",
    "  }\n",
    "  cols\n",
    "}\n",
    "\n",
    "\n",
    "r <- count_row_massess(freq)\n",
    "c <- count_col_massess(freq)\n",
    "\n",
    "Dr <- diag(length(r)) * r\n",
    "Dc <- diag(length(c)) * c\n",
    "\n",
    "\n",
    "\n",
    "# Macierz profili wierszowych\n",
    "R = inv(Dr)%*%freq\n",
    "\n",
    "# Macierz profili kolumnowych\n",
    "C = inv(Dc)%*%freq\n",
    "\n",
    "\n",
    "#Dekompozycja według wartośi osobliwych\n",
    "#Najpierw birzemy pierwiastek z wartości dla Dr i Dc i dopiero później odwrotność macierzy\n",
    "A <- solve(Dr ^ (1/2)) %*% (freq - r %*% t(c)) %*% solve(Dc ^ (1/2))\n",
    "A\n",
    "\n",
    "sv <- svd(A)\n",
    "gamm <- diag(length(sv$d)) * sv$d\n",
    "U <- sv$u\n",
    "V <- sv$v\n",
    "\n",
    "\n",
    "F <- solve(Dr ^ (1/2)) %*% U %*% gamm\n",
    "\n",
    "G <- solve(Dc ^ (1/2)) %*% V %*% gamm\n",
    "\n",
    "\n",
    "\n"
   ]
  },
  {
   "cell_type": "code",
   "execution_count": 19,
   "id": "10215c2b",
   "metadata": {},
   "outputs": [
    {
     "data": {
      "text/html": [
       "<table class=\"dataframe\">\n",
       "<caption>A matrix: 4 × 4 of type dbl</caption>\n",
       "<tbody>\n",
       "\t<tr><td>-0.34543922</td><td>-0.002507134</td><td> 0.02175994</td><td>1.196627e-17</td></tr>\n",
       "\t<tr><td> 0.02998446</td><td>-0.117785342</td><td>-0.02235324</td><td>1.196627e-17</td></tr>\n",
       "\t<tr><td> 0.04182549</td><td> 0.156690466</td><td>-0.01811548</td><td>1.196627e-17</td></tr>\n",
       "\t<tr><td> 0.30798818</td><td>-0.013250444</td><td> 0.03646010</td><td>1.196627e-17</td></tr>\n",
       "</tbody>\n",
       "</table>\n"
      ],
      "text/latex": [
       "A matrix: 4 × 4 of type dbl\n",
       "\\begin{tabular}{llll}\n",
       "\t -0.34543922 & -0.002507134 &  0.02175994 & 1.196627e-17\\\\\n",
       "\t  0.02998446 & -0.117785342 & -0.02235324 & 1.196627e-17\\\\\n",
       "\t  0.04182549 &  0.156690466 & -0.01811548 & 1.196627e-17\\\\\n",
       "\t  0.30798818 & -0.013250444 &  0.03646010 & 1.196627e-17\\\\\n",
       "\\end{tabular}\n"
      ],
      "text/markdown": [
       "\n",
       "A matrix: 4 × 4 of type dbl\n",
       "\n",
       "| -0.34543922 | -0.002507134 |  0.02175994 | 1.196627e-17 |\n",
       "|  0.02998446 | -0.117785342 | -0.02235324 | 1.196627e-17 |\n",
       "|  0.04182549 |  0.156690466 | -0.01811548 | 1.196627e-17 |\n",
       "|  0.30798818 | -0.013250444 |  0.03646010 | 1.196627e-17 |\n",
       "\n"
      ],
      "text/plain": [
       "     [,1]        [,2]         [,3]        [,4]        \n",
       "[1,] -0.34543922 -0.002507134  0.02175994 1.196627e-17\n",
       "[2,]  0.02998446 -0.117785342 -0.02235324 1.196627e-17\n",
       "[3,]  0.04182549  0.156690466 -0.01811548 1.196627e-17\n",
       "[4,]  0.30798818 -0.013250444  0.03646010 1.196627e-17"
      ]
     },
     "metadata": {},
     "output_type": "display_data"
    }
   ],
   "source": [
    "F <- solve(Dr ^ (0.5)) %*% U %*% gamm\n",
    "F"
   ]
  },
  {
   "cell_type": "code",
   "execution_count": 24,
   "id": "2534be11",
   "metadata": {},
   "outputs": [],
   "source": [
    "?solve"
   ]
  },
  {
   "cell_type": "code",
   "execution_count": 55,
   "id": "2377c88f",
   "metadata": {},
   "outputs": [
    {
     "data": {
      "text/plain": [
       "\n",
       " Principal inertias (eigenvalues):\n",
       "           1       2        3       \n",
       "Value      0.04603 0.010888 0.000606\n",
       "Percentage 80.02%  18.93%   1.05%   \n",
       "\n",
       "\n",
       " Rows:\n",
       "             [,1]      [,2]     [,3]      [,4]\n",
       "Mass     0.228635  0.320755 0.260821  0.189789\n",
       "ChiDist  0.346133  0.123580 0.163185  0.310422\n",
       "Inertia  0.027392  0.004899 0.006946  0.018288\n",
       "Dim. 1  -1.610093  0.139758 0.194949  1.435534\n",
       "Dim. 2  -0.024027 -1.128781 1.501624 -0.126984\n",
       "\n",
       "\n",
       " Columns:\n",
       "             [,1]      [,2]      [,3]     [,4]\n",
       "Mass     0.077691  0.164262  0.309656 0.448391\n",
       "ChiDist  0.603235  0.270804  0.127025 0.165024\n",
       "Inertia  0.028271  0.012046  0.004996 0.012211\n",
       "Dim. 1  -2.770459 -0.955385  0.122621 0.745341\n",
       "Dim. 2  -0.884667  1.673293 -1.171059 0.349022"
      ]
     },
     "metadata": {},
     "output_type": "display_data"
    },
    {
     "data": {
      "text/html": [
       "<table class=\"dataframe\">\n",
       "<caption>A matrix: 4 × 4 of type dbl</caption>\n",
       "<tbody>\n",
       "\t<tr><td>-0.34543922</td><td>-0.002507134</td><td> 0.02175994</td><td>1.196627e-17</td></tr>\n",
       "\t<tr><td> 0.02998446</td><td>-0.117785342</td><td>-0.02235324</td><td>1.196627e-17</td></tr>\n",
       "\t<tr><td> 0.04182549</td><td> 0.156690466</td><td>-0.01811548</td><td>1.196627e-17</td></tr>\n",
       "\t<tr><td> 0.30798818</td><td>-0.013250444</td><td> 0.03646010</td><td>1.196627e-17</td></tr>\n",
       "</tbody>\n",
       "</table>\n"
      ],
      "text/latex": [
       "A matrix: 4 × 4 of type dbl\n",
       "\\begin{tabular}{llll}\n",
       "\t -0.34543922 & -0.002507134 &  0.02175994 & 1.196627e-17\\\\\n",
       "\t  0.02998446 & -0.117785342 & -0.02235324 & 1.196627e-17\\\\\n",
       "\t  0.04182549 &  0.156690466 & -0.01811548 & 1.196627e-17\\\\\n",
       "\t  0.30798818 & -0.013250444 &  0.03646010 & 1.196627e-17\\\\\n",
       "\\end{tabular}\n"
      ],
      "text/markdown": [
       "\n",
       "A matrix: 4 × 4 of type dbl\n",
       "\n",
       "| -0.34543922 | -0.002507134 |  0.02175994 | 1.196627e-17 |\n",
       "|  0.02998446 | -0.117785342 | -0.02235324 | 1.196627e-17 |\n",
       "|  0.04182549 |  0.156690466 | -0.01811548 | 1.196627e-17 |\n",
       "|  0.30798818 | -0.013250444 |  0.03646010 | 1.196627e-17 |\n",
       "\n"
      ],
      "text/plain": [
       "     [,1]        [,2]         [,3]        [,4]        \n",
       "[1,] -0.34543922 -0.002507134  0.02175994 1.196627e-17\n",
       "[2,]  0.02998446 -0.117785342 -0.02235324 1.196627e-17\n",
       "[3,]  0.04182549  0.156690466 -0.01811548 1.196627e-17\n",
       "[4,]  0.30798818 -0.013250444  0.03646010 1.196627e-17"
      ]
     },
     "metadata": {},
     "output_type": "display_data"
    },
    {
     "data": {
      "text/html": [
       "<table class=\"dataframe\">\n",
       "<caption>A matrix: 4 × 4 of type dbl</caption>\n",
       "<tbody>\n",
       "\t<tr><td>-0.5943912</td><td>-0.0923127</td><td> 0.04549626</td><td>-1.196627e-17</td></tr>\n",
       "\t<tr><td>-0.2049741</td><td> 0.1746038</td><td>-0.02887773</td><td>-1.196627e-17</td></tr>\n",
       "\t<tr><td> 0.0263079</td><td>-0.1221969</td><td>-0.02260959</td><td>-1.196627e-17</td></tr>\n",
       "\t<tr><td> 0.1599100</td><td> 0.0364195</td><td> 0.01831000</td><td>-1.196627e-17</td></tr>\n",
       "</tbody>\n",
       "</table>\n"
      ],
      "text/latex": [
       "A matrix: 4 × 4 of type dbl\n",
       "\\begin{tabular}{llll}\n",
       "\t -0.5943912 & -0.0923127 &  0.04549626 & -1.196627e-17\\\\\n",
       "\t -0.2049741 &  0.1746038 & -0.02887773 & -1.196627e-17\\\\\n",
       "\t  0.0263079 & -0.1221969 & -0.02260959 & -1.196627e-17\\\\\n",
       "\t  0.1599100 &  0.0364195 &  0.01831000 & -1.196627e-17\\\\\n",
       "\\end{tabular}\n"
      ],
      "text/markdown": [
       "\n",
       "A matrix: 4 × 4 of type dbl\n",
       "\n",
       "| -0.5943912 | -0.0923127 |  0.04549626 | -1.196627e-17 |\n",
       "| -0.2049741 |  0.1746038 | -0.02887773 | -1.196627e-17 |\n",
       "|  0.0263079 | -0.1221969 | -0.02260959 | -1.196627e-17 |\n",
       "|  0.1599100 |  0.0364195 |  0.01831000 | -1.196627e-17 |\n",
       "\n"
      ],
      "text/plain": [
       "     [,1]       [,2]       [,3]        [,4]         \n",
       "[1,] -0.5943912 -0.0923127  0.04549626 -1.196627e-17\n",
       "[2,] -0.2049741  0.1746038 -0.02887773 -1.196627e-17\n",
       "[3,]  0.0263079 -0.1221969 -0.02260959 -1.196627e-17\n",
       "[4,]  0.1599100  0.0364195  0.01831000 -1.196627e-17"
      ]
     },
     "metadata": {},
     "output_type": "display_data"
    }
   ],
   "source": [
    "#Do sprawdzenia czy te wartości powinny być takie same? Raczej tak i nie wiem dlaczego nie wychodzą...\n",
    "ca(freq)\n",
    "F\n",
    "G\n"
   ]
  },
  {
   "cell_type": "code",
   "execution_count": 41,
   "id": "a036cdb2",
   "metadata": {},
   "outputs": [],
   "source": []
  },
  {
   "cell_type": "code",
   "execution_count": 25,
   "id": "b2973a00",
   "metadata": {},
   "outputs": [],
   "source": [
    "?ca"
   ]
  }
 ],
 "metadata": {
  "kernelspec": {
   "display_name": "R",
   "language": "R",
   "name": "ir"
  },
  "language_info": {
   "codemirror_mode": "r",
   "file_extension": ".r",
   "mimetype": "text/x-r-source",
   "name": "R",
   "pygments_lexer": "r",
   "version": "4.0.4"
  }
 },
 "nbformat": 4,
 "nbformat_minor": 5
}
