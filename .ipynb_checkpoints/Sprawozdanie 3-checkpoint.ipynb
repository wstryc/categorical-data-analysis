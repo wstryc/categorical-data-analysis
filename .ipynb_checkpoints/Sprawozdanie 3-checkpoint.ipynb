{
 "cells": [
  {
   "cell_type": "markdown",
   "metadata": {},
   "source": [
    "# Lista 10\n",
    "Część pierwsza sprawozdania."
   ]
  },
  {
   "cell_type": "code",
   "execution_count": 35,
   "metadata": {},
   "outputs": [],
   "source": [
    "# HIDE!\n",
    "\n",
    "#install.packages(\"kableExtra\")\n",
    "#install.packages(\"tidyverse\")\n",
    "\n",
    "library(tidyverse)\n",
    "library(knitr)\n",
    "library(kableExtra)\n",
    "library(IRdisplay)\n",
    "library(gnm)\n",
    "library(dplyr)"
   ]
  },
  {
   "cell_type": "markdown",
   "metadata": {},
   "source": [
    "## Zadanie 1"
   ]
  },
  {
   "cell_type": "code",
   "execution_count": null,
   "metadata": {},
   "outputs": [],
   "source": [
    "#tbd"
   ]
  },
  {
   "cell_type": "markdown",
   "metadata": {},
   "source": [
    "## Zadanie 2"
   ]
  },
  {
   "cell_type": "code",
   "execution_count": null,
   "metadata": {},
   "outputs": [],
   "source": [
    "#tbd"
   ]
  },
  {
   "cell_type": "markdown",
   "metadata": {},
   "source": [
    "## Zadanie 3"
   ]
  },
  {
   "cell_type": "code",
   "execution_count": null,
   "metadata": {},
   "outputs": [],
   "source": [
    "#tbd"
   ]
  },
  {
   "cell_type": "markdown",
   "metadata": {},
   "source": [
    "# Lista 11\n",
    "Część druga sprawozdania.\n",
    "\n",
    "## Zadanie 1\n",
    "\n",
    "W zadaniu pierwszym przeprowadzimy test symetrii, quasi-symetrii i quasi-niezależności dla danych dotyczących ocen uzyskanych przez studentów z dwóch kolokwiów. Wszystkie testy zostaną przeprowadzone na poziomie istotności $0.05$."
   ]
  },
  {
   "cell_type": "code",
   "execution_count": 2,
   "metadata": {},
   "outputs": [
    {
     "data": {
      "text/html": [
       "<table class=\"dataframe\">\n",
       "<caption>A matrix: 6 × 6 of type dbl</caption>\n",
       "<thead>\n",
       "\t<tr><th></th><th scope=col>2</th><th scope=col>3</th><th scope=col>+3</th><th scope=col>4</th><th scope=col>+4</th><th scope=col>5</th></tr>\n",
       "</thead>\n",
       "<tbody>\n",
       "\t<tr><th scope=row>2</th><td>5</td><td> 2</td><td> 1</td><td> 0</td><td>0</td><td>0</td></tr>\n",
       "\t<tr><th scope=row>3</th><td>6</td><td> 3</td><td> 2</td><td> 2</td><td>0</td><td>0</td></tr>\n",
       "\t<tr><th scope=row>+3</th><td>1</td><td> 4</td><td> 5</td><td> 5</td><td>2</td><td>2</td></tr>\n",
       "\t<tr><th scope=row>4</th><td>0</td><td>10</td><td>15</td><td>18</td><td>5</td><td>2</td></tr>\n",
       "\t<tr><th scope=row>+4</th><td>1</td><td> 2</td><td> 5</td><td> 3</td><td>2</td><td>2</td></tr>\n",
       "\t<tr><th scope=row>5</th><td>0</td><td> 1</td><td> 3</td><td> 4</td><td>3</td><td>2</td></tr>\n",
       "</tbody>\n",
       "</table>\n"
      ],
      "text/latex": [
       "A matrix: 6 × 6 of type dbl\n",
       "\\begin{tabular}{r|llllll}\n",
       "  & 2 & 3 & +3 & 4 & +4 & 5\\\\\n",
       "\\hline\n",
       "\t2 & 5 &  2 &  1 &  0 & 0 & 0\\\\\n",
       "\t3 & 6 &  3 &  2 &  2 & 0 & 0\\\\\n",
       "\t+3 & 1 &  4 &  5 &  5 & 2 & 2\\\\\n",
       "\t4 & 0 & 10 & 15 & 18 & 5 & 2\\\\\n",
       "\t+4 & 1 &  2 &  5 &  3 & 2 & 2\\\\\n",
       "\t5 & 0 &  1 &  3 &  4 & 3 & 2\\\\\n",
       "\\end{tabular}\n"
      ],
      "text/markdown": [
       "\n",
       "A matrix: 6 × 6 of type dbl\n",
       "\n",
       "| <!--/--> | 2 | 3 | +3 | 4 | +4 | 5 |\n",
       "|---|---|---|---|---|---|---|\n",
       "| 2 | 5 |  2 |  1 |  0 | 0 | 0 |\n",
       "| 3 | 6 |  3 |  2 |  2 | 0 | 0 |\n",
       "| +3 | 1 |  4 |  5 |  5 | 2 | 2 |\n",
       "| 4 | 0 | 10 | 15 | 18 | 5 | 2 |\n",
       "| +4 | 1 |  2 |  5 |  3 | 2 | 2 |\n",
       "| 5 | 0 |  1 |  3 |  4 | 3 | 2 |\n",
       "\n"
      ],
      "text/plain": [
       "   2 3  +3 4  +4 5\n",
       "2  5  2  1  0 0  0\n",
       "3  6  3  2  2 0  0\n",
       "+3 1  4  5  5 2  2\n",
       "4  0 10 15 18 5  2\n",
       "+4 1  2  5  3 2  2\n",
       "5  0  1  3  4 3  2"
      ]
     },
     "metadata": {},
     "output_type": "display_data"
    }
   ],
   "source": [
    "# HIDE INPUT\n",
    "\n",
    "count <- c(5, 2, 1, 0, 0, 0,\n",
    "           6, 3, 2, 2, 0, 0,\n",
    "           1, 4, 5, 5, 2, 2,\n",
    "           0, 10, 15, 18, 5, 2,\n",
    "           1, 2, 5, 3, 2, 2,\n",
    "           0, 1, 3, 4, 3, 2)\n",
    "\n",
    "data <- matrix(count, byrow=TRUE, nrow=6)\n",
    "rownames(data) = c(\"2\", \"3\", \"+3\", \"4\", \"+4\", \"5\")\n",
    "colnames(data) = c(\"2\", \"3\", \"+3\", \"4\", \"+4\", \"5\")\n",
    "\n",
    "data"
   ]
  },
  {
   "cell_type": "markdown",
   "metadata": {},
   "source": [
    "### Symetria\n",
    "Przy testowaniu symetrii, moglibyśmy skorzystać z testu Bowkera, jednak w przypadku naszych danych nie jest to możliwe. Wywołanie tego testu (`mcnemar.test`) zwróciłoby p-wartość `NaN`. Dlatego należy skorzystać z testu ilorazu wiarygodności, zaimplementowanego w funkcji `glm` biblioteki `gnm`."
   ]
  },
  {
   "cell_type": "code",
   "execution_count": 3,
   "metadata": {},
   "outputs": [
    {
     "data": {
      "text/plain": [
       "\n",
       "Call:\n",
       "glm(formula = count ~ Symm(K1, K2), family = poisson, data = data)\n",
       "\n",
       "Deviance Residuals: \n",
       "    Min       1Q   Median       3Q      Max  \n",
       "-1.8988  -0.5463   0.0000   0.4981   1.4888  \n",
       "\n",
       "Coefficients:\n",
       "                    Estimate Std. Error z value Pr(>|z|)    \n",
       "(Intercept)        1.609e+00  4.472e-01   3.599  0.00032 ***\n",
       "Symm(K1, K2)2:3   -2.231e-01  5.701e-01  -0.391  0.69549    \n",
       "Symm(K1, K2)2:+3  -1.609e+00  8.367e-01  -1.924  0.05440 .  \n",
       "Symm(K1, K2)2:4   -1.991e+01  4.043e+03  -0.005  0.99607    \n",
       "Symm(K1, K2)2:+4  -2.303e+00  1.095e+00  -2.102  0.03556 *  \n",
       "Symm(K1, K2)2:5   -1.991e+01  4.043e+03  -0.005  0.99607    \n",
       "Symm(K1, K2)3:3   -5.108e-01  7.303e-01  -0.699  0.48425    \n",
       "Symm(K1, K2)3:+3  -5.108e-01  6.055e-01  -0.844  0.39889    \n",
       "Symm(K1, K2)3:4    1.823e-01  5.323e-01   0.343  0.73196    \n",
       "Symm(K1, K2)3:+4  -1.609e+00  8.367e-01  -1.924  0.05440 .  \n",
       "Symm(K1, K2)3:5   -2.303e+00  1.095e+00  -2.102  0.03556 *  \n",
       "Symm(K1, K2)+3:+3  2.561e-15  6.325e-01   0.000  1.00000    \n",
       "Symm(K1, K2)+3:4   6.931e-01  5.000e-01   1.386  0.16566    \n",
       "Symm(K1, K2)+3:+4 -3.567e-01  5.855e-01  -0.609  0.54243    \n",
       "Symm(K1, K2)+3:5  -6.931e-01  6.325e-01  -1.096  0.27310    \n",
       "Symm(K1, K2)4:4    1.281e+00  5.055e-01   2.534  0.01128 *  \n",
       "Symm(K1, K2)4:+4  -2.231e-01  5.701e-01  -0.391  0.69549    \n",
       "Symm(K1, K2)4:5   -5.108e-01  6.055e-01  -0.844  0.39889    \n",
       "Symm(K1, K2)+4:+4 -9.163e-01  8.367e-01  -1.095  0.27344    \n",
       "Symm(K1, K2)+4:5  -6.931e-01  6.325e-01  -1.096  0.27310    \n",
       "Symm(K1, K2)5:5   -9.163e-01  8.367e-01  -1.095  0.27344    \n",
       "---\n",
       "Signif. codes:  0 '***' 0.001 '**' 0.01 '*' 0.05 '.' 0.1 ' ' 1\n",
       "\n",
       "(Dispersion parameter for poisson family taken to be 1)\n",
       "\n",
       "    Null deviance: 129.422  on 35  degrees of freedom\n",
       "Residual deviance:  22.288  on 15  degrees of freedom\n",
       "AIC: 151.44\n",
       "\n",
       "Number of Fisher Scoring iterations: 16\n"
      ]
     },
     "metadata": {},
     "output_type": "display_data"
    }
   ],
   "source": [
    "count <- c(5, 2, 1, 0, 0, 0,\n",
    "           6, 3, 2, 2, 0, 0,\n",
    "           1, 4, 5, 5, 2, 2,\n",
    "           0, 10, 15, 18, 5, 2,\n",
    "           1, 2, 5, 3, 2, 2,\n",
    "           0, 1, 3, 4, 3, 2)\n",
    "\n",
    "K1 <- gl(6,6, labels=c(\"2\", \"3\", \"+3\", \"4\", \"+4\", \"5\"))\n",
    "K2 <- gl(6,1, labels=c(\"2\", \"3\", \"+3\", \"4\", \"+4\", \"5\"))\n",
    "data <- data.frame(K1, K2, count)\n",
    "\n",
    "symmetry <- glm(count ~ Symm(K1, K2), data=data, family=poisson)\n",
    "symmetry %>% summary()"
   ]
  },
  {
   "cell_type": "markdown",
   "metadata": {},
   "source": [
    "Policzmy zatem p-wartość."
   ]
  },
  {
   "cell_type": "code",
   "execution_count": 4,
   "metadata": {},
   "outputs": [
    {
     "data": {
      "text/html": [
       "0.1005"
      ],
      "text/latex": [
       "0.1005"
      ],
      "text/markdown": [
       "0.1005"
      ],
      "text/plain": [
       "[1] 0.1005"
      ]
     },
     "metadata": {},
     "output_type": "display_data"
    }
   ],
   "source": [
    "x = symmetry$deviance\n",
    "r = 15\n",
    "\n",
    "p = 1 - pchisq(x, r)\n",
    "p %>% round(4)"
   ]
  },
  {
   "cell_type": "markdown",
   "metadata": {},
   "source": [
    "Otrzymujemy p-wartość na poziomie $0.1005 > 0.05$, więc nie mamy podstaw do odrzucenia hipotezy o niezależności."
   ]
  },
  {
   "cell_type": "markdown",
   "metadata": {},
   "source": [
    "### Quasi-symetria\n",
    "Ponownie skorzystamy z funkcji `glm`."
   ]
  },
  {
   "cell_type": "code",
   "execution_count": 5,
   "metadata": {},
   "outputs": [
    {
     "data": {
      "text/plain": [
       "\n",
       "Call:\n",
       "glm(formula = count ~ K1 + K2 + Symm(K1, K2), family = poisson, \n",
       "    data = data)\n",
       "\n",
       "Deviance Residuals: \n",
       "     Min        1Q    Median        3Q       Max  \n",
       "-0.86903  -0.08908   0.00000   0.06047   0.80881  \n",
       "\n",
       "Coefficients: (5 not defined because of singularities)\n",
       "                    Estimate Std. Error z value Pr(>|z|)    \n",
       "(Intercept)          1.60944    0.44721   3.599  0.00032 ***\n",
       "K13                 -1.83252    1.17661  -1.557  0.11936    \n",
       "K1+3                 0.29184    0.76722   0.380  0.70365    \n",
       "K14                  1.16686    0.72161   1.617  0.10587    \n",
       "K1+4                 0.86552    0.77135   1.122  0.26183    \n",
       "K15                  0.85966    0.63615   1.351  0.17658    \n",
       "K23                 -2.61466    1.16128  -2.252  0.02435 *  \n",
       "K2+3                -1.11675    0.74555  -1.498  0.13416    \n",
       "K24                 -1.28102    0.71818  -1.784  0.07447 .  \n",
       "K2+4                -1.37441    0.75441  -1.822  0.06848 .  \n",
       "K25                 -1.77595    0.63615  -2.792  0.00524 ** \n",
       "Symm(K1, K2)2:3      1.92585    1.18091   1.631  0.10293    \n",
       "Symm(K1, K2)2:+3    -1.42686    0.98714  -1.445  0.14833    \n",
       "Symm(K1, K2)2:4    -21.96301 8534.61353  -0.003  0.99795    \n",
       "Symm(K1, K2)2:+4    -2.57613    1.23357  -2.088  0.03677 *  \n",
       "Symm(K1, K2)2:5    -21.59613 8340.70550  -0.003  0.99793    \n",
       "Symm(K1, K2)3:3      3.93636    2.26235   1.740  0.08187 .  \n",
       "Symm(K1, K2)3:+3     2.07695    1.41686   1.466  0.14268    \n",
       "Symm(K1, K2)3:4      2.15011    1.34295   1.601  0.10937    \n",
       "Symm(K1, K2)3:+4     0.62360    1.50777   0.414  0.67917    \n",
       "Symm(K1, K2)3:5           NA         NA      NA       NA    \n",
       "Symm(K1, K2)+3:+3    0.82491    1.26744   0.651  0.51515    \n",
       "Symm(K1, K2)+3:4     1.03334    0.97381   1.061  0.28863    \n",
       "Symm(K1, K2)+3:+4    0.22621    1.04268   0.217  0.82825    \n",
       "Symm(K1, K2)+3:5          NA         NA      NA       NA    \n",
       "Symm(K1, K2)4:4      1.39509    1.10681   1.260  0.20750    \n",
       "Symm(K1, K2)4:+4     0.08298    0.99878   0.083  0.93378    \n",
       "Symm(K1, K2)4:5           NA         NA      NA       NA    \n",
       "Symm(K1, K2)+4:+4   -0.40740    1.34688  -0.302  0.76229    \n",
       "Symm(K1, K2)+4:5          NA         NA      NA       NA    \n",
       "Symm(K1, K2)5:5           NA         NA      NA       NA    \n",
       "---\n",
       "Signif. codes:  0 '***' 0.001 '**' 0.01 '*' 0.05 '.' 0.1 ' ' 1\n",
       "\n",
       "(Dispersion parameter for poisson family taken to be 1)\n",
       "\n",
       "    Null deviance: 129.4218  on 35  degrees of freedom\n",
       "Residual deviance:   3.7246  on 10  degrees of freedom\n",
       "AIC: 142.87\n",
       "\n",
       "Number of Fisher Scoring iterations: 18\n"
      ]
     },
     "metadata": {},
     "output_type": "display_data"
    }
   ],
   "source": [
    "quasi_symm <- glm(count ~ K1+K2 + Symm(K1,K2), data=data, family =poisson)\n",
    "summary(quasi_symm)"
   ]
  },
  {
   "cell_type": "code",
   "execution_count": 6,
   "metadata": {},
   "outputs": [
    {
     "data": {
      "text/html": [
       "0.9589"
      ],
      "text/latex": [
       "0.9589"
      ],
      "text/markdown": [
       "0.9589"
      ],
      "text/plain": [
       "[1] 0.9589"
      ]
     },
     "metadata": {},
     "output_type": "display_data"
    }
   ],
   "source": [
    "x = quasi_symm$deviance\n",
    "r = 10\n",
    "p = 1 - pchisq(x, r)\n",
    "\n",
    "p %>% round(4)"
   ]
  },
  {
   "cell_type": "markdown",
   "metadata": {},
   "source": [
    "Otrzymana p-wartość na poziomie $0.9589$ nie daje podstaw do odrzucenia hipotezy o quasi-symetrii."
   ]
  },
  {
   "cell_type": "markdown",
   "metadata": {},
   "source": [
    "### Quasi-niezależność\n",
    "Do testowania quasi-niezależności również możemy wykorzystać funkcję `glm`."
   ]
  },
  {
   "cell_type": "code",
   "execution_count": 7,
   "metadata": {},
   "outputs": [
    {
     "data": {
      "text/plain": [
       "\n",
       "Call:\n",
       "glm(formula = count ~ K1 + K2 + Diag(K1, K2), family = poisson, \n",
       "    data = data)\n",
       "\n",
       "Deviance Residuals: \n",
       "    Min       1Q   Median       3Q      Max  \n",
       "-2.5605  -0.6443  -0.0649   0.2053   3.3845  \n",
       "\n",
       "Coefficients:\n",
       "               Estimate Std. Error z value Pr(>|z|)    \n",
       "(Intercept)     -1.3500     0.6876  -1.963 0.049590 *  \n",
       "K13              1.3547     0.6616   2.048 0.040602 *  \n",
       "K1+3             1.8306     0.6423   2.850 0.004372 ** \n",
       "K14              2.5373     0.6092   4.165 3.12e-05 ***\n",
       "K1+4             1.5024     0.6425   2.338 0.019370 *  \n",
       "K15              1.2838     0.6527   1.967 0.049190 *  \n",
       "K23              0.9628     0.4241   2.270 0.023181 *  \n",
       "K2+3             1.3646     0.4095   3.333 0.000861 ***\n",
       "K24              1.0334     0.4545   2.274 0.022994 *  \n",
       "K2+4             0.3432     0.4768   0.720 0.471570    \n",
       "K25             -0.1993     0.5417  -0.368 0.712931    \n",
       "Diag(K1, K2)2    2.9595     0.8202   3.608 0.000308 ***\n",
       "Diag(K1, K2)3    0.1312     0.7110   0.184 0.853635    \n",
       "Diag(K1, K2)+3  -0.2357     0.5786  -0.407 0.683712    \n",
       "Diag(K1, K2)4    0.6698     0.4315   1.552 0.120596    \n",
       "Diag(K1, K2)+4   0.1976     0.8333   0.237 0.812573    \n",
       "Diag(K1, K2)5    0.9587     0.8794   1.090 0.275637    \n",
       "---\n",
       "Signif. codes:  0 '***' 0.001 '**' 0.01 '*' 0.05 '.' 0.1 ' ' 1\n",
       "\n",
       "(Dispersion parameter for poisson family taken to be 1)\n",
       "\n",
       "    Null deviance: 129.422  on 35  degrees of freedom\n",
       "Residual deviance:  36.325  on 19  degrees of freedom\n",
       "AIC: 157.47\n",
       "\n",
       "Number of Fisher Scoring iterations: 6\n"
      ]
     },
     "metadata": {},
     "output_type": "display_data"
    }
   ],
   "source": [
    "quasi_ind <-  glm(count ~ K1 + K2 + Diag(K1, K2), data=data, family = poisson)\n",
    "summary(quasi_ind)"
   ]
  },
  {
   "cell_type": "code",
   "execution_count": 8,
   "metadata": {},
   "outputs": [
    {
     "data": {
      "text/html": [
       "0.0096"
      ],
      "text/latex": [
       "0.0096"
      ],
      "text/markdown": [
       "0.0096"
      ],
      "text/plain": [
       "[1] 0.0096"
      ]
     },
     "metadata": {},
     "output_type": "display_data"
    }
   ],
   "source": [
    "x = quasi_ind$deviance\n",
    "r = 19\n",
    "p = 1 - pchisq(x, r)\n",
    "p %>% round(4)"
   ]
  },
  {
   "cell_type": "markdown",
   "metadata": {},
   "source": [
    "Test ilorazu wiarygodności zwraca p-wartość $0.0096 < 0.05$, więc odrzucamy hipotezę zerową o quasi-niezależności.\n",
    "\n",
    "## Zadanie 2\n",
    "\n",
    "W zadaniu drugim musimy wskazać, że rozkłady brzegowe są jednorodne. W poprzednim popdunkcie nie odrzuciliśmy hipotezy o quasi-symetrii, więc wnioskujemy że ona zachodzi. W takim przypadku, testowanie brzegowej jednorodności sprowadza się do testowania symetrii, pod warunkiem, że zachodzi quasi-symetria. \n",
    "\n",
    "Tę hipotezę można zweryfikować za pomocą testu IW, który w pakiecie R zaimplementowany jest w funkcji `anova`."
   ]
  },
  {
   "cell_type": "code",
   "execution_count": 9,
   "metadata": {},
   "outputs": [
    {
     "data": {
      "text/html": [
       "<table class=\"dataframe\">\n",
       "<caption>A anova: 2 × 4</caption>\n",
       "<thead>\n",
       "\t<tr><th></th><th scope=col>Resid. Df</th><th scope=col>Resid. Dev</th><th scope=col>Df</th><th scope=col>Deviance</th></tr>\n",
       "\t<tr><th></th><th scope=col>&lt;dbl&gt;</th><th scope=col>&lt;dbl&gt;</th><th scope=col>&lt;dbl&gt;</th><th scope=col>&lt;dbl&gt;</th></tr>\n",
       "</thead>\n",
       "<tbody>\n",
       "\t<tr><th scope=row>1</th><td>15</td><td>22.28825</td><td>NA</td><td>     NA</td></tr>\n",
       "\t<tr><th scope=row>2</th><td>10</td><td> 3.72455</td><td> 5</td><td>18.5637</td></tr>\n",
       "</tbody>\n",
       "</table>\n"
      ],
      "text/latex": [
       "A anova: 2 × 4\n",
       "\\begin{tabular}{r|llll}\n",
       "  & Resid. Df & Resid. Dev & Df & Deviance\\\\\n",
       "  & <dbl> & <dbl> & <dbl> & <dbl>\\\\\n",
       "\\hline\n",
       "\t1 & 15 & 22.28825 & NA &      NA\\\\\n",
       "\t2 & 10 &  3.72455 &  5 & 18.5637\\\\\n",
       "\\end{tabular}\n"
      ],
      "text/markdown": [
       "\n",
       "A anova: 2 × 4\n",
       "\n",
       "| <!--/--> | Resid. Df &lt;dbl&gt; | Resid. Dev &lt;dbl&gt; | Df &lt;dbl&gt; | Deviance &lt;dbl&gt; |\n",
       "|---|---|---|---|---|\n",
       "| 1 | 15 | 22.28825 | NA |      NA |\n",
       "| 2 | 10 |  3.72455 |  5 | 18.5637 |\n",
       "\n"
      ],
      "text/plain": [
       "  Resid. Df Resid. Dev Df Deviance\n",
       "1 15        22.28825   NA      NA \n",
       "2 10         3.72455    5 18.5637 "
      ]
     },
     "metadata": {},
     "output_type": "display_data"
    }
   ],
   "source": [
    "comparison <- anova(symmetry, quasi_symm)\n",
    "comparison"
   ]
  },
  {
   "cell_type": "markdown",
   "metadata": {},
   "source": [
    "Obliczmy zatem p-wartość."
   ]
  },
  {
   "cell_type": "code",
   "execution_count": 10,
   "metadata": {},
   "outputs": [
    {
     "data": {
      "text/html": [
       "0.0023"
      ],
      "text/latex": [
       "0.0023"
      ],
      "text/markdown": [
       "0.0023"
      ],
      "text/plain": [
       "[1] 0.0023"
      ]
     },
     "metadata": {},
     "output_type": "display_data"
    }
   ],
   "source": [
    "p = 1-pchisq(18.5637,5)\n",
    "p %>% round(4)"
   ]
  },
  {
   "cell_type": "markdown",
   "metadata": {},
   "source": [
    "Korzystając z testu IW, dla $\\alpha = 0.05$, odrzucamy hipotezę o symetrii, pod warunkiem, że zachodzi quasi-symetria (p-wartość jest równa $0.0023$). Zatem należy również odrzucić hipotezę o jednorodności rozkładów brzegowych."
   ]
  },
  {
   "cell_type": "markdown",
   "metadata": {},
   "source": [
    "# Lista 12, 13, 14\n",
    "\n",
    "Część trzecia sprawozdania.\n",
    "\n",
    "## Zadanie 1\n",
    "\n",
    "W zadaniu pierwszym naszym zadaniem jest interpretacja modeli log-liniowych hierarchicznie uporządkowanych. Dane w zadaniach 1-4 pochodzą z pliku `Ankieta.csv`, zawierającego wyniki ankietowania 40 losowo wybranych studentów PWr. Oznaczmy zmienne jako:\n",
    "\n",
    "* Zmienna 1 &ndash; SEN,\n",
    "* Zmienna 2 &ndash; BIEGANIE,\n",
    "* Zmienna 3 &ndash; PIES."
   ]
  },
  {
   "cell_type": "code",
   "execution_count": 11,
   "metadata": {},
   "outputs": [
    {
     "data": {
      "text/html": [
       "<table class=\"dataframe\">\n",
       "<caption>A data.frame: 8 × 4</caption>\n",
       "<thead>\n",
       "\t<tr><th scope=col>SEN</th><th scope=col>BIEGANIE</th><th scope=col>PIES</th><th scope=col>Freq</th></tr>\n",
       "\t<tr><th scope=col>&lt;fct&gt;</th><th scope=col>&lt;fct&gt;</th><th scope=col>&lt;fct&gt;</th><th scope=col>&lt;int&gt;</th></tr>\n",
       "</thead>\n",
       "<tbody>\n",
       "\t<tr><td>0</td><td>0</td><td>0</td><td> 6</td></tr>\n",
       "\t<tr><td>1</td><td>0</td><td>0</td><td> 5</td></tr>\n",
       "\t<tr><td>0</td><td>1</td><td>0</td><td> 1</td></tr>\n",
       "\t<tr><td>1</td><td>1</td><td>0</td><td> 5</td></tr>\n",
       "\t<tr><td>0</td><td>0</td><td>1</td><td> 2</td></tr>\n",
       "\t<tr><td>1</td><td>0</td><td>1</td><td> 5</td></tr>\n",
       "\t<tr><td>0</td><td>1</td><td>1</td><td> 2</td></tr>\n",
       "\t<tr><td>1</td><td>1</td><td>1</td><td>14</td></tr>\n",
       "</tbody>\n",
       "</table>\n"
      ],
      "text/latex": [
       "A data.frame: 8 × 4\n",
       "\\begin{tabular}{llll}\n",
       " SEN & BIEGANIE & PIES & Freq\\\\\n",
       " <fct> & <fct> & <fct> & <int>\\\\\n",
       "\\hline\n",
       "\t 0 & 0 & 0 &  6\\\\\n",
       "\t 1 & 0 & 0 &  5\\\\\n",
       "\t 0 & 1 & 0 &  1\\\\\n",
       "\t 1 & 1 & 0 &  5\\\\\n",
       "\t 0 & 0 & 1 &  2\\\\\n",
       "\t 1 & 0 & 1 &  5\\\\\n",
       "\t 0 & 1 & 1 &  2\\\\\n",
       "\t 1 & 1 & 1 & 14\\\\\n",
       "\\end{tabular}\n"
      ],
      "text/markdown": [
       "\n",
       "A data.frame: 8 × 4\n",
       "\n",
       "| SEN &lt;fct&gt; | BIEGANIE &lt;fct&gt; | PIES &lt;fct&gt; | Freq &lt;int&gt; |\n",
       "|---|---|---|---|\n",
       "| 0 | 0 | 0 |  6 |\n",
       "| 1 | 0 | 0 |  5 |\n",
       "| 0 | 1 | 0 |  1 |\n",
       "| 1 | 1 | 0 |  5 |\n",
       "| 0 | 0 | 1 |  2 |\n",
       "| 1 | 0 | 1 |  5 |\n",
       "| 0 | 1 | 1 |  2 |\n",
       "| 1 | 1 | 1 | 14 |\n",
       "\n"
      ],
      "text/plain": [
       "  SEN BIEGANIE PIES Freq\n",
       "1 0   0        0     6  \n",
       "2 1   0        0     5  \n",
       "3 0   1        0     1  \n",
       "4 1   1        0     5  \n",
       "5 0   0        1     2  \n",
       "6 1   0        1     5  \n",
       "7 0   1        1     2  \n",
       "8 1   1        1    14  "
      ]
     },
     "metadata": {},
     "output_type": "display_data"
    }
   ],
   "source": [
    "data <- read.csv2(\"Ankieta.csv\")\n",
    "data <- mutate(data, across(c(\"SEN\", \"BIEGANIE\", \"PIES\")))\n",
    "data <- ftable(data)\n",
    "data.df <- as.data.frame(data)\n",
    "\n",
    "data.df"
   ]
  },
  {
   "cell_type": "markdown",
   "metadata": {},
   "source": [
    "\n",
    "### a. $[1\\,\\,3]$\n",
    "~~Mamy wyraz wolny, efekt gl odp 1 zmiennej, efekt gl odp zmiennej 3, nie bierzemy interakcji iinnych emiznnych, interpretacja = zakladamy ze 3 zmienne losowe sa niezlezne, dodatkowo ta dwojka ma rozklad rownomierny.  \n",
    "ZMIENNA LOSOWA 2 BIEGANIE ma rozklad rownomierny a 1 i 3 dowolne zmienne losowe o roznych rozkladach\n",
    "a-f dopasowac do danych \n",
    "(kroki ze skryptu)\n",
    "wczytac dane ankieta (zerznac kod z tablicy)\n",
    "zdefiniowac model\n",
    "odpalic pod. modelu\n",
    "policzyc test (p-value): porownac licznosci teoretyczne i te z modelu\n",
    "powtorzyc \n",
    "TABELA z p-wartosciami dla a-f\n",
    "licznosci teoretyczne i licznosci z modeli a-f~~\n",
    "\n",
    "Model ma postać"
   ]
  },
  {
   "cell_type": "markdown",
   "metadata": {},
   "source": [
    "$$\n",
    "\\ln{E\\left(Y_{i_1, i_2, i_3}\\right)} = \\lambda + \\lambda_{i_{1}}^1 + \\lambda_{i_{3}}^3.\n",
    "$$"
   ]
  },
  {
   "cell_type": "code",
   "execution_count": 12,
   "metadata": {},
   "outputs": [
    {
     "data": {
      "text/plain": [
       "\n",
       "Call:\n",
       "glm(formula = Freq ~ SEN + PIES, family = poisson, data = data.df)\n",
       "\n",
       "Deviance Residuals: \n",
       "      1        2        3        4        5        6        7        8  \n",
       " 1.9968  -0.4843  -0.9883  -0.4843  -0.7015  -1.2497  -0.7015   1.7853  \n",
       "\n",
       "Coefficients:\n",
       "            Estimate Std. Error z value Pr(>|z|)   \n",
       "(Intercept)   0.8491     0.3532   2.404  0.01621 * \n",
       "SEN1          0.9694     0.3541   2.738  0.00619 **\n",
       "PIES1         0.3023     0.3198   0.945  0.34462   \n",
       "---\n",
       "Signif. codes:  0 '***' 0.001 '**' 0.01 '*' 0.05 '.' 0.1 ' ' 1\n",
       "\n",
       "(Dispersion parameter for poisson family taken to be 1)\n",
       "\n",
       "    Null deviance: 20.468  on 7  degrees of freedom\n",
       "Residual deviance: 11.166  on 5  degrees of freedom\n",
       "AIC: 42.982\n",
       "\n",
       "Number of Fisher Scoring iterations: 5\n"
      ]
     },
     "metadata": {},
     "output_type": "display_data"
    }
   ],
   "source": [
    "model <- glm(Freq ~ SEN + PIES, \n",
    "            data = data.df, family = poisson)\n",
    "\n",
    "a <- fitted(model)\n",
    "\n",
    "summary(model)"
   ]
  },
  {
   "cell_type": "markdown",
   "metadata": {},
   "source": [
    "Przeprowadźmy test, czy dane pochodzą z rozważanego modelu. Hipoteza zerowa $H_0$ mówi, że dane są z modelu $[1\\, 2\\, 3]$, a hipoteza alternatywna $H_a$ stanowi, że dane są z modelu pełnego."
   ]
  },
  {
   "cell_type": "code",
   "execution_count": 13,
   "metadata": {},
   "outputs": [
    {
     "data": {
      "text/html": [
       "0.0482"
      ],
      "text/latex": [
       "0.0482"
      ],
      "text/markdown": [
       "0.0482"
      ],
      "text/plain": [
       "[1] 0.0482"
      ]
     },
     "metadata": {},
     "output_type": "display_data"
    }
   ],
   "source": [
    "p_a <- 1-pchisq(deviance(model), df = df.residual(model))\n",
    "\n",
    "p_a %>% round(4)"
   ]
  },
  {
   "cell_type": "markdown",
   "metadata": {},
   "source": [
    "Otrzymaliśmy p-wartość równą $0.0482 < 0.05$. Odrzucamy więc hipotezę zerową.\n",
    "\n",
    "### b. $[13]$"
   ]
  },
  {
   "cell_type": "markdown",
   "metadata": {},
   "source": [
    "Model ma postać"
   ]
  },
  {
   "cell_type": "markdown",
   "metadata": {},
   "source": [
    "$$ \n",
    "\\ln{E\\left(Y_{i_1, i_2, i_3}\\right)} = \\lambda + \\lambda_{i_{1}}^{(1)} + \\lambda_{i_{3}}^{(3)} + \\lambda_{i_{1}i_{3}}^{(13)}.\n",
    "$$"
   ]
  },
  {
   "cell_type": "code",
   "execution_count": 14,
   "metadata": {},
   "outputs": [
    {
     "data": {
      "text/plain": [
       "\n",
       "Call:\n",
       "glm(formula = Freq ~ SEN + PIES + SEN * PIES, family = poisson, \n",
       "    data = data.df)\n",
       "\n",
       "Deviance Residuals: \n",
       "     1       2       3       4       5       6       7       8  \n",
       " 1.212   0.000  -1.579   0.000   0.000  -1.607   0.000   1.363  \n",
       "\n",
       "Coefficients:\n",
       "            Estimate Std. Error z value Pr(>|z|)    \n",
       "(Intercept)   1.2528     0.3780   3.314 0.000918 ***\n",
       "SEN1          0.3567     0.4928   0.724 0.469210    \n",
       "PIES1        -0.5596     0.6268  -0.893 0.371944    \n",
       "SEN1:PIES1    1.2015     0.7386   1.627 0.103791    \n",
       "---\n",
       "Signif. codes:  0 '***' 0.001 '**' 0.01 '*' 0.05 '.' 0.1 ' ' 1\n",
       "\n",
       "(Dispersion parameter for poisson family taken to be 1)\n",
       "\n",
       "    Null deviance: 20.4680  on 7  degrees of freedom\n",
       "Residual deviance:  8.4013  on 4  degrees of freedom\n",
       "AIC: 42.217\n",
       "\n",
       "Number of Fisher Scoring iterations: 5\n"
      ]
     },
     "metadata": {},
     "output_type": "display_data"
    }
   ],
   "source": [
    "model <- glm(Freq ~ SEN + PIES + SEN*PIES, \n",
    "            data = data.df, family = poisson)\n",
    "\n",
    "b <- fitted(model)\n",
    "\n",
    "summary(model)"
   ]
  },
  {
   "cell_type": "markdown",
   "metadata": {},
   "source": [
    "Ponownie jak poprzednio, przeprowadźmy test czy dane pochodzą z tego modelu."
   ]
  },
  {
   "cell_type": "code",
   "execution_count": 15,
   "metadata": {},
   "outputs": [
    {
     "data": {
      "text/html": [
       "0.0779"
      ],
      "text/latex": [
       "0.0779"
      ],
      "text/markdown": [
       "0.0779"
      ],
      "text/plain": [
       "[1] 0.0779"
      ]
     },
     "metadata": {},
     "output_type": "display_data"
    }
   ],
   "source": [
    "p_b <- 1-pchisq(deviance(model), df = df.residual(model))\n",
    "\n",
    "p_b %>% round(4)"
   ]
  },
  {
   "cell_type": "markdown",
   "metadata": {},
   "source": [
    "Otrzymaliśmy p-wartość równą $0.0779 > 0.05$. Nie ma więc podstaw do odrzucenia hipotezy zerowej.\n",
    "\n",
    "### c. $[1\\, 2\\, 3]$\n",
    "\n",
    "Model ma postać"
   ]
  },
  {
   "cell_type": "markdown",
   "metadata": {},
   "source": [
    "$$\n",
    "\\ln{E\\left(Y_{i_1, i_2, i_3}\\right)} = \\lambda + \\lambda_{i_{1}}^{(1)} + \\lambda_{i_{2}}^{(2)}+  \\lambda_{i_{3}}^{(3)}.\n",
    "$$"
   ]
  },
  {
   "cell_type": "code",
   "execution_count": 16,
   "metadata": {},
   "outputs": [
    {
     "data": {
      "text/plain": [
       "\n",
       "Call:\n",
       "glm(formula = Freq ~ SEN + BIEGANIE + PIES, family = poisson, \n",
       "    data = data.df)\n",
       "\n",
       "Deviance Residuals: \n",
       "      1        2        3        4        5        6        7        8  \n",
       " 2.1872  -0.2359  -1.1197  -0.7169  -0.5302  -0.9736  -0.8622   1.4785  \n",
       "\n",
       "Coefficients:\n",
       "            Estimate Std. Error z value Pr(>|z|)   \n",
       "(Intercept)   0.7437     0.3941   1.887  0.05912 . \n",
       "SEN1          0.9694     0.3541   2.738  0.00619 **\n",
       "BIEGANIE1     0.2007     0.3178   0.631  0.52778   \n",
       "PIES1         0.3023     0.3198   0.945  0.34462   \n",
       "---\n",
       "Signif. codes:  0 '***' 0.001 '**' 0.01 '*' 0.05 '.' 0.1 ' ' 1\n",
       "\n",
       "(Dispersion parameter for poisson family taken to be 1)\n",
       "\n",
       "    Null deviance: 20.468  on 7  degrees of freedom\n",
       "Residual deviance: 10.766  on 4  degrees of freedom\n",
       "AIC: 44.581\n",
       "\n",
       "Number of Fisher Scoring iterations: 5\n"
      ]
     },
     "metadata": {},
     "output_type": "display_data"
    }
   ],
   "source": [
    "model <- glm(Freq ~ SEN + BIEGANIE + PIES, \n",
    "            data = data.df, family = poisson)\n",
    "\n",
    "c <- fitted(model)\n",
    "\n",
    "summary(model)"
   ]
  },
  {
   "cell_type": "markdown",
   "metadata": {},
   "source": [
    "Analogicznie, przeprowadźmy test, czy dane pochodzą z tego modelu."
   ]
  },
  {
   "cell_type": "code",
   "execution_count": 17,
   "metadata": {},
   "outputs": [
    {
     "data": {
      "text/html": [
       "0.0293"
      ],
      "text/latex": [
       "0.0293"
      ],
      "text/markdown": [
       "0.0293"
      ],
      "text/plain": [
       "[1] 0.0293"
      ]
     },
     "metadata": {},
     "output_type": "display_data"
    }
   ],
   "source": [
    "p_c <- 1-pchisq(deviance(model), df = df.residual(model))\n",
    "\n",
    "p_c %>% round(4)"
   ]
  },
  {
   "cell_type": "markdown",
   "metadata": {},
   "source": [
    "Otrzymama p-wartość na poziomie $0.0293$ nie pozwala na przyjęcie hipotezy zerowej.\n",
    "\n",
    "### d. $[12\\, 3]$\n",
    "\n",
    "Model ma postać"
   ]
  },
  {
   "cell_type": "markdown",
   "metadata": {},
   "source": [
    "$$\n",
    "\\ln{E\\left(Y_{i_1, i_2, i_3}\\right)} = \\lambda + \\lambda_{i_{1}}^{(1)} + \\lambda_{i_{2}}^{(2)}+  \\lambda_{i_{3}}^{(3)} \n",
    "+ \\lambda_{i_{1}i_{2}}^{(12)}\n",
    "$$"
   ]
  },
  {
   "cell_type": "code",
   "execution_count": 18,
   "metadata": {},
   "outputs": [
    {
     "data": {
      "text/plain": [
       "\n",
       "Call:\n",
       "glm(formula = Freq ~ SEN + BIEGANIE + PIES + SEN * BIEGANIE, \n",
       "    family = poisson, data = data.df)\n",
       "\n",
       "Deviance Residuals: \n",
       "      1        2        3        4        5        6        7        8  \n",
       " 1.2711   0.3538  -0.2532  -1.1647  -1.3669  -0.3200   0.2042   0.8911  \n",
       "\n",
       "Coefficients:\n",
       "               Estimate Std. Error z value Pr(>|z|)   \n",
       "(Intercept)      1.2238     0.3985   3.071  0.00214 **\n",
       "SEN1             0.2231     0.4743   0.470  0.63805   \n",
       "BIEGANIE1       -0.9808     0.6770  -1.449  0.14740   \n",
       "PIES1            0.3023     0.3198   0.945  0.34462   \n",
       "SEN1:BIEGANIE1   1.6227     0.7816   2.076  0.03789 * \n",
       "---\n",
       "Signif. codes:  0 '***' 0.001 '**' 0.01 '*' 0.05 '.' 0.1 ' ' 1\n",
       "\n",
       "(Dispersion parameter for poisson family taken to be 1)\n",
       "\n",
       "    Null deviance: 20.4680  on 7  degrees of freedom\n",
       "Residual deviance:  5.9683  on 3  degrees of freedom\n",
       "AIC: 41.784\n",
       "\n",
       "Number of Fisher Scoring iterations: 5\n"
      ]
     },
     "metadata": {},
     "output_type": "display_data"
    }
   ],
   "source": [
    "model <- glm(Freq ~ SEN + BIEGANIE + PIES + SEN*BIEGANIE, \n",
    "            data = data.df, family = poisson)\n",
    "\n",
    "d <- fitted(model)\n",
    "\n",
    "summary(model)"
   ]
  },
  {
   "cell_type": "markdown",
   "metadata": {},
   "source": [
    "Analogicznie, przeprowadźmy test, czy dane pochodzą z tego modelu."
   ]
  },
  {
   "cell_type": "code",
   "execution_count": 19,
   "metadata": {},
   "outputs": [
    {
     "data": {
      "text/html": [
       "0.1132"
      ],
      "text/latex": [
       "0.1132"
      ],
      "text/markdown": [
       "0.1132"
      ],
      "text/plain": [
       "[1] 0.1132"
      ]
     },
     "metadata": {},
     "output_type": "display_data"
    }
   ],
   "source": [
    "p_d <- 1-pchisq(deviance(model), df = df.residual(model))\n",
    "\n",
    "p_d %>% round(4)"
   ]
  },
  {
   "cell_type": "markdown",
   "metadata": {},
   "source": [
    "Otrzymaliśmy p-wartość równą $0.1132 > 0.05$, więc nie mamy podstaw do odrzucenia hipotezy zerowej.\n",
    "\n",
    "### e. $[12\\, 13]$\n",
    "\n",
    "Model ma postać"
   ]
  },
  {
   "cell_type": "markdown",
   "metadata": {},
   "source": [
    "$$\n",
    "\\ln{E\\left(Y_{i_1, i_2, i_3}\\right)} = \\lambda + \\lambda_{i_{1}}^{(1)} + \\lambda_{i_{2}}^{(2)}+  \\lambda_{i_{3}}^{(3)} \n",
    "+ \\lambda_{i_{1}i_{2}}^{(12)} + \\lambda_{i_{1}i_{3}}^{(13)}.\n",
    "$$"
   ]
  },
  {
   "cell_type": "code",
   "execution_count": 20,
   "metadata": {},
   "outputs": [
    {
     "data": {
      "text/plain": [
       "\n",
       "Call:\n",
       "glm(formula = Freq ~ SEN + BIEGANIE + PIES + SEN * BIEGANIE + \n",
       "    SEN * PIES, family = poisson, data = data.df)\n",
       "\n",
       "Deviance Residuals: \n",
       "      1        2        3        4        5        6        7        8  \n",
       " 0.3917   0.7824  -0.7245  -0.6329  -0.5652  -0.6329   0.7787   0.4311  \n",
       "\n",
       "Coefficients:\n",
       "               Estimate Std. Error z value Pr(>|z|)    \n",
       "(Intercept)      1.6275     0.4207   3.869 0.000109 ***\n",
       "SEN1            -0.3896     0.5852  -0.666 0.505590    \n",
       "BIEGANIE1       -0.9808     0.6770  -1.449 0.147385    \n",
       "PIES1           -0.5596     0.6268  -0.893 0.371937    \n",
       "SEN1:BIEGANIE1   1.6227     0.7816   2.076 0.037890 *  \n",
       "SEN1:PIES1       1.2015     0.7386   1.627 0.103787    \n",
       "---\n",
       "Signif. codes:  0 '***' 0.001 '**' 0.01 '*' 0.05 '.' 0.1 ' ' 1\n",
       "\n",
       "(Dispersion parameter for poisson family taken to be 1)\n",
       "\n",
       "    Null deviance: 20.4680  on 7  degrees of freedom\n",
       "Residual deviance:  3.2033  on 2  degrees of freedom\n",
       "AIC: 41.019\n",
       "\n",
       "Number of Fisher Scoring iterations: 4\n"
      ]
     },
     "metadata": {},
     "output_type": "display_data"
    }
   ],
   "source": [
    "model <- glm(Freq ~ SEN + BIEGANIE + PIES + SEN*BIEGANIE + SEN*PIES, \n",
    "            data = data.df, family = poisson)\n",
    "\n",
    "e <- fitted(model)\n",
    "\n",
    "summary(model)"
   ]
  },
  {
   "cell_type": "markdown",
   "metadata": {},
   "source": [
    "Analogicznie, przeprowadźmy test, czy dane pochodzą z tego modelu."
   ]
  },
  {
   "cell_type": "code",
   "execution_count": 21,
   "metadata": {},
   "outputs": [
    {
     "data": {
      "text/html": [
       "0.2016"
      ],
      "text/latex": [
       "0.2016"
      ],
      "text/markdown": [
       "0.2016"
      ],
      "text/plain": [
       "[1] 0.2016"
      ]
     },
     "metadata": {},
     "output_type": "display_data"
    }
   ],
   "source": [
    "p_e <- 1-pchisq(deviance(model), df = df.residual(model))\n",
    "\n",
    "p_e %>% round(4)"
   ]
  },
  {
   "cell_type": "markdown",
   "metadata": {},
   "source": [
    "Otrzymaliśmy p-wartość równą $0.2016 > 0.05$, więc ponownie nie mamy podstaw do odrzucenia hipotezy zerowej.\n",
    "\n",
    "### f. $[1\\, 23]$\n",
    "\n",
    "Model ma postać"
   ]
  },
  {
   "cell_type": "markdown",
   "metadata": {},
   "source": [
    "$$\n",
    "\\ln{E\\left(Y_{i_1, i_2, i_3}\\right)} = \\lambda + \\lambda_{i_{1}}^{(1)} + \\lambda_{i_{2}}^{(2)}+  \\lambda_{i_{3}}^{(3)}  + \\lambda_{i_{2}i_{3}}^{(23)}.\n",
    "$$"
   ]
  },
  {
   "cell_type": "code",
   "execution_count": 22,
   "metadata": {},
   "outputs": [
    {
     "data": {
      "text/plain": [
       "\n",
       "Call:\n",
       "glm(formula = Freq ~ SEN + BIEGANIE + PIES + BIEGANIE * PIES, \n",
       "    family = poisson, data = data.df)\n",
       "\n",
       "Deviance Residuals: \n",
       "       1         2         3         4         5         6         7         8  \n",
       " 1.50605  -1.13193  -0.54631   0.30434   0.05371  -0.03337  -1.28303   0.68225  \n",
       "\n",
       "Coefficients:\n",
       "                Estimate Std. Error z value Pr(>|z|)   \n",
       "(Intercept)       1.1069     0.3960   2.795  0.00519 **\n",
       "SEN1              0.9694     0.3541   2.738  0.00619 **\n",
       "BIEGANIE1        -0.6061     0.5075  -1.194  0.23236   \n",
       "PIES1            -0.4520     0.4835  -0.935  0.34988   \n",
       "BIEGANIE1:PIES1   1.4328     0.6804   2.106  0.03522 * \n",
       "---\n",
       "Signif. codes:  0 '***' 0.001 '**' 0.01 '*' 0.05 '.' 0.1 ' ' 1\n",
       "\n",
       "(Dispersion parameter for poisson family taken to be 1)\n",
       "\n",
       "    Null deviance: 20.4680  on 7  degrees of freedom\n",
       "Residual deviance:  6.0561  on 3  degrees of freedom\n",
       "AIC: 41.872\n",
       "\n",
       "Number of Fisher Scoring iterations: 5\n"
      ]
     },
     "metadata": {},
     "output_type": "display_data"
    }
   ],
   "source": [
    "model <- glm(Freq ~ SEN + BIEGANIE + PIES + BIEGANIE*PIES, \n",
    "            data = data.df, family = poisson)\n",
    "\n",
    "f <- fitted(model)\n",
    "\n",
    "summary(model)"
   ]
  },
  {
   "cell_type": "markdown",
   "metadata": {},
   "source": [
    "Analogicznie, przeprowadźmy test, czy dane pochodzą z tego modelu."
   ]
  },
  {
   "cell_type": "code",
   "execution_count": 23,
   "metadata": {},
   "outputs": [
    {
     "data": {
      "text/html": [
       "0.1089"
      ],
      "text/latex": [
       "0.1089"
      ],
      "text/markdown": [
       "0.1089"
      ],
      "text/plain": [
       "[1] 0.1089"
      ]
     },
     "metadata": {},
     "output_type": "display_data"
    }
   ],
   "source": [
    "p_f <- 1-pchisq(deviance(model), df = df.residual(model))\n",
    "\n",
    "p_f %>% round(4)"
   ]
  },
  {
   "cell_type": "markdown",
   "metadata": {},
   "source": [
    "Otrzymaliśmy p-wartość równą $0.1089 > 0.05$, więc nie mamy podstaw do odrzucenia hipotezy zerowej.\n",
    "\n",
    "#### Tabela porównawcza\n",
    "\n",
    "Porównajmy wyniki dla wszystkich podpunktów. Najpierw, zobaczmy jak poszczególne modele dobierały liczności do danych teoretycznych."
   ]
  },
  {
   "cell_type": "code",
   "execution_count": 24,
   "metadata": {},
   "outputs": [
    {
     "data": {
      "text/html": [
       "<table class=\"dataframe\">\n",
       "<caption>A matrix: 8 × 7 of type dbl</caption>\n",
       "<thead>\n",
       "\t<tr><th scope=col>teoretyczne</th><th scope=col>[1 3]</th><th scope=col>[13]</th><th scope=col>[1 2 3]</th><th scope=col>[12 3]</th><th scope=col>[12 13]</th><th scope=col>[1 23]</th></tr>\n",
       "</thead>\n",
       "<tbody>\n",
       "\t<tr><td> 6</td><td>2.3375</td><td>3.5</td><td>2.10375</td><td> 3.400</td><td> 5.090909</td><td> 3.025</td></tr>\n",
       "\t<tr><td> 5</td><td>6.1625</td><td>5.0</td><td>5.54625</td><td> 4.250</td><td> 3.448276</td><td> 7.975</td></tr>\n",
       "\t<tr><td> 1</td><td>2.3375</td><td>3.5</td><td>2.57125</td><td> 1.275</td><td> 1.909091</td><td> 1.650</td></tr>\n",
       "\t<tr><td> 5</td><td>6.1625</td><td>5.0</td><td>6.77875</td><td> 8.075</td><td> 6.551724</td><td> 4.350</td></tr>\n",
       "\t<tr><td> 2</td><td>3.1625</td><td>2.0</td><td>2.84625</td><td> 4.600</td><td> 2.909091</td><td> 1.925</td></tr>\n",
       "\t<tr><td> 5</td><td>8.3375</td><td>9.5</td><td>7.50375</td><td> 5.750</td><td> 6.551724</td><td> 5.075</td></tr>\n",
       "\t<tr><td> 2</td><td>3.1625</td><td>2.0</td><td>3.47875</td><td> 1.725</td><td> 1.090909</td><td> 4.400</td></tr>\n",
       "\t<tr><td>14</td><td>8.3375</td><td>9.5</td><td>9.17125</td><td>10.925</td><td>12.448276</td><td>11.600</td></tr>\n",
       "</tbody>\n",
       "</table>\n"
      ],
      "text/latex": [
       "A matrix: 8 × 7 of type dbl\n",
       "\\begin{tabular}{lllllll}\n",
       " teoretyczne & {[}1 3{]} & {[}13{]} & {[}1 2 3{]} & {[}12 3{]} & {[}12 13{]} & {[}1 23{]}\\\\\n",
       "\\hline\n",
       "\t  6 & 2.3375 & 3.5 & 2.10375 &  3.400 &  5.090909 &  3.025\\\\\n",
       "\t  5 & 6.1625 & 5.0 & 5.54625 &  4.250 &  3.448276 &  7.975\\\\\n",
       "\t  1 & 2.3375 & 3.5 & 2.57125 &  1.275 &  1.909091 &  1.650\\\\\n",
       "\t  5 & 6.1625 & 5.0 & 6.77875 &  8.075 &  6.551724 &  4.350\\\\\n",
       "\t  2 & 3.1625 & 2.0 & 2.84625 &  4.600 &  2.909091 &  1.925\\\\\n",
       "\t  5 & 8.3375 & 9.5 & 7.50375 &  5.750 &  6.551724 &  5.075\\\\\n",
       "\t  2 & 3.1625 & 2.0 & 3.47875 &  1.725 &  1.090909 &  4.400\\\\\n",
       "\t 14 & 8.3375 & 9.5 & 9.17125 & 10.925 & 12.448276 & 11.600\\\\\n",
       "\\end{tabular}\n"
      ],
      "text/markdown": [
       "\n",
       "A matrix: 8 × 7 of type dbl\n",
       "\n",
       "| teoretyczne | [1 3] | [13] | [1 2 3] | [12 3] | [12 13] | [1 23] |\n",
       "|---|---|---|---|---|---|---|\n",
       "|  6 | 2.3375 | 3.5 | 2.10375 |  3.400 |  5.090909 |  3.025 |\n",
       "|  5 | 6.1625 | 5.0 | 5.54625 |  4.250 |  3.448276 |  7.975 |\n",
       "|  1 | 2.3375 | 3.5 | 2.57125 |  1.275 |  1.909091 |  1.650 |\n",
       "|  5 | 6.1625 | 5.0 | 6.77875 |  8.075 |  6.551724 |  4.350 |\n",
       "|  2 | 3.1625 | 2.0 | 2.84625 |  4.600 |  2.909091 |  1.925 |\n",
       "|  5 | 8.3375 | 9.5 | 7.50375 |  5.750 |  6.551724 |  5.075 |\n",
       "|  2 | 3.1625 | 2.0 | 3.47875 |  1.725 |  1.090909 |  4.400 |\n",
       "| 14 | 8.3375 | 9.5 | 9.17125 | 10.925 | 12.448276 | 11.600 |\n",
       "\n"
      ],
      "text/plain": [
       "     teoretyczne [1 3]  [13] [1 2 3] [12 3] [12 13]   [1 23]\n",
       "[1,]  6          2.3375 3.5  2.10375  3.400  5.090909  3.025\n",
       "[2,]  5          6.1625 5.0  5.54625  4.250  3.448276  7.975\n",
       "[3,]  1          2.3375 3.5  2.57125  1.275  1.909091  1.650\n",
       "[4,]  5          6.1625 5.0  6.77875  8.075  6.551724  4.350\n",
       "[5,]  2          3.1625 2.0  2.84625  4.600  2.909091  1.925\n",
       "[6,]  5          8.3375 9.5  7.50375  5.750  6.551724  5.075\n",
       "[7,]  2          3.1625 2.0  3.47875  1.725  1.090909  4.400\n",
       "[8,] 14          8.3375 9.5  9.17125 10.925 12.448276 11.600"
      ]
     },
     "metadata": {},
     "output_type": "display_data"
    }
   ],
   "source": [
    "# HIDE\n",
    "\n",
    "ma <- matrix(c(data.df$Freq, a, b, c, d, e, f), byrow=F, nrow=8)\n",
    "\n",
    "\n",
    "colnames(ma) <- c(\"teoretyczne\", \"[1 3]\", \"[13]\", \"[1 2 3]\", \"[12 3]\", \"[12 13]\", \"[1 23]\")\n",
    "\n",
    "ma"
   ]
  },
  {
   "cell_type": "markdown",
   "metadata": {},
   "source": [
    "Porwnajmy również p-wartości dla poszczególnych podpunktów."
   ]
  },
  {
   "cell_type": "code",
   "execution_count": 25,
   "metadata": {},
   "outputs": [
    {
     "data": {
      "text/html": [
       "<table class=\"dataframe\">\n",
       "<caption>A matrix: 1 × 6 of type dbl</caption>\n",
       "<thead>\n",
       "\t<tr><th></th><th scope=col>[1 3]</th><th scope=col>[13]</th><th scope=col>[1 2 3]</th><th scope=col>[12 3]</th><th scope=col>[12 13]</th><th scope=col>[1 23]</th></tr>\n",
       "</thead>\n",
       "<tbody>\n",
       "\t<tr><th scope=row>p-wartość</th><td>0.0482</td><td>0.0779</td><td>0.0293</td><td>0.1132</td><td>0.2016</td><td>0.1089</td></tr>\n",
       "</tbody>\n",
       "</table>\n"
      ],
      "text/latex": [
       "A matrix: 1 × 6 of type dbl\n",
       "\\begin{tabular}{r|llllll}\n",
       "  & {[}1 3{]} & {[}13{]} & {[}1 2 3{]} & {[}12 3{]} & {[}12 13{]} & {[}1 23{]}\\\\\n",
       "\\hline\n",
       "\tp-wartość & 0.0482 & 0.0779 & 0.0293 & 0.1132 & 0.2016 & 0.1089\\\\\n",
       "\\end{tabular}\n"
      ],
      "text/markdown": [
       "\n",
       "A matrix: 1 × 6 of type dbl\n",
       "\n",
       "| <!--/--> | [1 3] | [13] | [1 2 3] | [12 3] | [12 13] | [1 23] |\n",
       "|---|---|---|---|---|---|---|\n",
       "| p-wartość | 0.0482 | 0.0779 | 0.0293 | 0.1132 | 0.2016 | 0.1089 |\n",
       "\n"
      ],
      "text/plain": [
       "          [1 3]  [13]   [1 2 3] [12 3] [12 13] [1 23]\n",
       "p-wartość 0.0482 0.0779 0.0293  0.1132 0.2016  0.1089"
      ]
     },
     "metadata": {},
     "output_type": "display_data"
    }
   ],
   "source": [
    "# HIDE\n",
    "\n",
    "m <- matrix(c(p_a, p_b, p_c, p_d, p_e, p_f), byrow=F, nrow=1)\n",
    "\n",
    "rownames(m) <- c(\"p-wartość\")\n",
    "colnames(m) <- c(\"[1 3]\", \"[13]\", \"[1 2 3]\", \"[12 3]\", \"[12 13]\", \"[1 23]\")\n",
    "\n",
    "m %>% round(4)"
   ]
  },
  {
   "cell_type": "markdown",
   "metadata": {},
   "source": [
    "W porzypadku modeli $[1\\, 3]$ oraz $[1\\, 2\\, 3]$ uzyskane p-wartości są mniejsze niż ustalony poziom istotności $\\alpha = 0.05$, więc odrzuciliśmy te hipotezy.\n",
    "\n",
    "Dla pozostałych modeli, nie mieliśmy podstaw do odrzucenia hipotez zerowych, jednak warto zwrócić uwagę, że największa p-wartość uzyskaliśmy dla modelu $[12\\, 13]$. Możemy stwierdzić, że najlepiej odpisuje on nasze dane rzeczywiste."
   ]
  },
  {
   "cell_type": "markdown",
   "metadata": {},
   "source": [
    "## Zadanie 2"
   ]
  },
  {
   "cell_type": "code",
   "execution_count": null,
   "metadata": {},
   "outputs": [],
   "source": [
    "# tbd"
   ]
  },
  {
   "cell_type": "code",
   "execution_count": null,
   "metadata": {},
   "outputs": [],
   "source": []
  },
  {
   "cell_type": "code",
   "execution_count": null,
   "metadata": {},
   "outputs": [],
   "source": []
  },
  {
   "cell_type": "markdown",
   "metadata": {},
   "source": [
    "## Zadanie 3\n",
    "\n",
    "W zadaniu trzecim testujemy hipotezy dotyczące parametrów modelu log-liniowego hierarchicznie uporządkowanego na podstawie tych samych danych, co poprzednio.\n",
    "\n",
    "### a.\n",
    "W podpunkcie a przeprowadzamy test, w którym hipoteza zerowa $H_0$ mówi, że zmienne Sen, Bieganie i Pies są niezależne (tj. pochodzą z modelu $[1\\,2\\,3]$). Z kolei, hipoteza alternatywna $H_a$ mówi, że zmienne pochodzą z modelu pełnego. Poziom istotności ustalamy jako $\\alpha = 0.05$."
   ]
  },
  {
   "cell_type": "code",
   "execution_count": 26,
   "metadata": {},
   "outputs": [],
   "source": [
    "model_a <- glm(Freq ~ SEN + BIEGANIE + PIES, \n",
    "            data = data.df, family = poisson)"
   ]
  },
  {
   "cell_type": "code",
   "execution_count": 27,
   "metadata": {},
   "outputs": [
    {
     "data": {
      "text/html": [
       "0.0293"
      ],
      "text/latex": [
       "0.0293"
      ],
      "text/markdown": [
       "0.0293"
      ],
      "text/plain": [
       "[1] 0.0293"
      ]
     },
     "metadata": {},
     "output_type": "display_data"
    }
   ],
   "source": [
    "p_a <- 1-pchisq(deviance(model_a), df = df.residual(model_a))\n",
    "\n",
    "p_a %>% round(4)"
   ]
  },
  {
   "cell_type": "markdown",
   "metadata": {},
   "source": [
    "P-wartość w tym teście jest mniejsza od $\\alpha$, więc odrzucamy $H_0$.\n",
    "\n",
    "#### Wersja z nadmodelem\n",
    "Przeprowadźmy dodatkowo wersję tego testu, gdzie zmienimy hipotezę alternatywną. Niech $H_a$ oznacza, że dane pochodzą z nadmodelu $[12\\,13\\,23]$."
   ]
  },
  {
   "cell_type": "markdown",
   "metadata": {},
   "source": [
    "P-wartość w tym teście jest mniejsza od $\\alpha$, więc odrzucamy $H_0$.\n",
    "\n",
    "#### Wersja z nadmodelem\n",
    "Przeprowadźmy dodatkowo wersję tego testu, gdzie zmienimy hipotezę alternatywną. Niech $H_a$ oznacza, że dane pochodzą z nadmodelu $[12\\,13\\,23]$."
   ]
  },
  {
   "cell_type": "code",
   "execution_count": 28,
   "metadata": {},
   "outputs": [
    {
     "data": {
      "text/html": [
       "0.0144"
      ],
      "text/latex": [
       "0.0144"
      ],
      "text/markdown": [
       "0.0144"
      ],
      "text/plain": [
       "[1] 0.0144"
      ]
     },
     "metadata": {},
     "output_type": "display_data"
    }
   ],
   "source": [
    "model_a_2 <- glm(Freq ~ (SEN + BIEGANIE + PIES)^2, \n",
    "            data = data.df, family = poisson)\n",
    "\n",
    "test <- anova(model_a, model_a_2)\n",
    "p_a_2 <- 1-pchisq(test$Deviance[2], df = test$Df[2])\n",
    "\n",
    "p_a_2 %>% round(4)"
   ]
  },
  {
   "cell_type": "markdown",
   "metadata": {},
   "source": [
    "Otrzymujemy p-wartość na poziomie $0.0144$, więc ponownie jest mniejsza od $\\alpha$. Zatem niezależnie od hipotezy alternatywnej $H_a$, możemy stwierdzić, że dane nie pochodzą z modelu $[1\\,2\\,3]$.\n",
    "\n",
    "### b.\n",
    "W podpunkcie b, hipoteza zerowa $H_0$ mówi nam, że zmienna Pies jest niezależna od niezależna od pary zmiennych Sen i Bieganie. Jest to równoważne stwierdzeniu, że dane pochodzą z modelu $[12\\,\\,3].$ Najpierw wykonajmy wersję z hipotezą alternatywną $H_a: \\text{dane pochodzą z modelu pełnego.}$"
   ]
  },
  {
   "cell_type": "code",
   "execution_count": 29,
   "metadata": {},
   "outputs": [],
   "source": [
    "model_b <- glm(Freq ~ PIES + SEN*BIEGANIE, \n",
    "            data = data.df, family = poisson)"
   ]
  },
  {
   "cell_type": "code",
   "execution_count": 30,
   "metadata": {},
   "outputs": [
    {
     "data": {
      "text/html": [
       "0.1132"
      ],
      "text/latex": [
       "0.1132"
      ],
      "text/markdown": [
       "0.1132"
      ],
      "text/plain": [
       "[1] 0.1132"
      ]
     },
     "metadata": {},
     "output_type": "display_data"
    }
   ],
   "source": [
    "p_b <- 1-pchisq(deviance(model_b), df = df.residual(model_b))\n",
    "\n",
    "p_b %>% round(4)"
   ]
  },
  {
   "cell_type": "markdown",
   "metadata": {},
   "source": [
    "Otrzymana p-wartość wynosi $0.1132 > 0.05$, więc nie mamy podstaw do odrzucenia $H_0$.\n",
    "\n",
    "#### Wersja z nadmodelem\n",
    "Ponownie, niech $H_a$ oznacza, że dane pochodzą z nadmodelu $[12\\,13\\,23]$."
   ]
  },
  {
   "cell_type": "code",
   "execution_count": 31,
   "metadata": {},
   "outputs": [
    {
     "data": {
      "text/html": [
       "0.0562"
      ],
      "text/latex": [
       "0.0562"
      ],
      "text/markdown": [
       "0.0562"
      ],
      "text/plain": [
       "[1] 0.0562"
      ]
     },
     "metadata": {},
     "output_type": "display_data"
    }
   ],
   "source": [
    "model_b_2 <- glm(Freq ~ (SEN + BIEGANIE + PIES)^2, \n",
    "            data = data.df, family = poisson)\n",
    "\n",
    "test <- anova(model_b, model_b_2)\n",
    "p_b_2 <- 1-pchisq(test$Deviance[2], df = test$Df[2])\n",
    "\n",
    "p_b_2 %>% round(4)"
   ]
  },
  {
   "cell_type": "markdown",
   "metadata": {},
   "source": [
    "Widzimy, że niezależnie od doboru $H_a$, nie mamy podstaw do odrzucenia $H_0$.\n",
    "\n",
    "### c.\n",
    "Hipoteza zerowa $H_0$ z podpunktu c stanowi, że zmienna Sen jest niezależna od zmiennej Pies przy ustalonej zmiennej Bieganie. Jest to równoważne ze stwierdzeniem, że dane pochodzą z modelu $[12\\,\\,23].$ Najpierw przeprowadźmy test z hipotezą alternatywną $H_a$, że dane pochodzą z modelu pełnego."
   ]
  },
  {
   "cell_type": "code",
   "execution_count": 32,
   "metadata": {},
   "outputs": [],
   "source": [
    "model_c <- glm(Freq ~ SEN*BIEGANIE + PIES*BIEGANIE,\n",
    "            data = data.df, family = poisson)"
   ]
  },
  {
   "cell_type": "code",
   "execution_count": 33,
   "metadata": {},
   "outputs": [
    {
     "data": {
      "text/html": [
       "0.5329"
      ],
      "text/latex": [
       "0.5329"
      ],
      "text/markdown": [
       "0.5329"
      ],
      "text/plain": [
       "[1] 0.5329"
      ]
     },
     "metadata": {},
     "output_type": "display_data"
    }
   ],
   "source": [
    "p_c <- 1-pchisq(deviance(model_c), df = df.residual(model_c))\n",
    "\n",
    "p_c %>% round(4)"
   ]
  },
  {
   "cell_type": "markdown",
   "metadata": {},
   "source": [
    "P-wartość wynosi $0.5329 > 0.05$, więc ponownie nie mamy przesłanek do odrzucenia $H_0$.\n",
    "\n",
    "#### Wersja z nadmodelem\n",
    "Zobaczmy jeszcze wersję z hipotezą alternatywną $H_a$, że dane pochodzą z nadmodelu $[12\\,13\\,23]$."
   ]
  },
  {
   "cell_type": "code",
   "execution_count": 34,
   "metadata": {
    "scrolled": true
   },
   "outputs": [
    {
     "data": {
      "text/html": [
       "0.3058"
      ],
      "text/latex": [
       "0.3058"
      ],
      "text/markdown": [
       "0.3058"
      ],
      "text/plain": [
       "[1] 0.3058"
      ]
     },
     "metadata": {},
     "output_type": "display_data"
    }
   ],
   "source": [
    "model_c_2 <- glm(Freq ~ (SEN + BIEGANIE + PIES)^2, \n",
    "            data = data.df, family = poisson)\n",
    "\n",
    "test <- anova(model_c, model_c_2)\n",
    "p_c_2 <- 1-pchisq(test$Deviance[2], df = test$Df[2])\n",
    "\n",
    "p_c_2 %>% round(4)"
   ]
  },
  {
   "cell_type": "markdown",
   "metadata": {},
   "source": [
    "Ponownie widzimy, że niezależnie od doboru $H_a$, dochodzimy do takich samych wniosków.\n"
   ]
  },
  {
   "cell_type": "markdown",
   "metadata": {},
   "source": [
    "## Zadanie 4"
   ]
  },
  {
   "cell_type": "code",
   "execution_count": null,
   "metadata": {},
   "outputs": [],
   "source": [
    "# tbd"
   ]
  },
  {
   "cell_type": "code",
   "execution_count": null,
   "metadata": {},
   "outputs": [],
   "source": []
  },
  {
   "cell_type": "code",
   "execution_count": null,
   "metadata": {},
   "outputs": [],
   "source": []
  }
 ],
 "metadata": {
  "kernelspec": {
   "display_name": "R",
   "language": "R",
   "name": "ir"
  },
  "language_info": {
   "codemirror_mode": "r",
   "file_extension": ".r",
   "mimetype": "text/x-r-source",
   "name": "R",
   "pygments_lexer": "r",
   "version": "4.2.0"
  }
 },
 "nbformat": 4,
 "nbformat_minor": 4
}
