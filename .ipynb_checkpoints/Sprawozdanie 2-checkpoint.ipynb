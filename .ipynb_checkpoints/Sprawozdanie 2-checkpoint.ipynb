{
 "cells": [
  {
   "cell_type": "markdown",
   "metadata": {},
   "source": [
    "# Lista 5, 6, 7\n",
    "Część pierwsza sprawozdania"
   ]
  },
  {
   "cell_type": "markdown",
   "metadata": {},
   "source": [
    "## Zadanie 2\n",
    "W każdym z podpunktów wykonamy trzy testy - `prop.test` w dwóch wersjach (z poprawką oraz bez poprawki &ndash; jest to poprawka ciągłości Yates'a) oraz `binom.test`. Dla testów zakładamy poziom ufności $0.95$."
   ]
  },
  {
   "cell_type": "code",
   "execution_count": 1,
   "metadata": {},
   "outputs": [
    {
     "name": "stderr",
     "output_type": "stream",
     "text": [
      "Warning message:\n",
      "\"package 'kableExtra' was built under R version 4.0.5\"\n",
      "Warning message:\n",
      "\"package 'IRdisplay' was built under R version 4.0.5\"\n"
     ]
    }
   ],
   "source": [
    "# HIDE INPUT IN THE RAPORT\n",
    "#install.packages(c(\"knitr\", \"kableExtra\", \"IRdisplay\"))\n",
    "\n",
    "library(knitr)\n",
    "library(kableExtra)\n",
    "library(IRdisplay)\n",
    "\n",
    "\n",
    "data <- c(35, 0, 0, 22, 22, 0, 15, 15, 15, 0, 40, 10, 18, 3, 5)\n",
    "data <- matrix(data, nrow=5, byrow=T)\n",
    "#data"
   ]
  },
  {
   "cell_type": "markdown",
   "metadata": {},
   "source": [
    "### a.\n",
    "\n",
    "Niech $p$ oznacza prawdopodobieństwo, że losowo wybrana osoba z badanej populacji w przypadku bólu zażywa Apap.\n",
    "\n",
    "W podpunkcie a, hipotezą zerową jest $$H_0: p \\leq \\frac{1}{4}.$$ Zatem hipotezą alternatywną jest $$H_a: p > \\frac{1}{4}.$$"
   ]
  },
  {
   "cell_type": "code",
   "execution_count": 2,
   "metadata": {},
   "outputs": [
    {
     "data": {
      "text/plain": [
       "\n",
       "\t1-sample proportions test with continuity correction\n",
       "\n",
       "data:  44 out of 200, null probability 1/4\n",
       "X-squared = 0.80667, df = 1, p-value = 0.8154\n",
       "alternative hypothesis: true p is greater than 0.25\n",
       "95 percent confidence interval:\n",
       " 0.1734603 1.0000000\n",
       "sample estimates:\n",
       "   p \n",
       "0.22 \n"
      ]
     },
     "metadata": {},
     "output_type": "display_data"
    },
    {
     "data": {
      "text/plain": [
       "\n",
       "\t1-sample proportions test without continuity correction\n",
       "\n",
       "data:  44 out of 200, null probability 1/4\n",
       "X-squared = 0.96, df = 1, p-value = 0.8364\n",
       "alternative hypothesis: true p is greater than 0.25\n",
       "95 percent confidence interval:\n",
       " 0.1757337 1.0000000\n",
       "sample estimates:\n",
       "   p \n",
       "0.22 \n"
      ]
     },
     "metadata": {},
     "output_type": "display_data"
    },
    {
     "data": {
      "text/plain": [
       "\n",
       "\tExact binomial test\n",
       "\n",
       "data:  44 and 200\n",
       "number of successes = 44, number of trials = 200, p-value = 0.8562\n",
       "alternative hypothesis: true probability of success is greater than 0.25\n",
       "95 percent confidence interval:\n",
       " 0.172679 1.000000\n",
       "sample estimates:\n",
       "probability of success \n",
       "                  0.22 \n"
      ]
     },
     "metadata": {},
     "output_type": "display_data"
    }
   ],
   "source": [
    "prop.test(44, 200, p = 1/4, alternative = \"g\")\n",
    "prop.test(44, 200, p = 1/4, alternative = \"g\", correct = FALSE)\n",
    "binom.test(44, 200, p = 1/4, alternative = \"g\")"
   ]
  },
  {
   "cell_type": "markdown",
   "metadata": {},
   "source": [
    "W teście `prop.test` bez korekcji p-wartość kształtuje się na poziomie $0.8154 > 0.05$, natomiast z korekcją $0.8364 > 0.05$. W `binom.test` wynosi ona $0.8562 > 0.05$, więc nie ma przesłanek do odrzucenia $H_0$.\n",
    "\n",
    "### b.\n",
    "\n",
    "Ponownie, niech $p$ oznacza prawdopodobieństwo, że losowo wybrana osoba z badanej populacji w przypadku bólu zażywa Apap.\n",
    "\n",
    "W podpunkcie b, hipotezą zerową jest $$H_0: p = \\frac{1}{2}.$$ Zatem hipotezą alternatywną jest $$H_a: p \\neq \\frac{1}{2}.$$"
   ]
  },
  {
   "cell_type": "code",
   "execution_count": 3,
   "metadata": {},
   "outputs": [
    {
     "data": {
      "text/plain": [
       "\n",
       "\t1-sample proportions test with continuity correction\n",
       "\n",
       "data:  44 out of 200, null probability 1/2\n",
       "X-squared = 61.605, df = 1, p-value = 4.198e-15\n",
       "alternative hypothesis: true p is not equal to 0.5\n",
       "95 percent confidence interval:\n",
       " 0.1659406 0.2850661\n",
       "sample estimates:\n",
       "   p \n",
       "0.22 \n"
      ]
     },
     "metadata": {},
     "output_type": "display_data"
    },
    {
     "data": {
      "text/plain": [
       "\n",
       "\t1-sample proportions test without continuity correction\n",
       "\n",
       "data:  44 out of 200, null probability 1/2\n",
       "X-squared = 62.72, df = 1, p-value = 2.383e-15\n",
       "alternative hypothesis: true p is not equal to 0.5\n",
       "95 percent confidence interval:\n",
       " 0.1681654 0.2823880\n",
       "sample estimates:\n",
       "   p \n",
       "0.22 \n"
      ]
     },
     "metadata": {},
     "output_type": "display_data"
    },
    {
     "data": {
      "text/plain": [
       "\n",
       "\tExact binomial test\n",
       "\n",
       "data:  44 and 200\n",
       "number of successes = 44, number of trials = 200, p-value = 6.838e-16\n",
       "alternative hypothesis: true probability of success is not equal to 0.5\n",
       "95 percent confidence interval:\n",
       " 0.1646361 0.2838612\n",
       "sample estimates:\n",
       "probability of success \n",
       "                  0.22 \n"
      ]
     },
     "metadata": {},
     "output_type": "display_data"
    }
   ],
   "source": [
    "prop.test(44, 200, p = 1/2, alternative = \"t\")\n",
    "prop.test(44, 200, p = 1/2, alternative = \"t\", correct = FALSE)\n",
    "binom.test(44, 200, p = 1/2, alternative = \"t\")"
   ]
  },
  {
   "cell_type": "markdown",
   "metadata": {},
   "source": [
    "W tym przypadku wszystkie p-wartości są mniejsze od $0.05$. Odpowiednio dla `prop.test` bez korekcji, z korekcją oraz dla `binom.test` wynoszą one $4.198\\cdot 10^{-15},$ $2.383\\cdot 10^{-15}$ oraz $6.838\\cdot 10^{-16}.$ Odrzucamy więc hipotezę zerową.\n",
    "\n",
    "### c.\n",
    "W podpunkcie c rozpatrujemy lek Ibuprom, więc niech $p$ będzie prawdopodobieństwem, że losowo wybrana osoba z badanej populacji w przypadku bólu zażywa Ibuprom.\n",
    "\n",
    "Z zadania odczytujemy hipotezę zerową jako $$H_0: p \\geq \\frac{1}{5}$$ oraz hipotezę alternatywną jako $$H_a: p < \\frac{1}{5}.$$ "
   ]
  },
  {
   "cell_type": "code",
   "execution_count": 4,
   "metadata": {},
   "outputs": [
    {
     "data": {
      "text/plain": [
       "\n",
       "\t1-sample proportions test with continuity correction\n",
       "\n",
       "data:  35 out of 200, null probability 1/5\n",
       "X-squared = 0.63281, df = 1, p-value = 0.2132\n",
       "alternative hypothesis: true p is less than 0.2\n",
       "95 percent confidence interval:\n",
       " 0.0000000 0.2261568\n",
       "sample estimates:\n",
       "    p \n",
       "0.175 \n"
      ]
     },
     "metadata": {},
     "output_type": "display_data"
    },
    {
     "data": {
      "text/plain": [
       "\n",
       "\t1-sample proportions test without continuity correction\n",
       "\n",
       "data:  35 out of 200, null probability 1/5\n",
       "X-squared = 0.78125, df = 1, p-value = 0.1884\n",
       "alternative hypothesis: true p is less than 0.2\n",
       "95 percent confidence interval:\n",
       " 0.0000000 0.2234492\n",
       "sample estimates:\n",
       "    p \n",
       "0.175 \n"
      ]
     },
     "metadata": {},
     "output_type": "display_data"
    },
    {
     "data": {
      "text/plain": [
       "\n",
       "\tExact binomial test\n",
       "\n",
       "data:  35 and 200\n",
       "number of successes = 35, number of trials = 200, p-value = 0.2151\n",
       "alternative hypothesis: true probability of success is less than 0.2\n",
       "95 percent confidence interval:\n",
       " 0.0000000 0.2252414\n",
       "sample estimates:\n",
       "probability of success \n",
       "                 0.175 \n"
      ]
     },
     "metadata": {},
     "output_type": "display_data"
    }
   ],
   "source": [
    "prop.test(35, 200, p = 1/5, alternative = \"l\")\n",
    "prop.test(35, 200, p = 1/5, alternative = \"l\", correct = FALSE)\n",
    "binom.test(35, 200, p = 1/5, alternative = \"l\")"
   ]
  },
  {
   "cell_type": "markdown",
   "metadata": {},
   "source": [
    "W przypadku p-wartości są większe od $0.05$, (w kolejności: $0.2132$, $0.1884$, $0.2151$). Nie ma więc podstaw do odrzucania hipotezy zerowej.\n",
    "\n",
    "### d.\n",
    "W podpunkcie d powtarzamy testy z podpunktów a-c, jednak rozpatrujemy tylko badaną populację do lat 35."
   ]
  },
  {
   "cell_type": "code",
   "execution_count": 5,
   "metadata": {},
   "outputs": [
    {
     "data": {
      "text/html": [
       "<table>\n",
       " <thead>\n",
       "  <tr>\n",
       "   <th style=\"text-align:left;\">   </th>\n",
       "   <th style=\"text-align:right;\"> prop.test (z poprawką) </th>\n",
       "   <th style=\"text-align:right;\"> prop.test (bez poprawki) </th>\n",
       "   <th style=\"text-align:right;\"> binom.test </th>\n",
       "  </tr>\n",
       " </thead>\n",
       "<tbody>\n",
       "  <tr>\n",
       "   <td style=\"text-align:left;\"> a) </td>\n",
       "   <td style=\"text-align:right;\"> 0.5 </td>\n",
       "   <td style=\"text-align:right;\"> 0.55 </td>\n",
       "   <td style=\"text-align:right;\"> 0.59 </td>\n",
       "  </tr>\n",
       "  <tr>\n",
       "   <td style=\"text-align:left;\"> b) </td>\n",
       "   <td style=\"text-align:right;\"> 0.0 </td>\n",
       "   <td style=\"text-align:right;\"> 0.00 </td>\n",
       "   <td style=\"text-align:right;\"> 0.00 </td>\n",
       "  </tr>\n",
       "  <tr>\n",
       "   <td style=\"text-align:left;\"> c) </td>\n",
       "   <td style=\"text-align:right;\"> 1.0 </td>\n",
       "   <td style=\"text-align:right;\"> 1.00 </td>\n",
       "   <td style=\"text-align:right;\"> 1.00 </td>\n",
       "  </tr>\n",
       "</tbody>\n",
       "</table>"
      ]
     },
     "metadata": {},
     "output_type": "display_data"
    }
   ],
   "source": [
    "# HIDE INPUT IN THE RAPORT\n",
    "a1 <- prop.test(22, 90, p = 1/4, alternative = \"g\")\n",
    "a2 <- prop.test(22, 90, p = 1/4, alternative = \"g\", correct = FALSE)\n",
    "a3 <- binom.test(22, 90, p = 1/4, alternative = \"g\")\n",
    "\n",
    "b1 <- prop.test(22, 90, p = 1/2, alternative = \"t\")\n",
    "b2 <- prop.test(22, 90, p = 1/2, alternative = \"t\", correct = FALSE)\n",
    "b3 <- binom.test(22, 90, p = 1/2, alternative = \"t\")\n",
    "\n",
    "\n",
    "c1 <- prop.test(35, 90, p = 1/5, alternative = \"l\")\n",
    "c2 <- prop.test(35, 90, p = 1/5, alternative = \"l\", correct = FALSE)\n",
    "c3 <- binom.test(35, 90, p = 1/5, alternative = \"l\")\n",
    "\n",
    "tab <- matrix(c(a1$p.value, a2$p.value, a3$p.value, b1$p.value, b2$p.value, b3$p.value, c1$p.value, c2$p.value, c3$p.value), nrow=3, byrow=TRUE)\n",
    "colnames(tab) <- c('prop.test (z poprawką)','prop.test (bez poprawki)','binom.test')\n",
    "rownames(tab) <- c('a)','b)','c)')\n",
    "\n",
    "round(tab,2) %>% \n",
    "    kable(\"html\") %>%\n",
    "    as.character() %>%\n",
    "    display_html()"
   ]
  },
  {
   "cell_type": "markdown",
   "metadata": {},
   "source": [
    "Wyniki z podpunktu a) oraz c) mają p-wartość większą od $0.05$, więc nie mamy podstaw do odrzucenia hipotez zerowych. W podpunkcie b) wszystkie p-wartości są mniejsze od $0.05$, więc odrzucamy hipotezę zerową.\n",
    "\n",
    "## Zadanie 3\n",
    "\n",
    "W zadaniu trzecim, musimy przede wszystkim ograniczyć tabelę z poprzedniego zadania. Rozpatrujemy tylko lek Panadol oraz grupę zbiorczą \"inny lek\" oraz grupy wiekowe $0-35$ i $36-55.$\n",
    "\n",
    "Następnie przeprowadzimy test Fishera (`fisher.test`) na poziomie istotności $0.05$ dla tabeli dwudzielczej przedstawionej poniżej.\n",
    "\n",
    "Zanim jednak przeprowadzimy test, wprowadźmy hipotezę zerową i alternatywną: \n",
    "* $H_0:$ zmienne są niezależne, czyli nie ma żadnego związku pomiędzy dwiema zmiennymi kategorycznymi. Innymi słowy, znając wartość jednej zmiennej, nie możemy przewidzieć wartości drugiej zmiennej,\n",
    "* $H_a:$ zmienne są zależne, czyli istnieje związek pomiędzy dwiema zmiennymi kategorycznymi. Innymi słowy, znając wartość jednej zmiennej, możemy przewidzieć wartości drugiej zmiennej."
   ]
  },
  {
   "cell_type": "code",
   "execution_count": 6,
   "metadata": {},
   "outputs": [
    {
     "data": {
      "text/html": [
       "<table>\n",
       " <thead>\n",
       "  <tr>\n",
       "   <th style=\"text-align:left;\">   </th>\n",
       "   <th style=\"text-align:right;\"> 0-35 </th>\n",
       "   <th style=\"text-align:right;\"> 36-55 </th>\n",
       "  </tr>\n",
       " </thead>\n",
       "<tbody>\n",
       "  <tr>\n",
       "   <td style=\"text-align:left;\"> inny lek </td>\n",
       "   <td style=\"text-align:right;\"> 72 </td>\n",
       "   <td style=\"text-align:right;\"> 77 </td>\n",
       "  </tr>\n",
       "  <tr>\n",
       "   <td style=\"text-align:left;\"> Panadol </td>\n",
       "   <td style=\"text-align:right;\"> 18 </td>\n",
       "   <td style=\"text-align:right;\"> 3 </td>\n",
       "  </tr>\n",
       "</tbody>\n",
       "</table>"
      ]
     },
     "metadata": {},
     "output_type": "display_data"
    }
   ],
   "source": [
    "# HIDE INPUT IN THE RAPORT\n",
    "data <- matrix(c(90-18, 80-3,\n",
    "                 18,3),\n",
    "               byrow=T, \n",
    "               nrow=2)\n",
    "\n",
    "colnames(data) <- c('0-35', '36-55')\n",
    "rownames(data) <- c('inny lek', 'Panadol')\n",
    "\n",
    "data %>%\n",
    "    kable(\"html\") %>%\n",
    "    as.character() %>%\n",
    "    display_html()"
   ]
  },
  {
   "cell_type": "markdown",
   "metadata": {},
   "source": [
    "Zależność między tymi zmiennymi łatwo zobrazować za pomocą wykresu mozaikowego."
   ]
  },
  {
   "cell_type": "code",
   "execution_count": 7,
   "metadata": {},
   "outputs": [
    {
     "data": {
      "image/png": "[encoded data removed]",
      "text/plain": [
       "Plot with title \"Wykres mozaikowy danych\""
      ]
     },
     "metadata": {
      "image/png": {
       "height": 420,
       "width": 420
      }
     },
     "output_type": "display_data"
    }
   ],
   "source": [
    "# HIDE INPUT IN THE RAPORT\n",
    "mosaicplot(data,\n",
    "  main = \"Wykres mozaikowy danych\",\n",
    "  color = TRUE\n",
    ")"
   ]
  },
  {
   "cell_type": "markdown",
   "metadata": {},
   "source": [
    "Widzimy, że możwmy spodziewać się zależności. Przeprowadźmy zatem test Fishera, który rozwieje nasze wątpliwości."
   ]
  },
  {
   "cell_type": "code",
   "execution_count": 8,
   "metadata": {},
   "outputs": [
    {
     "data": {
      "text/plain": [
       "\n",
       "\tFisher's Exact Test for Count Data\n",
       "\n",
       "data:  data\n",
       "p-value = 0.001789\n",
       "alternative hypothesis: true odds ratio is not equal to 1\n",
       "95 percent confidence interval:\n",
       " 0.0285040 0.5718021\n",
       "sample estimates:\n",
       "odds ratio \n",
       " 0.1573343 \n"
      ]
     },
     "metadata": {},
     "output_type": "display_data"
    }
   ],
   "source": [
    "fisher.test(data)"
   ]
  },
  {
   "cell_type": "markdown",
   "metadata": {},
   "source": [
    "Zgodnie z oczekiwaniami, uzyskaliśmy p-wartość na poziomie $0.002 < 0.05$, więc odrzucamy hipotezę zerową. Zmienne zatem są **zależne**.\n",
    "\n",
    "# Zobacz czy to jest dobrze...\n",
    "``` Fragment notatek z zajęć: powolac sie na roznowaznosc hipotez => na podst wynikow tamtego testu mozna wycignac analogiczny wniosek```\n",
    "\n",
    "Zarówno w tym teście, jak i w testach z zadania poprzedniego, hipotezy są takie same. Na podstawie wyników tamtego testu można więc wyciągnąć analogiczny wniosek jak w teście Fishera."
   ]
  },
  {
   "cell_type": "markdown",
   "metadata": {},
   "source": [
    "# Zadanie 4\n",
    "\n",
    "W zadaniu czwartym weryfikujemy hipotezę o niezależności stopnia zadowolenia z pracy i wynagrodzenia na podstawie danych w tablicy zamieszczonej poniżej.\n",
    "\n",
    "Hipotezą zerową $H_0$ jest, że w.w. zmienne są niezależne, a hipoteza alternatywna $H_a$ stanowi, że są zależne. Wywołamy test chi-kwadrat (`chisq.test`) na poziomie ufności $0.95$, aby zobaczyć, czy odrzucamy $H_0$."
   ]
  },
  {
   "cell_type": "code",
   "execution_count": 9,
   "metadata": {},
   "outputs": [
    {
     "data": {
      "text/html": [
       "<table>\n",
       " <thead>\n",
       "  <tr>\n",
       "   <th style=\"text-align:left;\">   </th>\n",
       "   <th style=\"text-align:right;\"> b. niezadow. </th>\n",
       "   <th style=\"text-align:right;\"> niezadow. </th>\n",
       "   <th style=\"text-align:right;\"> zadow. </th>\n",
       "   <th style=\"text-align:right;\"> b. zadow. </th>\n",
       "  </tr>\n",
       " </thead>\n",
       "<tbody>\n",
       "  <tr>\n",
       "   <td style=\"text-align:left;\"> do 6000 </td>\n",
       "   <td style=\"text-align:right;\"> 20 </td>\n",
       "   <td style=\"text-align:right;\"> 24 </td>\n",
       "   <td style=\"text-align:right;\"> 80 </td>\n",
       "   <td style=\"text-align:right;\"> 82 </td>\n",
       "  </tr>\n",
       "  <tr>\n",
       "   <td style=\"text-align:left;\"> 6000-15000 </td>\n",
       "   <td style=\"text-align:right;\"> 22 </td>\n",
       "   <td style=\"text-align:right;\"> 38 </td>\n",
       "   <td style=\"text-align:right;\"> 104 </td>\n",
       "   <td style=\"text-align:right;\"> 125 </td>\n",
       "  </tr>\n",
       "  <tr>\n",
       "   <td style=\"text-align:left;\"> 15000-20000 </td>\n",
       "   <td style=\"text-align:right;\"> 13 </td>\n",
       "   <td style=\"text-align:right;\"> 28 </td>\n",
       "   <td style=\"text-align:right;\"> 81 </td>\n",
       "   <td style=\"text-align:right;\"> 113 </td>\n",
       "  </tr>\n",
       "  <tr>\n",
       "   <td style=\"text-align:left;\"> powyżej 25000 </td>\n",
       "   <td style=\"text-align:right;\"> 7 </td>\n",
       "   <td style=\"text-align:right;\"> 18 </td>\n",
       "   <td style=\"text-align:right;\"> 54 </td>\n",
       "   <td style=\"text-align:right;\"> 92 </td>\n",
       "  </tr>\n",
       "</tbody>\n",
       "</table>"
      ]
     },
     "metadata": {},
     "output_type": "display_data"
    }
   ],
   "source": [
    "data <- matrix(c(20, 24, 80, 82,\n",
    "                 22, 38, 104, 125, \n",
    "                 13, 28, 81, 113, \n",
    "                 7, 18, 54, 92),\n",
    "               byrow=TRUE, \n",
    "               nrow=4)\n",
    "\n",
    "colnames(data) <- c('b. niezadow.', 'niezadow.', 'zadow.', 'b. zadow.')\n",
    "rownames(data) <- c('do 6000', '6000-15000', '15000-20000', 'powyżej 25000')\n",
    "\n",
    "data %>%\n",
    "    kable(\"html\") %>%\n",
    "    as.character() %>%\n",
    "    display_html()"
   ]
  },
  {
   "cell_type": "code",
   "execution_count": 10,
   "metadata": {},
   "outputs": [
    {
     "data": {
      "text/plain": [
       "\n",
       "\tPearson's Chi-squared test\n",
       "\n",
       "data:  data\n",
       "X-squared = 11.989, df = 9, p-value = 0.214\n"
      ]
     },
     "metadata": {},
     "output_type": "display_data"
    }
   ],
   "source": [
    "chisq.test(data)"
   ]
  },
  {
   "cell_type": "markdown",
   "metadata": {},
   "source": [
    "P-wartość wynosi $0.214 > 0.05$, więc nie mamy podstaw, żeby odrzucić hipotezę zerową. Zatem możemy powiedzieć, że zmienne są niezależne.\n",
    "\n",
    "# Zadanie 5\n",
    "\n",
    "Hipoteza zerowa mówi nam, że zmienne są niezależne, czyli $$H_0: p \\in \\mathcal{P}_0,$$ a hipoteza alternatywna stanowi o ich zależności, więc $$H_a: p \\in \\mathcal{P}_1 = \\mathcal{P} \\backslash \\mathcal{P}_0,$$ gdzie $P_o \\subset \\mathcal{P} = \\{ p: p_i \\geq 0, i = 1, \\dots, k, \\sum_{i=1}^kp_i=1\\}.$\n",
    "\n",
    "Poniżej prezentujemy funckję, która dla danyh w tablicy dwudzielczej oblicza wartość poziomu krytycznego (p-value) w asymptotycznym teście niezależności opartym na ilorazie wiarogodności. "
   ]
  },
  {
   "cell_type": "code",
   "execution_count": 11,
   "metadata": {},
   "outputs": [],
   "source": [
    "p_val <- function(table) {\n",
    "    n <- sum(table)\n",
    "    \n",
    "    R <- dim(table)[1]\n",
    "    C <- dim(table)[2]\n",
    "    \n",
    "    Gsq <- 1\n",
    "    \n",
    "    for (i in 1:R) {\n",
    "        for (j in 1:C) { #ni+ * n+j\n",
    "            Gsq <- Gsq * ((sum(table[i, ]) * sum(table[, j])) / (n*table[i, j]))^table[i, j]\n",
    "        }\n",
    "    }\n",
    "    \n",
    "\n",
    "    Gsq <- -2*log(Gsq)\n",
    "    \n",
    "    p_val <- 1 - pchisq(Gsq, (R-1)*(C-1))\n",
    "    p_val\n",
    "}"
   ]
  },
  {
   "cell_type": "markdown",
   "metadata": {},
   "source": [
    "Wywołując tę funkcję na danych z poprzedniego zadania, sprawdźmy jej działanie."
   ]
  },
  {
   "cell_type": "code",
   "execution_count": 12,
   "metadata": {},
   "outputs": [
    {
     "data": {
      "text/html": [
       "0.211"
      ],
      "text/latex": [
       "0.211"
      ],
      "text/markdown": [
       "0.211"
      ],
      "text/plain": [
       "[1] 0.211"
      ]
     },
     "metadata": {},
     "output_type": "display_data"
    }
   ],
   "source": [
    "p_val(data) %>% round(3)"
   ]
  },
  {
   "cell_type": "markdown",
   "metadata": {},
   "source": [
    "P-wartość wynosi $0.21,$ więc tyle samo co w zadaniu czwartym. Nasza funkcja działa więc poprawnie.\n",
    "\n",
    "---"
   ]
  },
  {
   "cell_type": "markdown",
   "metadata": {},
   "source": [
    "# Lista 8, 9\n",
    "\n",
    "## Zadanie 1\n",
    "\n",
    "W zadaniu pierwszym zaimplementujemy poznane na wykładzie miary współzmienności. \n",
    "\n",
    "Zacznijmy jednak od wprowadzenia danych testowych (z wykładu).\n"
   ]
  },
  {
   "cell_type": "code",
   "execution_count": 13,
   "metadata": {},
   "outputs": [
    {
     "name": "stderr",
     "output_type": "stream",
     "text": [
      "Warning message:\n",
      "\"package 'DescTools' was built under R version 4.0.5\"\n",
      "\n",
      "Attaching package: 'psych'\n",
      "\n",
      "\n",
      "The following objects are masked from 'package:DescTools':\n",
      "\n",
      "    AUC, ICC, SD\n",
      "\n",
      "\n"
     ]
    },
    {
     "data": {
      "text/html": [
       "<table class=\"dataframe\">\n",
       "<caption>A matrix: 5 × 3 of type dbl</caption>\n",
       "<tbody>\n",
       "\t<tr><td>35</td><td> 0</td><td> 0</td></tr>\n",
       "\t<tr><td>22</td><td>22</td><td> 0</td></tr>\n",
       "\t<tr><td>15</td><td>15</td><td>15</td></tr>\n",
       "\t<tr><td> 0</td><td>40</td><td>10</td></tr>\n",
       "\t<tr><td>18</td><td> 3</td><td> 5</td></tr>\n",
       "</tbody>\n",
       "</table>\n"
      ],
      "text/latex": [
       "A matrix: 5 × 3 of type dbl\n",
       "\\begin{tabular}{lll}\n",
       "\t 35 &  0 &  0\\\\\n",
       "\t 22 & 22 &  0\\\\\n",
       "\t 15 & 15 & 15\\\\\n",
       "\t  0 & 40 & 10\\\\\n",
       "\t 18 &  3 &  5\\\\\n",
       "\\end{tabular}\n"
      ],
      "text/markdown": [
       "\n",
       "A matrix: 5 × 3 of type dbl\n",
       "\n",
       "| 35 |  0 |  0 |\n",
       "| 22 | 22 |  0 |\n",
       "| 15 | 15 | 15 |\n",
       "|  0 | 40 | 10 |\n",
       "| 18 |  3 |  5 |\n",
       "\n"
      ],
      "text/plain": [
       "     [,1] [,2] [,3]\n",
       "[1,] 35    0    0  \n",
       "[2,] 22   22    0  \n",
       "[3,] 15   15   15  \n",
       "[4,]  0   40   10  \n",
       "[5,] 18    3    5  "
      ]
     },
     "metadata": {},
     "output_type": "display_data"
    }
   ],
   "source": [
    "#install.packages(\"DescTools\")\n",
    "#install.packages(\"psych\")\n",
    "library(\"DescTools\")\n",
    "library(\"psych\")\n",
    "\n",
    "test_data <- matrix(c(35, 22, 15, 0, 18, 0, 22, 15, 40, 3, 0, 0, 15, 10, 5), nrow = 5)\n",
    "test_data"
   ]
  },
  {
   "cell_type": "markdown",
   "metadata": {},
   "source": [
    "Teraz możemy zaimplementować miary. Dla każdej z nich, napisaliśmy oddzielną funckję, która jest wywoływana przez funcję `coefficient`."
   ]
  },
  {
   "cell_type": "code",
   "execution_count": 14,
   "metadata": {},
   "outputs": [],
   "source": [
    "data <- matrix(c(35, 22, 15, 0, 18, 0, 22, 15, 40, 3, 0, 0, 15, 10, 5), nrow = 5)\n",
    "\n",
    "#1\n",
    "goodman <- function(data) {\n",
    "  n <- sum(data)\n",
    "  \n",
    "  R <- dim(data)[1]\n",
    "  C <- dim(data)[2]\n",
    "  \n",
    "  sum1 <- 0\n",
    "  \n",
    "  for (i in 1:R) {\n",
    "    for (j in 1:C) {\n",
    "      sum1 <- sum1 + data[i, j]^2 / (n * sum(data[i, ]))\n",
    "    }\n",
    "  }\n",
    "  \n",
    "  sum2 <- 0\n",
    "  for (j in 1:C) {\n",
    "    sum2 <- sum2 + (sum(data[ , j])/n)^2\n",
    "  }\n",
    "  \n",
    "  (sum1 - sum2) / (1 - sum2)\n",
    "}\n",
    "\n",
    "#2\n",
    "crammer <- function(data) {\n",
    "  chi2 <- as.numeric(chisq.test(data, simulate.p.value = TRUE)$statistic)\n",
    "  C <- dim(data)[2]\n",
    "  R <- dim(data)[1]\n",
    "  sqrt(chi2/(sum(data)*min(R-1, C-1)))\n",
    "  \n",
    "}\n",
    "\n",
    "#3\n",
    "t.czuprow <- function(data) {\n",
    "  chi2 <- as.numeric(chisq.test(data, simulate.p.value = TRUE)$statistic)\n",
    "  C <- dim(data)[2]\n",
    "  R <- dim(data)[1]\n",
    "  sqrt(chi2/(sum(data)*sqrt((R-1)*(C-1))))\n",
    "}\n",
    "\n",
    "#4\n",
    "phi <- function(data) {\n",
    "  chi2 <- as.numeric(chisq.test(data, simulate.p.value = TRUE)$statistic)\n",
    "  sqrt(chi2/sum(data))\n",
    "}\n",
    "\n",
    "# 5\n",
    "pearson <- function(data) {\n",
    "  chi2 <- as.numeric(chisq.test(data, simulate.p.value = TRUE)$statistic)\n",
    "  sqrt(chi2/(chi2 + sum(data)))\n",
    "  \n",
    "}\n",
    "\n",
    "coefficient <- function(data, coef) {\n",
    "  if (coef == 1) {\n",
    "    goodman(data) \n",
    "  } else if (coef == 2) {\n",
    "    crammer(data)\n",
    "  } else if (coef == 3) {\n",
    "    t.czuprow(data)\n",
    "  } else if (coef == 4) {\n",
    "    phi(data)\n",
    "  } else if (coef == 5) {\n",
    "    pearson(data)\n",
    "  }\n",
    "}"
   ]
  },
  {
   "cell_type": "markdown",
   "metadata": {},
   "source": [
    "Sprawdźmy zatem, czy nasze funkcje dziają poprawnie. Porównamy ich wyniki z wynikami funckji w pakiecie R."
   ]
  },
  {
   "cell_type": "code",
   "execution_count": 15,
   "metadata": {},
   "outputs": [
    {
     "data": {
      "text/html": [
       "0.347717323327079"
      ],
      "text/latex": [
       "0.347717323327079"
      ],
      "text/markdown": [
       "0.347717323327079"
      ],
      "text/plain": [
       "[1] 0.3477173"
      ]
     },
     "metadata": {},
     "output_type": "display_data"
    },
    {
     "data": {
      "text/html": [
       "0.347717323327079"
      ],
      "text/latex": [
       "0.347717323327079"
      ],
      "text/markdown": [
       "0.347717323327079"
      ],
      "text/plain": [
       "[1] 0.3477173"
      ]
     },
     "metadata": {},
     "output_type": "display_data"
    }
   ],
   "source": [
    "coefficient(data, 1)\n",
    "GoodmanKruskalTau(data, direction = \"column\")"
   ]
  },
  {
   "cell_type": "code",
   "execution_count": 16,
   "metadata": {},
   "outputs": [
    {
     "data": {
      "text/html": [
       "0.536115539594658"
      ],
      "text/latex": [
       "0.536115539594658"
      ],
      "text/markdown": [
       "0.536115539594658"
      ],
      "text/plain": [
       "[1] 0.5361155"
      ]
     },
     "metadata": {},
     "output_type": "display_data"
    },
    {
     "data": {
      "text/html": [
       "0.536115539594658"
      ],
      "text/latex": [
       "0.536115539594658"
      ],
      "text/markdown": [
       "0.536115539594658"
      ],
      "text/plain": [
       "[1] 0.5361155"
      ]
     },
     "metadata": {},
     "output_type": "display_data"
    }
   ],
   "source": [
    "coefficient(data, 2)\n",
    "CramerV(data)"
   ]
  },
  {
   "cell_type": "code",
   "execution_count": 17,
   "metadata": {},
   "outputs": [
    {
     "data": {
      "text/html": [
       "0.450817635406959"
      ],
      "text/latex": [
       "0.450817635406959"
      ],
      "text/markdown": [
       "0.450817635406959"
      ],
      "text/plain": [
       "[1] 0.4508176"
      ]
     },
     "metadata": {},
     "output_type": "display_data"
    },
    {
     "data": {
      "text/html": [
       "0.450817635406959"
      ],
      "text/latex": [
       "0.450817635406959"
      ],
      "text/markdown": [
       "0.450817635406959"
      ],
      "text/plain": [
       "[1] 0.4508176"
      ]
     },
     "metadata": {},
     "output_type": "display_data"
    }
   ],
   "source": [
    "coefficient(data, 3)\n",
    "TschuprowT(data)"
   ]
  },
  {
   "cell_type": "code",
   "execution_count": 18,
   "metadata": {},
   "outputs": [
    {
     "data": {
      "text/html": [
       "0.758181867093736"
      ],
      "text/latex": [
       "0.758181867093736"
      ],
      "text/markdown": [
       "0.758181867093736"
      ],
      "text/plain": [
       "[1] 0.7581819"
      ]
     },
     "metadata": {},
     "output_type": "display_data"
    },
    {
     "data": {
      "text/html": [
       "0.758181867093736"
      ],
      "text/latex": [
       "0.758181867093736"
      ],
      "text/markdown": [
       "0.758181867093736"
      ],
      "text/plain": [
       "[1] 0.7581819"
      ]
     },
     "metadata": {},
     "output_type": "display_data"
    }
   ],
   "source": [
    "coefficient(data, 4)\n",
    "phi(data)"
   ]
  },
  {
   "cell_type": "code",
   "execution_count": 19,
   "metadata": {},
   "outputs": [
    {
     "data": {
      "text/html": [
       "0.604164510101432"
      ],
      "text/latex": [
       "0.604164510101432"
      ],
      "text/markdown": [
       "0.604164510101432"
      ],
      "text/plain": [
       "[1] 0.6041645"
      ]
     },
     "metadata": {},
     "output_type": "display_data"
    },
    {
     "data": {
      "text/html": [
       "0.604164510101432"
      ],
      "text/latex": [
       "0.604164510101432"
      ],
      "text/markdown": [
       "0.604164510101432"
      ],
      "text/plain": [
       "[1] 0.6041645"
      ]
     },
     "metadata": {},
     "output_type": "display_data"
    }
   ],
   "source": [
    "coefficient(data, 5)\n",
    "ContCoef(data)"
   ]
  },
  {
   "cell_type": "markdown",
   "metadata": {},
   "source": [
    "Jak widać, w każdym przypadku nasza funkcja zwraca dokładnie taką samą wartość.\n",
    "\n",
    "# Zadanie 2\n",
    "\n",
    "W zadaniu drugim oraz trzecim przeprowadzamy analizę korespondencji. Zanim jednak do niej przejdziemy, wykonajmy test ..., który zweryfikuje hipotezę o niezależności.\n",
    "\n",
    "\n",
    "wychodzimy od testu kt bedzie weryfikowal hipoteze o niezaleznosci\n",
    "wykonac test fishera albo chisq \n",
    "przejsc dalej do analizy kor.\n",
    "przedstawic kod -- funkcje\n",
    "przedstawi e c wszystkie wyniki\n",
    "macierz r c dc macierze dekompozycji\n",
    "wspolczynniki wykres :)\n",
    "\n",
    "2-3 zd komentarza"
   ]
  },
  {
   "cell_type": "code",
   "execution_count": 20,
   "metadata": {},
   "outputs": [],
   "source": [
    "# to chyba gdzieś było..."
   ]
  },
  {
   "cell_type": "code",
   "execution_count": 21,
   "metadata": {},
   "outputs": [
    {
     "name": "stderr",
     "output_type": "stream",
     "text": [
      "Warning message in chisq.test(data):\n",
      "\"Chi-squared approximation may be incorrect\"\n"
     ]
    },
    {
     "data": {
      "text/plain": [
       "\n",
       "\tPearson's Chi-squared test\n",
       "\n",
       "data:  data\n",
       "X-squared = 114.97, df = 8, p-value < 2.2e-16\n"
      ]
     },
     "metadata": {},
     "output_type": "display_data"
    },
    {
     "data": {
      "text/html": [
       "<table class=\"dataframe\">\n",
       "<caption>A matrix: 5 × 3 of type dbl</caption>\n",
       "<tbody>\n",
       "\t<tr><td>35</td><td> 0</td><td> 0</td></tr>\n",
       "\t<tr><td>22</td><td>22</td><td> 0</td></tr>\n",
       "\t<tr><td>15</td><td>15</td><td>15</td></tr>\n",
       "\t<tr><td> 0</td><td>40</td><td>10</td></tr>\n",
       "\t<tr><td>18</td><td> 3</td><td> 5</td></tr>\n",
       "</tbody>\n",
       "</table>\n"
      ],
      "text/latex": [
       "A matrix: 5 × 3 of type dbl\n",
       "\\begin{tabular}{lll}\n",
       "\t 35 &  0 &  0\\\\\n",
       "\t 22 & 22 &  0\\\\\n",
       "\t 15 & 15 & 15\\\\\n",
       "\t  0 & 40 & 10\\\\\n",
       "\t 18 &  3 &  5\\\\\n",
       "\\end{tabular}\n"
      ],
      "text/markdown": [
       "\n",
       "A matrix: 5 × 3 of type dbl\n",
       "\n",
       "| 35 |  0 |  0 |\n",
       "| 22 | 22 |  0 |\n",
       "| 15 | 15 | 15 |\n",
       "|  0 | 40 | 10 |\n",
       "| 18 |  3 |  5 |\n",
       "\n"
      ],
      "text/plain": [
       "     [,1] [,2] [,3]\n",
       "[1,] 35    0    0  \n",
       "[2,] 22   22    0  \n",
       "[3,] 15   15   15  \n",
       "[4,]  0   40   10  \n",
       "[5,] 18    3    5  "
      ]
     },
     "metadata": {},
     "output_type": "display_data"
    }
   ],
   "source": [
    "data <- matrix(c(35, 22, 15, 0, 18, 0, 22, 15, 40, 3, 0, 0, 15, 10, 5), nrow = 5)\n",
    "chisq.test(data)\n",
    "data"
   ]
  },
  {
   "cell_type": "code",
   "execution_count": 22,
   "metadata": {},
   "outputs": [
    {
     "data": {
      "text/html": [
       "<table class=\"dataframe\">\n",
       "<caption>A matrix: 4 × 4 of type dbl</caption>\n",
       "<tbody>\n",
       "\t<tr><td>32</td><td>44</td><td> 60</td><td> 70</td></tr>\n",
       "\t<tr><td>22</td><td>38</td><td>104</td><td>125</td></tr>\n",
       "\t<tr><td>13</td><td>48</td><td> 61</td><td>113</td></tr>\n",
       "\t<tr><td> 3</td><td>18</td><td> 54</td><td> 96</td></tr>\n",
       "</tbody>\n",
       "</table>\n"
      ],
      "text/latex": [
       "A matrix: 4 × 4 of type dbl\n",
       "\\begin{tabular}{llll}\n",
       "\t 32 & 44 &  60 &  70\\\\\n",
       "\t 22 & 38 & 104 & 125\\\\\n",
       "\t 13 & 48 &  61 & 113\\\\\n",
       "\t  3 & 18 &  54 &  96\\\\\n",
       "\\end{tabular}\n"
      ],
      "text/markdown": [
       "\n",
       "A matrix: 4 × 4 of type dbl\n",
       "\n",
       "| 32 | 44 |  60 |  70 |\n",
       "| 22 | 38 | 104 | 125 |\n",
       "| 13 | 48 |  61 | 113 |\n",
       "|  3 | 18 |  54 |  96 |\n",
       "\n"
      ],
      "text/plain": [
       "     [,1] [,2] [,3] [,4]\n",
       "[1,] 32   44    60   70 \n",
       "[2,] 22   38   104  125 \n",
       "[3,] 13   48    61  113 \n",
       "[4,]  3   18    54   96 "
      ]
     },
     "metadata": {},
     "output_type": "display_data"
    }
   ],
   "source": [
    "data <- matrix(c(32, 22, 13, 3, 44, 38, 48, 18, 60, 104, 61, 54, 70, 125, 113, 96), nrow = 4)\n",
    "data"
   ]
  },
  {
   "cell_type": "markdown",
   "metadata": {},
   "source": [
    "# Zadanie 3"
   ]
  },
  {
   "cell_type": "code",
   "execution_count": 23,
   "metadata": {},
   "outputs": [],
   "source": [
    "# test"
   ]
  },
  {
   "cell_type": "code",
   "execution_count": 24,
   "metadata": {},
   "outputs": [],
   "source": [
    "# zadanie"
   ]
  }
 ],
 "metadata": {
  "kernelspec": {
   "display_name": "R",
   "language": "R",
   "name": "ir"
  },
  "language_info": {
   "codemirror_mode": "r",
   "file_extension": ".r",
   "mimetype": "text/x-r-source",
   "name": "R",
   "pygments_lexer": "r",
   "version": "4.0.4"
  }
 },
 "nbformat": 4,
 "nbformat_minor": 4
}
