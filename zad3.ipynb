{
 "cells": [
  {
   "cell_type": "code",
   "execution_count": 4,
   "metadata": {},
   "outputs": [],
   "source": [
    "#install.packages(\"kableExtra\")\n",
    "#install.packages(\"tidyverse\")\n",
    "\n",
    "library(tidyverse)\n",
    "library(knitr)\n",
    "library(kableExtra)\n",
    "library(IRdisplay)\n",
    "library(dplyr)\n",
    "library(gnm)\n",
    "library(dplyr)"
   ]
  },
  {
   "cell_type": "code",
   "execution_count": 2,
   "metadata": {},
   "outputs": [
    {
     "data": {
      "text/html": [
       "<table class=\"dataframe\">\n",
       "<caption>A data.frame: 8 × 4</caption>\n",
       "<thead>\n",
       "\t<tr><th scope=col>SEN</th><th scope=col>BIEGANIE</th><th scope=col>PIES</th><th scope=col>Freq</th></tr>\n",
       "\t<tr><th scope=col>&lt;fct&gt;</th><th scope=col>&lt;fct&gt;</th><th scope=col>&lt;fct&gt;</th><th scope=col>&lt;int&gt;</th></tr>\n",
       "</thead>\n",
       "<tbody>\n",
       "\t<tr><td>0</td><td>0</td><td>0</td><td> 6</td></tr>\n",
       "\t<tr><td>1</td><td>0</td><td>0</td><td> 5</td></tr>\n",
       "\t<tr><td>0</td><td>1</td><td>0</td><td> 1</td></tr>\n",
       "\t<tr><td>1</td><td>1</td><td>0</td><td> 5</td></tr>\n",
       "\t<tr><td>0</td><td>0</td><td>1</td><td> 2</td></tr>\n",
       "\t<tr><td>1</td><td>0</td><td>1</td><td> 5</td></tr>\n",
       "\t<tr><td>0</td><td>1</td><td>1</td><td> 2</td></tr>\n",
       "\t<tr><td>1</td><td>1</td><td>1</td><td>14</td></tr>\n",
       "</tbody>\n",
       "</table>\n"
      ],
      "text/latex": [
       "A data.frame: 8 × 4\n",
       "\\begin{tabular}{llll}\n",
       " SEN & BIEGANIE & PIES & Freq\\\\\n",
       " <fct> & <fct> & <fct> & <int>\\\\\n",
       "\\hline\n",
       "\t 0 & 0 & 0 &  6\\\\\n",
       "\t 1 & 0 & 0 &  5\\\\\n",
       "\t 0 & 1 & 0 &  1\\\\\n",
       "\t 1 & 1 & 0 &  5\\\\\n",
       "\t 0 & 0 & 1 &  2\\\\\n",
       "\t 1 & 0 & 1 &  5\\\\\n",
       "\t 0 & 1 & 1 &  2\\\\\n",
       "\t 1 & 1 & 1 & 14\\\\\n",
       "\\end{tabular}\n"
      ],
      "text/markdown": [
       "\n",
       "A data.frame: 8 × 4\n",
       "\n",
       "| SEN &lt;fct&gt; | BIEGANIE &lt;fct&gt; | PIES &lt;fct&gt; | Freq &lt;int&gt; |\n",
       "|---|---|---|---|\n",
       "| 0 | 0 | 0 |  6 |\n",
       "| 1 | 0 | 0 |  5 |\n",
       "| 0 | 1 | 0 |  1 |\n",
       "| 1 | 1 | 0 |  5 |\n",
       "| 0 | 0 | 1 |  2 |\n",
       "| 1 | 0 | 1 |  5 |\n",
       "| 0 | 1 | 1 |  2 |\n",
       "| 1 | 1 | 1 | 14 |\n",
       "\n"
      ],
      "text/plain": [
       "  SEN BIEGANIE PIES Freq\n",
       "1 0   0        0     6  \n",
       "2 1   0        0     5  \n",
       "3 0   1        0     1  \n",
       "4 1   1        0     5  \n",
       "5 0   0        1     2  \n",
       "6 1   0        1     5  \n",
       "7 0   1        1     2  \n",
       "8 1   1        1    14  "
      ]
     },
     "metadata": {},
     "output_type": "display_data"
    }
   ],
   "source": [
    "data <- read.csv2(\"Ankieta.csv\")\n",
    "data <- mutate(data, across(c(\"SEN\", \"BIEGANIE\", \"PIES\")))\n",
    "data <- ftable(data)\n",
    "data.df <- as.data.frame(data)\n",
    "\n",
    "data.df"
   ]
  },
  {
   "cell_type": "markdown",
   "metadata": {},
   "source": [
    "___\n",
    "___\n",
    "___"
   ]
  },
  {
   "cell_type": "markdown",
   "metadata": {},
   "source": [
    "## Zadanie 3.\n",
    "\n",
    "W zadaniu trzecim testujemy hipotezy dotyczące parametrów modelu log-liniowego hierarchicznie uporządkowanego na podstawie tych samych danych, co poprzednio.\n",
    "\n",
    "### a.\n",
    "W podpunkcie a przeprowadzamy test, w którym hipoteza zerowa $H_0$ mówi, że zmienne Sen, Bieganie i Pies są niezależne (tj. pochodzą z modelu $[1\\,2\\,3]$). Z kolei, hipoteza alternatywna $H_a$ mówi, że zmienne pochodzą z modelu pełnego. Poziom istotności ustalamy jako $\\alpha = 0.05$."
   ]
  },
  {
   "cell_type": "code",
   "execution_count": 53,
   "metadata": {},
   "outputs": [],
   "source": [
    "model_a <- glm(Freq ~ SEN + BIEGANIE + PIES, \n",
    "            data = data.df, family = poisson)"
   ]
  },
  {
   "cell_type": "code",
   "execution_count": 24,
   "metadata": {},
   "outputs": [
    {
     "data": {
      "text/html": [
       "0.0293"
      ],
      "text/latex": [
       "0.0293"
      ],
      "text/markdown": [
       "0.0293"
      ],
      "text/plain": [
       "[1] 0.0293"
      ]
     },
     "metadata": {},
     "output_type": "display_data"
    }
   ],
   "source": [
    "p_a <- 1-pchisq(deviance(model_a), df = df.residual(model_a))\n",
    "\n",
    "p_a %>% round(4)"
   ]
  },
  {
   "cell_type": "markdown",
   "metadata": {},
   "source": [
    "P-wartość w tym teście jest mniejsza od $\\alpha$, więc odrzucamy $H_0$.\n",
    "\n",
    "#### Wersja z nadmodelem\n",
    "Przeprowadźmy dodatkowo wersję tego testu, gdzie zmienimy hipotezę alternatywną. Niech $H_a$ oznacza, że dane pochodzą z nadmodelu $[12\\,13\\,23]$."
   ]
  },
  {
   "cell_type": "code",
   "execution_count": 37,
   "metadata": {},
   "outputs": [
    {
     "data": {
      "text/html": [
       "0.0144"
      ],
      "text/latex": [
       "0.0144"
      ],
      "text/markdown": [
       "0.0144"
      ],
      "text/plain": [
       "[1] 0.0144"
      ]
     },
     "metadata": {},
     "output_type": "display_data"
    }
   ],
   "source": [
    "model_a_2 <- glm(Freq ~ (SEN + BIEGANIE + PIES)^2, \n",
    "            data = data.df, family = poisson)\n",
    "\n",
    "test <- anova(model_a, model_a_2)\n",
    "p_a_2 <- 1-pchisq(test$Deviance[2], df = test$Df[2])\n",
    "\n",
    "p_a_2 %>% round(4)"
   ]
  },
  {
   "cell_type": "markdown",
   "metadata": {},
   "source": [
    "Otrzymujemy p-wartość na poziomie $0.0144$, więc ponownie jest mniejsza od $\\alpha$. Zatem niezależnie od hipotezy alternatywnej $H_a$, możemy stwierdzić, że dane nie pochodzą z modelu $[1\\,2\\,3]$.\n",
    "\n",
    "### b.\n",
    "W podpunkcie b, hipoteza zerowa $H_0$ mówi nam, że zmienna Pies jest niezależna od niezależna od pary zmiennych Sen i Bieganie. Jest to równoważne stwierdzeniu, że dane pochodzą z modelu $[12\\,\\,3].$ Najpierw wykonajmy wersję z hipotezą alternatywną $H_a: \\text{dane pochodzą z modelu pełnego.}$"
   ]
  },
  {
   "cell_type": "code",
   "execution_count": 54,
   "metadata": {},
   "outputs": [],
   "source": [
    "model_b <- glm(Freq ~ PIES + SEN*BIEGANIE, \n",
    "            data = data.df, family = poisson)"
   ]
  },
  {
   "cell_type": "code",
   "execution_count": 55,
   "metadata": {},
   "outputs": [
    {
     "data": {
      "text/html": [
       "0.1132"
      ],
      "text/latex": [
       "0.1132"
      ],
      "text/markdown": [
       "0.1132"
      ],
      "text/plain": [
       "[1] 0.1132"
      ]
     },
     "metadata": {},
     "output_type": "display_data"
    }
   ],
   "source": [
    "p_b <- 1-pchisq(deviance(model_b), df = df.residual(model_b))\n",
    "\n",
    "p_b %>% round(4)"
   ]
  },
  {
   "cell_type": "markdown",
   "metadata": {},
   "source": [
    "Otrzymana p-wartość wynosi $0.1132 > 0.05$, więc nie mamy podstaw do odrzucenia $H_0$.\n",
    "\n",
    "#### Wersja z nadmodelem\n",
    "Ponownie, niech $H_a$ oznacza, że dane pochodzą z nadmodelu $[12\\,13\\,23]$."
   ]
  },
  {
   "cell_type": "code",
   "execution_count": 52,
   "metadata": {},
   "outputs": [
    {
     "data": {
      "text/html": [
       "0.0562"
      ],
      "text/latex": [
       "0.0562"
      ],
      "text/markdown": [
       "0.0562"
      ],
      "text/plain": [
       "[1] 0.0562"
      ]
     },
     "metadata": {},
     "output_type": "display_data"
    }
   ],
   "source": [
    "model_b_2 <- glm(Freq ~ (SEN + BIEGANIE + PIES)^2, \n",
    "            data = data.df, family = poisson)\n",
    "\n",
    "test <- anova(model_b, model_b_2)\n",
    "p_b_2 <- 1-pchisq(test$Deviance[2], df = test$Df[2])\n",
    "\n",
    "p_b_2 %>% round(4)"
   ]
  },
  {
   "cell_type": "markdown",
   "metadata": {},
   "source": [
    "Widzimy, że niezależnie od doboru $H_a$, nie mamy podstaw do odrzucenia $H_0$.\n",
    "\n",
    "### c.\n",
    "Hipoteza zerowa $H_0$ z podpunktu c stanowi, że zmienna Sen jest niezależna od zmiennej Pies przy ustalonej zmiennej Bieganie. Jest to równoważne ze stwierdzeniem, że dane pochodzą z modelu $[12\\,\\,23].$ Najpierw przeprowadźmy test z hipotezą alternatywną $H_a$, że dane pochodzą z modelu pełnego."
   ]
  },
  {
   "cell_type": "code",
   "execution_count": 48,
   "metadata": {},
   "outputs": [],
   "source": [
    "model_c <- glm(Freq ~ SEN*BIEGANIE + PIES*BIEGANIE,\n",
    "            data = data.df, family = poisson)"
   ]
  },
  {
   "cell_type": "code",
   "execution_count": 49,
   "metadata": {},
   "outputs": [
    {
     "data": {
      "text/html": [
       "0.5329"
      ],
      "text/latex": [
       "0.5329"
      ],
      "text/markdown": [
       "0.5329"
      ],
      "text/plain": [
       "[1] 0.5329"
      ]
     },
     "metadata": {},
     "output_type": "display_data"
    }
   ],
   "source": [
    "p_c <- 1-pchisq(deviance(model_c), df = df.residual(model_c))\n",
    "\n",
    "p_c %>% round(4)"
   ]
  },
  {
   "cell_type": "markdown",
   "metadata": {},
   "source": [
    "P-wartość wynosi $0.5329 > 0.05$, więc ponownie nie mamy przesłanek do odrzucenia $H_0$.\n",
    "\n",
    "#### Wersja z nadmodelem\n",
    "Zobaczmy jeszcze wersję z hipotezą alternatywną $H_a$, że dane pochodzą z nadmodelu $[12\\,13\\,23]$."
   ]
  },
  {
   "cell_type": "code",
   "execution_count": 43,
   "metadata": {},
   "outputs": [
    {
     "data": {
      "text/html": [
       "0.3058"
      ],
      "text/latex": [
       "0.3058"
      ],
      "text/markdown": [
       "0.3058"
      ],
      "text/plain": [
       "[1] 0.3058"
      ]
     },
     "metadata": {},
     "output_type": "display_data"
    }
   ],
   "source": [
    "model_c_2 <- glm(Freq ~ (SEN + BIEGANIE + PIES)^2, \n",
    "            data = data.df, family = poisson)\n",
    "\n",
    "test <- anova(model_c, model_c_2)\n",
    "p_c_2 <- 1-pchisq(test$Deviance[2], df = test$Df[2])\n",
    "\n",
    "p_c_2 %>% round(4)"
   ]
  },
  {
   "cell_type": "markdown",
   "metadata": {},
   "source": [
    "Ponownie widzimy, że niezależnie od doboru $H_a$, dochodzimy do takich samych wniosków.\n"
   ]
  }
 ],
 "metadata": {
  "kernelspec": {
   "display_name": "R",
   "language": "R",
   "name": "ir"
  },
  "language_info": {
   "codemirror_mode": "r",
   "file_extension": ".r",
   "mimetype": "text/x-r-source",
   "name": "R",
   "pygments_lexer": "r",
   "version": "4.2.0"
  }
 },
 "nbformat": 4,
 "nbformat_minor": 4
}
