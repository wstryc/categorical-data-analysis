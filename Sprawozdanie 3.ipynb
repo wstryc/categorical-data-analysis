{
 "cells": [
  {
   "cell_type": "markdown",
   "metadata": {},
   "source": [
    "# Lista 10\n",
    "Część pierwsza sprawozdania.\n",
    "\n",
    "## Zadanie 1"
   ]
  },
  {
   "cell_type": "code",
   "execution_count": 18,
   "metadata": {},
   "outputs": [],
   "source": [
    "#install.packages(\"kableExtra\")\n",
    "#install.packages(\"tidyverse\")\n",
    "\n",
    "library(tidyverse)\n",
    "library(knitr)\n",
    "library(kableExtra)\n",
    "library(IRdisplay)"
   ]
  },
  {
   "cell_type": "markdown",
   "metadata": {},
   "source": [
    "## Zadanie 2"
   ]
  },
  {
   "cell_type": "code",
   "execution_count": null,
   "metadata": {},
   "outputs": [],
   "source": []
  },
  {
   "cell_type": "markdown",
   "metadata": {},
   "source": [
    "## Zadanie 3"
   ]
  },
  {
   "cell_type": "code",
   "execution_count": null,
   "metadata": {},
   "outputs": [],
   "source": []
  },
  {
   "cell_type": "markdown",
   "metadata": {},
   "source": [
    "# Lista 11\n",
    "Część druga sprawozdania.\n",
    "\n",
    "## Zadanie 1\n",
    "\n",
    "W zadaniu pierwszym przeprowadzimy test symetrii, quasi-symetrii i quasi-niezależności dla danych dotyczących ocen uzyskanych przez studentów z dwóch kolokwiów. Wszystkie testy zostaną przeprowadzone na poziomie istotności $0.05$."
   ]
  },
  {
   "cell_type": "code",
   "execution_count": 59,
   "metadata": {},
   "outputs": [
    {
     "ename": "ERROR",
     "evalue": "Error in table(count, byrow = TRUE, nrow = 6, rownames = c(\"2\", \"3\", \"+3\", : all arguments must have the same length\n",
     "output_type": "error",
     "traceback": [
      "Error in table(count, byrow = TRUE, nrow = 6, rownames = c(\"2\", \"3\", \"+3\", : all arguments must have the same length\nTraceback:\n",
      "1. table(count, byrow = TRUE, nrow = 6, rownames = c(\"2\", \"3\", \"+3\", \n .     \"4\", \"+4\", \"5\"), colnames = c(\"2\", \"3\", \"+3\", \"4\", \"+4\", \n .     \"5\"))",
      "2. stop(\"all arguments must have the same length\")"
     ]
    }
   ],
   "source": [
    "# HIDE INPUT\n",
    "\n",
    "count <- c(5, 2, 1, 0, 0, 0,\n",
    "           6, 3, 2, 2, 0, 0,\n",
    "           1, 4, 5, 5, 2, 2,\n",
    "           0, 10, 15, 18, 5, 2,\n",
    "           1, 2, 5, 3, 2, 2,\n",
    "           0, 1, 3, 4, 3, 2)\n",
    "\n",
    "data <- matrix(count, byrow=TRUE, nrow=6)\n",
    "rownames(data) = c(\"2\", \"3\", \"+3\", \"4\", \"+4\", \"5\")\n",
    "colnames(data) = c(\"2\", \"3\", \"+3\", \"4\", \"+4\", \"5\")\n",
    "\n",
    "data %>% \n",
    "    kable(\"html\") %>%\n",
    "    as.character() %>%\n",
    "    display_html()"
   ]
  },
  {
   "cell_type": "code",
   "execution_count": 58,
   "metadata": {},
   "outputs": [],
   "source": [
    "?matrix"
   ]
  },
  {
   "cell_type": "markdown",
   "metadata": {},
   "source": [
    "### Symetria\n",
    "Przy testowaniu symetrii, moglibyśmy skorzystać z testu Bowkera, jednak w przypadku naszych danych nie jest to możliwe. Wywołanie tego testu (`mcnemar.test`) zwróciłoby p-wartość `NaN`. Dlatego należy skorzystać z testu ilorazu wiarygodności, zaimplementowanego w funkcji `glm` biblioteki `gnm`."
   ]
  },
  {
   "cell_type": "code",
   "execution_count": 39,
   "metadata": {},
   "outputs": [
    {
     "data": {
      "text/plain": [
       "\n",
       "Call:\n",
       "glm(formula = count ~ Symm(K1, K2), family = poisson, data = data)\n",
       "\n",
       "Deviance Residuals: \n",
       "    Min       1Q   Median       3Q      Max  \n",
       "-1.8988  -0.5463   0.0000   0.4981   1.4888  \n",
       "\n",
       "Coefficients:\n",
       "                    Estimate Std. Error z value Pr(>|z|)    \n",
       "(Intercept)        1.609e+00  4.472e-01   3.599  0.00032 ***\n",
       "Symm(K1, K2)2:3   -2.231e-01  5.701e-01  -0.391  0.69549    \n",
       "Symm(K1, K2)2:+3  -1.609e+00  8.367e-01  -1.924  0.05440 .  \n",
       "Symm(K1, K2)2:4   -1.991e+01  4.043e+03  -0.005  0.99607    \n",
       "Symm(K1, K2)2:+4  -2.303e+00  1.095e+00  -2.102  0.03556 *  \n",
       "Symm(K1, K2)2:5   -1.991e+01  4.043e+03  -0.005  0.99607    \n",
       "Symm(K1, K2)3:3   -5.108e-01  7.303e-01  -0.699  0.48425    \n",
       "Symm(K1, K2)3:+3  -5.108e-01  6.055e-01  -0.844  0.39889    \n",
       "Symm(K1, K2)3:4    1.823e-01  5.323e-01   0.343  0.73196    \n",
       "Symm(K1, K2)3:+4  -1.609e+00  8.367e-01  -1.924  0.05440 .  \n",
       "Symm(K1, K2)3:5   -2.303e+00  1.095e+00  -2.102  0.03556 *  \n",
       "Symm(K1, K2)+3:+3  2.561e-15  6.325e-01   0.000  1.00000    \n",
       "Symm(K1, K2)+3:4   6.931e-01  5.000e-01   1.386  0.16566    \n",
       "Symm(K1, K2)+3:+4 -3.567e-01  5.855e-01  -0.609  0.54243    \n",
       "Symm(K1, K2)+3:5  -6.931e-01  6.325e-01  -1.096  0.27310    \n",
       "Symm(K1, K2)4:4    1.281e+00  5.055e-01   2.534  0.01128 *  \n",
       "Symm(K1, K2)4:+4  -2.231e-01  5.701e-01  -0.391  0.69549    \n",
       "Symm(K1, K2)4:5   -5.108e-01  6.055e-01  -0.844  0.39889    \n",
       "Symm(K1, K2)+4:+4 -9.163e-01  8.367e-01  -1.095  0.27344    \n",
       "Symm(K1, K2)+4:5  -6.931e-01  6.325e-01  -1.096  0.27310    \n",
       "Symm(K1, K2)5:5   -9.163e-01  8.367e-01  -1.095  0.27344    \n",
       "---\n",
       "Signif. codes:  0 '***' 0.001 '**' 0.01 '*' 0.05 '.' 0.1 ' ' 1\n",
       "\n",
       "(Dispersion parameter for poisson family taken to be 1)\n",
       "\n",
       "    Null deviance: 129.422  on 35  degrees of freedom\n",
       "Residual deviance:  22.288  on 15  degrees of freedom\n",
       "AIC: 151.44\n",
       "\n",
       "Number of Fisher Scoring iterations: 16\n"
      ]
     },
     "metadata": {},
     "output_type": "display_data"
    }
   ],
   "source": [
    "#install.packages(\"gnm\")\n",
    "#install.packages(\"dplyr\")\n",
    "library(gnm)\n",
    "library(dplyr)\n",
    "\n",
    "count <- c(5, 2, 1, 0, 0, 0,\n",
    "           6, 3, 2, 2, 0, 0,\n",
    "           1, 4, 5, 5, 2, 2,\n",
    "           0, 10, 15, 18, 5, 2,\n",
    "           1, 2, 5, 3, 2, 2,\n",
    "           0, 1, 3, 4, 3, 2)\n",
    "\n",
    "K1 <- gl(6,6, labels=c(\"2\", \"3\", \"+3\", \"4\", \"+4\", \"5\"))\n",
    "K2 <- gl(6,1, labels=c(\"2\", \"3\", \"+3\", \"4\", \"+4\", \"5\"))\n",
    "data <- data.frame(K1, K2, count)\n",
    "\n",
    "symmetry <- glm(count ~ Symm(K1, K2), data=data, family=poisson)\n",
    "symmetry %>% summary()"
   ]
  },
  {
   "cell_type": "markdown",
   "metadata": {},
   "source": [
    "Policzmy zatem p-wartość."
   ]
  },
  {
   "cell_type": "code",
   "execution_count": 45,
   "metadata": {},
   "outputs": [
    {
     "data": {
      "text/html": [
       "0.1005"
      ],
      "text/latex": [
       "0.1005"
      ],
      "text/markdown": [
       "0.1005"
      ],
      "text/plain": [
       "[1] 0.1005"
      ]
     },
     "metadata": {},
     "output_type": "display_data"
    }
   ],
   "source": [
    "x = symmetry$deviance\n",
    "r = 15\n",
    "\n",
    "p = 1 - pchisq(x, r)\n",
    "p %>% round(4)"
   ]
  },
  {
   "cell_type": "markdown",
   "metadata": {},
   "source": [
    "Otrzymujemy p-wartość na poziomie $0.1005 < 0.05$, więc odrzucamy hipotezę o symetrii."
   ]
  },
  {
   "cell_type": "markdown",
   "metadata": {},
   "source": [
    "### Quasi-symetria\n",
    "Ponownie skorzystamy z funkcji `glm`."
   ]
  },
  {
   "cell_type": "code",
   "execution_count": 46,
   "metadata": {},
   "outputs": [
    {
     "data": {
      "text/plain": [
       "\n",
       "Call:\n",
       "glm(formula = count ~ K1 + K2 + Symm(K1, K2), family = poisson, \n",
       "    data = data)\n",
       "\n",
       "Deviance Residuals: \n",
       "     Min        1Q    Median        3Q       Max  \n",
       "-0.86903  -0.08908   0.00000   0.06047   0.80881  \n",
       "\n",
       "Coefficients: (5 not defined because of singularities)\n",
       "                    Estimate Std. Error z value Pr(>|z|)    \n",
       "(Intercept)          1.60944    0.44721   3.599  0.00032 ***\n",
       "K13                 -1.83252    1.17661  -1.557  0.11936    \n",
       "K1+3                 0.29184    0.76722   0.380  0.70365    \n",
       "K14                  1.16686    0.72161   1.617  0.10587    \n",
       "K1+4                 0.86552    0.77135   1.122  0.26183    \n",
       "K15                  0.85966    0.63615   1.351  0.17658    \n",
       "K23                 -2.61466    1.16128  -2.252  0.02435 *  \n",
       "K2+3                -1.11675    0.74555  -1.498  0.13416    \n",
       "K24                 -1.28102    0.71818  -1.784  0.07447 .  \n",
       "K2+4                -1.37441    0.75441  -1.822  0.06848 .  \n",
       "K25                 -1.77595    0.63615  -2.792  0.00524 ** \n",
       "Symm(K1, K2)2:3      1.92585    1.18091   1.631  0.10293    \n",
       "Symm(K1, K2)2:+3    -1.42686    0.98714  -1.445  0.14833    \n",
       "Symm(K1, K2)2:4    -21.96301 8534.61353  -0.003  0.99795    \n",
       "Symm(K1, K2)2:+4    -2.57613    1.23357  -2.088  0.03677 *  \n",
       "Symm(K1, K2)2:5    -21.59613 8340.70550  -0.003  0.99793    \n",
       "Symm(K1, K2)3:3      3.93636    2.26235   1.740  0.08187 .  \n",
       "Symm(K1, K2)3:+3     2.07695    1.41686   1.466  0.14268    \n",
       "Symm(K1, K2)3:4      2.15011    1.34295   1.601  0.10937    \n",
       "Symm(K1, K2)3:+4     0.62360    1.50777   0.414  0.67917    \n",
       "Symm(K1, K2)3:5           NA         NA      NA       NA    \n",
       "Symm(K1, K2)+3:+3    0.82491    1.26744   0.651  0.51515    \n",
       "Symm(K1, K2)+3:4     1.03334    0.97381   1.061  0.28863    \n",
       "Symm(K1, K2)+3:+4    0.22621    1.04268   0.217  0.82825    \n",
       "Symm(K1, K2)+3:5          NA         NA      NA       NA    \n",
       "Symm(K1, K2)4:4      1.39509    1.10681   1.260  0.20750    \n",
       "Symm(K1, K2)4:+4     0.08298    0.99878   0.083  0.93378    \n",
       "Symm(K1, K2)4:5           NA         NA      NA       NA    \n",
       "Symm(K1, K2)+4:+4   -0.40740    1.34688  -0.302  0.76229    \n",
       "Symm(K1, K2)+4:5          NA         NA      NA       NA    \n",
       "Symm(K1, K2)5:5           NA         NA      NA       NA    \n",
       "---\n",
       "Signif. codes:  0 '***' 0.001 '**' 0.01 '*' 0.05 '.' 0.1 ' ' 1\n",
       "\n",
       "(Dispersion parameter for poisson family taken to be 1)\n",
       "\n",
       "    Null deviance: 129.4218  on 35  degrees of freedom\n",
       "Residual deviance:   3.7246  on 10  degrees of freedom\n",
       "AIC: 142.87\n",
       "\n",
       "Number of Fisher Scoring iterations: 18\n"
      ]
     },
     "metadata": {},
     "output_type": "display_data"
    }
   ],
   "source": [
    "quasi_symm <- glm(count ~ K1+K2 + Symm(K1,K2), data=data, family =poisson)\n",
    "summary(quasi_symm)"
   ]
  },
  {
   "cell_type": "code",
   "execution_count": 51,
   "metadata": {},
   "outputs": [
    {
     "data": {
      "text/html": [
       "0.9589"
      ],
      "text/latex": [
       "0.9589"
      ],
      "text/markdown": [
       "0.9589"
      ],
      "text/plain": [
       "[1] 0.9589"
      ]
     },
     "metadata": {},
     "output_type": "display_data"
    }
   ],
   "source": [
    "x = quasi_symm$deviance\n",
    "r = 10\n",
    "p = 1 - pchisq(x, r)\n",
    "\n",
    "p %>% round(4)"
   ]
  },
  {
   "cell_type": "markdown",
   "metadata": {},
   "source": [
    "Otrzymana p-wartość na poziomie $0.9589$ nie daje podstaw do odrzucenia hipotezy o quasi-symetrii."
   ]
  },
  {
   "cell_type": "markdown",
   "metadata": {},
   "source": [
    "### Quasi-niezależność\n",
    "Do testowania quasi-niezależności również możemy wykorzystać funkcję `glm`."
   ]
  },
  {
   "cell_type": "code",
   "execution_count": 53,
   "metadata": {},
   "outputs": [
    {
     "data": {
      "text/plain": [
       "\n",
       "Call:\n",
       "glm(formula = count ~ K1 + K2 + Diag(K1, K2), family = poisson, \n",
       "    data = data)\n",
       "\n",
       "Deviance Residuals: \n",
       "    Min       1Q   Median       3Q      Max  \n",
       "-2.5605  -0.6443  -0.0649   0.2053   3.3845  \n",
       "\n",
       "Coefficients:\n",
       "               Estimate Std. Error z value Pr(>|z|)    \n",
       "(Intercept)     -1.3500     0.6876  -1.963 0.049590 *  \n",
       "K13              1.3547     0.6616   2.048 0.040602 *  \n",
       "K1+3             1.8306     0.6423   2.850 0.004372 ** \n",
       "K14              2.5373     0.6092   4.165 3.12e-05 ***\n",
       "K1+4             1.5024     0.6425   2.338 0.019370 *  \n",
       "K15              1.2838     0.6527   1.967 0.049190 *  \n",
       "K23              0.9628     0.4241   2.270 0.023181 *  \n",
       "K2+3             1.3646     0.4095   3.333 0.000861 ***\n",
       "K24              1.0334     0.4545   2.274 0.022994 *  \n",
       "K2+4             0.3432     0.4768   0.720 0.471570    \n",
       "K25             -0.1993     0.5417  -0.368 0.712931    \n",
       "Diag(K1, K2)2    2.9595     0.8202   3.608 0.000308 ***\n",
       "Diag(K1, K2)3    0.1312     0.7110   0.184 0.853635    \n",
       "Diag(K1, K2)+3  -0.2357     0.5786  -0.407 0.683712    \n",
       "Diag(K1, K2)4    0.6698     0.4315   1.552 0.120596    \n",
       "Diag(K1, K2)+4   0.1976     0.8333   0.237 0.812573    \n",
       "Diag(K1, K2)5    0.9587     0.8794   1.090 0.275637    \n",
       "---\n",
       "Signif. codes:  0 '***' 0.001 '**' 0.01 '*' 0.05 '.' 0.1 ' ' 1\n",
       "\n",
       "(Dispersion parameter for poisson family taken to be 1)\n",
       "\n",
       "    Null deviance: 129.422  on 35  degrees of freedom\n",
       "Residual deviance:  36.325  on 19  degrees of freedom\n",
       "AIC: 157.47\n",
       "\n",
       "Number of Fisher Scoring iterations: 6\n"
      ]
     },
     "metadata": {},
     "output_type": "display_data"
    }
   ],
   "source": [
    "quasi_ind <-  glm(count ~ K1 + K2 + Diag(K1, K2), data=data, family = poisson)\n",
    "summary(quasi_ind)"
   ]
  },
  {
   "cell_type": "code",
   "execution_count": 55,
   "metadata": {},
   "outputs": [
    {
     "data": {
      "text/html": [
       "0.0096"
      ],
      "text/latex": [
       "0.0096"
      ],
      "text/markdown": [
       "0.0096"
      ],
      "text/plain": [
       "[1] 0.0096"
      ]
     },
     "metadata": {},
     "output_type": "display_data"
    }
   ],
   "source": [
    "x = quasi_ind$deviance\n",
    "r = 19\n",
    "p = 1 - pchisq(x, r)\n",
    "p %>% round(4)"
   ]
  },
  {
   "cell_type": "markdown",
   "metadata": {},
   "source": [
    "Test ilorazu wiarygodności zwraca p-wartość $0.0096 < 0.05$, więc odrzucamy hipotezę zerową o quasi-niezależności.\n",
    "\n",
    "## Zadanie 2\n",
    "\n",
    "zad 2 \n",
    "trzeba wskazac ze rozklady brzegowe sa jednorodne\n",
    "\n",
    "na poprzedniej liscie weryfikowalismy hip ze dane pochodza z symetrii (?)\n",
    "\n",
    "wynik z testu symetrii jakby jednoznacznie okreslal czy mozemy odrzucic hipoteze o jednorodnosci czy nie\n",
    "\n",
    "tutaj sytuacja jest bardziej skomplikowana poniewaz symetria nie jest rownowazna jednorodnosci\n",
    "\n",
    "symetria implikuje jednorodnosc rozkladu (implikacja tylko w 1 strone)\n",
    "\n",
    "w kontekscie zadania drugiego,\n",
    "jezeli w podpunkcie a w 1 zadaniu wyjdzie ze nie mozna odrzucic hipotezy, bedziemy wnioskowac ze dane pochodza z modelu symetrii, to automatycznie mowimy ze rozklady brzegowe za jednorodne\n",
    "\n",
    "jezeli w 1a odrzucamy hipoteze, to nie mozemy automatycznie odrzucic hipotezy\n",
    "\n",
    "w zadaniu 2 powolujemy sie na wynik z 1a jesli ta nie odrzucimy hipotezy o symetrii\n",
    "\n",
    "nie bedziemy miec podstaw do odrzucenia wiec mzoemy tak zrobic\n",
    "\n",
    "\n",
    "drugi test jaki mozna wykonac to test bazujacy na ilorazie wiarygnodnosci\n",
    "\n",
    "na wykladzie mielismy na kilku slajdach rozpisane ze pod warunkiem jest zachodzi quasi symetria to...\n",
    "\n",
    "test z wykladu w zadaniu drugim, ostatni podrozdzial kilka linijek\n",
    "\n",
    "przeczytanie przykladu do wykladu i powtorzenie analogicznych testow dla naszego  przykladu\n",
    "\n",
    "nie bedzie trudne i pracochlonne"
   ]
  },
  {
   "cell_type": "markdown",
   "metadata": {},
   "source": [
    "# Lista 12, 13, 14\n",
    "\n",
    "modelujemy logarytm (slajd 14)\n",
    "\n",
    "lambda - wyraz wolny, wspolczenniki zwiazane z pojedynczymi zmiennymi\n",
    "\n",
    "## Zadanie 1\n",
    "\n",
    "Rozszyfrowac co to za model, roszszyfrowac i zapisac rownanie + interpretacja (slajd 26-) \n",
    "\n",
    "* Zmienna 1 -- SEN\n",
    "* Zmienna 2 -- BIEGANIE\n",
    "* Zmienna 3 -- PIES\n",
    "\n",
    "\n",
    "### a. \n",
    "Mamy wyraz wolny, efekt gl odp 1 zmiennej, efekt gl odp zmiennej 3, nie bierzemy interakcji iinnych emiznnych, interpretacja = zakladamy ze 3 zmienne losowe sa niezlezne, dodatkowo ta dwojka ma rozklad rownomierny. \n",
    "\n",
    "ZMIENNA LOSOWA 2 BIEGANIE ma rozklad rownomierny a 1 i 3 dowolne zmienne losowe o roznych rozkladach.\n",
    "\n",
    "\n",
    "\n",
    "a-f dopasowac do danych \n",
    "\n",
    "(kroki ze skryptu)\n",
    "\n",
    "wczytac dane ankieta (zerznac kod z tablicy)\n",
    "\n",
    "zdefiniowac model\n",
    "\n",
    "odpalic pods. modelu\n",
    "\n",
    "policzyc test (p-value): porownac licznosci teoretyczne i te z modelu\n",
    "\n",
    "powtorzyc \n",
    "\n",
    "\n",
    "TABELA z p-wartosciami dla a-f\n",
    "licznosci teoretyczne i licznosci z modeli a-f\n",
    "\n"
   ]
  },
  {
   "cell_type": "code",
   "execution_count": 20,
   "metadata": {},
   "outputs": [
    {
     "data": {
      "text/html": [
       "<table class=\"dataframe\">\n",
       "<caption>A data.frame: 8 × 4</caption>\n",
       "<thead>\n",
       "\t<tr><th scope=col>SEN</th><th scope=col>BIEGANIE</th><th scope=col>PIES</th><th scope=col>Freq</th></tr>\n",
       "\t<tr><th scope=col>&lt;fct&gt;</th><th scope=col>&lt;fct&gt;</th><th scope=col>&lt;fct&gt;</th><th scope=col>&lt;int&gt;</th></tr>\n",
       "</thead>\n",
       "<tbody>\n",
       "\t<tr><td>0</td><td>0</td><td>0</td><td> 6</td></tr>\n",
       "\t<tr><td>1</td><td>0</td><td>0</td><td> 5</td></tr>\n",
       "\t<tr><td>0</td><td>1</td><td>0</td><td> 1</td></tr>\n",
       "\t<tr><td>1</td><td>1</td><td>0</td><td> 5</td></tr>\n",
       "\t<tr><td>0</td><td>0</td><td>1</td><td> 2</td></tr>\n",
       "\t<tr><td>1</td><td>0</td><td>1</td><td> 5</td></tr>\n",
       "\t<tr><td>0</td><td>1</td><td>1</td><td> 2</td></tr>\n",
       "\t<tr><td>1</td><td>1</td><td>1</td><td>14</td></tr>\n",
       "</tbody>\n",
       "</table>\n"
      ],
      "text/latex": [
       "A data.frame: 8 × 4\n",
       "\\begin{tabular}{llll}\n",
       " SEN & BIEGANIE & PIES & Freq\\\\\n",
       " <fct> & <fct> & <fct> & <int>\\\\\n",
       "\\hline\n",
       "\t 0 & 0 & 0 &  6\\\\\n",
       "\t 1 & 0 & 0 &  5\\\\\n",
       "\t 0 & 1 & 0 &  1\\\\\n",
       "\t 1 & 1 & 0 &  5\\\\\n",
       "\t 0 & 0 & 1 &  2\\\\\n",
       "\t 1 & 0 & 1 &  5\\\\\n",
       "\t 0 & 1 & 1 &  2\\\\\n",
       "\t 1 & 1 & 1 & 14\\\\\n",
       "\\end{tabular}\n"
      ],
      "text/markdown": [
       "\n",
       "A data.frame: 8 × 4\n",
       "\n",
       "| SEN &lt;fct&gt; | BIEGANIE &lt;fct&gt; | PIES &lt;fct&gt; | Freq &lt;int&gt; |\n",
       "|---|---|---|---|\n",
       "| 0 | 0 | 0 |  6 |\n",
       "| 1 | 0 | 0 |  5 |\n",
       "| 0 | 1 | 0 |  1 |\n",
       "| 1 | 1 | 0 |  5 |\n",
       "| 0 | 0 | 1 |  2 |\n",
       "| 1 | 0 | 1 |  5 |\n",
       "| 0 | 1 | 1 |  2 |\n",
       "| 1 | 1 | 1 | 14 |\n",
       "\n"
      ],
      "text/plain": [
       "  SEN BIEGANIE PIES Freq\n",
       "1 0   0        0     6  \n",
       "2 1   0        0     5  \n",
       "3 0   1        0     1  \n",
       "4 1   1        0     5  \n",
       "5 0   0        1     2  \n",
       "6 1   0        1     5  \n",
       "7 0   1        1     2  \n",
       "8 1   1        1    14  "
      ]
     },
     "metadata": {},
     "output_type": "display_data"
    }
   ],
   "source": [
    "data <- read.csv2(\"Ankieta.csv\")\n",
    "data <- mutate(data, across(c(\"SEN\", \"BIEGANIE\", \"PIES\")))\n",
    "data <- ftable(data)\n",
    "data.df <- as.data.frame(data)\n",
    "\n",
    "data.df"
   ]
  },
  {
   "cell_type": "markdown",
   "metadata": {},
   "source": [
    "Model ma postać:"
   ]
  },
  {
   "cell_type": "markdown",
   "id": "b1dd0331",
   "metadata": {},
   "source": [
    "$$\n",
    "\\ln{E\\left(Y_{i_1, i_2, i_3}\\right)} = \\lambda + \\lambda_{i_{1}}^1 + \\lambda_{i_{3}}^3\n",
    "$$"
   ]
  },
  {
   "cell_type": "code",
   "execution_count": 28,
   "metadata": {},
   "outputs": [
    {
     "data": {
      "text/plain": [
       "\n",
       "Call:\n",
       "glm(formula = Freq ~ SEN + PIES, family = poisson, data = data.df)\n",
       "\n",
       "Deviance Residuals: \n",
       "      1        2        3        4        5        6        7        8  \n",
       " 1.9968  -0.4843  -0.9883  -0.4843  -0.7015  -1.2497  -0.7015   1.7853  \n",
       "\n",
       "Coefficients:\n",
       "            Estimate Std. Error z value Pr(>|z|)   \n",
       "(Intercept)   0.8491     0.3532   2.404  0.01621 * \n",
       "SEN1          0.9694     0.3541   2.738  0.00619 **\n",
       "PIES1         0.3023     0.3198   0.945  0.34462   \n",
       "---\n",
       "Signif. codes:  0 '***' 0.001 '**' 0.01 '*' 0.05 '.' 0.1 ' ' 1\n",
       "\n",
       "(Dispersion parameter for poisson family taken to be 1)\n",
       "\n",
       "    Null deviance: 20.468  on 7  degrees of freedom\n",
       "Residual deviance: 11.166  on 5  degrees of freedom\n",
       "AIC: 42.982\n",
       "\n",
       "Number of Fisher Scoring iterations: 5\n"
      ]
     },
     "metadata": {},
     "output_type": "display_data"
    }
   ],
   "source": [
    "model <- glm(Freq ~ SEN + PIES, \n",
    "            data = data.df, family = poisson)\n",
    "\n",
    "a <- fitted(model)\n",
    "\n",
    "summary(model)"
   ]
  },
  {
   "cell_type": "markdown",
   "metadata": {},
   "source": [
    "Przeprowadźmy test, czy dane pochodzą z rozważanego modelu. Hipoteza zerowa $H_0$ mówi, że dane są z modelu $[1\\, 2\\, 3]$, a hipoteza alternatywna $H_a$ stanowi, że dane są z modelu pełnego."
   ]
  },
  {
   "cell_type": "code",
   "execution_count": 44,
   "metadata": {},
   "outputs": [
    {
     "data": {
      "text/html": [
       "0.0779"
      ],
      "text/latex": [
       "0.0779"
      ],
      "text/markdown": [
       "0.0779"
      ],
      "text/plain": [
       "[1] 0.0779"
      ]
     },
     "metadata": {},
     "output_type": "display_data"
    }
   ],
   "source": [
    "p_a <- 1-pchisq(deviance(model), df = df.residual(model))\n",
    "\n",
    "p_a %>% round(4)"
   ]
  },
  {
   "cell_type": "markdown",
   "metadata": {},
   "source": [
    "Otrzymaliśmy p-wartość równą $0.0779 > 0.05$.\n",
    "\n",
    "### b."
   ]
  },
  {
   "cell_type": "markdown",
   "metadata": {},
   "source": [
    "Model ma postać:"
   ]
  },
  {
   "cell_type": "markdown",
   "id": "b7fbddcf",
   "metadata": {},
   "source": [
    "$$ \n",
    "\\ln{E\\left(Y_{i_1, i_2, i_3}\\right)} = \\lambda + \\lambda_{i_{1}}^{(1)} + \\lambda_{i_{3}}^{(3)} + \\lambda_{i_{1}i_{3}}^{(13)}\n",
    "$$"
   ]
  },
  {
   "cell_type": "code",
   "execution_count": 42,
   "metadata": {},
   "outputs": [
    {
     "data": {
      "text/plain": [
       "\n",
       "Call:\n",
       "glm(formula = Freq ~ SEN + PIES + SEN * PIES, family = poisson, \n",
       "    data = data.df)\n",
       "\n",
       "Deviance Residuals: \n",
       "     1       2       3       4       5       6       7       8  \n",
       " 1.212   0.000  -1.579   0.000   0.000  -1.607   0.000   1.363  \n",
       "\n",
       "Coefficients:\n",
       "            Estimate Std. Error z value Pr(>|z|)    \n",
       "(Intercept)   1.2528     0.3780   3.314 0.000918 ***\n",
       "SEN1          0.3567     0.4928   0.724 0.469210    \n",
       "PIES1        -0.5596     0.6268  -0.893 0.371944    \n",
       "SEN1:PIES1    1.2015     0.7386   1.627 0.103791    \n",
       "---\n",
       "Signif. codes:  0 '***' 0.001 '**' 0.01 '*' 0.05 '.' 0.1 ' ' 1\n",
       "\n",
       "(Dispersion parameter for poisson family taken to be 1)\n",
       "\n",
       "    Null deviance: 20.4680  on 7  degrees of freedom\n",
       "Residual deviance:  8.4013  on 4  degrees of freedom\n",
       "AIC: 42.217\n",
       "\n",
       "Number of Fisher Scoring iterations: 5\n"
      ]
     },
     "metadata": {},
     "output_type": "display_data"
    }
   ],
   "source": [
    "model <- glm(Freq ~ SEN + PIES + SEN*PIES, \n",
    "            data = data.df, family = poisson)\n",
    "\n",
    "b <- fitted(model)\n",
    "\n",
    "summary(model)"
   ]
  },
  {
   "cell_type": "code",
   "execution_count": 45,
   "metadata": {},
   "outputs": [
    {
     "data": {
      "text/html": [
       "0.0779"
      ],
      "text/latex": [
       "0.0779"
      ],
      "text/markdown": [
       "0.0779"
      ],
      "text/plain": [
       "[1] 0.0779"
      ]
     },
     "metadata": {},
     "output_type": "display_data"
    }
   ],
   "source": [
    "p_b <- 1-pchisq(deviance(model), df = df.residual(model))\n",
    "\n",
    "p_b %>% round(4)"
   ]
  },
  {
   "cell_type": "markdown",
   "metadata": {},
   "source": [
    "Wniosek ...\n",
    "\n",
    "### c.\n",
    "\n",
    "..."
   ]
  },
  {
   "cell_type": "markdown",
   "metadata": {},
   "source": [
    "Model ma postać:"
   ]
  },
  {
   "cell_type": "markdown",
   "id": "24d9e565",
   "metadata": {},
   "source": [
    "$$\n",
    "\\ln{E\\left(Y_{i_1, i_2, i_3}\\right)} = \\lambda + \\lambda_{i_{1}}^{(1)} + \\lambda_{i_{2}}^{(2)}+  \\lambda_{i_{3}}^{(3)}\n",
    "$$"
   ]
  },
  {
   "cell_type": "code",
   "execution_count": 47,
   "metadata": {},
   "outputs": [
    {
     "data": {
      "text/plain": [
       "\n",
       "Call:\n",
       "glm(formula = Freq ~ SEN + BIEGANIE + PIES, family = poisson, \n",
       "    data = data.df)\n",
       "\n",
       "Deviance Residuals: \n",
       "      1        2        3        4        5        6        7        8  \n",
       " 2.1872  -0.2359  -1.1197  -0.7169  -0.5302  -0.9736  -0.8622   1.4785  \n",
       "\n",
       "Coefficients:\n",
       "            Estimate Std. Error z value Pr(>|z|)   \n",
       "(Intercept)   0.7437     0.3941   1.887  0.05912 . \n",
       "SEN1          0.9694     0.3541   2.738  0.00619 **\n",
       "BIEGANIE1     0.2007     0.3178   0.631  0.52778   \n",
       "PIES1         0.3023     0.3198   0.945  0.34462   \n",
       "---\n",
       "Signif. codes:  0 '***' 0.001 '**' 0.01 '*' 0.05 '.' 0.1 ' ' 1\n",
       "\n",
       "(Dispersion parameter for poisson family taken to be 1)\n",
       "\n",
       "    Null deviance: 20.468  on 7  degrees of freedom\n",
       "Residual deviance: 10.766  on 4  degrees of freedom\n",
       "AIC: 44.581\n",
       "\n",
       "Number of Fisher Scoring iterations: 5\n"
      ]
     },
     "metadata": {},
     "output_type": "display_data"
    }
   ],
   "source": [
    "Model ma postać:$$\n",
    "\\ln{E\\left(Y_{i_1, i_2, i_3}\\right)} = \\lambda + \\lambda_{i_{1}}^{(1)} + \\lambda_{i_{2}}^{(2)}+  \\lambda_{i_{3}}^{(3)}\n",
    "$$model <- glm(Freq ~ SEN + BIEGANIE + PIES, \n",
    "            data = data.df, family = poisson)\n",
    "\n",
    "c <- fitted(model)\n",
    "\n",
    "summary(model)"
   ]
  },
  {
   "cell_type": "code",
   "execution_count": 48,
   "metadata": {},
   "outputs": [
    {
     "data": {
      "text/html": [
       "0.0293"
      ],
      "text/latex": [
       "0.0293"
      ],
      "text/markdown": [
       "0.0293"
      ],
      "text/plain": [
       "[1] 0.0293"
      ]
     },
     "metadata": {},
     "output_type": "display_data"
    }
   ],
   "source": [
    "p_c <- 1-pchisq(deviance(model), df = df.residual(model))\n",
    "\n",
    "p_c %>% round(4)"
   ]
  },
  {
   "cell_type": "markdown",
   "metadata": {},
   "source": [
    "Wniosek ...\n",
    "\n",
    "### d.\n",
    "\n",
    "..."
   ]
  },
  {
   "cell_type": "markdown",
   "metadata": {},
   "source": [
    "Model ma postać:"
   ]
  },
  {
   "cell_type": "markdown",
   "id": "165aceac",
   "metadata": {},
   "source": [
    "$$\n",
    "\\ln{E\\left(Y_{i_1, i_2, i_3}\\right)} = \\lambda + \\lambda_{i_{1}}^{(1)} + \\lambda_{i_{2}}^{(2)}+  \\lambda_{i_{3}}^{(3)} \n",
    "+ \\lambda_{i_{1}i_{2}}^{(12)}\n",
    "$$"
   ]
  },
  {
   "cell_type": "code",
   "execution_count": 88,
   "metadata": {},
   "outputs": [
    {
     "data": {
      "text/plain": [
       "\n",
       "Call:\n",
       "glm(formula = Freq ~ SEN + BIEGANIE + PIES + SEN * BIEGANIE, \n",
       "    family = poisson, data = data.df)\n",
       "\n",
       "Deviance Residuals: \n",
       "      1        2        3        4        5        6        7        8  \n",
       " 1.2711   0.3538  -0.2532  -1.1647  -1.3669  -0.3200   0.2042   0.8911  \n",
       "\n",
       "Coefficients:\n",
       "               Estimate Std. Error z value Pr(>|z|)   \n",
       "(Intercept)      1.2238     0.3985   3.071  0.00214 **\n",
       "SEN1             0.2231     0.4743   0.470  0.63805   \n",
       "BIEGANIE1       -0.9808     0.6770  -1.449  0.14740   \n",
       "PIES1            0.3023     0.3198   0.945  0.34462   \n",
       "SEN1:BIEGANIE1   1.6227     0.7816   2.076  0.03789 * \n",
       "---\n",
       "Signif. codes:  0 '***' 0.001 '**' 0.01 '*' 0.05 '.' 0.1 ' ' 1\n",
       "\n",
       "(Dispersion parameter for poisson family taken to be 1)\n",
       "\n",
       "    Null deviance: 20.4680  on 7  degrees of freedom\n",
       "Residual deviance:  5.9683  on 3  degrees of freedom\n",
       "AIC: 41.784\n",
       "\n",
       "Number of Fisher Scoring iterations: 5\n"
      ]
     },
     "metadata": {},
     "output_type": "display_data"
    }
   ],
   "source": [
    "Model ma postać:$$\n",
    "\\ln{E\\left(Y_{i_1, i_2, i_3}\\right)} = \\lambda + \\lambda_{i_{1}}^{(1)} + \\lambda_{i_{2}}^{(2)}+  \\lambda_{i_{3}}^{(3)} \n",
    "+ \\lambda_{i_{1}i_{2}}^{(12)}\n",
    "$$model <- glm(Freq ~ SEN + BIEGANIE + PIES + SEN*BIEGANIE, \n",
    "            data = data.df, family = poisson)\n",
    "\n",
    "d <- fitted(model)\n",
    "\n",
    "summary(model)"
   ]
  },
  {
   "cell_type": "code",
   "execution_count": 56,
   "metadata": {},
   "outputs": [
    {
     "data": {
      "text/html": [
       "0.1132"
      ],
      "text/latex": [
       "0.1132"
      ],
      "text/markdown": [
       "0.1132"
      ],
      "text/plain": [
       "[1] 0.1132"
      ]
     },
     "metadata": {},
     "output_type": "display_data"
    }
   ],
   "source": [
    "p_d <- 1-pchisq(deviance(model), df = df.residual(model))\n",
    "\n",
    "p_d %>% round(4)"
   ]
  },
  {
   "cell_type": "markdown",
   "metadata": {},
   "source": [
    "Wniosek ...\n",
    "\n",
    "### e.\n",
    "\n",
    "..."
   ]
  },
  {
   "cell_type": "markdown",
   "metadata": {},
   "source": [
    "Model ma postać:"
   ]
  },
  {
   "cell_type": "markdown",
   "id": "7fc6674c",
   "metadata": {},
   "source": [
    "$$\n",
    "\\ln{E\\left(Y_{i_1, i_2, i_3}\\right)} = \\lambda + \\lambda_{i_{1}}^{(1)} + \\lambda_{i_{2}}^{(2)}+  \\lambda_{i_{3}}^{(3)} \n",
    "+ \\lambda_{i_{1}i_{2}}^{(12)} + \\lambda_{i_{1}i_{3}}^{(13)}\n",
    "$$"
   ]
  },
  {
   "cell_type": "code",
   "execution_count": 49,
   "metadata": {},
   "outputs": [
    {
     "data": {
      "text/plain": [
       "\n",
       "Call:\n",
       "glm(formula = Freq ~ SEN + BIEGANIE + PIES + SEN * BIEGANIE + \n",
       "    SEN * PIES, family = poisson, data = data.df)\n",
       "\n",
       "Deviance Residuals: \n",
       "      1        2        3        4        5        6        7        8  \n",
       " 0.3917   0.7824  -0.7245  -0.6329  -0.5652  -0.6329   0.7787   0.4311  \n",
       "\n",
       "Coefficients:\n",
       "               Estimate Std. Error z value Pr(>|z|)    \n",
       "(Intercept)      1.6275     0.4207   3.869 0.000109 ***\n",
       "SEN1            -0.3896     0.5852  -0.666 0.505590    \n",
       "BIEGANIE1       -0.9808     0.6770  -1.449 0.147385    \n",
       "PIES1           -0.5596     0.6268  -0.893 0.371937    \n",
       "SEN1:BIEGANIE1   1.6227     0.7816   2.076 0.037890 *  \n",
       "SEN1:PIES1       1.2015     0.7386   1.627 0.103787    \n",
       "---\n",
       "Signif. codes:  0 '***' 0.001 '**' 0.01 '*' 0.05 '.' 0.1 ' ' 1\n",
       "\n",
       "(Dispersion parameter for poisson family taken to be 1)\n",
       "\n",
       "    Null deviance: 20.4680  on 7  degrees of freedom\n",
       "Residual deviance:  3.2033  on 2  degrees of freedom\n",
       "AIC: 41.019\n",
       "\n",
       "Number of Fisher Scoring iterations: 4\n"
      ]
     },
     "metadata": {},
     "output_type": "display_data"
    }
   ],
   "source": [
    "Model ma postać:$$\n",
    "\\ln{E\\left(Y_{i_1, i_2, i_3}\\right)} = \\lambda + \\lambda_{i_{1}}^{(1)} + \\lambda_{i_{2}}^{(2)}+  \\lambda_{i_{3}}^{(3)} \n",
    "+ \\lambda_{i_{1}i_{2}}^{(12)} + \\lambda_{i_{1}i_{3}}^{(13)}\n",
    "$$model <- glm(Freq ~ SEN + BIEGANIE + PIES + SEN*BIEGANIE + SEN*PIES, \n",
    "            data = data.df, family = poisson)\n",
    "\n",
    "e <- fitted(model)\n",
    "\n",
    "summary(model)"
   ]
  },
  {
   "cell_type": "code",
   "execution_count": 50,
   "metadata": {},
   "outputs": [
    {
     "data": {
      "text/html": [
       "0.2016"
      ],
      "text/latex": [
       "0.2016"
      ],
      "text/markdown": [
       "0.2016"
      ],
      "text/plain": [
       "[1] 0.2016"
      ]
     },
     "metadata": {},
     "output_type": "display_data"
    }
   ],
   "source": [
    "p_e <- 1-pchisq(deviance(model), df = df.residual(model))\n",
    "\n",
    "p_e %>% round(4)"
   ]
  },
  {
   "cell_type": "markdown",
   "metadata": {},
   "source": [
    "Wniosek ...\n",
    "\n",
    "### f.\n",
    "\n",
    "..."
   ]
  },
  {
   "cell_type": "markdown",
   "metadata": {},
   "source": [
    "Model ma postać:"
   ]
  },
  {
   "cell_type": "markdown",
   "id": "b4c7ce38",
   "metadata": {},
   "source": [
    "$$\n",
    "\\ln{E\\left(Y_{i_1, i_2, i_3}\\right)} = \\lambda + \\lambda_{i_{1}}^{(1)} + \\lambda_{i_{2}}^{(2)}+  \\lambda_{i_{3}}^{(3)}  + \\lambda_{i_{2}i_{3}}^{(23)}\n",
    "$$"
   ]
  },
  {
   "cell_type": "code",
   "execution_count": 53,
   "metadata": {},
   "outputs": [
    {
     "data": {
      "text/plain": [
       "\n",
       "Call:\n",
       "glm(formula = Freq ~ SEN + BIEGANIE + PIES + BIEGANIE * PIES, \n",
       "    family = poisson, data = data.df)\n",
       "\n",
       "Deviance Residuals: \n",
       "       1         2         3         4         5         6         7         8  \n",
       " 1.50605  -1.13193  -0.54631   0.30434   0.05371  -0.03337  -1.28303   0.68225  \n",
       "\n",
       "Coefficients:\n",
       "                Estimate Std. Error z value Pr(>|z|)   \n",
       "(Intercept)       1.1069     0.3960   2.795  0.00519 **\n",
       "SEN1              0.9694     0.3541   2.738  0.00619 **\n",
       "BIEGANIE1        -0.6061     0.5075  -1.194  0.23236   \n",
       "PIES1            -0.4520     0.4835  -0.935  0.34988   \n",
       "BIEGANIE1:PIES1   1.4328     0.6804   2.106  0.03522 * \n",
       "---\n",
       "Signif. codes:  0 '***' 0.001 '**' 0.01 '*' 0.05 '.' 0.1 ' ' 1\n",
       "\n",
       "(Dispersion parameter for poisson family taken to be 1)\n",
       "\n",
       "    Null deviance: 20.4680  on 7  degrees of freedom\n",
       "Residual deviance:  6.0561  on 3  degrees of freedom\n",
       "AIC: 41.872\n",
       "\n",
       "Number of Fisher Scoring iterations: 5\n"
      ]
     },
     "metadata": {},
     "output_type": "display_data"
    }
   ],
   "source": [
    "model <- glm(Freq ~ SEN + BIEGANIE + PIES + BIEGANIE*PIES, \n",
    "            data = data.df, family = poisson)\n",
    "\n",
    "f <- fitted(model)\n",
    "\n",
    "summary(model)"
   ]
  },
  {
   "cell_type": "code",
   "execution_count": 65,
   "metadata": {},
   "outputs": [
    {
     "data": {
      "text/html": [
       "0.1132"
      ],
      "text/latex": [
       "0.1132"
      ],
      "text/markdown": [
       "0.1132"
      ],
      "text/plain": [
       "[1] 0.1132"
      ]
     },
     "metadata": {},
     "output_type": "display_data"
    }
   ],
   "source": [
    "p_f <- 1-pchisq(deviance(model), df = df.residual(model))\n",
    "\n",
    "p_f %>% round(4)"
   ]
  },
  {
   "cell_type": "markdown",
   "metadata": {},
   "source": [
    "#### Tabela porównawcza\n",
    "\n",
    "..."
   ]
  },
  {
   "cell_type": "code",
   "execution_count": 91,
   "metadata": {},
   "outputs": [
    {
     "data": {
      "text/html": [
       "<table class=\"dataframe\">\n",
       "<caption>A matrix: 8 × 7 of type dbl</caption>\n",
       "<thead>\n",
       "\t<tr><th scope=col>teoretyczne</th><th scope=col>[1 3]</th><th scope=col>[13]</th><th scope=col>[1 2 3]</th><th scope=col>[12 3]</th><th scope=col>[12 13]</th><th scope=col>[1 23]</th></tr>\n",
       "</thead>\n",
       "<tbody>\n",
       "\t<tr><td> 6</td><td>2.3375</td><td> 3.025</td><td>2.10375</td><td> 3.400</td><td> 5.090909</td><td> 3.025</td></tr>\n",
       "\t<tr><td> 5</td><td>6.1625</td><td> 7.975</td><td>5.54625</td><td> 4.250</td><td> 3.448276</td><td> 7.975</td></tr>\n",
       "\t<tr><td> 1</td><td>2.3375</td><td> 1.650</td><td>2.57125</td><td> 1.275</td><td> 1.909091</td><td> 1.650</td></tr>\n",
       "\t<tr><td> 5</td><td>6.1625</td><td> 4.350</td><td>6.77875</td><td> 8.075</td><td> 6.551724</td><td> 4.350</td></tr>\n",
       "\t<tr><td> 2</td><td>3.1625</td><td> 1.925</td><td>2.84625</td><td> 4.600</td><td> 2.909091</td><td> 1.925</td></tr>\n",
       "\t<tr><td> 5</td><td>8.3375</td><td> 5.075</td><td>7.50375</td><td> 5.750</td><td> 6.551724</td><td> 5.075</td></tr>\n",
       "\t<tr><td> 2</td><td>3.1625</td><td> 4.400</td><td>3.47875</td><td> 1.725</td><td> 1.090909</td><td> 4.400</td></tr>\n",
       "\t<tr><td>14</td><td>8.3375</td><td>11.600</td><td>9.17125</td><td>10.925</td><td>12.448276</td><td>11.600</td></tr>\n",
       "</tbody>\n",
       "</table>\n"
      ],
      "text/latex": [
       "A matrix: 8 × 7 of type dbl\n",
       "\\begin{tabular}{lllllll}\n",
       " teoretyczne & {[}1 3{]} & {[}13{]} & {[}1 2 3{]} & {[}12 3{]} & {[}12 13{]} & {[}1 23{]}\\\\\n",
       "\\hline\n",
       "\t  6 & 2.3375 &  3.025 & 2.10375 &  3.400 &  5.090909 &  3.025\\\\\n",
       "\t  5 & 6.1625 &  7.975 & 5.54625 &  4.250 &  3.448276 &  7.975\\\\\n",
       "\t  1 & 2.3375 &  1.650 & 2.57125 &  1.275 &  1.909091 &  1.650\\\\\n",
       "\t  5 & 6.1625 &  4.350 & 6.77875 &  8.075 &  6.551724 &  4.350\\\\\n",
       "\t  2 & 3.1625 &  1.925 & 2.84625 &  4.600 &  2.909091 &  1.925\\\\\n",
       "\t  5 & 8.3375 &  5.075 & 7.50375 &  5.750 &  6.551724 &  5.075\\\\\n",
       "\t  2 & 3.1625 &  4.400 & 3.47875 &  1.725 &  1.090909 &  4.400\\\\\n",
       "\t 14 & 8.3375 & 11.600 & 9.17125 & 10.925 & 12.448276 & 11.600\\\\\n",
       "\\end{tabular}\n"
      ],
      "text/markdown": [
       "\n",
       "A matrix: 8 × 7 of type dbl\n",
       "\n",
       "| teoretyczne | [1 3] | [13] | [1 2 3] | [12 3] | [12 13] | [1 23] |\n",
       "|---|---|---|---|---|---|---|\n",
       "|  6 | 2.3375 |  3.025 | 2.10375 |  3.400 |  5.090909 |  3.025 |\n",
       "|  5 | 6.1625 |  7.975 | 5.54625 |  4.250 |  3.448276 |  7.975 |\n",
       "|  1 | 2.3375 |  1.650 | 2.57125 |  1.275 |  1.909091 |  1.650 |\n",
       "|  5 | 6.1625 |  4.350 | 6.77875 |  8.075 |  6.551724 |  4.350 |\n",
       "|  2 | 3.1625 |  1.925 | 2.84625 |  4.600 |  2.909091 |  1.925 |\n",
       "|  5 | 8.3375 |  5.075 | 7.50375 |  5.750 |  6.551724 |  5.075 |\n",
       "|  2 | 3.1625 |  4.400 | 3.47875 |  1.725 |  1.090909 |  4.400 |\n",
       "| 14 | 8.3375 | 11.600 | 9.17125 | 10.925 | 12.448276 | 11.600 |\n",
       "\n"
      ],
      "text/plain": [
       "     teoretyczne [1 3]  [13]   [1 2 3] [12 3] [12 13]   [1 23]\n",
       "[1,]  6          2.3375  3.025 2.10375  3.400  5.090909  3.025\n",
       "[2,]  5          6.1625  7.975 5.54625  4.250  3.448276  7.975\n",
       "[3,]  1          2.3375  1.650 2.57125  1.275  1.909091  1.650\n",
       "[4,]  5          6.1625  4.350 6.77875  8.075  6.551724  4.350\n",
       "[5,]  2          3.1625  1.925 2.84625  4.600  2.909091  1.925\n",
       "[6,]  5          8.3375  5.075 7.50375  5.750  6.551724  5.075\n",
       "[7,]  2          3.1625  4.400 3.47875  1.725  1.090909  4.400\n",
       "[8,] 14          8.3375 11.600 9.17125 10.925 12.448276 11.600"
      ]
     },
     "metadata": {},
     "output_type": "display_data"
    }
   ],
   "source": [
    "ma <- matrix(c(data.df$Freq, a, b, c, d, e, f), byrow=F, nrow=8)\n",
    "\n",
    "\n",
    "colnames(ma) <- c(\"teoretyczne\", \"[1 3]\", \"[13]\", \"[1 2 3]\", \"[12 3]\", \"[12 13]\", \"[1 23]\")\n",
    "\n",
    "ma"
   ]
  },
  {
   "cell_type": "code",
   "execution_count": 78,
   "metadata": {},
   "outputs": [
    {
     "data": {
      "text/html": [
       "<table class=\"dataframe\">\n",
       "<caption>A matrix: 1 × 6 of type dbl</caption>\n",
       "<thead>\n",
       "\t<tr><th></th><th scope=col>[1 3]</th><th scope=col>[13]</th><th scope=col>[1 2 3]</th><th scope=col>[12 3]</th><th scope=col>[12 13]</th><th scope=col>[1 23]</th></tr>\n",
       "</thead>\n",
       "<tbody>\n",
       "\t<tr><th scope=row>p-wartość</th><td>0.0779</td><td>0.0779</td><td>0.0293</td><td>0.1132</td><td>0.2016</td><td>0.1132</td></tr>\n",
       "</tbody>\n",
       "</table>\n"
      ],
      "text/latex": [
       "A matrix: 1 × 6 of type dbl\n",
       "\\begin{tabular}{r|llllll}\n",
       "  & {[}1 3{]} & {[}13{]} & {[}1 2 3{]} & {[}12 3{]} & {[}12 13{]} & {[}1 23{]}\\\\\n",
       "\\hline\n",
       "\tp-wartość & 0.0779 & 0.0779 & 0.0293 & 0.1132 & 0.2016 & 0.1132\\\\\n",
       "\\end{tabular}\n"
      ],
      "text/markdown": [
       "\n",
       "A matrix: 1 × 6 of type dbl\n",
       "\n",
       "| <!--/--> | [1 3] | [13] | [1 2 3] | [12 3] | [12 13] | [1 23] |\n",
       "|---|---|---|---|---|---|---|\n",
       "| p-wartość | 0.0779 | 0.0779 | 0.0293 | 0.1132 | 0.2016 | 0.1132 |\n",
       "\n"
      ],
      "text/plain": [
       "          [1 3]  [13]   [1 2 3] [12 3] [12 13] [1 23]\n",
       "p-wartość 0.0779 0.0779 0.0293  0.1132 0.2016  0.1132"
      ]
     },
     "metadata": {},
     "output_type": "display_data"
    }
   ],
   "source": [
    "# HIDE\n",
    "\n",
    "m <- matrix(c(p_a, p_b, p_c, p_d, p_e, p_f), byrow=F, nrow=1)\n",
    "\n",
    "rownames(m) <- c(\"p-wartość\")\n",
    "colnames(m) <- c(\"[1 3]\", \"[13]\", \"[1 2 3]\", \"[12 3]\", \"[12 13]\", \"[1 23]\")\n",
    "\n",
    "m %>% round(4)"
   ]
  },
  {
   "cell_type": "code",
   "execution_count": 72,
   "metadata": {},
   "outputs": [],
   "source": [
    "?dimnames"
   ]
  },
  {
   "cell_type": "code",
   "execution_count": null,
   "metadata": {},
   "outputs": [],
   "source": []
  },
  {
   "cell_type": "code",
   "execution_count": null,
   "metadata": {},
   "outputs": [],
   "source": []
  },
  {
   "cell_type": "code",
   "execution_count": null,
   "metadata": {},
   "outputs": [],
   "source": []
  },
  {
   "cell_type": "code",
   "execution_count": null,
   "metadata": {},
   "outputs": [],
   "source": []
  },
  {
   "cell_type": "code",
   "execution_count": null,
   "metadata": {},
   "outputs": [],
   "source": []
  },
  {
   "cell_type": "code",
   "execution_count": null,
   "metadata": {},
   "outputs": [],
   "source": []
  },
  {
   "cell_type": "code",
   "execution_count": null,
   "metadata": {},
   "outputs": [],
   "source": []
  },
  {
   "cell_type": "code",
   "execution_count": null,
   "metadata": {},
   "outputs": [],
   "source": []
  },
  {
   "cell_type": "code",
   "execution_count": 9,
   "metadata": {},
   "outputs": [
    {
     "data": {
      "text/plain": [
       "\n",
       "Call:\n",
       "glm(formula = Freq ~ cigarette + marijuana + alcohol, family = poisson, \n",
       "    data = seniors.df)\n",
       "\n",
       "Deviance Residuals: \n",
       "      1        2        3        4        5        6        7        8  \n",
       " 14.522  -17.683   -7.817    3.426  -12.440   -8.832   -8.436   19.639  \n",
       "\n",
       "Coefficients:\n",
       "             Estimate Std. Error z value Pr(>|z|)    \n",
       "(Intercept)   4.17254    0.06496  64.234  < 2e-16 ***\n",
       "cigaretteyes  0.64931    0.04415  14.707  < 2e-16 ***\n",
       "marijuanayes -0.31542    0.04244  -7.431 1.08e-13 ***\n",
       "alcoholyes    1.78511    0.05976  29.872  < 2e-16 ***\n",
       "---\n",
       "Signif. codes:  0 '***' 0.001 '**' 0.01 '*' 0.05 '.' 0.1 ' ' 1\n",
       "\n",
       "(Dispersion parameter for poisson family taken to be 1)\n",
       "\n",
       "    Null deviance: 2851.5  on 7  degrees of freedom\n",
       "Residual deviance: 1286.0  on 4  degrees of freedom\n",
       "AIC: 1343.1\n",
       "\n",
       "Number of Fisher Scoring iterations: 6\n"
      ]
     },
     "metadata": {},
     "output_type": "display_data"
    },
    {
     "data": {
      "text/html": [
       "0"
      ],
      "text/latex": [
       "0"
      ],
      "text/markdown": [
       "0"
      ],
      "text/plain": [
       "[1] 0"
      ]
     },
     "metadata": {},
     "output_type": "display_data"
    }
   ],
   "source": [
    "mod1 <- glm(Freq ~ cigarette + marijuana + alcohol, \n",
    "            data = seniors.df, family = poisson)\n",
    "\n",
    "summary(mod1)\n",
    "\n",
    "#h0 ze dane z modelu 1 2 3\n",
    "#ha dane pochdoza z pelnego modelu\n",
    "\n",
    "\n",
    "# wyznaczamy p-wartość\n",
    "1-pchisq(deviance(mod1), df = df.residual(mod1))\n",
    "\n",
    "# p-w = 0 => odrzucamy h0, bierzemy z pelnego modelu"
   ]
  },
  {
   "cell_type": "code",
   "execution_count": 11,
   "metadata": {},
   "outputs": [
    {
     "data": {
      "text/html": [
       "539.984264867765"
      ],
      "text/latex": [
       "539.984264867765"
      ],
      "text/markdown": [
       "539.984264867765"
      ],
      "text/plain": [
       "[1] 539.9843"
      ]
     },
     "metadata": {},
     "output_type": "display_data"
    }
   ],
   "source": [
    "exp(4.17254+0.64931-0.31542+1.78511)"
   ]
  },
  {
   "cell_type": "code",
   "execution_count": 1,
   "metadata": {},
   "outputs": [
    {
     "data": {
      "text/html": [
       "<style>\n",
       ".list-inline {list-style: none; margin:0; padding: 0}\n",
       ".list-inline>li {display: inline-block}\n",
       ".list-inline>li:not(:last-child)::after {content: \"\\00b7\"; padding: 0 .5ex}\n",
       "</style>\n",
       "<ol class=list-inline><li>911</li><li>44</li><li>538</li><li>456</li><li>3</li><li>2</li><li>43</li><li>279</li></ol>\n"
      ],
      "text/latex": [
       "\\begin{enumerate*}\n",
       "\\item 911\n",
       "\\item 44\n",
       "\\item 538\n",
       "\\item 456\n",
       "\\item 3\n",
       "\\item 2\n",
       "\\item 43\n",
       "\\item 279\n",
       "\\end{enumerate*}\n"
      ],
      "text/markdown": [
       "1. 911\n",
       "2. 44\n",
       "3. 538\n",
       "4. 456\n",
       "5. 3\n",
       "6. 2\n",
       "7. 43\n",
       "8. 279\n",
       "\n",
       "\n"
      ],
      "text/plain": [
       ", , alcohol = yes\n",
       "\n",
       "         marijuana\n",
       "cigarette yes  no\n",
       "      yes 911 538\n",
       "      no   44 456\n",
       "\n",
       ", , alcohol = no\n",
       "\n",
       "         marijuana\n",
       "cigarette yes  no\n",
       "      yes   3  43\n",
       "      no    2 279\n"
      ]
     },
     "metadata": {},
     "output_type": "display_data"
    },
    {
     "data": {
      "text/plain": [
       "                  marijuana yes  no\n",
       "alcohol cigarette                  \n",
       "yes     yes                 911 538\n",
       "        no                   44 456\n",
       "no      yes                   3  43\n",
       "        no                    2 279"
      ]
     },
     "metadata": {},
     "output_type": "display_data"
    },
    {
     "data": {
      "text/html": [
       "<style>\n",
       ".list-inline {list-style: none; margin:0; padding: 0}\n",
       ".list-inline>li {display: inline-block}\n",
       ".list-inline>li:not(:last-child)::after {content: \"\\00b7\"; padding: 0 .5ex}\n",
       "</style>\n",
       "<ol class=list-inline><li>911</li><li>44</li><li>955</li><li>538</li><li>456</li><li>994</li><li>1449</li><li>500</li><li>1949</li><li>3</li><li>2</li><li>5</li><li>43</li><li>279</li><li>322</li><li>46</li><li>281</li><li>327</li><li>914</li><li>46</li><li>960</li><li>581</li><li>735</li><li>1316</li><li>1495</li><li>781</li><li>2276</li></ol>\n"
      ],
      "text/latex": [
       "\\begin{enumerate*}\n",
       "\\item 911\n",
       "\\item 44\n",
       "\\item 955\n",
       "\\item 538\n",
       "\\item 456\n",
       "\\item 994\n",
       "\\item 1449\n",
       "\\item 500\n",
       "\\item 1949\n",
       "\\item 3\n",
       "\\item 2\n",
       "\\item 5\n",
       "\\item 43\n",
       "\\item 279\n",
       "\\item 322\n",
       "\\item 46\n",
       "\\item 281\n",
       "\\item 327\n",
       "\\item 914\n",
       "\\item 46\n",
       "\\item 960\n",
       "\\item 581\n",
       "\\item 735\n",
       "\\item 1316\n",
       "\\item 1495\n",
       "\\item 781\n",
       "\\item 2276\n",
       "\\end{enumerate*}\n"
      ],
      "text/markdown": [
       "1. 911\n",
       "2. 44\n",
       "3. 955\n",
       "4. 538\n",
       "5. 456\n",
       "6. 994\n",
       "7. 1449\n",
       "8. 500\n",
       "9. 1949\n",
       "10. 3\n",
       "11. 2\n",
       "12. 5\n",
       "13. 43\n",
       "14. 279\n",
       "15. 322\n",
       "16. 46\n",
       "17. 281\n",
       "18. 327\n",
       "19. 914\n",
       "20. 46\n",
       "21. 960\n",
       "22. 581\n",
       "23. 735\n",
       "24. 1316\n",
       "25. 1495\n",
       "26. 781\n",
       "27. 2276\n",
       "\n",
       "\n"
      ],
      "text/plain": [
       ", , alcohol = yes\n",
       "\n",
       "         marijuana\n",
       "cigarette yes  no  Sum\n",
       "      yes 911 538 1449\n",
       "      no   44 456  500\n",
       "      Sum 955 994 1949\n",
       "\n",
       ", , alcohol = no\n",
       "\n",
       "         marijuana\n",
       "cigarette yes  no Sum\n",
       "      yes   3  43  46\n",
       "      no    2 279 281\n",
       "      Sum   5 322 327\n",
       "\n",
       ", , alcohol = Sum\n",
       "\n",
       "         marijuana\n",
       "cigarette yes   no  Sum\n",
       "      yes 914  581 1495\n",
       "      no   46  735  781\n",
       "      Sum 960 1316 2276\n"
      ]
     },
     "metadata": {},
     "output_type": "display_data"
    },
    {
     "data": {
      "text/html": [
       "<style>\n",
       ".list-inline {list-style: none; margin:0; padding: 0}\n",
       ".list-inline>li {display: inline-block}\n",
       ".list-inline>li:not(:last-child)::after {content: \"\\00b7\"; padding: 0 .5ex}\n",
       "</style>\n",
       "<ol class=list-inline><li>0.628709454796411</li><li>0.088</li><li>0.371290545203589</li><li>0.912</li><li>0.0652173913043478</li><li>0.00711743772241993</li><li>0.934782608695652</li><li>0.99288256227758</li></ol>\n"
      ],
      "text/latex": [
       "\\begin{enumerate*}\n",
       "\\item 0.628709454796411\n",
       "\\item 0.088\n",
       "\\item 0.371290545203589\n",
       "\\item 0.912\n",
       "\\item 0.0652173913043478\n",
       "\\item 0.00711743772241993\n",
       "\\item 0.934782608695652\n",
       "\\item 0.99288256227758\n",
       "\\end{enumerate*}\n"
      ],
      "text/markdown": [
       "1. 0.628709454796411\n",
       "2. 0.088\n",
       "3. 0.371290545203589\n",
       "4. 0.912\n",
       "5. 0.0652173913043478\n",
       "6. 0.00711743772241993\n",
       "7. 0.934782608695652\n",
       "8. 0.99288256227758\n",
       "\n",
       "\n"
      ],
      "text/plain": [
       ", , alcohol = yes\n",
       "\n",
       "         marijuana\n",
       "cigarette       yes        no\n",
       "      yes 0.6287095 0.3712905\n",
       "      no  0.0880000 0.9120000\n",
       "\n",
       ", , alcohol = no\n",
       "\n",
       "         marijuana\n",
       "cigarette         yes        no\n",
       "      yes 0.065217391 0.9347826\n",
       "      no  0.007117438 0.9928826\n"
      ]
     },
     "metadata": {},
     "output_type": "display_data"
    },
    {
     "data": {
      "text/html": [
       "<table class=\"dataframe\">\n",
       "<caption>A data.frame: 8 × 4</caption>\n",
       "<thead>\n",
       "\t<tr><th scope=col>cigarette</th><th scope=col>marijuana</th><th scope=col>alcohol</th><th scope=col>Freq</th></tr>\n",
       "\t<tr><th scope=col>&lt;fct&gt;</th><th scope=col>&lt;fct&gt;</th><th scope=col>&lt;fct&gt;</th><th scope=col>&lt;dbl&gt;</th></tr>\n",
       "</thead>\n",
       "<tbody>\n",
       "\t<tr><td>yes</td><td>yes</td><td>yes</td><td>911</td></tr>\n",
       "\t<tr><td>no </td><td>yes</td><td>yes</td><td> 44</td></tr>\n",
       "\t<tr><td>yes</td><td>no </td><td>yes</td><td>538</td></tr>\n",
       "\t<tr><td>no </td><td>no </td><td>yes</td><td>456</td></tr>\n",
       "\t<tr><td>yes</td><td>yes</td><td>no </td><td>  3</td></tr>\n",
       "\t<tr><td>no </td><td>yes</td><td>no </td><td>  2</td></tr>\n",
       "\t<tr><td>yes</td><td>no </td><td>no </td><td> 43</td></tr>\n",
       "\t<tr><td>no </td><td>no </td><td>no </td><td>279</td></tr>\n",
       "</tbody>\n",
       "</table>\n"
      ],
      "text/latex": [
       "A data.frame: 8 × 4\n",
       "\\begin{tabular}{llll}\n",
       " cigarette & marijuana & alcohol & Freq\\\\\n",
       " <fct> & <fct> & <fct> & <dbl>\\\\\n",
       "\\hline\n",
       "\t yes & yes & yes & 911\\\\\n",
       "\t no  & yes & yes &  44\\\\\n",
       "\t yes & no  & yes & 538\\\\\n",
       "\t no  & no  & yes & 456\\\\\n",
       "\t yes & yes & no  &   3\\\\\n",
       "\t no  & yes & no  &   2\\\\\n",
       "\t yes & no  & no  &  43\\\\\n",
       "\t no  & no  & no  & 279\\\\\n",
       "\\end{tabular}\n"
      ],
      "text/markdown": [
       "\n",
       "A data.frame: 8 × 4\n",
       "\n",
       "| cigarette &lt;fct&gt; | marijuana &lt;fct&gt; | alcohol &lt;fct&gt; | Freq &lt;dbl&gt; |\n",
       "|---|---|---|---|\n",
       "| yes | yes | yes | 911 |\n",
       "| no  | yes | yes |  44 |\n",
       "| yes | no  | yes | 538 |\n",
       "| no  | no  | yes | 456 |\n",
       "| yes | yes | no  |   3 |\n",
       "| no  | yes | no  |   2 |\n",
       "| yes | no  | no  |  43 |\n",
       "| no  | no  | no  | 279 |\n",
       "\n"
      ],
      "text/plain": [
       "  cigarette marijuana alcohol Freq\n",
       "1 yes       yes       yes     911 \n",
       "2 no        yes       yes      44 \n",
       "3 yes       no        yes     538 \n",
       "4 no        no        yes     456 \n",
       "5 yes       yes       no        3 \n",
       "6 no        yes       no        2 \n",
       "7 yes       no        no       43 \n",
       "8 no        no        no      279 "
      ]
     },
     "metadata": {},
     "output_type": "display_data"
    },
    {
     "data": {
      "text/plain": [
       "\n",
       "Call:\n",
       "glm(formula = Freq ~ cigarette + marijuana + alcohol, family = poisson, \n",
       "    data = seniors.df)\n",
       "\n",
       "Deviance Residuals: \n",
       "      1        2        3        4        5        6        7        8  \n",
       " 14.522  -17.683   -7.817    3.426  -12.440   -8.832   -8.436   19.639  \n",
       "\n",
       "Coefficients:\n",
       "             Estimate Std. Error z value Pr(>|z|)    \n",
       "(Intercept)   4.17254    0.06496  64.234  < 2e-16 ***\n",
       "cigaretteyes  0.64931    0.04415  14.707  < 2e-16 ***\n",
       "marijuanayes -0.31542    0.04244  -7.431 1.08e-13 ***\n",
       "alcoholyes    1.78511    0.05976  29.872  < 2e-16 ***\n",
       "---\n",
       "Signif. codes:  0 '***' 0.001 '**' 0.01 '*' 0.05 '.' 0.1 ' ' 1\n",
       "\n",
       "(Dispersion parameter for poisson family taken to be 1)\n",
       "\n",
       "    Null deviance: 2851.5  on 7  degrees of freedom\n",
       "Residual deviance: 1286.0  on 4  degrees of freedom\n",
       "AIC: 1343.1\n",
       "\n",
       "Number of Fisher Scoring iterations: 6\n"
      ]
     },
     "metadata": {},
     "output_type": "display_data"
    },
    {
     "data": {
      "text/html": [
       "0"
      ],
      "text/latex": [
       "0"
      ],
      "text/markdown": [
       "0"
      ],
      "text/plain": [
       "[1] 0"
      ]
     },
     "metadata": {},
     "output_type": "display_data"
    },
    {
     "data": {
      "text/html": [
       "<table class=\"dataframe\">\n",
       "<caption>A data.frame: 8 × 5</caption>\n",
       "<thead>\n",
       "\t<tr><th></th><th scope=col>cigarette</th><th scope=col>marijuana</th><th scope=col>alcohol</th><th scope=col>Freq</th><th scope=col>fitted(mod1)</th></tr>\n",
       "\t<tr><th></th><th scope=col>&lt;fct&gt;</th><th scope=col>&lt;fct&gt;</th><th scope=col>&lt;fct&gt;</th><th scope=col>&lt;dbl&gt;</th><th scope=col>&lt;dbl&gt;</th></tr>\n",
       "</thead>\n",
       "<tbody>\n",
       "\t<tr><th scope=row>1</th><td>yes</td><td>yes</td><td>yes</td><td>911</td><td>539.98258</td></tr>\n",
       "\t<tr><th scope=row>2</th><td>no </td><td>yes</td><td>yes</td><td> 44</td><td>282.09123</td></tr>\n",
       "\t<tr><th scope=row>3</th><td>yes</td><td>no </td><td>yes</td><td>538</td><td>740.22612</td></tr>\n",
       "\t<tr><th scope=row>4</th><td>no </td><td>no </td><td>yes</td><td>456</td><td>386.70007</td></tr>\n",
       "\t<tr><th scope=row>5</th><td>yes</td><td>yes</td><td>no </td><td>  3</td><td> 90.59739</td></tr>\n",
       "\t<tr><th scope=row>6</th><td>no </td><td>yes</td><td>no </td><td>  2</td><td> 47.32880</td></tr>\n",
       "\t<tr><th scope=row>7</th><td>yes</td><td>no </td><td>no </td><td> 43</td><td>124.19392</td></tr>\n",
       "\t<tr><th scope=row>8</th><td>no </td><td>no </td><td>no </td><td>279</td><td> 64.87990</td></tr>\n",
       "</tbody>\n",
       "</table>\n"
      ],
      "text/latex": [
       "A data.frame: 8 × 5\n",
       "\\begin{tabular}{r|lllll}\n",
       "  & cigarette & marijuana & alcohol & Freq & fitted(mod1)\\\\\n",
       "  & <fct> & <fct> & <fct> & <dbl> & <dbl>\\\\\n",
       "\\hline\n",
       "\t1 & yes & yes & yes & 911 & 539.98258\\\\\n",
       "\t2 & no  & yes & yes &  44 & 282.09123\\\\\n",
       "\t3 & yes & no  & yes & 538 & 740.22612\\\\\n",
       "\t4 & no  & no  & yes & 456 & 386.70007\\\\\n",
       "\t5 & yes & yes & no  &   3 &  90.59739\\\\\n",
       "\t6 & no  & yes & no  &   2 &  47.32880\\\\\n",
       "\t7 & yes & no  & no  &  43 & 124.19392\\\\\n",
       "\t8 & no  & no  & no  & 279 &  64.87990\\\\\n",
       "\\end{tabular}\n"
      ],
      "text/markdown": [
       "\n",
       "A data.frame: 8 × 5\n",
       "\n",
       "| <!--/--> | cigarette &lt;fct&gt; | marijuana &lt;fct&gt; | alcohol &lt;fct&gt; | Freq &lt;dbl&gt; | fitted(mod1) &lt;dbl&gt; |\n",
       "|---|---|---|---|---|---|\n",
       "| 1 | yes | yes | yes | 911 | 539.98258 |\n",
       "| 2 | no  | yes | yes |  44 | 282.09123 |\n",
       "| 3 | yes | no  | yes | 538 | 740.22612 |\n",
       "| 4 | no  | no  | yes | 456 | 386.70007 |\n",
       "| 5 | yes | yes | no  |   3 |  90.59739 |\n",
       "| 6 | no  | yes | no  |   2 |  47.32880 |\n",
       "| 7 | yes | no  | no  |  43 | 124.19392 |\n",
       "| 8 | no  | no  | no  | 279 |  64.87990 |\n",
       "\n"
      ],
      "text/plain": [
       "  cigarette marijuana alcohol Freq fitted(mod1)\n",
       "1 yes       yes       yes     911  539.98258   \n",
       "2 no        yes       yes      44  282.09123   \n",
       "3 yes       no        yes     538  740.22612   \n",
       "4 no        no        yes     456  386.70007   \n",
       "5 yes       yes       no        3   90.59739   \n",
       "6 no        yes       no        2   47.32880   \n",
       "7 yes       no        no       43  124.19392   \n",
       "8 no        no        no      279   64.87990   "
      ]
     },
     "metadata": {},
     "output_type": "display_data"
    },
    {
     "ename": "ERROR",
     "evalue": "Error in cbind(mod2$data, fitted(mod2)): object 'mod2' not found\n",
     "output_type": "error",
     "traceback": [
      "Error in cbind(mod2$data, fitted(mod2)): object 'mod2' not found\nTraceback:\n",
      "1. cbind(mod2$data, fitted(mod2))"
     ]
    }
   ],
   "source": [
    "### ANALIZOWANE DANE POCHODZĄ Z KSIĄŻKI Agresti (Tabela 6.3)\n",
    "\n",
    "## PRZYGOTOWUJEMY DANE DO ANALIZY\n",
    "\n",
    "# dane\n",
    "seniors <- array(data = c(911, 44, 538, 456, 3, 2, 43, 279), \n",
    "                 dim = c(2,2,2), \n",
    "                 dimnames = list(\"cigarette\" = c(\"yes\",\"no\"),\n",
    "                                 \"marijuana\" = c(\"yes\",\"no\"),\n",
    "                                 \"alcohol\" = c(\"yes\",\"no\")))\n",
    "seniors\n",
    "\n",
    "# dane - przedstawienie w tablicy\n",
    "ftable(seniors, row.vars = c(\"alcohol\",\"cigarette\"))\n",
    "\n",
    "# dodajmy liczności brzegowe\n",
    "addmargins(seniors)\n",
    "\n",
    "# spójrzmy na proporcje\n",
    "prop.table(seniors, margin = c(1,3))\n",
    "\n",
    "# zmieniamy format danych\n",
    "seniors.df <- as.data.frame(as.table(seniors))\n",
    "seniors.df[,-4] <- lapply(seniors.df[,-4], relevel, ref = \"no\") #ustawiamy referencje na \"no\"\n",
    "seniors.df\n",
    "\n",
    "## MODELOWANIE, Model 1\n",
    "\n",
    "\n",
    "mod1 <- glm(Freq ~ cigarette + marijuana + alcohol, \n",
    "            data = seniors.df, family = poisson)\n",
    "\n",
    "summary(mod1)\n",
    "\n",
    "# wyznaczamy p-wartość\n",
    "1-pchisq(deviance(mod1), df = df.residual(mod1))\n",
    "\n",
    "# porównujemy liczności z modelem\n",
    "cbind(mod1$data, fitted(mod1))\n",
    "#cbind(mod2$data, fitted(mod2))\n",
    "exp(4.17254+0.64931-0.31542+1.78511) #wartość dla cigaretteyes, marijuanayes, alcoholyes\n",
    "exp(4.17254+0-0.31542+1.78511) #wartość dla cigaretteno, marijuanayes, alcoholyes itd.\n",
    "\n",
    "# trzeba dac exponente bo modelujemy logarytm\n",
    "\n",
    "## MODELOWANIE, Model 2\n",
    "\n",
    "mod2 <- glm(Freq ~ cigarette + marijuana + alcohol + \n",
    "              cigarette*marijuana + marijuana*alcohol + cigarette*alcohol, \n",
    "            data = seniors.df, family = poisson)\n",
    "summary(mod2)\n",
    "\n",
    "# model => relacja miedzy zmiennymi jest stala niezaleznie od 3 zmiennej bo nie ma xyz\n",
    "\n",
    "\n",
    "# równoważnie\n",
    "#mod2 <- glm(Freq ~ (cigarette + marijuana + alcohol)^2, (do pot 2 => wez wszystkie interakcje 2 rzedu)\n",
    "#             data = seniors.df, family = poisson)\n",
    "#lub (hierarchicznie uporzadkowany , relacje niezerowe -> wsp niezerowe rowniez)\n",
    "#mod2 <- glm(Freq ~ \n",
    "#              cigarette*marijuana + marijuana*alcohol + cigarette*alcohol, \n",
    "#            data = seniors.df, family = poisson)\n",
    "\n",
    "#wyznaczamy p-wartość\n",
    "1-pchisq(deviance(mod2), df = df.residual(mod2))\n",
    "\n",
    "# porównujemy liczności z modelem\n",
    "cbind(mod2$data, fitted(mod2))\n",
    "\n",
    "exp(5.63342-1.88667-5.30904+0.48772+2.84789+2.05453+2.98601) #wartość dla cigaretteyes, marijuanayes, alcoholyes\n",
    "exp(5.63342+0-5.30904+0.48772+0+0+2.98601) #wartość dla cigaretteno, marijuanayes, alcoholyes itd.\n",
    "\n",
    "#test <- anova(mod1,mod2)\n",
    "#1-pchisq(test$Deviance[2], df = test$Df[2])"
   ]
  },
  {
   "cell_type": "code",
   "execution_count": 12,
   "metadata": {},
   "outputs": [
    {
     "data": {
      "text/plain": [
       "\n",
       "Call:\n",
       "glm(formula = Freq ~ cigarette + marijuana + alcohol + cigarette * \n",
       "    marijuana + marijuana * alcohol + cigarette * alcohol, family = poisson, \n",
       "    data = seniors.df)\n",
       "\n",
       "Deviance Residuals: \n",
       "       1         2         3         4         5         6         7         8  \n",
       " 0.02044  -0.09256  -0.02658   0.02890  -0.33428   0.49134   0.09452  -0.03690  \n",
       "\n",
       "Coefficients:\n",
       "                          Estimate Std. Error z value Pr(>|z|)    \n",
       "(Intercept)                5.63342    0.05970  94.361  < 2e-16 ***\n",
       "cigaretteyes              -1.88667    0.16270 -11.596  < 2e-16 ***\n",
       "marijuanayes              -5.30904    0.47520 -11.172  < 2e-16 ***\n",
       "alcoholyes                 0.48772    0.07577   6.437 1.22e-10 ***\n",
       "cigaretteyes:marijuanayes  2.84789    0.16384  17.382  < 2e-16 ***\n",
       "marijuanayes:alcoholyes    2.98601    0.46468   6.426 1.31e-10 ***\n",
       "cigaretteyes:alcoholyes    2.05453    0.17406  11.803  < 2e-16 ***\n",
       "---\n",
       "Signif. codes:  0 '***' 0.001 '**' 0.01 '*' 0.05 '.' 0.1 ' ' 1\n",
       "\n",
       "(Dispersion parameter for poisson family taken to be 1)\n",
       "\n",
       "    Null deviance: 2851.46098  on 7  degrees of freedom\n",
       "Residual deviance:    0.37399  on 1  degrees of freedom\n",
       "AIC: 63.417\n",
       "\n",
       "Number of Fisher Scoring iterations: 4\n"
      ]
     },
     "metadata": {},
     "output_type": "display_data"
    },
    {
     "data": {
      "text/html": [
       "0.540839603401739"
      ],
      "text/latex": [
       "0.540839603401739"
      ],
      "text/markdown": [
       "0.540839603401739"
      ],
      "text/plain": [
       "[1] 0.5408396"
      ]
     },
     "metadata": {},
     "output_type": "display_data"
    },
    {
     "data": {
      "text/html": [
       "<table class=\"dataframe\">\n",
       "<caption>A data.frame: 8 × 5</caption>\n",
       "<thead>\n",
       "\t<tr><th></th><th scope=col>cigarette</th><th scope=col>marijuana</th><th scope=col>alcohol</th><th scope=col>Freq</th><th scope=col>fitted(mod2)</th></tr>\n",
       "\t<tr><th></th><th scope=col>&lt;fct&gt;</th><th scope=col>&lt;fct&gt;</th><th scope=col>&lt;fct&gt;</th><th scope=col>&lt;dbl&gt;</th><th scope=col>&lt;dbl&gt;</th></tr>\n",
       "</thead>\n",
       "<tbody>\n",
       "\t<tr><th scope=row>1</th><td>yes</td><td>yes</td><td>yes</td><td>911</td><td>910.38317</td></tr>\n",
       "\t<tr><th scope=row>2</th><td>no </td><td>yes</td><td>yes</td><td> 44</td><td> 44.61683</td></tr>\n",
       "\t<tr><th scope=row>3</th><td>yes</td><td>no </td><td>yes</td><td>538</td><td>538.61683</td></tr>\n",
       "\t<tr><th scope=row>4</th><td>no </td><td>no </td><td>yes</td><td>456</td><td>455.38317</td></tr>\n",
       "\t<tr><th scope=row>5</th><td>yes</td><td>yes</td><td>no </td><td>  3</td><td>  3.61683</td></tr>\n",
       "\t<tr><th scope=row>6</th><td>no </td><td>yes</td><td>no </td><td>  2</td><td>  1.38317</td></tr>\n",
       "\t<tr><th scope=row>7</th><td>yes</td><td>no </td><td>no </td><td> 43</td><td> 42.38317</td></tr>\n",
       "\t<tr><th scope=row>8</th><td>no </td><td>no </td><td>no </td><td>279</td><td>279.61683</td></tr>\n",
       "</tbody>\n",
       "</table>\n"
      ],
      "text/latex": [
       "A data.frame: 8 × 5\n",
       "\\begin{tabular}{r|lllll}\n",
       "  & cigarette & marijuana & alcohol & Freq & fitted(mod2)\\\\\n",
       "  & <fct> & <fct> & <fct> & <dbl> & <dbl>\\\\\n",
       "\\hline\n",
       "\t1 & yes & yes & yes & 911 & 910.38317\\\\\n",
       "\t2 & no  & yes & yes &  44 &  44.61683\\\\\n",
       "\t3 & yes & no  & yes & 538 & 538.61683\\\\\n",
       "\t4 & no  & no  & yes & 456 & 455.38317\\\\\n",
       "\t5 & yes & yes & no  &   3 &   3.61683\\\\\n",
       "\t6 & no  & yes & no  &   2 &   1.38317\\\\\n",
       "\t7 & yes & no  & no  &  43 &  42.38317\\\\\n",
       "\t8 & no  & no  & no  & 279 & 279.61683\\\\\n",
       "\\end{tabular}\n"
      ],
      "text/markdown": [
       "\n",
       "A data.frame: 8 × 5\n",
       "\n",
       "| <!--/--> | cigarette &lt;fct&gt; | marijuana &lt;fct&gt; | alcohol &lt;fct&gt; | Freq &lt;dbl&gt; | fitted(mod2) &lt;dbl&gt; |\n",
       "|---|---|---|---|---|---|\n",
       "| 1 | yes | yes | yes | 911 | 910.38317 |\n",
       "| 2 | no  | yes | yes |  44 |  44.61683 |\n",
       "| 3 | yes | no  | yes | 538 | 538.61683 |\n",
       "| 4 | no  | no  | yes | 456 | 455.38317 |\n",
       "| 5 | yes | yes | no  |   3 |   3.61683 |\n",
       "| 6 | no  | yes | no  |   2 |   1.38317 |\n",
       "| 7 | yes | no  | no  |  43 |  42.38317 |\n",
       "| 8 | no  | no  | no  | 279 | 279.61683 |\n",
       "\n"
      ],
      "text/plain": [
       "  cigarette marijuana alcohol Freq fitted(mod2)\n",
       "1 yes       yes       yes     911  910.38317   \n",
       "2 no        yes       yes      44   44.61683   \n",
       "3 yes       no        yes     538  538.61683   \n",
       "4 no        no        yes     456  455.38317   \n",
       "5 yes       yes       no        3    3.61683   \n",
       "6 no        yes       no        2    1.38317   \n",
       "7 yes       no        no       43   42.38317   \n",
       "8 no        no        no      279  279.61683   "
      ]
     },
     "metadata": {},
     "output_type": "display_data"
    },
    {
     "data": {
      "text/html": [
       "910.37809296965"
      ],
      "text/latex": [
       "910.37809296965"
      ],
      "text/markdown": [
       "910.37809296965"
      ],
      "text/plain": [
       "[1] 910.3781"
      ]
     },
     "metadata": {},
     "output_type": "display_data"
    },
    {
     "data": {
      "text/html": [
       "44.6167790428845"
      ],
      "text/latex": [
       "44.6167790428845"
      ],
      "text/markdown": [
       "44.6167790428845"
      ],
      "text/plain": [
       "[1] 44.61678"
      ]
     },
     "metadata": {},
     "output_type": "display_data"
    }
   ],
   "source": [
    "mod2 <- glm(Freq ~ cigarette + marijuana + alcohol + \n",
    "              cigarette*marijuana + marijuana*alcohol + cigarette*alcohol, \n",
    "            data = seniors.df, family = poisson)\n",
    "summary(mod2)\n",
    "\n",
    "# równoważnie\n",
    "#mod2 <- glm(Freq ~ (cigarette + marijuana + alcohol)^2, \n",
    "#             data = seniors.df, family = poisson)\n",
    "#lub\n",
    "#mod2 <- glm(Freq ~ \n",
    "#              cigarette*marijuana + marijuana*alcohol + cigarette*alcohol, \n",
    "#            data = seniors.df, family = poisson)\n",
    "\n",
    "#wyznaczamy p-wartość\n",
    "1-pchisq(deviance(mod2), df = df.residual(mod2))\n",
    "\n",
    "# porównujemy liczności z modelem\n",
    "cbind(mod2$data, fitted(mod2))\n",
    "\n",
    "exp(5.63342-1.88667-5.30904+0.48772+2.84789+2.05453+2.98601) #wartość dla cigaretteyes, marijuanayes, alcoholyes\n",
    "exp(5.63342+0-5.30904+0.48772+0+0+2.98601) #wartość dla cigaretteno, marijuanayes, alcoholyes itd.\n"
   ]
  }
 ],
 "metadata": {
  "kernelspec": {
   "display_name": "R",
   "language": "R",
   "name": "ir"
  },
  "language_info": {
   "codemirror_mode": "r",
   "file_extension": ".r",
   "mimetype": "text/x-r-source",
   "name": "R",
   "pygments_lexer": "r",
   "version": "4.2.0"
  }
 },
 "nbformat": 4,
 "nbformat_minor": 4
}
