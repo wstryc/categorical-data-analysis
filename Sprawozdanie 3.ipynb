{
 "cells": [
  {
   "cell_type": "markdown",
   "metadata": {},
   "source": [
    "# Lista 10\n",
    "Część pierwsza sprawozdania.\n",
    "\n",
    "## Zadanie 1"
   ]
  },
  {
   "cell_type": "code",
   "execution_count": 65,
   "metadata": {},
   "outputs": [
    {
     "name": "stderr",
     "output_type": "stream",
     "text": [
      "Installing package into 'C:/Users/stryc/AppData/Local/R/win-library/4.2'\n",
      "(as 'lib' is unspecified)\n",
      "\n",
      "also installing the dependencies 'rmarkdown', 'scales', 'viridisLite', 'rstudioapi', 'webshot', 'svglite'\n",
      "\n",
      "\n"
     ]
    },
    {
     "name": "stdout",
     "output_type": "stream",
     "text": [
      "package 'rmarkdown' successfully unpacked and MD5 sums checked\n",
      "package 'scales' successfully unpacked and MD5 sums checked\n",
      "package 'viridisLite' successfully unpacked and MD5 sums checked\n",
      "package 'rstudioapi' successfully unpacked and MD5 sums checked\n",
      "package 'webshot' successfully unpacked and MD5 sums checked\n",
      "package 'svglite' successfully unpacked and MD5 sums checked\n",
      "package 'kableExtra' successfully unpacked and MD5 sums checked\n",
      "\n",
      "The downloaded binary packages are in\n",
      "\tC:\\Users\\stryc\\AppData\\Local\\Temp\\RtmpILmsAD\\downloaded_packages\n"
     ]
    },
    {
     "name": "stderr",
     "output_type": "stream",
     "text": [
      "\n",
      "Attaching package: 'kableExtra'\n",
      "\n",
      "\n",
      "The following object is masked from 'package:dplyr':\n",
      "\n",
      "    group_rows\n",
      "\n",
      "\n"
     ]
    }
   ],
   "source": [
    "install.packages(\"kableExtra\")\n",
    "\n",
    "library(knitr)\n",
    "library(kableExtra)\n",
    "library(IRdisplay)"
   ]
  },
  {
   "cell_type": "markdown",
   "metadata": {},
   "source": [
    "## Zadanie 2"
   ]
  },
  {
   "cell_type": "code",
   "execution_count": null,
   "metadata": {},
   "outputs": [],
   "source": []
  },
  {
   "cell_type": "markdown",
   "metadata": {},
   "source": [
    "## Zadanie 3"
   ]
  },
  {
   "cell_type": "code",
   "execution_count": null,
   "metadata": {},
   "outputs": [],
   "source": []
  },
  {
   "cell_type": "markdown",
   "metadata": {},
   "source": [
    "# Lista 11\n",
    "Część druga sprawozdania.\n",
    "\n",
    "## Zadanie 1\n",
    "\n",
    "W zadaniu pierwszym przeprowadzimy test symetrii, quasi-symetrii i quasi-niezależności dla danych dotyczących ocen uzyskanych przez studentów z dwóch kolokwiów. Wszystkie testy zostaną przeprowadzone na poziomie istotności $0.05$."
   ]
  },
  {
   "cell_type": "code",
   "execution_count": 59,
   "metadata": {},
   "outputs": [
    {
     "ename": "ERROR",
     "evalue": "Error in table(count, byrow = TRUE, nrow = 6, rownames = c(\"2\", \"3\", \"+3\", : all arguments must have the same length\n",
     "output_type": "error",
     "traceback": [
      "Error in table(count, byrow = TRUE, nrow = 6, rownames = c(\"2\", \"3\", \"+3\", : all arguments must have the same length\nTraceback:\n",
      "1. table(count, byrow = TRUE, nrow = 6, rownames = c(\"2\", \"3\", \"+3\", \n .     \"4\", \"+4\", \"5\"), colnames = c(\"2\", \"3\", \"+3\", \"4\", \"+4\", \n .     \"5\"))",
      "2. stop(\"all arguments must have the same length\")"
     ]
    }
   ],
   "source": [
    "# HIDE INPUT\n",
    "\n",
    "count <- c(5, 2, 1, 0, 0, 0,\n",
    "           6, 3, 2, 2, 0, 0,\n",
    "           1, 4, 5, 5, 2, 2,\n",
    "           0, 10, 15, 18, 5, 2,\n",
    "           1, 2, 5, 3, 2, 2,\n",
    "           0, 1, 3, 4, 3, 2)\n",
    "\n",
    "data <- matrix(count, byrow=TRUE, nrow=6)\n",
    "rownames(data) = c(\"2\", \"3\", \"+3\", \"4\", \"+4\", \"5\")\n",
    "colnames(data) = c(\"2\", \"3\", \"+3\", \"4\", \"+4\", \"5\")\n",
    "\n",
    "data %>% \n",
    "    kable(\"html\") %>%\n",
    "    as.character() %>%\n",
    "    display_html()"
   ]
  },
  {
   "cell_type": "code",
   "execution_count": 58,
   "metadata": {},
   "outputs": [],
   "source": [
    "?matrix"
   ]
  },
  {
   "cell_type": "markdown",
   "metadata": {},
   "source": [
    "### Symetria\n",
    "Przy testowaniu symetrii, moglibyśmy skorzystać z testu Bowkera, jednak w przypadku naszych danych nie jest to możliwe. Wywołanie tego testu (`mcnemar.test`) zwróciłoby p-wartość `NaN`. Dlatego należy skorzystać z testu ilorazu wiarygodności, zaimplementowanego w funkcji `glm` biblioteki `gnm`."
   ]
  },
  {
   "cell_type": "code",
   "execution_count": 39,
   "metadata": {},
   "outputs": [
    {
     "data": {
      "text/plain": [
       "\n",
       "Call:\n",
       "glm(formula = count ~ Symm(K1, K2), family = poisson, data = data)\n",
       "\n",
       "Deviance Residuals: \n",
       "    Min       1Q   Median       3Q      Max  \n",
       "-1.8988  -0.5463   0.0000   0.4981   1.4888  \n",
       "\n",
       "Coefficients:\n",
       "                    Estimate Std. Error z value Pr(>|z|)    \n",
       "(Intercept)        1.609e+00  4.472e-01   3.599  0.00032 ***\n",
       "Symm(K1, K2)2:3   -2.231e-01  5.701e-01  -0.391  0.69549    \n",
       "Symm(K1, K2)2:+3  -1.609e+00  8.367e-01  -1.924  0.05440 .  \n",
       "Symm(K1, K2)2:4   -1.991e+01  4.043e+03  -0.005  0.99607    \n",
       "Symm(K1, K2)2:+4  -2.303e+00  1.095e+00  -2.102  0.03556 *  \n",
       "Symm(K1, K2)2:5   -1.991e+01  4.043e+03  -0.005  0.99607    \n",
       "Symm(K1, K2)3:3   -5.108e-01  7.303e-01  -0.699  0.48425    \n",
       "Symm(K1, K2)3:+3  -5.108e-01  6.055e-01  -0.844  0.39889    \n",
       "Symm(K1, K2)3:4    1.823e-01  5.323e-01   0.343  0.73196    \n",
       "Symm(K1, K2)3:+4  -1.609e+00  8.367e-01  -1.924  0.05440 .  \n",
       "Symm(K1, K2)3:5   -2.303e+00  1.095e+00  -2.102  0.03556 *  \n",
       "Symm(K1, K2)+3:+3  2.561e-15  6.325e-01   0.000  1.00000    \n",
       "Symm(K1, K2)+3:4   6.931e-01  5.000e-01   1.386  0.16566    \n",
       "Symm(K1, K2)+3:+4 -3.567e-01  5.855e-01  -0.609  0.54243    \n",
       "Symm(K1, K2)+3:5  -6.931e-01  6.325e-01  -1.096  0.27310    \n",
       "Symm(K1, K2)4:4    1.281e+00  5.055e-01   2.534  0.01128 *  \n",
       "Symm(K1, K2)4:+4  -2.231e-01  5.701e-01  -0.391  0.69549    \n",
       "Symm(K1, K2)4:5   -5.108e-01  6.055e-01  -0.844  0.39889    \n",
       "Symm(K1, K2)+4:+4 -9.163e-01  8.367e-01  -1.095  0.27344    \n",
       "Symm(K1, K2)+4:5  -6.931e-01  6.325e-01  -1.096  0.27310    \n",
       "Symm(K1, K2)5:5   -9.163e-01  8.367e-01  -1.095  0.27344    \n",
       "---\n",
       "Signif. codes:  0 '***' 0.001 '**' 0.01 '*' 0.05 '.' 0.1 ' ' 1\n",
       "\n",
       "(Dispersion parameter for poisson family taken to be 1)\n",
       "\n",
       "    Null deviance: 129.422  on 35  degrees of freedom\n",
       "Residual deviance:  22.288  on 15  degrees of freedom\n",
       "AIC: 151.44\n",
       "\n",
       "Number of Fisher Scoring iterations: 16\n"
      ]
     },
     "metadata": {},
     "output_type": "display_data"
    }
   ],
   "source": [
    "#install.packages(\"gnm\")\n",
    "#install.packages(\"dplyr\")\n",
    "library(gnm)\n",
    "library(dplyr)\n",
    "\n",
    "count <- c(5, 2, 1, 0, 0, 0,\n",
    "           6, 3, 2, 2, 0, 0,\n",
    "           1, 4, 5, 5, 2, 2,\n",
    "           0, 10, 15, 18, 5, 2,\n",
    "           1, 2, 5, 3, 2, 2,\n",
    "           0, 1, 3, 4, 3, 2)\n",
    "\n",
    "K1 <- gl(6,6, labels=c(\"2\", \"3\", \"+3\", \"4\", \"+4\", \"5\"))\n",
    "K2 <- gl(6,1, labels=c(\"2\", \"3\", \"+3\", \"4\", \"+4\", \"5\"))\n",
    "data <- data.frame(K1, K2, count)\n",
    "\n",
    "symmetry <- glm(count ~ Symm(K1, K2), data=data, family=poisson)\n",
    "symmetry %>% summary()"
   ]
  },
  {
   "cell_type": "markdown",
   "metadata": {},
   "source": [
    "Policzmy zatem p-wartość."
   ]
  },
  {
   "cell_type": "code",
   "execution_count": 45,
   "metadata": {},
   "outputs": [
    {
     "data": {
      "text/html": [
       "0.1005"
      ],
      "text/latex": [
       "0.1005"
      ],
      "text/markdown": [
       "0.1005"
      ],
      "text/plain": [
       "[1] 0.1005"
      ]
     },
     "metadata": {},
     "output_type": "display_data"
    }
   ],
   "source": [
    "x = symmetry$deviance\n",
    "r = 15\n",
    "\n",
    "p = 1 - pchisq(x, r)\n",
    "p %>% round(4)"
   ]
  },
  {
   "cell_type": "markdown",
   "metadata": {},
   "source": [
    "Otrzymujemy p-wartość na poziomie $0.1005 < 0.05$, więc odrzucamy hipotezę o symetrii."
   ]
  },
  {
   "cell_type": "markdown",
   "metadata": {},
   "source": [
    "### Quasi-symetria\n",
    "Ponownie skorzystamy z funkcji `glm`."
   ]
  },
  {
   "cell_type": "code",
   "execution_count": 46,
   "metadata": {},
   "outputs": [
    {
     "data": {
      "text/plain": [
       "\n",
       "Call:\n",
       "glm(formula = count ~ K1 + K2 + Symm(K1, K2), family = poisson, \n",
       "    data = data)\n",
       "\n",
       "Deviance Residuals: \n",
       "     Min        1Q    Median        3Q       Max  \n",
       "-0.86903  -0.08908   0.00000   0.06047   0.80881  \n",
       "\n",
       "Coefficients: (5 not defined because of singularities)\n",
       "                    Estimate Std. Error z value Pr(>|z|)    \n",
       "(Intercept)          1.60944    0.44721   3.599  0.00032 ***\n",
       "K13                 -1.83252    1.17661  -1.557  0.11936    \n",
       "K1+3                 0.29184    0.76722   0.380  0.70365    \n",
       "K14                  1.16686    0.72161   1.617  0.10587    \n",
       "K1+4                 0.86552    0.77135   1.122  0.26183    \n",
       "K15                  0.85966    0.63615   1.351  0.17658    \n",
       "K23                 -2.61466    1.16128  -2.252  0.02435 *  \n",
       "K2+3                -1.11675    0.74555  -1.498  0.13416    \n",
       "K24                 -1.28102    0.71818  -1.784  0.07447 .  \n",
       "K2+4                -1.37441    0.75441  -1.822  0.06848 .  \n",
       "K25                 -1.77595    0.63615  -2.792  0.00524 ** \n",
       "Symm(K1, K2)2:3      1.92585    1.18091   1.631  0.10293    \n",
       "Symm(K1, K2)2:+3    -1.42686    0.98714  -1.445  0.14833    \n",
       "Symm(K1, K2)2:4    -21.96301 8534.61353  -0.003  0.99795    \n",
       "Symm(K1, K2)2:+4    -2.57613    1.23357  -2.088  0.03677 *  \n",
       "Symm(K1, K2)2:5    -21.59613 8340.70550  -0.003  0.99793    \n",
       "Symm(K1, K2)3:3      3.93636    2.26235   1.740  0.08187 .  \n",
       "Symm(K1, K2)3:+3     2.07695    1.41686   1.466  0.14268    \n",
       "Symm(K1, K2)3:4      2.15011    1.34295   1.601  0.10937    \n",
       "Symm(K1, K2)3:+4     0.62360    1.50777   0.414  0.67917    \n",
       "Symm(K1, K2)3:5           NA         NA      NA       NA    \n",
       "Symm(K1, K2)+3:+3    0.82491    1.26744   0.651  0.51515    \n",
       "Symm(K1, K2)+3:4     1.03334    0.97381   1.061  0.28863    \n",
       "Symm(K1, K2)+3:+4    0.22621    1.04268   0.217  0.82825    \n",
       "Symm(K1, K2)+3:5          NA         NA      NA       NA    \n",
       "Symm(K1, K2)4:4      1.39509    1.10681   1.260  0.20750    \n",
       "Symm(K1, K2)4:+4     0.08298    0.99878   0.083  0.93378    \n",
       "Symm(K1, K2)4:5           NA         NA      NA       NA    \n",
       "Symm(K1, K2)+4:+4   -0.40740    1.34688  -0.302  0.76229    \n",
       "Symm(K1, K2)+4:5          NA         NA      NA       NA    \n",
       "Symm(K1, K2)5:5           NA         NA      NA       NA    \n",
       "---\n",
       "Signif. codes:  0 '***' 0.001 '**' 0.01 '*' 0.05 '.' 0.1 ' ' 1\n",
       "\n",
       "(Dispersion parameter for poisson family taken to be 1)\n",
       "\n",
       "    Null deviance: 129.4218  on 35  degrees of freedom\n",
       "Residual deviance:   3.7246  on 10  degrees of freedom\n",
       "AIC: 142.87\n",
       "\n",
       "Number of Fisher Scoring iterations: 18\n"
      ]
     },
     "metadata": {},
     "output_type": "display_data"
    }
   ],
   "source": [
    "quasi_symm <- glm(count ~ K1+K2 + Symm(K1,K2), data=data, family =poisson)\n",
    "summary(quasi_symm)"
   ]
  },
  {
   "cell_type": "code",
   "execution_count": 51,
   "metadata": {},
   "outputs": [
    {
     "data": {
      "text/html": [
       "0.9589"
      ],
      "text/latex": [
       "0.9589"
      ],
      "text/markdown": [
       "0.9589"
      ],
      "text/plain": [
       "[1] 0.9589"
      ]
     },
     "metadata": {},
     "output_type": "display_data"
    }
   ],
   "source": [
    "x = quasi_symm$deviance\n",
    "r = 10\n",
    "p = 1 - pchisq(x, r)\n",
    "\n",
    "p %>% round(4)"
   ]
  },
  {
   "cell_type": "markdown",
   "metadata": {},
   "source": [
    "Otrzymana p-wartość na poziomie $0.9589$ nie daje podstaw do odrzucenia hipotezy o quasi-symetrii."
   ]
  },
  {
   "cell_type": "markdown",
   "metadata": {},
   "source": [
    "### Quasi-niezależność\n",
    "Do testowania quasi-niezależności również możemy wykorzystać funkcję `glm`."
   ]
  },
  {
   "cell_type": "code",
   "execution_count": 53,
   "metadata": {},
   "outputs": [
    {
     "data": {
      "text/plain": [
       "\n",
       "Call:\n",
       "glm(formula = count ~ K1 + K2 + Diag(K1, K2), family = poisson, \n",
       "    data = data)\n",
       "\n",
       "Deviance Residuals: \n",
       "    Min       1Q   Median       3Q      Max  \n",
       "-2.5605  -0.6443  -0.0649   0.2053   3.3845  \n",
       "\n",
       "Coefficients:\n",
       "               Estimate Std. Error z value Pr(>|z|)    \n",
       "(Intercept)     -1.3500     0.6876  -1.963 0.049590 *  \n",
       "K13              1.3547     0.6616   2.048 0.040602 *  \n",
       "K1+3             1.8306     0.6423   2.850 0.004372 ** \n",
       "K14              2.5373     0.6092   4.165 3.12e-05 ***\n",
       "K1+4             1.5024     0.6425   2.338 0.019370 *  \n",
       "K15              1.2838     0.6527   1.967 0.049190 *  \n",
       "K23              0.9628     0.4241   2.270 0.023181 *  \n",
       "K2+3             1.3646     0.4095   3.333 0.000861 ***\n",
       "K24              1.0334     0.4545   2.274 0.022994 *  \n",
       "K2+4             0.3432     0.4768   0.720 0.471570    \n",
       "K25             -0.1993     0.5417  -0.368 0.712931    \n",
       "Diag(K1, K2)2    2.9595     0.8202   3.608 0.000308 ***\n",
       "Diag(K1, K2)3    0.1312     0.7110   0.184 0.853635    \n",
       "Diag(K1, K2)+3  -0.2357     0.5786  -0.407 0.683712    \n",
       "Diag(K1, K2)4    0.6698     0.4315   1.552 0.120596    \n",
       "Diag(K1, K2)+4   0.1976     0.8333   0.237 0.812573    \n",
       "Diag(K1, K2)5    0.9587     0.8794   1.090 0.275637    \n",
       "---\n",
       "Signif. codes:  0 '***' 0.001 '**' 0.01 '*' 0.05 '.' 0.1 ' ' 1\n",
       "\n",
       "(Dispersion parameter for poisson family taken to be 1)\n",
       "\n",
       "    Null deviance: 129.422  on 35  degrees of freedom\n",
       "Residual deviance:  36.325  on 19  degrees of freedom\n",
       "AIC: 157.47\n",
       "\n",
       "Number of Fisher Scoring iterations: 6\n"
      ]
     },
     "metadata": {},
     "output_type": "display_data"
    }
   ],
   "source": [
    "quasi_ind <-  glm(count ~ K1 + K2 + Diag(K1, K2), data=data, family = poisson)\n",
    "summary(quasi_ind)"
   ]
  },
  {
   "cell_type": "code",
   "execution_count": 55,
   "metadata": {},
   "outputs": [
    {
     "data": {
      "text/html": [
       "0.0096"
      ],
      "text/latex": [
       "0.0096"
      ],
      "text/markdown": [
       "0.0096"
      ],
      "text/plain": [
       "[1] 0.0096"
      ]
     },
     "metadata": {},
     "output_type": "display_data"
    }
   ],
   "source": [
    "x = quasi_ind$deviance\n",
    "r = 19\n",
    "p = 1 - pchisq(x, r)\n",
    "p %>% round(4)"
   ]
  },
  {
   "cell_type": "markdown",
   "metadata": {},
   "source": [
    "Test ilorazu wiarygodności zwraca p-wartość $0.0096 < 0.05$, więc odrzucamy hipotezę zerową o quasi-niezależności.\n",
    "\n",
    "## Zadanie 2\n",
    "\n",
    "zad 2 \n",
    "trzeba wskazac ze rozklady brzegowe sa jednorodne\n",
    "\n",
    "na poprzedniej liscie weryfikowalismy hip ze dane pochodza z symetrii (?)\n",
    "\n",
    "wynik z testu symetrii jakby jednoznacznie okreslal czy mozemy odrzucic hipoteze o jednorodnosci czy nie\n",
    "\n",
    "tutaj sytuacja jest bardziej skomplikowana poniewaz symetria nie jest rownowazna jednorodnosci\n",
    "\n",
    "symetria implikuje jednorodnosc rozkladu (implikacja tylko w 1 strone)\n",
    "\n",
    "w kontekscie zadania drugiego,\n",
    "jezeli w podpunkcie a w 1 zadaniu wyjdzie ze nie mozna odrzucic hipotezy, bedziemy wnioskowac ze dane pochodza z modelu symetrii, to automatycznie mowimy ze rozklady brzegowe za jednorodne\n",
    "\n",
    "jezeli w 1a odrzucamy hipoteze, to nie mozemy automatycznie odrzucic hipotezy\n",
    "\n",
    "w zadaniu 2 powolujemy sie na wynik z 1a jesli ta nie odrzucimy hipotezy o symetrii\n",
    "\n",
    "nie bedziemy miec podstaw do odrzucenia wiec mzoemy tak zrobic\n",
    "\n",
    "\n",
    "drugi test jaki mozna wykonac to test bazujacy na ilorazie wiarygnodnosci\n",
    "\n",
    "na wykladzie mielismy na kilku slajdach rozpisane ze pod warunkiem jest zachodzi quasi symetria to...\n",
    "\n",
    "test z wykladu w zadaniu drugim, ostatni podrozdzial kilka linijek\n",
    "\n",
    "przeczytanie przykladu do wykladu i powtorzenie analogicznych testow dla naszego  przykladu\n",
    "\n",
    "nie bedzie trudne i pracochlonne"
   ]
  }
 ],
 "metadata": {
  "kernelspec": {
   "display_name": "R",
   "language": "R",
   "name": "ir"
  },
  "language_info": {
   "codemirror_mode": "r",
   "file_extension": ".r",
   "mimetype": "text/x-r-source",
   "name": "R",
   "pygments_lexer": "r",
   "version": "4.2.0"
  }
 },
 "nbformat": 4,
 "nbformat_minor": 4
}
