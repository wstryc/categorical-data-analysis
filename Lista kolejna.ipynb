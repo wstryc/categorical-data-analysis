{
 "cells": [
  {
   "cell_type": "markdown",
   "metadata": {},
   "source": [
    "# Lista 5, 6, 7\n",
    "\n",
    "## Zadanie 1"
   ]
  },
  {
   "cell_type": "markdown",
   "metadata": {},
   "source": [
    "# Zadanie 2"
   ]
  },
  {
   "cell_type": "markdown",
   "metadata": {},
   "source": [
    "# Zadanie 3"
   ]
  },
  {
   "cell_type": "code",
   "execution_count": 62,
   "metadata": {},
   "outputs": [
    {
     "data": {
      "text/plain": [
       "\n",
       "\tFisher's Exact Test for Count Data\n",
       "\n",
       "data:  c(18, 3) and c(72, 77)\n",
       "p-value = 1\n",
       "alternative hypothesis: true odds ratio is not equal to 1\n",
       "95 percent confidence interval:\n",
       "  0.00000 39.00055\n",
       "sample estimates:\n",
       "odds ratio \n",
       "         0 \n"
      ]
     },
     "metadata": {},
     "output_type": "display_data"
    },
    {
     "data": {
      "text/plain": [
       "\n",
       "\tFisher's Exact Test for Count Data\n",
       "\n",
       "data:  a\n",
       "p-value = 0.001789\n",
       "alternative hypothesis: true odds ratio is not equal to 1\n",
       "95 percent confidence interval:\n",
       "  1.748857 35.082794\n",
       "sample estimates:\n",
       "odds ratio \n",
       "  6.355894 \n"
      ]
     },
     "metadata": {},
     "output_type": "display_data"
    }
   ],
   "source": [
    "#?prop.test\n",
    "\n",
    "# nie ten , tylko test fishera\n",
    "fisher.test(c(18, 3), c(72, 77))\n",
    "\n",
    "a <- matrix(c(18, 72, 3, 77), nrow=2, ncol=2)\n",
    "fisher.test(a)\n"
   ]
  },
  {
   "cell_type": "markdown",
   "metadata": {},
   "source": [
    "# Zadanie 4"
   ]
  },
  {
   "cell_type": "code",
   "execution_count": null,
   "metadata": {},
   "outputs": [],
   "source": []
  },
  {
   "cell_type": "markdown",
   "metadata": {},
   "source": [
    "# Zadanie 5\n",
    "~Kod funkcji w raporcie, nalezy zapisac jak wyglada h0 i ha, ktora weryfikujemy. Nalezy wywloac funkcje dla danych, napisac ile wynosi p-wartosc oraz wniosek. p-wartosc powinna wyjsc 0.21~\n",
    "\n",
    "Hipoteza zerowa to $$H_0: p \\in \\mathcal{P}_0,$$ a hipoteza alternatywna to $$H_1: p \\in \\mathcal{P}_1 = \\mathcal{P} \\backslash \\mathcal{P}_0,$$ gdzie $P_o \\subset \\mathcal{P} = \\{ p: p_i \\geq 0, i = 1, \\dots, k, \\sum_{i=1}^kp_i=1\\}$"
   ]
  },
  {
   "cell_type": "code",
   "execution_count": 56,
   "metadata": {},
   "outputs": [
    {
     "data": {
      "text/html": [
       "<table class=\"dataframe\">\n",
       "<caption>A matrix: 4 × 4 of type dbl</caption>\n",
       "<tbody>\n",
       "\t<tr><td>20</td><td> 22</td><td> 13</td><td> 7</td></tr>\n",
       "\t<tr><td>24</td><td> 38</td><td> 28</td><td>18</td></tr>\n",
       "\t<tr><td>80</td><td>104</td><td> 81</td><td>54</td></tr>\n",
       "\t<tr><td>82</td><td>125</td><td>113</td><td>92</td></tr>\n",
       "</tbody>\n",
       "</table>\n"
      ],
      "text/latex": [
       "A matrix: 4 × 4 of type dbl\n",
       "\\begin{tabular}{llll}\n",
       "\t 20 &  22 &  13 &  7\\\\\n",
       "\t 24 &  38 &  28 & 18\\\\\n",
       "\t 80 & 104 &  81 & 54\\\\\n",
       "\t 82 & 125 & 113 & 92\\\\\n",
       "\\end{tabular}\n"
      ],
      "text/markdown": [
       "\n",
       "A matrix: 4 × 4 of type dbl\n",
       "\n",
       "| 20 |  22 |  13 |  7 |\n",
       "| 24 |  38 |  28 | 18 |\n",
       "| 80 | 104 |  81 | 54 |\n",
       "| 82 | 125 | 113 | 92 |\n",
       "\n"
      ],
      "text/plain": [
       "     [,1] [,2] [,3] [,4]\n",
       "[1,] 20    22   13   7  \n",
       "[2,] 24    38   28  18  \n",
       "[3,] 80   104   81  54  \n",
       "[4,] 82   125  113  92  "
      ]
     },
     "metadata": {},
     "output_type": "display_data"
    }
   ],
   "source": [
    "test_vec <- c(20, 24, 80, 82, 22, 38, 104, 125, 13, 28, 81, 113, 7, 18, 54, 92)\n",
    "\n",
    "test <- matrix(test_vec, nrow=4)\n",
    "test"
   ]
  },
  {
   "cell_type": "code",
   "execution_count": 58,
   "metadata": {},
   "outputs": [],
   "source": [
    "p_val <- function(table) {\n",
    "    n <- sum(test)\n",
    "    \n",
    "    R <- dim(test)[1]\n",
    "    C <- dim(test)[2]\n",
    "    \n",
    "    Gsq <- 1\n",
    "    \n",
    "    for (i in 1:R) {\n",
    "        for (j in 1:C) { #ni+ * n+j\n",
    "            Gsq <- Gsq * ((sum(table[i, ]) * sum(table[, j])) / (n*table[i, j]))^table[i, j]\n",
    "        }\n",
    "    }\n",
    "    \n",
    "\n",
    "    Gsq <- -2*log(Gsq)\n",
    "    \n",
    "    p_val <- 1 - pchisq(Gsq, (R-1)*(C-1))\n",
    "    p_val\n",
    "}"
   ]
  },
  {
   "cell_type": "code",
   "execution_count": 59,
   "metadata": {},
   "outputs": [
    {
     "data": {
      "text/html": [
       "0.211239083747666"
      ],
      "text/latex": [
       "0.211239083747666"
      ],
      "text/markdown": [
       "0.211239083747666"
      ],
      "text/plain": [
       "[1] 0.2112391"
      ]
     },
     "metadata": {},
     "output_type": "display_data"
    }
   ],
   "source": [
    "p_val(test)"
   ]
  },
  {
   "cell_type": "markdown",
   "metadata": {},
   "source": [
    "P wartość wynosi $0.21.$ Jest ona większa od $0.05$, więc nie odrzucamy hipotezy zerowej (jeśli przyjmujemy poziom istotności $0.05$). Zatem możemy powiedzieć, że zmienne są niezależne."
   ]
  },
  {
   "cell_type": "markdown",
   "metadata": {},
   "source": [
    "# Lista 8, 9\n",
    "\n",
    "## Zadanie 1"
   ]
  },
  {
   "cell_type": "code",
   "execution_count": 83,
   "metadata": {},
   "outputs": [
    {
     "data": {
      "text/html": [
       "<table class=\"dataframe\">\n",
       "<caption>A matrix: 5 × 3 of type dbl</caption>\n",
       "<tbody>\n",
       "\t<tr><td>35</td><td> 0</td><td> 0</td></tr>\n",
       "\t<tr><td>22</td><td>22</td><td> 0</td></tr>\n",
       "\t<tr><td>15</td><td>15</td><td>15</td></tr>\n",
       "\t<tr><td> 0</td><td>40</td><td>10</td></tr>\n",
       "\t<tr><td>18</td><td> 3</td><td> 5</td></tr>\n",
       "</tbody>\n",
       "</table>\n"
      ],
      "text/latex": [
       "A matrix: 5 × 3 of type dbl\n",
       "\\begin{tabular}{lll}\n",
       "\t 35 &  0 &  0\\\\\n",
       "\t 22 & 22 &  0\\\\\n",
       "\t 15 & 15 & 15\\\\\n",
       "\t  0 & 40 & 10\\\\\n",
       "\t 18 &  3 &  5\\\\\n",
       "\\end{tabular}\n"
      ],
      "text/markdown": [
       "\n",
       "A matrix: 5 × 3 of type dbl\n",
       "\n",
       "| 35 |  0 |  0 |\n",
       "| 22 | 22 |  0 |\n",
       "| 15 | 15 | 15 |\n",
       "|  0 | 40 | 10 |\n",
       "| 18 |  3 |  5 |\n",
       "\n"
      ],
      "text/plain": [
       "     [,1] [,2] [,3]\n",
       "[1,] 35    0    0  \n",
       "[2,] 22   22    0  \n",
       "[3,] 15   15   15  \n",
       "[4,]  0   40   10  \n",
       "[5,] 18    3    5  "
      ]
     },
     "metadata": {},
     "output_type": "display_data"
    }
   ],
   "source": [
    "#install.packages(\"DescTools\")\n",
    "library(\"DescTools\")\n",
    "\n",
    "test_data <- matrix(c(35, 22, 15, 0, 18, 0, 22, 15, 40, 3, 0, 0, 15, 10, 5), nrow = 5)\n",
    "test_data\n"
   ]
  },
  {
   "cell_type": "code",
   "execution_count": 86,
   "metadata": {},
   "outputs": [
    {
     "data": {
      "text/html": [
       "0.347717323327079"
      ],
      "text/latex": [
       "0.347717323327079"
      ],
      "text/markdown": [
       "0.347717323327079"
      ],
      "text/plain": [
       "[1] 0.3477173"
      ]
     },
     "metadata": {},
     "output_type": "display_data"
    }
   ],
   "source": [
    "goodman <- function(data) {\n",
    "    n <- sum(data)\n",
    "    \n",
    "    R <- dim(data)[1]\n",
    "    C <- dim(data)[2]\n",
    "    \n",
    "    sum1 <- 0\n",
    "    for (i in 1:R) {\n",
    "        for (j in 1:C) {\n",
    "            sum1 <- sum1 + data[i, j]^2 / (n * sum(data[i, ]))\n",
    "        }\n",
    "    }\n",
    "    \n",
    "    sum2 <- 0\n",
    "    for (j in 1:C) {\n",
    "        sum2 <- sum2 + (sum(data[ , j]) / n)^2\n",
    "    }\n",
    "    \n",
    "    (sum1 - sum2) / (1 - sum2)\n",
    "    \n",
    "}\n",
    "\n",
    "goodman(test_data)"
   ]
  },
  {
   "cell_type": "code",
   "execution_count": 89,
   "metadata": {},
   "outputs": [
    {
     "data": {
      "text/html": [
       "0.347717323327079"
      ],
      "text/latex": [
       "0.347717323327079"
      ],
      "text/markdown": [
       "0.347717323327079"
      ],
      "text/plain": [
       "[1] 0.3477173"
      ]
     },
     "metadata": {},
     "output_type": "display_data"
    }
   ],
   "source": [
    "GoodmanKruskalTau(test_data, direction = \"column\")"
   ]
  },
  {
   "cell_type": "code",
   "execution_count": 27,
   "metadata": {},
   "outputs": [],
   "source": [
    "?GoodmanKruskalGamma"
   ]
  }
 ],
 "metadata": {
  "kernelspec": {
   "display_name": "R",
   "language": "R",
   "name": "ir"
  },
  "language_info": {
   "codemirror_mode": "r",
   "file_extension": ".r",
   "mimetype": "text/x-r-source",
   "name": "R",
   "pygments_lexer": "r",
   "version": "4.0.4"
  }
 },
 "nbformat": 4,
 "nbformat_minor": 4
}
